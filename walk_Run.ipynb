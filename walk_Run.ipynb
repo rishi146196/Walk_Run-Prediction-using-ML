{
 "cells": [
  {
   "cell_type": "markdown",
   "id": "373731cb-1d52-4497-9fe1-a3d0b3a51258",
   "metadata": {},
   "source": [
    "# Understanding  Bussiness Case"
   ]
  },
  {
   "cell_type": "markdown",
   "id": "091c43ed-88a6-4ff5-b147-f171835fda45",
   "metadata": {},
   "source": [
    "### Create a predictive model to classify whether a person is running or walking based on the given predictor variables."
   ]
  },
  {
   "cell_type": "markdown",
   "id": "800fab9f-dbf3-4523-be50-aedef4b640f0",
   "metadata": {},
   "source": [
    "# Domain Analysis"
   ]
  },
  {
   "cell_type": "markdown",
   "id": "b1d1cfcd-a227-4dd9-9e01-7c02d7c6023f",
   "metadata": {
    "jp-MarkdownHeadingCollapsed": true
   },
   "source": [
    "### 1. **date**: \n",
    "   - **Domain**: This attribute represents the date on which the sensor readings were recorded.\n",
    "   - **Format**: Typically in a standard date format like YYYY-MM-DD.\n",
    "\n",
    "2. **time**: \n",
    "   - **Domain**: This attribute indicates the specific time at which the sensor data was captured.\n",
    "   - **Format**: Usually in a format such as HH:MM:SS (hours, minutes, seconds) or a timestamp format.\n",
    "\n",
    "3. **username**: \n",
    "   - **Domain**: This attribute identifies the individual who was performing the activity. It could be a unique identifier or a username.\n",
    "   - **Format**: It can be alphanumeric, including letters, numbers, and possibly special characters.\n",
    "\n",
    "4. **wrist**: \n",
    "   - **Domain**: This attribute indicates the wrist on which the sensor was worn. It typically identifies which wrist (e.g., left or right).\n",
    "   - **Format**: Categorical values such as \"left\" or \"right\" and numrical values as 0 and 1.\n",
    "\n",
    "5. **activity**: \n",
    "   - **Domain**: This attribute describes the type of activity the user was performing during the sensor data capture.\n",
    "   - **Format**: Categorical values representing different activities (e.g., \"walking\", \"running\", \"sitting\", \"standing\").\n",
    "\n",
    "6. **acceleration_x**: \n",
    "   - **Domain**: This attribute represents the acceleration measured along the x-axis of the sensor.\n",
    "   - **Format**: Numeric values, often in units like meters per second squared (m/s²).\n",
    "\n",
    "7. **acceleration_y**: \n",
    "   - **Domain**: This attribute represents the acceleration measured along the y-axis of the sensor.\n",
    "   - **Format**: Numeric values, usually in units like meters per second squared (m/s²).\n",
    "\n",
    "8. **acceleration_z**: \n",
    "   - **Domain**: This attribute represents the acceleration measured along the z-axis of the sensor.\n",
    "   - **Format**: Numeric values, typically in units like meters per second squared (m/s²).\n",
    "\n",
    "9. **gyro_x**: \n",
    "   - **Domain**: This attribute captures the gyroscopic rotation rate around the x-axis.\n",
    "   - **Format**: Numeric values, often in units like degrees per second (°/s) or radians per second (rad/s).\n",
    "\n",
    "10. **gyro_y**: \n",
    "    - **Domain**: This attribute captures the gyroscopic rotation rate around the y-axis.\n",
    "    - **Format**: Numeric values, commonly in units like degrees per second (°/s) or radians per second (rad/s).\n",
    "\n",
    "11. **gyro_z**: \n",
    "    - **Domain**: This attribute captures the gyroscopic rotation rate around the z-axis.\n",
    "    - **Format**: Numeric values, generally in units like degrees per second (°/s) or radians per second (rad/s).\n",
    "\n",
    "Overall, these attributes provide a comprehensive view of the motion data collected during various activities, combining temporal information, user identification, activity types, and detailed sensor readings."
   ]
  },
  {
   "cell_type": "markdown",
   "id": "913c014c-e279-4de7-b4bb-e5e6080784c0",
   "metadata": {},
   "source": [
    "# Basic Checks"
   ]
  },
  {
   "cell_type": "code",
   "execution_count": 96,
   "id": "43cf7058-111f-4e77-9505-8b68fdcfd60d",
   "metadata": {},
   "outputs": [],
   "source": [
    "import pandas as pd\n",
    "import numpy as np\n",
    "import matplotlib.pyplot as plt\n",
    "import seaborn as sns\n",
    "import warnings\n",
    "\n",
    "from scipy import stats"
   ]
  },
  {
   "cell_type": "code",
   "execution_count": 97,
   "id": "ea34f055-0cd6-4853-84c7-901e615b923b",
   "metadata": {},
   "outputs": [],
   "source": [
    "warnings.filterwarnings('ignore')"
   ]
  },
  {
   "cell_type": "code",
   "execution_count": 98,
   "id": "18972e02-3975-443a-8ac6-ddf17d7bb177",
   "metadata": {},
   "outputs": [
    {
     "data": {
      "text/html": [
       "<div>\n",
       "<style scoped>\n",
       "    .dataframe tbody tr th:only-of-type {\n",
       "        vertical-align: middle;\n",
       "    }\n",
       "\n",
       "    .dataframe tbody tr th {\n",
       "        vertical-align: top;\n",
       "    }\n",
       "\n",
       "    .dataframe thead th {\n",
       "        text-align: right;\n",
       "    }\n",
       "</style>\n",
       "<table border=\"1\" class=\"dataframe\">\n",
       "  <thead>\n",
       "    <tr style=\"text-align: right;\">\n",
       "      <th></th>\n",
       "      <th>date</th>\n",
       "      <th>time</th>\n",
       "      <th>username</th>\n",
       "      <th>wrist</th>\n",
       "      <th>activity</th>\n",
       "      <th>acceleration_x</th>\n",
       "      <th>acceleration_y</th>\n",
       "      <th>acceleration_z</th>\n",
       "      <th>gyro_x</th>\n",
       "      <th>gyro_y</th>\n",
       "      <th>gyro_z</th>\n",
       "    </tr>\n",
       "  </thead>\n",
       "  <tbody>\n",
       "    <tr>\n",
       "      <th>0</th>\n",
       "      <td>2017-6-30</td>\n",
       "      <td>13:51:15:847724020</td>\n",
       "      <td>viktor</td>\n",
       "      <td>0</td>\n",
       "      <td>0</td>\n",
       "      <td>0.2650</td>\n",
       "      <td>-0.7814</td>\n",
       "      <td>-0.0076</td>\n",
       "      <td>-0.0590</td>\n",
       "      <td>0.0325</td>\n",
       "      <td>-2.9296</td>\n",
       "    </tr>\n",
       "    <tr>\n",
       "      <th>1</th>\n",
       "      <td>2017-6-30</td>\n",
       "      <td>13:51:16:246945023</td>\n",
       "      <td>viktor</td>\n",
       "      <td>0</td>\n",
       "      <td>0</td>\n",
       "      <td>0.6722</td>\n",
       "      <td>-1.1233</td>\n",
       "      <td>-0.2344</td>\n",
       "      <td>-0.1757</td>\n",
       "      <td>0.0208</td>\n",
       "      <td>0.1269</td>\n",
       "    </tr>\n",
       "    <tr>\n",
       "      <th>2</th>\n",
       "      <td>2017-6-30</td>\n",
       "      <td>13:51:16:446233987</td>\n",
       "      <td>viktor</td>\n",
       "      <td>0</td>\n",
       "      <td>0</td>\n",
       "      <td>0.4399</td>\n",
       "      <td>-1.4817</td>\n",
       "      <td>0.0722</td>\n",
       "      <td>-0.9105</td>\n",
       "      <td>0.1063</td>\n",
       "      <td>-2.4367</td>\n",
       "    </tr>\n",
       "    <tr>\n",
       "      <th>3</th>\n",
       "      <td>2017-6-30</td>\n",
       "      <td>13:51:16:646117985</td>\n",
       "      <td>viktor</td>\n",
       "      <td>0</td>\n",
       "      <td>0</td>\n",
       "      <td>0.3031</td>\n",
       "      <td>-0.8125</td>\n",
       "      <td>0.0888</td>\n",
       "      <td>0.1199</td>\n",
       "      <td>-0.4099</td>\n",
       "      <td>-2.9336</td>\n",
       "    </tr>\n",
       "    <tr>\n",
       "      <th>4</th>\n",
       "      <td>2017-6-30</td>\n",
       "      <td>13:51:16:846738994</td>\n",
       "      <td>viktor</td>\n",
       "      <td>0</td>\n",
       "      <td>0</td>\n",
       "      <td>0.4814</td>\n",
       "      <td>-0.9312</td>\n",
       "      <td>0.0359</td>\n",
       "      <td>0.0527</td>\n",
       "      <td>0.4379</td>\n",
       "      <td>2.4922</td>\n",
       "    </tr>\n",
       "    <tr>\n",
       "      <th>...</th>\n",
       "      <td>...</td>\n",
       "      <td>...</td>\n",
       "      <td>...</td>\n",
       "      <td>...</td>\n",
       "      <td>...</td>\n",
       "      <td>...</td>\n",
       "      <td>...</td>\n",
       "      <td>...</td>\n",
       "      <td>...</td>\n",
       "      <td>...</td>\n",
       "      <td>...</td>\n",
       "    </tr>\n",
       "    <tr>\n",
       "      <th>88583</th>\n",
       "      <td>2017-7-9</td>\n",
       "      <td>20:9:15:317911028</td>\n",
       "      <td>viktor</td>\n",
       "      <td>0</td>\n",
       "      <td>0</td>\n",
       "      <td>0.3084</td>\n",
       "      <td>-0.8376</td>\n",
       "      <td>-0.1327</td>\n",
       "      <td>0.4823</td>\n",
       "      <td>2.0124</td>\n",
       "      <td>0.6048</td>\n",
       "    </tr>\n",
       "    <tr>\n",
       "      <th>88584</th>\n",
       "      <td>2017-7-9</td>\n",
       "      <td>20:9:15:517889022</td>\n",
       "      <td>viktor</td>\n",
       "      <td>0</td>\n",
       "      <td>0</td>\n",
       "      <td>0.4977</td>\n",
       "      <td>-1.0027</td>\n",
       "      <td>-0.4397</td>\n",
       "      <td>0.1022</td>\n",
       "      <td>-1.2565</td>\n",
       "      <td>-0.0761</td>\n",
       "    </tr>\n",
       "    <tr>\n",
       "      <th>88585</th>\n",
       "      <td>2017-7-9</td>\n",
       "      <td>20:9:15:717828989</td>\n",
       "      <td>viktor</td>\n",
       "      <td>0</td>\n",
       "      <td>0</td>\n",
       "      <td>0.4587</td>\n",
       "      <td>-1.1780</td>\n",
       "      <td>-0.2827</td>\n",
       "      <td>-1.4500</td>\n",
       "      <td>-0.2792</td>\n",
       "      <td>-1.2616</td>\n",
       "    </tr>\n",
       "    <tr>\n",
       "      <th>88586</th>\n",
       "      <td>2017-7-9</td>\n",
       "      <td>20:9:15:917932987</td>\n",
       "      <td>viktor</td>\n",
       "      <td>0</td>\n",
       "      <td>0</td>\n",
       "      <td>0.2590</td>\n",
       "      <td>-0.8582</td>\n",
       "      <td>-0.0759</td>\n",
       "      <td>-1.5165</td>\n",
       "      <td>0.4560</td>\n",
       "      <td>-1.7755</td>\n",
       "    </tr>\n",
       "    <tr>\n",
       "      <th>88587</th>\n",
       "      <td>2017-7-9</td>\n",
       "      <td>20:9:16:117410004</td>\n",
       "      <td>viktor</td>\n",
       "      <td>0</td>\n",
       "      <td>0</td>\n",
       "      <td>0.3140</td>\n",
       "      <td>-0.8008</td>\n",
       "      <td>-0.0911</td>\n",
       "      <td>0.1183</td>\n",
       "      <td>1.0850</td>\n",
       "      <td>1.2814</td>\n",
       "    </tr>\n",
       "  </tbody>\n",
       "</table>\n",
       "<p>88588 rows × 11 columns</p>\n",
       "</div>"
      ],
      "text/plain": [
       "            date                time username  wrist  activity  \\\n",
       "0      2017-6-30  13:51:15:847724020   viktor      0         0   \n",
       "1      2017-6-30  13:51:16:246945023   viktor      0         0   \n",
       "2      2017-6-30  13:51:16:446233987   viktor      0         0   \n",
       "3      2017-6-30  13:51:16:646117985   viktor      0         0   \n",
       "4      2017-6-30  13:51:16:846738994   viktor      0         0   \n",
       "...          ...                 ...      ...    ...       ...   \n",
       "88583   2017-7-9   20:9:15:317911028   viktor      0         0   \n",
       "88584   2017-7-9   20:9:15:517889022   viktor      0         0   \n",
       "88585   2017-7-9   20:9:15:717828989   viktor      0         0   \n",
       "88586   2017-7-9   20:9:15:917932987   viktor      0         0   \n",
       "88587   2017-7-9   20:9:16:117410004   viktor      0         0   \n",
       "\n",
       "       acceleration_x  acceleration_y  acceleration_z  gyro_x  gyro_y  gyro_z  \n",
       "0              0.2650         -0.7814         -0.0076 -0.0590  0.0325 -2.9296  \n",
       "1              0.6722         -1.1233         -0.2344 -0.1757  0.0208  0.1269  \n",
       "2              0.4399         -1.4817          0.0722 -0.9105  0.1063 -2.4367  \n",
       "3              0.3031         -0.8125          0.0888  0.1199 -0.4099 -2.9336  \n",
       "4              0.4814         -0.9312          0.0359  0.0527  0.4379  2.4922  \n",
       "...               ...             ...             ...     ...     ...     ...  \n",
       "88583          0.3084         -0.8376         -0.1327  0.4823  2.0124  0.6048  \n",
       "88584          0.4977         -1.0027         -0.4397  0.1022 -1.2565 -0.0761  \n",
       "88585          0.4587         -1.1780         -0.2827 -1.4500 -0.2792 -1.2616  \n",
       "88586          0.2590         -0.8582         -0.0759 -1.5165  0.4560 -1.7755  \n",
       "88587          0.3140         -0.8008         -0.0911  0.1183  1.0850  1.2814  \n",
       "\n",
       "[88588 rows x 11 columns]"
      ]
     },
     "execution_count": 98,
     "metadata": {},
     "output_type": "execute_result"
    }
   ],
   "source": [
    "df = pd.read_csv('walkrun.csv')\n",
    "df"
   ]
  },
  {
   "cell_type": "code",
   "execution_count": 99,
   "id": "62934305-9c64-4dda-bbcb-bc634f5ae954",
   "metadata": {
    "scrolled": true
   },
   "outputs": [
    {
     "name": "stdout",
     "output_type": "stream",
     "text": [
      "<class 'pandas.core.frame.DataFrame'>\n",
      "RangeIndex: 88588 entries, 0 to 88587\n",
      "Data columns (total 11 columns):\n",
      " #   Column          Non-Null Count  Dtype  \n",
      "---  ------          --------------  -----  \n",
      " 0   date            88588 non-null  object \n",
      " 1   time            88588 non-null  object \n",
      " 2   username        88588 non-null  object \n",
      " 3   wrist           88588 non-null  int64  \n",
      " 4   activity        88588 non-null  int64  \n",
      " 5   acceleration_x  88588 non-null  float64\n",
      " 6   acceleration_y  88588 non-null  float64\n",
      " 7   acceleration_z  88588 non-null  float64\n",
      " 8   gyro_x          88588 non-null  float64\n",
      " 9   gyro_y          88588 non-null  float64\n",
      " 10  gyro_z          88588 non-null  float64\n",
      "dtypes: float64(6), int64(2), object(3)\n",
      "memory usage: 7.4+ MB\n"
     ]
    }
   ],
   "source": [
    "df.info()"
   ]
  },
  {
   "cell_type": "code",
   "execution_count": 100,
   "id": "d8512daf-9f7e-4887-b1ac-8998dcc515de",
   "metadata": {},
   "outputs": [
    {
     "name": "stdout",
     "output_type": "stream",
     "text": [
      "date : ['2017-6-30' '2017-7-10' '2017-7-11' '2017-7-15' '2017-7-16' '2017-7-17'\n",
      " '2017-7-1' '2017-7-2' '2017-7-4' '2017-7-6' '2017-7-7' '2017-7-9']\n",
      "====================================================================================================\n",
      "time : ['13:51:15:847724020' '13:51:16:246945023' '13:51:16:446233987' ...\n",
      " '20:9:15:717828989' '20:9:15:917932987' '20:9:16:117410004']\n",
      "====================================================================================================\n",
      "username : ['viktor']\n",
      "====================================================================================================\n",
      "wrist : [0 1]\n",
      "====================================================================================================\n",
      "activity : [0 1]\n",
      "====================================================================================================\n",
      "acceleration_x : [0.265  0.6722 0.4399 ... 0.5671 0.6287 0.4478]\n",
      "====================================================================================================\n",
      "acceleration_y : [-0.7814 -1.1233 -1.4817 ... -1.4259 -1.4467 -1.4213]\n",
      "====================================================================================================\n",
      "acceleration_z : [-0.0076 -0.2344  0.0722 ... -0.5238 -0.0154 -0.5407]\n",
      "====================================================================================================\n",
      "gyro_x : [-0.059  -0.1757 -0.9105 ...  0.5324 -1.45    0.1183]\n",
      "====================================================================================================\n",
      "gyro_y : [ 0.0325  0.0208  0.1063 ... -0.9116  2.0124 -1.2565]\n",
      "====================================================================================================\n",
      "gyro_z : [-2.9296  0.1269 -2.4367 ... -1.0889  2.5342  0.6048]\n",
      "====================================================================================================\n"
     ]
    }
   ],
   "source": [
    "for i in df:\n",
    "    print(i,':',df[i].unique())\n",
    "    print('====================================================================================================')"
   ]
  },
  {
   "cell_type": "code",
   "execution_count": 101,
   "id": "c4bec246-289e-4b77-9af9-ec29005b3335",
   "metadata": {},
   "outputs": [
    {
     "data": {
      "text/plain": [
       "array([0, 1], dtype=int64)"
      ]
     },
     "execution_count": 101,
     "metadata": {},
     "output_type": "execute_result"
    }
   ],
   "source": [
    "df.activity.unique()"
   ]
  },
  {
   "cell_type": "code",
   "execution_count": 102,
   "id": "8ccc9a04-b0ad-4dc3-b835-950936b5df1c",
   "metadata": {},
   "outputs": [
    {
     "data": {
      "text/plain": [
       "array([0, 1], dtype=int64)"
      ]
     },
     "execution_count": 102,
     "metadata": {},
     "output_type": "execute_result"
    }
   ],
   "source": [
    "df.wrist.unique()"
   ]
  },
  {
   "cell_type": "code",
   "execution_count": 103,
   "id": "08f8997f-88e4-40fa-aff4-c8a897f824f9",
   "metadata": {
    "scrolled": true
   },
   "outputs": [
    {
     "data": {
      "text/html": [
       "<div>\n",
       "<style scoped>\n",
       "    .dataframe tbody tr th:only-of-type {\n",
       "        vertical-align: middle;\n",
       "    }\n",
       "\n",
       "    .dataframe tbody tr th {\n",
       "        vertical-align: top;\n",
       "    }\n",
       "\n",
       "    .dataframe thead th {\n",
       "        text-align: right;\n",
       "    }\n",
       "</style>\n",
       "<table border=\"1\" class=\"dataframe\">\n",
       "  <thead>\n",
       "    <tr style=\"text-align: right;\">\n",
       "      <th></th>\n",
       "      <th>wrist</th>\n",
       "      <th>activity</th>\n",
       "      <th>acceleration_x</th>\n",
       "      <th>acceleration_y</th>\n",
       "      <th>acceleration_z</th>\n",
       "      <th>gyro_x</th>\n",
       "      <th>gyro_y</th>\n",
       "      <th>gyro_z</th>\n",
       "    </tr>\n",
       "  </thead>\n",
       "  <tbody>\n",
       "    <tr>\n",
       "      <th>count</th>\n",
       "      <td>88588.000000</td>\n",
       "      <td>88588.000000</td>\n",
       "      <td>88588.000000</td>\n",
       "      <td>88588.000000</td>\n",
       "      <td>88588.000000</td>\n",
       "      <td>88588.000000</td>\n",
       "      <td>88588.000000</td>\n",
       "      <td>88588.000000</td>\n",
       "    </tr>\n",
       "    <tr>\n",
       "      <th>mean</th>\n",
       "      <td>0.522170</td>\n",
       "      <td>0.500801</td>\n",
       "      <td>-0.074811</td>\n",
       "      <td>-0.562585</td>\n",
       "      <td>-0.313956</td>\n",
       "      <td>0.004160</td>\n",
       "      <td>0.037203</td>\n",
       "      <td>0.022327</td>\n",
       "    </tr>\n",
       "    <tr>\n",
       "      <th>std</th>\n",
       "      <td>0.499511</td>\n",
       "      <td>0.500002</td>\n",
       "      <td>1.009299</td>\n",
       "      <td>0.658458</td>\n",
       "      <td>0.486815</td>\n",
       "      <td>1.253423</td>\n",
       "      <td>1.198725</td>\n",
       "      <td>1.914423</td>\n",
       "    </tr>\n",
       "    <tr>\n",
       "      <th>min</th>\n",
       "      <td>0.000000</td>\n",
       "      <td>0.000000</td>\n",
       "      <td>-5.350500</td>\n",
       "      <td>-3.299000</td>\n",
       "      <td>-3.753800</td>\n",
       "      <td>-4.430600</td>\n",
       "      <td>-7.464700</td>\n",
       "      <td>-9.480000</td>\n",
       "    </tr>\n",
       "    <tr>\n",
       "      <th>25%</th>\n",
       "      <td>0.000000</td>\n",
       "      <td>0.000000</td>\n",
       "      <td>-0.381800</td>\n",
       "      <td>-1.033500</td>\n",
       "      <td>-0.376000</td>\n",
       "      <td>-0.920700</td>\n",
       "      <td>-0.644825</td>\n",
       "      <td>-1.345125</td>\n",
       "    </tr>\n",
       "    <tr>\n",
       "      <th>50%</th>\n",
       "      <td>1.000000</td>\n",
       "      <td>1.000000</td>\n",
       "      <td>-0.059500</td>\n",
       "      <td>-0.759100</td>\n",
       "      <td>-0.221000</td>\n",
       "      <td>0.018700</td>\n",
       "      <td>0.039300</td>\n",
       "      <td>0.006900</td>\n",
       "    </tr>\n",
       "    <tr>\n",
       "      <th>75%</th>\n",
       "      <td>1.000000</td>\n",
       "      <td>1.000000</td>\n",
       "      <td>0.355500</td>\n",
       "      <td>-0.241775</td>\n",
       "      <td>-0.085900</td>\n",
       "      <td>0.888800</td>\n",
       "      <td>0.733700</td>\n",
       "      <td>1.398200</td>\n",
       "    </tr>\n",
       "    <tr>\n",
       "      <th>max</th>\n",
       "      <td>1.000000</td>\n",
       "      <td>1.000000</td>\n",
       "      <td>5.603300</td>\n",
       "      <td>2.668000</td>\n",
       "      <td>1.640300</td>\n",
       "      <td>4.874200</td>\n",
       "      <td>8.498000</td>\n",
       "      <td>11.266200</td>\n",
       "    </tr>\n",
       "  </tbody>\n",
       "</table>\n",
       "</div>"
      ],
      "text/plain": [
       "              wrist      activity  acceleration_x  acceleration_y  \\\n",
       "count  88588.000000  88588.000000    88588.000000    88588.000000   \n",
       "mean       0.522170      0.500801       -0.074811       -0.562585   \n",
       "std        0.499511      0.500002        1.009299        0.658458   \n",
       "min        0.000000      0.000000       -5.350500       -3.299000   \n",
       "25%        0.000000      0.000000       -0.381800       -1.033500   \n",
       "50%        1.000000      1.000000       -0.059500       -0.759100   \n",
       "75%        1.000000      1.000000        0.355500       -0.241775   \n",
       "max        1.000000      1.000000        5.603300        2.668000   \n",
       "\n",
       "       acceleration_z        gyro_x        gyro_y        gyro_z  \n",
       "count    88588.000000  88588.000000  88588.000000  88588.000000  \n",
       "mean        -0.313956      0.004160      0.037203      0.022327  \n",
       "std          0.486815      1.253423      1.198725      1.914423  \n",
       "min         -3.753800     -4.430600     -7.464700     -9.480000  \n",
       "25%         -0.376000     -0.920700     -0.644825     -1.345125  \n",
       "50%         -0.221000      0.018700      0.039300      0.006900  \n",
       "75%         -0.085900      0.888800      0.733700      1.398200  \n",
       "max          1.640300      4.874200      8.498000     11.266200  "
      ]
     },
     "execution_count": 103,
     "metadata": {},
     "output_type": "execute_result"
    }
   ],
   "source": [
    "df.describe()"
   ]
  },
  {
   "cell_type": "code",
   "execution_count": 104,
   "id": "833057f6-a1e4-4da4-889d-1b32b2059487",
   "metadata": {
    "scrolled": true
   },
   "outputs": [
    {
     "data": {
      "text/html": [
       "<div>\n",
       "<style scoped>\n",
       "    .dataframe tbody tr th:only-of-type {\n",
       "        vertical-align: middle;\n",
       "    }\n",
       "\n",
       "    .dataframe tbody tr th {\n",
       "        vertical-align: top;\n",
       "    }\n",
       "\n",
       "    .dataframe thead th {\n",
       "        text-align: right;\n",
       "    }\n",
       "</style>\n",
       "<table border=\"1\" class=\"dataframe\">\n",
       "  <thead>\n",
       "    <tr style=\"text-align: right;\">\n",
       "      <th></th>\n",
       "      <th>date</th>\n",
       "      <th>time</th>\n",
       "      <th>username</th>\n",
       "    </tr>\n",
       "  </thead>\n",
       "  <tbody>\n",
       "    <tr>\n",
       "      <th>count</th>\n",
       "      <td>88588</td>\n",
       "      <td>88588</td>\n",
       "      <td>88588</td>\n",
       "    </tr>\n",
       "    <tr>\n",
       "      <th>unique</th>\n",
       "      <td>12</td>\n",
       "      <td>88588</td>\n",
       "      <td>1</td>\n",
       "    </tr>\n",
       "    <tr>\n",
       "      <th>top</th>\n",
       "      <td>2017-7-16</td>\n",
       "      <td>13:51:15:847724020</td>\n",
       "      <td>viktor</td>\n",
       "    </tr>\n",
       "    <tr>\n",
       "      <th>freq</th>\n",
       "      <td>20480</td>\n",
       "      <td>1</td>\n",
       "      <td>88588</td>\n",
       "    </tr>\n",
       "  </tbody>\n",
       "</table>\n",
       "</div>"
      ],
      "text/plain": [
       "             date                time username\n",
       "count       88588               88588    88588\n",
       "unique         12               88588        1\n",
       "top     2017-7-16  13:51:15:847724020   viktor\n",
       "freq        20480                   1    88588"
      ]
     },
     "execution_count": 104,
     "metadata": {},
     "output_type": "execute_result"
    }
   ],
   "source": [
    "df.describe(include='O')\n"
   ]
  },
  {
   "cell_type": "markdown",
   "id": "d9aecc63-682d-4ddb-b1f6-67e6f800f901",
   "metadata": {},
   "source": [
    "# EDA"
   ]
  },
  {
   "cell_type": "markdown",
   "id": "ff1a75a0-caf2-4e49-9f89-51de48e55238",
   "metadata": {},
   "source": [
    "### Univariate Analysis"
   ]
  },
  {
   "cell_type": "code",
   "execution_count": 105,
   "id": "c5bddbb1-9327-4455-a850-799b08bc88f9",
   "metadata": {},
   "outputs": [
    {
     "name": "stdout",
     "output_type": "stream",
     "text": [
      "date : ['2017-6-30' '2017-7-10' '2017-7-11' '2017-7-15' '2017-7-16' '2017-7-17'\n",
      " '2017-7-1' '2017-7-2' '2017-7-4' '2017-7-6' '2017-7-7' '2017-7-9']\n",
      "================================================================================\n",
      "username : ['viktor']\n",
      "================================================================================\n"
     ]
    }
   ],
   "source": [
    "\n",
    "for i in df:\n",
    "    if(df[i].dtype=='object')and(len(df[i].unique())<=20):\n",
    "        print(i,':',df[i].unique())\n",
    "        \n",
    "        print('================================================================================')\n"
   ]
  },
  {
   "cell_type": "code",
   "execution_count": 106,
   "id": "5ce53369-334c-4c8c-a351-edbebd84f577",
   "metadata": {},
   "outputs": [],
   "source": [
    "list_cat=['username','date']"
   ]
  },
  {
   "cell_type": "code",
   "execution_count": 107,
   "id": "c0a744a1-2071-4450-8f93-b2d1382759d0",
   "metadata": {},
   "outputs": [
    {
     "data": {
      "text/plain": [
       "['username', 'date']"
      ]
     },
     "execution_count": 107,
     "metadata": {},
     "output_type": "execute_result"
    }
   ],
   "source": [
    "list_cat"
   ]
  },
  {
   "cell_type": "code",
   "execution_count": 108,
   "id": "5263b5d7-e326-4fdd-b3b4-b146300aa215",
   "metadata": {},
   "outputs": [],
   "source": [
    "list_cat=df[list_cat]"
   ]
  },
  {
   "cell_type": "code",
   "execution_count": 109,
   "id": "0f8c0f91-70bd-4852-a4d6-b8ba29242c6e",
   "metadata": {},
   "outputs": [
    {
     "data": {
      "text/plain": [
       "pandas.core.frame.DataFrame"
      ]
     },
     "execution_count": 109,
     "metadata": {},
     "output_type": "execute_result"
    }
   ],
   "source": [
    "type(list_cat)"
   ]
  },
  {
   "cell_type": "code",
   "execution_count": 110,
   "id": "7f8c3f3e-d1d1-45f4-8069-bd6cce9adc9a",
   "metadata": {},
   "outputs": [],
   "source": [
    "list_num=[]\n",
    "for i in df:\n",
    "    if(df[i].dtype!='object')and(len(df[i].unique())>20):\n",
    "        list_num.append(i)\n",
    "list_num.append('wrist')"
   ]
  },
  {
   "cell_type": "code",
   "execution_count": 111,
   "id": "6200fd29-58cb-4951-9a19-1767019d37d5",
   "metadata": {},
   "outputs": [
    {
     "data": {
      "text/plain": [
       "['acceleration_x',\n",
       " 'acceleration_y',\n",
       " 'acceleration_z',\n",
       " 'gyro_x',\n",
       " 'gyro_y',\n",
       " 'gyro_z',\n",
       " 'wrist']"
      ]
     },
     "execution_count": 111,
     "metadata": {},
     "output_type": "execute_result"
    }
   ],
   "source": [
    "list_num"
   ]
  },
  {
   "cell_type": "code",
   "execution_count": 112,
   "id": "94cde086-85ba-4f3f-8775-66e5dda61687",
   "metadata": {},
   "outputs": [],
   "source": [
    "list_num=df[list_num]"
   ]
  },
  {
   "cell_type": "code",
   "execution_count": 113,
   "id": "1420affd-be0b-4dc6-b8db-35f2932ea70d",
   "metadata": {},
   "outputs": [
    {
     "data": {
      "text/plain": [
       "pandas.core.frame.DataFrame"
      ]
     },
     "execution_count": 113,
     "metadata": {},
     "output_type": "execute_result"
    }
   ],
   "source": [
    "type(list_num)"
   ]
  },
  {
   "cell_type": "code",
   "execution_count": 114,
   "id": "585cfdc4-e40d-4c86-8f78-d6a028ada6bb",
   "metadata": {
    "scrolled": true
   },
   "outputs": [
    {
     "data": {
      "image/png": "[encoded data removed]",
      "text/plain": [
       "<Figure size 1000x1000 with 7 Axes>"
      ]
     },
     "metadata": {},
     "output_type": "display_data"
    }
   ],
   "source": [
    "plt.figure(figsize=(10,10))\n",
    "plotnumber=1\n",
    "for i in list_num:\n",
    "    plt.subplot(3,3,plotnumber)\n",
    "    sns.histplot(x=list_num[i],kde=True)\n",
    "    plotnumber=plotnumber+1\n",
    "plt.tight_layout()"
   ]
  },
  {
   "cell_type": "markdown",
   "id": "2518639f-6669-4a6b-a629-caa16edd719f",
   "metadata": {},
   "source": [
    "## Insights:\n",
    "#### acceleration_x: \n",
    "nearly 70 percent data points lies between -1 to 1 ,Skewness: The distribution is heavily skewed to the right, indicating that there are more extreme values (likely higher accelerations) on the right side of the distribution.\n",
    " * Peak: The peak of the distribution is around 0, suggesting that the most frequent acceleration values are close to zero.\n",
    " * Range: The acceleration values span a fairly wide range, from approximately -5 to 5.\n",
    "\n",
    "#### acceleration_y:\n",
    "* Skewness: The distribution is significantly skewed to the right, indicating that there are more data points with higher acceleration_y values compared to lower ones.\n",
    " * Modality: The histogram appears to be bimodal, suggesting there might be two distinct groups or clusters within the data. One cluster is centered around a lower acceleration_y value, while the other is centered around a higher value.\n",
    "Central Tendency and Dispersion:\n",
    " * Mean: Since the distribution is skewed to the right, the mean will be greater than the median.\n",
    " * Data Outliers: The tail on the right side of the histogram might indicate outliers or unusual events that are not representative of the typical behavior.\n",
    "\n",
    "#### acceleration_z:\n",
    "* A histogram of the acceleration in the z-direction. The x-axis represents the acceleration values, and the y-axis represents the count of occurrences of each value. The histogram shows a clear peak around 0, indicating that most of the acceleration values are close to 0. There are also some smaller peaks at around -2 and 2, suggesting that there are some acceleration values in both positive and negative directions. Overall, the distribution of acceleration values appears to be centered around 0 with a relatively narrow spread.\n",
    "\n",
    "#### gyro_x:\n",
    " * Distribution: The data is approximately normally distributed, with a peak around 0. This suggests that the gyroscope x-axis values are centered around 0, with most values falling within a certain range.\n",
    " * Range: The range of the data is approximately from -2.5 to 5.0. This indicates the maximum and minimum values observed in the gyroscope x-axis data.\n",
    " *  Spread: The spread of the data can be assessed by looking at the width of the distribution. A narrower distribution indicates that the data points are more tightly clustered around the mean, while a wider distribution suggests that the data points are more spread out. In this case, the distribution appears to be moderately spread out.\n",
    " * Symmetry: The distribution appears to be roughly symmetric around the mean, indicating that there is no significant bias in the data.\n",
    "\n",
    "#### gyro_y:\n",
    "1. Normal Distribution:\n",
    " * Shape: The distribution closely resembles a normal (Gaussian) distribution, characterized by a bell-shaped curve.\n",
    " * Central Tendency: The peak of the distribution, likely representing the mean or median of the data, is around 0. This suggests that the gyroscope's Y-axis readings are centered around zero.\n",
    "2. Data Range:\n",
    " * Minimum and Maximum Values: The x-axis labels (-5 to 5) likely represent the range of gyroscope Y-axis values observed in the data.\n",
    " * Outliers: There appear to be no significant outliers or extreme values beyond the range of the distribution, indicating that the data is relatively consistent.\n",
    "\n",
    "#### gyro_z:\n",
    " * Distribution Shape: The histogram exhibits a bell-curve shape, characteristic of a normal distribution. This suggests that the majority of \"gyro_z\" values cluster around a central point, with fewer values occurring at the extremes.\n",
    " * Central Tendency: The peak of the distribution appears to be around 0, indicating that this is the most common value for \"gyro_z.\"\n",
    " * Spread: The width of the distribution, or the spread of values, seems relatively narrow. This suggests that the data points are clustered closely together around the central value, with less variability.\n",
    " * Outliers: There are no visible outliers, which are extreme values that deviate significantly from the majority of the data."
   ]
  },
  {
   "cell_type": "code",
   "execution_count": 115,
   "id": "40d5a77d-183d-4161-b00b-e52b02b09609",
   "metadata": {},
   "outputs": [
    {
     "data": {
      "image/png": "[encoded data removed]",
      "text/plain": [
       "<Figure size 2000x2000 with 2 Axes>"
      ]
     },
     "metadata": {},
     "output_type": "display_data"
    }
   ],
   "source": [
    "plt.figure(figsize=(20,20))\n",
    "plotnumber=1\n",
    "for i in list_cat:\n",
    "    plt.subplot(3,3,plotnumber)\n",
    "    sns.countplot(x=list_cat[i])\n",
    "    plt.xticks(rotation=40)\n",
    "    plotnumber=plotnumber+1\n",
    "plt.tight_layout()"
   ]
  },
  {
   "cell_type": "markdown",
   "id": "7707e1f9-aecc-4478-87b1-64424813e40f",
   "metadata": {},
   "source": [
    "## insights:\n",
    "\n",
    "#### username:\n",
    "* Single Data Point: The chart only displays one data point, which is the count associated with the username \"viktor.\"\n",
    "\n",
    "#### date:\n",
    " * Time Period: The x-axis is labeled \"date,\" ranging from June 30, 2017 to July 9, 2017.\n",
    " * Count: The y-axis is labeled \"count,\" indicating the quantity of events or occurrences.\n",
    " * Trend: There seems to be a general upward trend in the count from June 30th to July 1st, followed by a significant spike on July 2nd and then a gradual decline until July 9th.\n",
    " * Peak: The highest count occurs on July 16th, with a value of around 20,000.\n",
    " * Variability: The counts vary significantly from day to day, with some days having very high counts and others having relatively low counts."
   ]
  },
  {
   "cell_type": "markdown",
   "id": "39d1a493-d270-4e01-8ca6-cf6f25f19e24",
   "metadata": {},
   "source": [
    "### Bivariate Anaysis"
   ]
  },
  {
   "cell_type": "code",
   "execution_count": 116,
   "id": "f15e2125-943d-402f-b0e1-b969713811d2",
   "metadata": {
    "scrolled": true
   },
   "outputs": [
    {
     "data": {
      "image/png": "[encoded data removed]",
      "text/plain": [
       "<Figure size 1000x1000 with 7 Axes>"
      ]
     },
     "metadata": {},
     "output_type": "display_data"
    }
   ],
   "source": [
    "plt.figure(figsize=(10,10))\n",
    "plotnumber=1\n",
    "for i in list_num:\n",
    "    plt.subplot(3,3,plotnumber)\n",
    "    sns.histplot(x=list_num[i],hue=df.activity)\n",
    "    plotnumber=plotnumber+1\n",
    "plt.tight_layout()"
   ]
  },
  {
   "cell_type": "markdown",
   "id": "4066dd9d-b584-499d-8b1f-e667624769f2",
   "metadata": {},
   "source": [
    "## insights:\n",
    "\n",
    "#### acceleration_x:\n",
    "histogram showing the distribution of acceleration_x values for two different activity : \"0\" and \"1\". The x-axis represents acceleration_x, while the y-axis represents the count of occurrences.\n",
    "Key Observations:\n",
    " * Activity  0: The blue histogram likely represents the acceleration_x values for activity 0. It is centered around 0 with a relatively narrow spread, suggesting that the acceleration values for this level are generally close to 0.\n",
    " * Activity  1: The orange histogram likely represents the acceleration_x values for activity  1. It is centered slightly to the right of 0 with a wider spread, indicating that the acceleration values for this  are more variable and tend to be higher than those for  0.\n",
    " * Overlapping Distributions: There is some overlap between the two distributions, suggesting that there might be some overlap in acceleration values between the two activity . However, the overall shape and center of the distributions are distinct.\n",
    "Possible Interpretations for Walking and Running:\n",
    " * Activity 0: Walking: Given the narrower distribution and center around 0, activity 0 could represent walking. Walking typically involves less intense acceleration compared to running.\n",
    " * Activity  1: Running: The wider distribution and shift to the right of 0 suggest that activity level 1 could represent running. Running involves more intense acceleration, with greater fluctuations in acceleration values.\n",
    "Additional Considerations:\n",
    "\n",
    "#### acceleration_y:\n",
    "1)we have total 88588 datapoints among them highest point have in acceleration_y  is '1'having percentage of 52.69+-3%.  \n",
    "2)In acceleration_y  nearly '40.48' +-3% have '0' value .   \n",
    "3)overlapping of data is neraly 6.63 percentage of data points    \n",
    "4)where data is randomly distributed but we can say that highest  point lies between -0.1 to -1.7 range having value 0.    \n",
    "#### acceleration_z:\n",
    "1)overlapping lies between -0.5 to 0.1 and also  having highest count bar  in this range.   \n",
    "2)-0.5 to -2.7 & postive side 0.11 to 1.1 having '1' is highest count  \n",
    "3) 0 value lies in between  -0.5 to 0.1 with highest count    \n",
    "4)'1' having highest percentage of datapoints  in acceleration_z  which is count'39652' with precentage '44.80'.  \n",
    "3)'0'having 2 nd highest percentage of datapoints in acceleration_z which is count '34180' with percentage '38.60'.   \n",
    "5)overlapping value having count of '14756' which is nearly '16.60 'percent    \n",
    "6)data is negatively skewd most  of data points lies on left side .   \n",
    "\n",
    "\n",
    "#### gyro_x:\n",
    "1)datapoints are little bit normally distributed most of values overlaped on each other .     \n",
    "2) '1' have value count about 11.42 percentage having values '10115'    \n",
    "3)'0' have nearly 12.99 percentage with values 11500    \n",
    "4) 77.60 percent value lies between -2.7 to 2.7 all values are overlapped  having count 66973.     \n",
    "\n",
    "#### gyro_y:\n",
    "1) gyro_y is kurtosis data pickness is very high and pointed .  \n",
    "2) overlappped datapoints have highest value nearly '93%' having count '82387'\n",
    "3) '0' value have value count '3570' in percentage '4.03'\n",
    "4) '1' have value count '2631' with '2.97' percent\n",
    "5) gyro_y value lies between -5 to 5  .\n",
    "   \n",
    "#### gyro_z:\n",
    "1) gyro_z is kurtosis data pickness is very high and pointed .\n",
    "2) overlapped datapoints have higest value nearly '83.09' percent\n",
    "3) '0' have value count '6620' and in percentage is '7.47'.\n",
    "4) '1' have value count '8360' and in percentage is '9.44'\n",
    "5) pickness of  data is very high\n",
    "6) values lies between -6  to 6.\n",
    "\n"
   ]
  },
  {
   "cell_type": "code",
   "execution_count": 117,
   "id": "9a260bbe-c629-493e-bb0f-614854928093",
   "metadata": {},
   "outputs": [
    {
     "data": {
      "image/png": "[encoded data removed]",
      "text/plain": [
       "<Figure size 2000x2000 with 2 Axes>"
      ]
     },
     "metadata": {},
     "output_type": "display_data"
    }
   ],
   "source": [
    "plt.figure(figsize=(20,20))\n",
    "plotnumber=1\n",
    "for i in list_cat:\n",
    "    plt.subplot(3,3,plotnumber)\n",
    "    sns.barplot(x=list_cat[i],y=df.activity)\n",
    "    plt.xticks(rotation=40)\n",
    "    plotnumber=plotnumber+1\n",
    "plt.tight_layout()"
   ]
  },
  {
   "cell_type": "markdown",
   "id": "77b81967-b257-4810-8748-4e86276085a4",
   "metadata": {},
   "source": [
    "## Insights\n",
    "#### Username:\n",
    "There is no insights for this feature because column is singleton column  contains only one value that is 'viktor'  \n",
    "#### date:\n",
    "1)highest value for activity in date is on 2017-7-11   \n",
    "2)  2017-7-7, 2017-7-16  and  2017-7-10 have  lowest value that is '0'     "
   ]
  },
  {
   "cell_type": "markdown",
   "id": "cd5dfbcc-2d66-4076-9474-1c477ff95276",
   "metadata": {},
   "source": [
    "# Data Preprocessing "
   ]
  },
  {
   "cell_type": "markdown",
   "id": "1ab1d0ee-ee23-4c45-9677-9c6a011fe4ea",
   "metadata": {},
   "source": [
    "## 1)Handling With Null Values Corrupted Data :\n",
    " "
   ]
  },
  {
   "cell_type": "code",
   "execution_count": 118,
   "id": "cec8b612-fd94-4df9-825a-e85b34451b8a",
   "metadata": {
    "scrolled": true
   },
   "outputs": [
    {
     "data": {
      "text/plain": [
       "date              0\n",
       "time              0\n",
       "username          0\n",
       "wrist             0\n",
       "activity          0\n",
       "acceleration_x    0\n",
       "acceleration_y    0\n",
       "acceleration_z    0\n",
       "gyro_x            0\n",
       "gyro_y            0\n",
       "gyro_z            0\n",
       "dtype: int64"
      ]
     },
     "execution_count": 118,
     "metadata": {},
     "output_type": "execute_result"
    }
   ],
   "source": [
    "df.isnull().sum()"
   ]
  },
  {
   "cell_type": "markdown",
   "id": "b1374bb8-9161-4380-981f-1c76a29d0981",
   "metadata": {},
   "source": [
    "## 2) Handling with Outliers :"
   ]
  },
  {
   "cell_type": "code",
   "execution_count": 119,
   "id": "8a7a8175-7fbe-418b-b638-d6d7368ae8c1",
   "metadata": {
    "scrolled": true
   },
   "outputs": [
    {
     "data": {
      "image/png": "[encoded data removed]",
      "text/plain": [
       "<Figure size 2000x2000 with 7 Axes>"
      ]
     },
     "metadata": {},
     "output_type": "display_data"
    }
   ],
   "source": [
    "plt.figure(figsize=(20,20))\n",
    "plotnumber=1\n",
    "for i in list_num:\n",
    "    plt.subplot(3,3,plotnumber)\n",
    "    sns.boxplot(x=list_num[i])\n",
    "    plt.xticks(rotation=40)\n",
    "    plotnumber=plotnumber+1\n",
    "plt.tight_layout()"
   ]
  },
  {
   "cell_type": "markdown",
   "id": "807739b5-83de-48b0-8d7c-0a52e6b6df5d",
   "metadata": {},
   "source": [
    "## acceleration_x"
   ]
  },
  {
   "cell_type": "code",
   "execution_count": 120,
   "id": "01d762c9-6971-4f2d-a983-1589f5c0c6d6",
   "metadata": {},
   "outputs": [
    {
     "data": {
      "text/html": [
       "<div>\n",
       "<style scoped>\n",
       "    .dataframe tbody tr th:only-of-type {\n",
       "        vertical-align: middle;\n",
       "    }\n",
       "\n",
       "    .dataframe tbody tr th {\n",
       "        vertical-align: top;\n",
       "    }\n",
       "\n",
       "    .dataframe thead th {\n",
       "        text-align: right;\n",
       "    }\n",
       "</style>\n",
       "<table border=\"1\" class=\"dataframe\">\n",
       "  <thead>\n",
       "    <tr style=\"text-align: right;\">\n",
       "      <th></th>\n",
       "      <th>date</th>\n",
       "      <th>time</th>\n",
       "      <th>username</th>\n",
       "      <th>wrist</th>\n",
       "      <th>activity</th>\n",
       "      <th>acceleration_x</th>\n",
       "      <th>acceleration_y</th>\n",
       "      <th>acceleration_z</th>\n",
       "      <th>gyro_x</th>\n",
       "      <th>gyro_y</th>\n",
       "      <th>gyro_z</th>\n",
       "    </tr>\n",
       "  </thead>\n",
       "  <tbody>\n",
       "    <tr>\n",
       "      <th>69868</th>\n",
       "      <td>2017-7-6</td>\n",
       "      <td>18:38:26:242500007</td>\n",
       "      <td>viktor</td>\n",
       "      <td>0</td>\n",
       "      <td>1</td>\n",
       "      <td>4.9068</td>\n",
       "      <td>-1.4043</td>\n",
       "      <td>0.1646</td>\n",
       "      <td>2.0731</td>\n",
       "      <td>-1.4541</td>\n",
       "      <td>-2.5862</td>\n",
       "    </tr>\n",
       "    <tr>\n",
       "      <th>80812</th>\n",
       "      <td>2017-7-9</td>\n",
       "      <td>19:41:46:806110978</td>\n",
       "      <td>viktor</td>\n",
       "      <td>0</td>\n",
       "      <td>1</td>\n",
       "      <td>4.8701</td>\n",
       "      <td>-1.7447</td>\n",
       "      <td>-1.0217</td>\n",
       "      <td>0.2092</td>\n",
       "      <td>-0.9031</td>\n",
       "      <td>-4.0232</td>\n",
       "    </tr>\n",
       "    <tr>\n",
       "      <th>80820</th>\n",
       "      <td>2017-7-9</td>\n",
       "      <td>19:41:48:405888974</td>\n",
       "      <td>viktor</td>\n",
       "      <td>0</td>\n",
       "      <td>1</td>\n",
       "      <td>5.6033</td>\n",
       "      <td>-0.7026</td>\n",
       "      <td>-1.0155</td>\n",
       "      <td>0.4934</td>\n",
       "      <td>-1.7109</td>\n",
       "      <td>-3.2481</td>\n",
       "    </tr>\n",
       "  </tbody>\n",
       "</table>\n",
       "</div>"
      ],
      "text/plain": [
       "           date                time username  wrist  activity  acceleration_x  \\\n",
       "69868  2017-7-6  18:38:26:242500007   viktor      0         1          4.9068   \n",
       "80812  2017-7-9  19:41:46:806110978   viktor      0         1          4.8701   \n",
       "80820  2017-7-9  19:41:48:405888974   viktor      0         1          5.6033   \n",
       "\n",
       "       acceleration_y  acceleration_z  gyro_x  gyro_y  gyro_z  \n",
       "69868         -1.4043          0.1646  2.0731 -1.4541 -2.5862  \n",
       "80812         -1.7447         -1.0217  0.2092 -0.9031 -4.0232  \n",
       "80820         -0.7026         -1.0155  0.4934 -1.7109 -3.2481  "
      ]
     },
     "execution_count": 120,
     "metadata": {},
     "output_type": "execute_result"
    }
   ],
   "source": [
    "df.loc[df.acceleration_x>4.5]"
   ]
  },
  {
   "cell_type": "code",
   "execution_count": 121,
   "id": "94ee862d-fde4-49e1-9c9d-bfd9fc9c8409",
   "metadata": {},
   "outputs": [
    {
     "data": {
      "text/plain": [
       "-0.0595"
      ]
     },
     "execution_count": 121,
     "metadata": {},
     "output_type": "execute_result"
    }
   ],
   "source": [
    "np.median(df.acceleration_x)"
   ]
  },
  {
   "cell_type": "code",
   "execution_count": 122,
   "id": "ccb145da-a4b2-48fb-8cf4-95725ccf8129",
   "metadata": {},
   "outputs": [],
   "source": [
    "df.loc[df.acceleration_x>4.5,'acceleration_x']=np.median(df.acceleration_x)"
   ]
  },
  {
   "cell_type": "code",
   "execution_count": 123,
   "id": "a0b3f804-d5ed-47fb-92d7-92dd28cea77c",
   "metadata": {
    "scrolled": true
   },
   "outputs": [
    {
     "data": {
      "text/html": [
       "<div>\n",
       "<style scoped>\n",
       "    .dataframe tbody tr th:only-of-type {\n",
       "        vertical-align: middle;\n",
       "    }\n",
       "\n",
       "    .dataframe tbody tr th {\n",
       "        vertical-align: top;\n",
       "    }\n",
       "\n",
       "    .dataframe thead th {\n",
       "        text-align: right;\n",
       "    }\n",
       "</style>\n",
       "<table border=\"1\" class=\"dataframe\">\n",
       "  <thead>\n",
       "    <tr style=\"text-align: right;\">\n",
       "      <th></th>\n",
       "      <th>date</th>\n",
       "      <th>time</th>\n",
       "      <th>username</th>\n",
       "      <th>wrist</th>\n",
       "      <th>activity</th>\n",
       "      <th>acceleration_x</th>\n",
       "      <th>acceleration_y</th>\n",
       "      <th>acceleration_z</th>\n",
       "      <th>gyro_x</th>\n",
       "      <th>gyro_y</th>\n",
       "      <th>gyro_z</th>\n",
       "    </tr>\n",
       "  </thead>\n",
       "  <tbody>\n",
       "  </tbody>\n",
       "</table>\n",
       "</div>"
      ],
      "text/plain": [
       "Empty DataFrame\n",
       "Columns: [date, time, username, wrist, activity, acceleration_x, acceleration_y, acceleration_z, gyro_x, gyro_y, gyro_z]\n",
       "Index: []"
      ]
     },
     "execution_count": 123,
     "metadata": {},
     "output_type": "execute_result"
    }
   ],
   "source": [
    "df.loc[df.acceleration_x>4.5]"
   ]
  },
  {
   "cell_type": "code",
   "execution_count": 124,
   "id": "3fe63b11-004a-4da2-9a04-1bbcbbae3d92",
   "metadata": {},
   "outputs": [
    {
     "data": {
      "text/plain": [
       "<Axes: xlabel='acceleration_x'>"
      ]
     },
     "execution_count": 124,
     "metadata": {},
     "output_type": "execute_result"
    },
    {
     "data": {
      "image/png": "[encoded data removed]",
      "text/plain": [
       "<Figure size 640x480 with 1 Axes>"
      ]
     },
     "metadata": {},
     "output_type": "display_data"
    }
   ],
   "source": [
    "sns.boxplot(x=df.acceleration_x)"
   ]
  },
  {
   "cell_type": "markdown",
   "id": "95c30b01-3177-4fed-9a72-5824b986e236",
   "metadata": {},
   "source": [
    "# acceleration_y"
   ]
  },
  {
   "cell_type": "code",
   "execution_count": 125,
   "id": "4226d496-e834-438c-aa0a-a914747e137a",
   "metadata": {
    "scrolled": true
   },
   "outputs": [
    {
     "data": {
      "text/html": [
       "<div>\n",
       "<style scoped>\n",
       "    .dataframe tbody tr th:only-of-type {\n",
       "        vertical-align: middle;\n",
       "    }\n",
       "\n",
       "    .dataframe tbody tr th {\n",
       "        vertical-align: top;\n",
       "    }\n",
       "\n",
       "    .dataframe thead th {\n",
       "        text-align: right;\n",
       "    }\n",
       "</style>\n",
       "<table border=\"1\" class=\"dataframe\">\n",
       "  <thead>\n",
       "    <tr style=\"text-align: right;\">\n",
       "      <th></th>\n",
       "      <th>date</th>\n",
       "      <th>time</th>\n",
       "      <th>username</th>\n",
       "      <th>wrist</th>\n",
       "      <th>activity</th>\n",
       "      <th>acceleration_x</th>\n",
       "      <th>acceleration_y</th>\n",
       "      <th>acceleration_z</th>\n",
       "      <th>gyro_x</th>\n",
       "      <th>gyro_y</th>\n",
       "      <th>gyro_z</th>\n",
       "    </tr>\n",
       "  </thead>\n",
       "  <tbody>\n",
       "    <tr>\n",
       "      <th>13247</th>\n",
       "      <td>2017-7-11</td>\n",
       "      <td>18:0:27:466082990</td>\n",
       "      <td>viktor</td>\n",
       "      <td>1</td>\n",
       "      <td>1</td>\n",
       "      <td>-4.0214</td>\n",
       "      <td>2.6077</td>\n",
       "      <td>-0.0979</td>\n",
       "      <td>1.9529</td>\n",
       "      <td>2.1503</td>\n",
       "      <td>5.2968</td>\n",
       "    </tr>\n",
       "    <tr>\n",
       "      <th>16957</th>\n",
       "      <td>2017-7-15</td>\n",
       "      <td>18:15:57:238979995</td>\n",
       "      <td>viktor</td>\n",
       "      <td>1</td>\n",
       "      <td>1</td>\n",
       "      <td>-3.9246</td>\n",
       "      <td>2.6680</td>\n",
       "      <td>0.9531</td>\n",
       "      <td>4.3962</td>\n",
       "      <td>0.3314</td>\n",
       "      <td>3.0782</td>\n",
       "    </tr>\n",
       "    <tr>\n",
       "      <th>50772</th>\n",
       "      <td>2017-7-17</td>\n",
       "      <td>20:11:31:86305975</td>\n",
       "      <td>viktor</td>\n",
       "      <td>1</td>\n",
       "      <td>1</td>\n",
       "      <td>-3.3178</td>\n",
       "      <td>2.5023</td>\n",
       "      <td>0.4613</td>\n",
       "      <td>3.5960</td>\n",
       "      <td>1.7834</td>\n",
       "      <td>1.7587</td>\n",
       "    </tr>\n",
       "    <tr>\n",
       "      <th>53789</th>\n",
       "      <td>2017-7-17</td>\n",
       "      <td>20:6:46:884745001</td>\n",
       "      <td>viktor</td>\n",
       "      <td>1</td>\n",
       "      <td>1</td>\n",
       "      <td>-2.4926</td>\n",
       "      <td>2.5646</td>\n",
       "      <td>-0.3890</td>\n",
       "      <td>1.8578</td>\n",
       "      <td>-3.2461</td>\n",
       "      <td>1.6484</td>\n",
       "    </tr>\n",
       "  </tbody>\n",
       "</table>\n",
       "</div>"
      ],
      "text/plain": [
       "            date                time username  wrist  activity  \\\n",
       "13247  2017-7-11   18:0:27:466082990   viktor      1         1   \n",
       "16957  2017-7-15  18:15:57:238979995   viktor      1         1   \n",
       "50772  2017-7-17   20:11:31:86305975   viktor      1         1   \n",
       "53789  2017-7-17   20:6:46:884745001   viktor      1         1   \n",
       "\n",
       "       acceleration_x  acceleration_y  acceleration_z  gyro_x  gyro_y  gyro_z  \n",
       "13247         -4.0214          2.6077         -0.0979  1.9529  2.1503  5.2968  \n",
       "16957         -3.9246          2.6680          0.9531  4.3962  0.3314  3.0782  \n",
       "50772         -3.3178          2.5023          0.4613  3.5960  1.7834  1.7587  \n",
       "53789         -2.4926          2.5646         -0.3890  1.8578 -3.2461  1.6484  "
      ]
     },
     "execution_count": 125,
     "metadata": {},
     "output_type": "execute_result"
    }
   ],
   "source": [
    "df.loc[df.acceleration_y>2.5] "
   ]
  },
  {
   "cell_type": "code",
   "execution_count": 126,
   "id": "6ec2fc11-0548-4853-b497-8b66dd4b989b",
   "metadata": {},
   "outputs": [
    {
     "data": {
      "text/plain": [
       "-0.7591"
      ]
     },
     "execution_count": 126,
     "metadata": {},
     "output_type": "execute_result"
    }
   ],
   "source": [
    "np.median(df.acceleration_y)"
   ]
  },
  {
   "cell_type": "code",
   "execution_count": 127,
   "id": "8839803d-4f75-4baa-930d-3fca5d62f363",
   "metadata": {},
   "outputs": [],
   "source": [
    "df.loc[df.acceleration_y>2.5,'acceleration_y'] =np.median(df.acceleration_y)"
   ]
  },
  {
   "cell_type": "code",
   "execution_count": 128,
   "id": "9bb2f2c4-1414-48ae-9d65-7e754351a4b7",
   "metadata": {},
   "outputs": [
    {
     "data": {
      "text/html": [
       "<div>\n",
       "<style scoped>\n",
       "    .dataframe tbody tr th:only-of-type {\n",
       "        vertical-align: middle;\n",
       "    }\n",
       "\n",
       "    .dataframe tbody tr th {\n",
       "        vertical-align: top;\n",
       "    }\n",
       "\n",
       "    .dataframe thead th {\n",
       "        text-align: right;\n",
       "    }\n",
       "</style>\n",
       "<table border=\"1\" class=\"dataframe\">\n",
       "  <thead>\n",
       "    <tr style=\"text-align: right;\">\n",
       "      <th></th>\n",
       "      <th>date</th>\n",
       "      <th>time</th>\n",
       "      <th>username</th>\n",
       "      <th>wrist</th>\n",
       "      <th>activity</th>\n",
       "      <th>acceleration_x</th>\n",
       "      <th>acceleration_y</th>\n",
       "      <th>acceleration_z</th>\n",
       "      <th>gyro_x</th>\n",
       "      <th>gyro_y</th>\n",
       "      <th>gyro_z</th>\n",
       "    </tr>\n",
       "  </thead>\n",
       "  <tbody>\n",
       "  </tbody>\n",
       "</table>\n",
       "</div>"
      ],
      "text/plain": [
       "Empty DataFrame\n",
       "Columns: [date, time, username, wrist, activity, acceleration_x, acceleration_y, acceleration_z, gyro_x, gyro_y, gyro_z]\n",
       "Index: []"
      ]
     },
     "execution_count": 128,
     "metadata": {},
     "output_type": "execute_result"
    }
   ],
   "source": [
    "df.loc[df.acceleration_y>2.5] "
   ]
  },
  {
   "cell_type": "code",
   "execution_count": 129,
   "id": "1832db11-9d3e-4f53-ae47-7181a16c39f0",
   "metadata": {},
   "outputs": [
    {
     "data": {
      "text/html": [
       "<div>\n",
       "<style scoped>\n",
       "    .dataframe tbody tr th:only-of-type {\n",
       "        vertical-align: middle;\n",
       "    }\n",
       "\n",
       "    .dataframe tbody tr th {\n",
       "        vertical-align: top;\n",
       "    }\n",
       "\n",
       "    .dataframe thead th {\n",
       "        text-align: right;\n",
       "    }\n",
       "</style>\n",
       "<table border=\"1\" class=\"dataframe\">\n",
       "  <thead>\n",
       "    <tr style=\"text-align: right;\">\n",
       "      <th></th>\n",
       "      <th>date</th>\n",
       "      <th>time</th>\n",
       "      <th>username</th>\n",
       "      <th>wrist</th>\n",
       "      <th>activity</th>\n",
       "      <th>acceleration_x</th>\n",
       "      <th>acceleration_y</th>\n",
       "      <th>acceleration_z</th>\n",
       "      <th>gyro_x</th>\n",
       "      <th>gyro_y</th>\n",
       "      <th>gyro_z</th>\n",
       "    </tr>\n",
       "  </thead>\n",
       "  <tbody>\n",
       "    <tr>\n",
       "      <th>10216</th>\n",
       "      <td>2017-7-11</td>\n",
       "      <td>17:49:58:745341002</td>\n",
       "      <td>viktor</td>\n",
       "      <td>1</td>\n",
       "      <td>1</td>\n",
       "      <td>-2.2993</td>\n",
       "      <td>-3.299</td>\n",
       "      <td>-0.0016</td>\n",
       "      <td>-1.0608</td>\n",
       "      <td>-1.2019</td>\n",
       "      <td>-0.0761</td>\n",
       "    </tr>\n",
       "  </tbody>\n",
       "</table>\n",
       "</div>"
      ],
      "text/plain": [
       "            date                time username  wrist  activity  \\\n",
       "10216  2017-7-11  17:49:58:745341002   viktor      1         1   \n",
       "\n",
       "       acceleration_x  acceleration_y  acceleration_z  gyro_x  gyro_y  gyro_z  \n",
       "10216         -2.2993          -3.299         -0.0016 -1.0608 -1.2019 -0.0761  "
      ]
     },
     "execution_count": 129,
     "metadata": {},
     "output_type": "execute_result"
    }
   ],
   "source": [
    "df.loc[df.acceleration_y<-3] "
   ]
  },
  {
   "cell_type": "code",
   "execution_count": 130,
   "id": "1a8fe9f1-f868-4f2c-9b8f-430d501b2b97",
   "metadata": {},
   "outputs": [],
   "source": [
    "df.loc[df.acceleration_y<-3,'acceleration_y']=np.median(df.acceleration_y) "
   ]
  },
  {
   "cell_type": "code",
   "execution_count": 131,
   "id": "0cda6730-f8d7-49ac-92f8-8192234ee8ec",
   "metadata": {},
   "outputs": [
    {
     "data": {
      "text/plain": [
       "<Axes: xlabel='acceleration_y'>"
      ]
     },
     "execution_count": 131,
     "metadata": {},
     "output_type": "execute_result"
    },
    {
     "data": {
      "image/png": "[encoded data removed]",
      "text/plain": [
       "<Figure size 640x480 with 1 Axes>"
      ]
     },
     "metadata": {},
     "output_type": "display_data"
    }
   ],
   "source": [
    "sns.boxplot(x=df.acceleration_y)"
   ]
  },
  {
   "cell_type": "markdown",
   "id": "19492350-cd13-44e2-a07a-93f0fba52cd8",
   "metadata": {},
   "source": [
    "## acceleration_z"
   ]
  },
  {
   "cell_type": "code",
   "execution_count": 132,
   "id": "7f2cd699-d481-4bbd-a9e5-ec65956a8478",
   "metadata": {},
   "outputs": [
    {
     "data": {
      "text/html": [
       "<div>\n",
       "<style scoped>\n",
       "    .dataframe tbody tr th:only-of-type {\n",
       "        vertical-align: middle;\n",
       "    }\n",
       "\n",
       "    .dataframe tbody tr th {\n",
       "        vertical-align: top;\n",
       "    }\n",
       "\n",
       "    .dataframe thead th {\n",
       "        text-align: right;\n",
       "    }\n",
       "</style>\n",
       "<table border=\"1\" class=\"dataframe\">\n",
       "  <thead>\n",
       "    <tr style=\"text-align: right;\">\n",
       "      <th></th>\n",
       "      <th>date</th>\n",
       "      <th>time</th>\n",
       "      <th>username</th>\n",
       "      <th>wrist</th>\n",
       "      <th>activity</th>\n",
       "      <th>acceleration_x</th>\n",
       "      <th>acceleration_y</th>\n",
       "      <th>acceleration_z</th>\n",
       "      <th>gyro_x</th>\n",
       "      <th>gyro_y</th>\n",
       "      <th>gyro_z</th>\n",
       "    </tr>\n",
       "  </thead>\n",
       "  <tbody>\n",
       "    <tr>\n",
       "      <th>10214</th>\n",
       "      <td>2017-7-11</td>\n",
       "      <td>17:49:58:345283985</td>\n",
       "      <td>viktor</td>\n",
       "      <td>1</td>\n",
       "      <td>1</td>\n",
       "      <td>-1.8703</td>\n",
       "      <td>-2.2693</td>\n",
       "      <td>1.6403</td>\n",
       "      <td>0.6478</td>\n",
       "      <td>0.4910</td>\n",
       "      <td>-0.9244</td>\n",
       "    </tr>\n",
       "    <tr>\n",
       "      <th>16991</th>\n",
       "      <td>2017-7-15</td>\n",
       "      <td>18:16:14:236518025</td>\n",
       "      <td>viktor</td>\n",
       "      <td>1</td>\n",
       "      <td>1</td>\n",
       "      <td>-3.3913</td>\n",
       "      <td>0.3715</td>\n",
       "      <td>1.4793</td>\n",
       "      <td>3.6414</td>\n",
       "      <td>-5.3915</td>\n",
       "      <td>1.9396</td>\n",
       "    </tr>\n",
       "    <tr>\n",
       "      <th>22951</th>\n",
       "      <td>2017-7-15</td>\n",
       "      <td>18:10:0:635991990</td>\n",
       "      <td>viktor</td>\n",
       "      <td>1</td>\n",
       "      <td>1</td>\n",
       "      <td>-2.8685</td>\n",
       "      <td>0.3254</td>\n",
       "      <td>1.5579</td>\n",
       "      <td>3.2452</td>\n",
       "      <td>4.0601</td>\n",
       "      <td>1.2455</td>\n",
       "    </tr>\n",
       "  </tbody>\n",
       "</table>\n",
       "</div>"
      ],
      "text/plain": [
       "            date                time username  wrist  activity  \\\n",
       "10214  2017-7-11  17:49:58:345283985   viktor      1         1   \n",
       "16991  2017-7-15  18:16:14:236518025   viktor      1         1   \n",
       "22951  2017-7-15   18:10:0:635991990   viktor      1         1   \n",
       "\n",
       "       acceleration_x  acceleration_y  acceleration_z  gyro_x  gyro_y  gyro_z  \n",
       "10214         -1.8703         -2.2693          1.6403  0.6478  0.4910 -0.9244  \n",
       "16991         -3.3913          0.3715          1.4793  3.6414 -5.3915  1.9396  \n",
       "22951         -2.8685          0.3254          1.5579  3.2452  4.0601  1.2455  "
      ]
     },
     "execution_count": 132,
     "metadata": {},
     "output_type": "execute_result"
    }
   ],
   "source": [
    "df.loc[df.acceleration_z>1.4]"
   ]
  },
  {
   "cell_type": "code",
   "execution_count": 133,
   "id": "0e789529-7aa7-4344-9356-c6689b4853cb",
   "metadata": {},
   "outputs": [
    {
     "data": {
      "text/html": [
       "<div>\n",
       "<style scoped>\n",
       "    .dataframe tbody tr th:only-of-type {\n",
       "        vertical-align: middle;\n",
       "    }\n",
       "\n",
       "    .dataframe tbody tr th {\n",
       "        vertical-align: top;\n",
       "    }\n",
       "\n",
       "    .dataframe thead th {\n",
       "        text-align: right;\n",
       "    }\n",
       "</style>\n",
       "<table border=\"1\" class=\"dataframe\">\n",
       "  <thead>\n",
       "    <tr style=\"text-align: right;\">\n",
       "      <th></th>\n",
       "      <th>date</th>\n",
       "      <th>time</th>\n",
       "      <th>username</th>\n",
       "      <th>wrist</th>\n",
       "      <th>activity</th>\n",
       "      <th>acceleration_x</th>\n",
       "      <th>acceleration_y</th>\n",
       "      <th>acceleration_z</th>\n",
       "      <th>gyro_x</th>\n",
       "      <th>gyro_y</th>\n",
       "      <th>gyro_z</th>\n",
       "    </tr>\n",
       "  </thead>\n",
       "  <tbody>\n",
       "    <tr>\n",
       "      <th>65341</th>\n",
       "      <td>2017-7-4</td>\n",
       "      <td>19:42:35:947318971</td>\n",
       "      <td>viktor</td>\n",
       "      <td>0</td>\n",
       "      <td>1</td>\n",
       "      <td>2.2468</td>\n",
       "      <td>-1.5523</td>\n",
       "      <td>-3.1565</td>\n",
       "      <td>-0.8482</td>\n",
       "      <td>-2.2246</td>\n",
       "      <td>-2.6764</td>\n",
       "    </tr>\n",
       "    <tr>\n",
       "      <th>65583</th>\n",
       "      <td>2017-7-4</td>\n",
       "      <td>19:43:59:744345009</td>\n",
       "      <td>viktor</td>\n",
       "      <td>0</td>\n",
       "      <td>1</td>\n",
       "      <td>1.9407</td>\n",
       "      <td>-1.4691</td>\n",
       "      <td>-3.2869</td>\n",
       "      <td>1.8213</td>\n",
       "      <td>0.4633</td>\n",
       "      <td>4.5484</td>\n",
       "    </tr>\n",
       "    <tr>\n",
       "      <th>65644</th>\n",
       "      <td>2017-7-4</td>\n",
       "      <td>19:44:19:62515974</td>\n",
       "      <td>viktor</td>\n",
       "      <td>0</td>\n",
       "      <td>1</td>\n",
       "      <td>1.7755</td>\n",
       "      <td>-1.8382</td>\n",
       "      <td>-3.1511</td>\n",
       "      <td>1.4920</td>\n",
       "      <td>3.5038</td>\n",
       "      <td>3.2123</td>\n",
       "    </tr>\n",
       "    <tr>\n",
       "      <th>65650</th>\n",
       "      <td>2017-7-4</td>\n",
       "      <td>19:44:20:262511014</td>\n",
       "      <td>viktor</td>\n",
       "      <td>0</td>\n",
       "      <td>1</td>\n",
       "      <td>2.7332</td>\n",
       "      <td>-1.1192</td>\n",
       "      <td>-3.7538</td>\n",
       "      <td>-2.1515</td>\n",
       "      <td>-0.3647</td>\n",
       "      <td>-2.4124</td>\n",
       "    </tr>\n",
       "    <tr>\n",
       "      <th>65677</th>\n",
       "      <td>2017-7-4</td>\n",
       "      <td>19:44:31:863961994</td>\n",
       "      <td>viktor</td>\n",
       "      <td>0</td>\n",
       "      <td>1</td>\n",
       "      <td>2.2620</td>\n",
       "      <td>-0.5299</td>\n",
       "      <td>-3.0610</td>\n",
       "      <td>-1.5049</td>\n",
       "      <td>-0.3771</td>\n",
       "      <td>-3.0382</td>\n",
       "    </tr>\n",
       "    <tr>\n",
       "      <th>65723</th>\n",
       "      <td>2017-7-4</td>\n",
       "      <td>19:44:41:63968002</td>\n",
       "      <td>viktor</td>\n",
       "      <td>0</td>\n",
       "      <td>1</td>\n",
       "      <td>2.6707</td>\n",
       "      <td>-0.0652</td>\n",
       "      <td>-3.3174</td>\n",
       "      <td>0.6828</td>\n",
       "      <td>-0.5049</td>\n",
       "      <td>-4.0308</td>\n",
       "    </tr>\n",
       "    <tr>\n",
       "      <th>65729</th>\n",
       "      <td>2017-7-4</td>\n",
       "      <td>19:44:42:264015018</td>\n",
       "      <td>viktor</td>\n",
       "      <td>0</td>\n",
       "      <td>1</td>\n",
       "      <td>1.8672</td>\n",
       "      <td>-1.0768</td>\n",
       "      <td>-3.2317</td>\n",
       "      <td>1.4574</td>\n",
       "      <td>-0.7688</td>\n",
       "      <td>2.9692</td>\n",
       "    </tr>\n",
       "    <tr>\n",
       "      <th>65738</th>\n",
       "      <td>2017-7-4</td>\n",
       "      <td>19:45:17:412850022</td>\n",
       "      <td>viktor</td>\n",
       "      <td>0</td>\n",
       "      <td>1</td>\n",
       "      <td>2.3979</td>\n",
       "      <td>-2.1205</td>\n",
       "      <td>-3.1262</td>\n",
       "      <td>2.9746</td>\n",
       "      <td>0.9984</td>\n",
       "      <td>3.4222</td>\n",
       "    </tr>\n",
       "    <tr>\n",
       "      <th>65740</th>\n",
       "      <td>2017-7-4</td>\n",
       "      <td>19:45:17:812012970</td>\n",
       "      <td>viktor</td>\n",
       "      <td>0</td>\n",
       "      <td>1</td>\n",
       "      <td>2.6707</td>\n",
       "      <td>-0.2812</td>\n",
       "      <td>-3.0256</td>\n",
       "      <td>-0.6742</td>\n",
       "      <td>-2.0233</td>\n",
       "      <td>-1.6760</td>\n",
       "    </tr>\n",
       "    <tr>\n",
       "      <th>65744</th>\n",
       "      <td>2017-7-4</td>\n",
       "      <td>19:45:18:612944006</td>\n",
       "      <td>viktor</td>\n",
       "      <td>0</td>\n",
       "      <td>1</td>\n",
       "      <td>2.2126</td>\n",
       "      <td>-0.1177</td>\n",
       "      <td>-3.0059</td>\n",
       "      <td>-0.7623</td>\n",
       "      <td>-0.8527</td>\n",
       "      <td>-3.7688</td>\n",
       "    </tr>\n",
       "    <tr>\n",
       "      <th>65779</th>\n",
       "      <td>2017-7-4</td>\n",
       "      <td>19:45:25:613206982</td>\n",
       "      <td>viktor</td>\n",
       "      <td>0</td>\n",
       "      <td>1</td>\n",
       "      <td>2.8083</td>\n",
       "      <td>-1.4572</td>\n",
       "      <td>-3.0337</td>\n",
       "      <td>-0.8449</td>\n",
       "      <td>-1.2005</td>\n",
       "      <td>-2.3373</td>\n",
       "    </tr>\n",
       "    <tr>\n",
       "      <th>87606</th>\n",
       "      <td>2017-7-9</td>\n",
       "      <td>20:6:25:516762018</td>\n",
       "      <td>viktor</td>\n",
       "      <td>0</td>\n",
       "      <td>1</td>\n",
       "      <td>3.6132</td>\n",
       "      <td>0.3188</td>\n",
       "      <td>-3.1943</td>\n",
       "      <td>-0.9638</td>\n",
       "      <td>-2.8208</td>\n",
       "      <td>-5.0042</td>\n",
       "    </tr>\n",
       "  </tbody>\n",
       "</table>\n",
       "</div>"
      ],
      "text/plain": [
       "           date                time username  wrist  activity  acceleration_x  \\\n",
       "65341  2017-7-4  19:42:35:947318971   viktor      0         1          2.2468   \n",
       "65583  2017-7-4  19:43:59:744345009   viktor      0         1          1.9407   \n",
       "65644  2017-7-4   19:44:19:62515974   viktor      0         1          1.7755   \n",
       "65650  2017-7-4  19:44:20:262511014   viktor      0         1          2.7332   \n",
       "65677  2017-7-4  19:44:31:863961994   viktor      0         1          2.2620   \n",
       "65723  2017-7-4   19:44:41:63968002   viktor      0         1          2.6707   \n",
       "65729  2017-7-4  19:44:42:264015018   viktor      0         1          1.8672   \n",
       "65738  2017-7-4  19:45:17:412850022   viktor      0         1          2.3979   \n",
       "65740  2017-7-4  19:45:17:812012970   viktor      0         1          2.6707   \n",
       "65744  2017-7-4  19:45:18:612944006   viktor      0         1          2.2126   \n",
       "65779  2017-7-4  19:45:25:613206982   viktor      0         1          2.8083   \n",
       "87606  2017-7-9   20:6:25:516762018   viktor      0         1          3.6132   \n",
       "\n",
       "       acceleration_y  acceleration_z  gyro_x  gyro_y  gyro_z  \n",
       "65341         -1.5523         -3.1565 -0.8482 -2.2246 -2.6764  \n",
       "65583         -1.4691         -3.2869  1.8213  0.4633  4.5484  \n",
       "65644         -1.8382         -3.1511  1.4920  3.5038  3.2123  \n",
       "65650         -1.1192         -3.7538 -2.1515 -0.3647 -2.4124  \n",
       "65677         -0.5299         -3.0610 -1.5049 -0.3771 -3.0382  \n",
       "65723         -0.0652         -3.3174  0.6828 -0.5049 -4.0308  \n",
       "65729         -1.0768         -3.2317  1.4574 -0.7688  2.9692  \n",
       "65738         -2.1205         -3.1262  2.9746  0.9984  3.4222  \n",
       "65740         -0.2812         -3.0256 -0.6742 -2.0233 -1.6760  \n",
       "65744         -0.1177         -3.0059 -0.7623 -0.8527 -3.7688  \n",
       "65779         -1.4572         -3.0337 -0.8449 -1.2005 -2.3373  \n",
       "87606          0.3188         -3.1943 -0.9638 -2.8208 -5.0042  "
      ]
     },
     "execution_count": 133,
     "metadata": {},
     "output_type": "execute_result"
    }
   ],
   "source": [
    "df.loc[df.acceleration_z<-3]"
   ]
  },
  {
   "cell_type": "code",
   "execution_count": 134,
   "id": "caa2fea3-379e-4c6a-b9f4-057fb89b0366",
   "metadata": {},
   "outputs": [
    {
     "data": {
      "text/plain": [
       "-0.221"
      ]
     },
     "execution_count": 134,
     "metadata": {},
     "output_type": "execute_result"
    }
   ],
   "source": [
    "np.median(df.acceleration_z)"
   ]
  },
  {
   "cell_type": "code",
   "execution_count": 135,
   "id": "1583fe5d-37ce-4195-9251-a89f6e3e48ab",
   "metadata": {},
   "outputs": [],
   "source": [
    "df.loc[df.acceleration_z>1.4,'acceleration_z']=np.median(df.acceleration_z)"
   ]
  },
  {
   "cell_type": "code",
   "execution_count": 136,
   "id": "9d74321c-86b1-4c6c-a198-8aac3c146b0f",
   "metadata": {},
   "outputs": [],
   "source": [
    "df.loc[df.acceleration_z<-3,'acceleration_z']=np.median(df.acceleration_z)"
   ]
  },
  {
   "cell_type": "code",
   "execution_count": 137,
   "id": "bd51208a-d916-49e0-a15e-3e83b293fb38",
   "metadata": {},
   "outputs": [
    {
     "data": {
      "text/plain": [
       "<Axes: xlabel='acceleration_z'>"
      ]
     },
     "execution_count": 137,
     "metadata": {},
     "output_type": "execute_result"
    },
    {
     "data": {
      "image/png": "[encoded data removed]",
      "text/plain": [
       "<Figure size 640x480 with 1 Axes>"
      ]
     },
     "metadata": {},
     "output_type": "display_data"
    }
   ],
   "source": [
    "sns.boxplot(x=df.acceleration_z)"
   ]
  },
  {
   "cell_type": "markdown",
   "id": "c171ab14-2264-45f0-b589-03cc842f9d08",
   "metadata": {},
   "source": [
    "## gyro_x"
   ]
  },
  {
   "cell_type": "code",
   "execution_count": 138,
   "id": "0ff4e404-0652-4f4b-88a3-93a10e66a49a",
   "metadata": {},
   "outputs": [
    {
     "data": {
      "text/html": [
       "<div>\n",
       "<style scoped>\n",
       "    .dataframe tbody tr th:only-of-type {\n",
       "        vertical-align: middle;\n",
       "    }\n",
       "\n",
       "    .dataframe tbody tr th {\n",
       "        vertical-align: top;\n",
       "    }\n",
       "\n",
       "    .dataframe thead th {\n",
       "        text-align: right;\n",
       "    }\n",
       "</style>\n",
       "<table border=\"1\" class=\"dataframe\">\n",
       "  <thead>\n",
       "    <tr style=\"text-align: right;\">\n",
       "      <th></th>\n",
       "      <th>date</th>\n",
       "      <th>time</th>\n",
       "      <th>username</th>\n",
       "      <th>wrist</th>\n",
       "      <th>activity</th>\n",
       "      <th>acceleration_x</th>\n",
       "      <th>acceleration_y</th>\n",
       "      <th>acceleration_z</th>\n",
       "      <th>gyro_x</th>\n",
       "      <th>gyro_y</th>\n",
       "      <th>gyro_z</th>\n",
       "    </tr>\n",
       "  </thead>\n",
       "  <tbody>\n",
       "    <tr>\n",
       "      <th>16514</th>\n",
       "      <td>2017-7-15</td>\n",
       "      <td>18:14:6:838312983</td>\n",
       "      <td>viktor</td>\n",
       "      <td>1</td>\n",
       "      <td>1</td>\n",
       "      <td>-2.9780</td>\n",
       "      <td>-0.3384</td>\n",
       "      <td>0.4266</td>\n",
       "      <td>4.7143</td>\n",
       "      <td>-0.1152</td>\n",
       "      <td>2.1425</td>\n",
       "    </tr>\n",
       "    <tr>\n",
       "      <th>50227</th>\n",
       "      <td>2017-7-17</td>\n",
       "      <td>20:0:39:885653018</td>\n",
       "      <td>viktor</td>\n",
       "      <td>1</td>\n",
       "      <td>1</td>\n",
       "      <td>-3.3781</td>\n",
       "      <td>0.5337</td>\n",
       "      <td>0.3598</td>\n",
       "      <td>4.8742</td>\n",
       "      <td>-1.1503</td>\n",
       "      <td>3.6753</td>\n",
       "    </tr>\n",
       "    <tr>\n",
       "      <th>81715</th>\n",
       "      <td>2017-7-9</td>\n",
       "      <td>19:44:51:4975974</td>\n",
       "      <td>viktor</td>\n",
       "      <td>0</td>\n",
       "      <td>1</td>\n",
       "      <td>-2.1931</td>\n",
       "      <td>1.8160</td>\n",
       "      <td>-0.6282</td>\n",
       "      <td>4.7617</td>\n",
       "      <td>-5.1590</td>\n",
       "      <td>6.3087</td>\n",
       "    </tr>\n",
       "  </tbody>\n",
       "</table>\n",
       "</div>"
      ],
      "text/plain": [
       "            date               time username  wrist  activity  acceleration_x  \\\n",
       "16514  2017-7-15  18:14:6:838312983   viktor      1         1         -2.9780   \n",
       "50227  2017-7-17  20:0:39:885653018   viktor      1         1         -3.3781   \n",
       "81715   2017-7-9   19:44:51:4975974   viktor      0         1         -2.1931   \n",
       "\n",
       "       acceleration_y  acceleration_z  gyro_x  gyro_y  gyro_z  \n",
       "16514         -0.3384          0.4266  4.7143 -0.1152  2.1425  \n",
       "50227          0.5337          0.3598  4.8742 -1.1503  3.6753  \n",
       "81715          1.8160         -0.6282  4.7617 -5.1590  6.3087  "
      ]
     },
     "execution_count": 138,
     "metadata": {},
     "output_type": "execute_result"
    }
   ],
   "source": [
    "df.loc[df.gyro_x>4.7]"
   ]
  },
  {
   "cell_type": "code",
   "execution_count": 139,
   "id": "1ffc3581-f045-482a-bb83-d163c7bf2efc",
   "metadata": {},
   "outputs": [
    {
     "data": {
      "text/html": [
       "<div>\n",
       "<style scoped>\n",
       "    .dataframe tbody tr th:only-of-type {\n",
       "        vertical-align: middle;\n",
       "    }\n",
       "\n",
       "    .dataframe tbody tr th {\n",
       "        vertical-align: top;\n",
       "    }\n",
       "\n",
       "    .dataframe thead th {\n",
       "        text-align: right;\n",
       "    }\n",
       "</style>\n",
       "<table border=\"1\" class=\"dataframe\">\n",
       "  <thead>\n",
       "    <tr style=\"text-align: right;\">\n",
       "      <th></th>\n",
       "      <th>date</th>\n",
       "      <th>time</th>\n",
       "      <th>username</th>\n",
       "      <th>wrist</th>\n",
       "      <th>activity</th>\n",
       "      <th>acceleration_x</th>\n",
       "      <th>acceleration_y</th>\n",
       "      <th>acceleration_z</th>\n",
       "      <th>gyro_x</th>\n",
       "      <th>gyro_y</th>\n",
       "      <th>gyro_z</th>\n",
       "    </tr>\n",
       "  </thead>\n",
       "  <tbody>\n",
       "  </tbody>\n",
       "</table>\n",
       "</div>"
      ],
      "text/plain": [
       "Empty DataFrame\n",
       "Columns: [date, time, username, wrist, activity, acceleration_x, acceleration_y, acceleration_z, gyro_x, gyro_y, gyro_z]\n",
       "Index: []"
      ]
     },
     "execution_count": 139,
     "metadata": {},
     "output_type": "execute_result"
    }
   ],
   "source": [
    "df.loc[df.gyro_x<-4.5]"
   ]
  },
  {
   "cell_type": "code",
   "execution_count": 140,
   "id": "5c125ec5-ac94-4c0c-9721-6a37c27dce8c",
   "metadata": {},
   "outputs": [
    {
     "data": {
      "text/plain": [
       "0.0187"
      ]
     },
     "execution_count": 140,
     "metadata": {},
     "output_type": "execute_result"
    }
   ],
   "source": [
    "np.median(df.gyro_x)"
   ]
  },
  {
   "cell_type": "code",
   "execution_count": 141,
   "id": "ef8ba859-71d7-477b-b30a-bc60601e4cf0",
   "metadata": {},
   "outputs": [],
   "source": [
    "df.loc[df.gyro_x>4.7,'gyro_x']=np.median(df.gyro_x)"
   ]
  },
  {
   "cell_type": "code",
   "execution_count": 142,
   "id": "c17e9713-9ad5-409b-84e5-422cfc53daf0",
   "metadata": {},
   "outputs": [
    {
     "data": {
      "text/plain": [
       "<Axes: xlabel='gyro_x'>"
      ]
     },
     "execution_count": 142,
     "metadata": {},
     "output_type": "execute_result"
    },
    {
     "data": {
      "image/png": "[encoded data removed]",
      "text/plain": [
       "<Figure size 640x480 with 1 Axes>"
      ]
     },
     "metadata": {},
     "output_type": "display_data"
    }
   ],
   "source": [
    "sns.boxplot(x=df.gyro_x)"
   ]
  },
  {
   "cell_type": "markdown",
   "id": "2fefa424-76f0-4325-853e-23dfc8d87580",
   "metadata": {},
   "source": [
    "## gyro_y"
   ]
  },
  {
   "cell_type": "code",
   "execution_count": 143,
   "id": "43581bfb-fdc1-4bb5-b264-97c257ae2dff",
   "metadata": {},
   "outputs": [
    {
     "data": {
      "text/html": [
       "<div>\n",
       "<style scoped>\n",
       "    .dataframe tbody tr th:only-of-type {\n",
       "        vertical-align: middle;\n",
       "    }\n",
       "\n",
       "    .dataframe tbody tr th {\n",
       "        vertical-align: top;\n",
       "    }\n",
       "\n",
       "    .dataframe thead th {\n",
       "        text-align: right;\n",
       "    }\n",
       "</style>\n",
       "<table border=\"1\" class=\"dataframe\">\n",
       "  <thead>\n",
       "    <tr style=\"text-align: right;\">\n",
       "      <th></th>\n",
       "      <th>date</th>\n",
       "      <th>time</th>\n",
       "      <th>username</th>\n",
       "      <th>wrist</th>\n",
       "      <th>activity</th>\n",
       "      <th>acceleration_x</th>\n",
       "      <th>acceleration_y</th>\n",
       "      <th>acceleration_z</th>\n",
       "      <th>gyro_x</th>\n",
       "      <th>gyro_y</th>\n",
       "      <th>gyro_z</th>\n",
       "    </tr>\n",
       "  </thead>\n",
       "  <tbody>\n",
       "    <tr>\n",
       "      <th>50565</th>\n",
       "      <td>2017-7-17</td>\n",
       "      <td>20:10:48:883203983</td>\n",
       "      <td>viktor</td>\n",
       "      <td>1</td>\n",
       "      <td>1</td>\n",
       "      <td>-1.6804</td>\n",
       "      <td>-0.5104</td>\n",
       "      <td>-0.0896</td>\n",
       "      <td>2.6969</td>\n",
       "      <td>8.498</td>\n",
       "      <td>0.3771</td>\n",
       "    </tr>\n",
       "  </tbody>\n",
       "</table>\n",
       "</div>"
      ],
      "text/plain": [
       "            date                time username  wrist  activity  \\\n",
       "50565  2017-7-17  20:10:48:883203983   viktor      1         1   \n",
       "\n",
       "       acceleration_x  acceleration_y  acceleration_z  gyro_x  gyro_y  gyro_z  \n",
       "50565         -1.6804         -0.5104         -0.0896  2.6969   8.498  0.3771  "
      ]
     },
     "execution_count": 143,
     "metadata": {},
     "output_type": "execute_result"
    }
   ],
   "source": [
    "df.loc[df.gyro_y>7.6]"
   ]
  },
  {
   "cell_type": "code",
   "execution_count": 144,
   "id": "8a49eb18-8907-4875-9265-3ac2dc346997",
   "metadata": {},
   "outputs": [
    {
     "data": {
      "text/html": [
       "<div>\n",
       "<style scoped>\n",
       "    .dataframe tbody tr th:only-of-type {\n",
       "        vertical-align: middle;\n",
       "    }\n",
       "\n",
       "    .dataframe tbody tr th {\n",
       "        vertical-align: top;\n",
       "    }\n",
       "\n",
       "    .dataframe thead th {\n",
       "        text-align: right;\n",
       "    }\n",
       "</style>\n",
       "<table border=\"1\" class=\"dataframe\">\n",
       "  <thead>\n",
       "    <tr style=\"text-align: right;\">\n",
       "      <th></th>\n",
       "      <th>date</th>\n",
       "      <th>time</th>\n",
       "      <th>username</th>\n",
       "      <th>wrist</th>\n",
       "      <th>activity</th>\n",
       "      <th>acceleration_x</th>\n",
       "      <th>acceleration_y</th>\n",
       "      <th>acceleration_z</th>\n",
       "      <th>gyro_x</th>\n",
       "      <th>gyro_y</th>\n",
       "      <th>gyro_z</th>\n",
       "    </tr>\n",
       "  </thead>\n",
       "  <tbody>\n",
       "    <tr>\n",
       "      <th>13548</th>\n",
       "      <td>2017-7-11</td>\n",
       "      <td>18:1:28:865957975</td>\n",
       "      <td>viktor</td>\n",
       "      <td>1</td>\n",
       "      <td>1</td>\n",
       "      <td>-3.6288</td>\n",
       "      <td>-0.4976</td>\n",
       "      <td>-0.0995</td>\n",
       "      <td>-3.7646</td>\n",
       "      <td>-6.9557</td>\n",
       "      <td>-1.7011</td>\n",
       "    </tr>\n",
       "    <tr>\n",
       "      <th>16059</th>\n",
       "      <td>2017-7-15</td>\n",
       "      <td>18:12:54:37804007</td>\n",
       "      <td>viktor</td>\n",
       "      <td>1</td>\n",
       "      <td>1</td>\n",
       "      <td>0.3054</td>\n",
       "      <td>0.2845</td>\n",
       "      <td>0.1541</td>\n",
       "      <td>2.7971</td>\n",
       "      <td>-6.6781</td>\n",
       "      <td>3.2144</td>\n",
       "    </tr>\n",
       "    <tr>\n",
       "      <th>19043</th>\n",
       "      <td>2017-7-15</td>\n",
       "      <td>18:23:34:321889996</td>\n",
       "      <td>viktor</td>\n",
       "      <td>1</td>\n",
       "      <td>1</td>\n",
       "      <td>-0.9981</td>\n",
       "      <td>-0.5816</td>\n",
       "      <td>-0.4845</td>\n",
       "      <td>-2.7116</td>\n",
       "      <td>-6.6332</td>\n",
       "      <td>-6.6676</td>\n",
       "    </tr>\n",
       "    <tr>\n",
       "      <th>47646</th>\n",
       "      <td>2017-7-17</td>\n",
       "      <td>16:6:0:953980982</td>\n",
       "      <td>viktor</td>\n",
       "      <td>0</td>\n",
       "      <td>0</td>\n",
       "      <td>0.8632</td>\n",
       "      <td>-1.1037</td>\n",
       "      <td>0.0037</td>\n",
       "      <td>-0.9582</td>\n",
       "      <td>-6.6959</td>\n",
       "      <td>-4.1244</td>\n",
       "    </tr>\n",
       "    <tr>\n",
       "      <th>52530</th>\n",
       "      <td>2017-7-17</td>\n",
       "      <td>20:2:29:882893025</td>\n",
       "      <td>viktor</td>\n",
       "      <td>1</td>\n",
       "      <td>1</td>\n",
       "      <td>-0.5693</td>\n",
       "      <td>0.2547</td>\n",
       "      <td>0.2425</td>\n",
       "      <td>1.1462</td>\n",
       "      <td>-7.4647</td>\n",
       "      <td>1.5915</td>\n",
       "    </tr>\n",
       "  </tbody>\n",
       "</table>\n",
       "</div>"
      ],
      "text/plain": [
       "            date                time username  wrist  activity  \\\n",
       "13548  2017-7-11   18:1:28:865957975   viktor      1         1   \n",
       "16059  2017-7-15   18:12:54:37804007   viktor      1         1   \n",
       "19043  2017-7-15  18:23:34:321889996   viktor      1         1   \n",
       "47646  2017-7-17    16:6:0:953980982   viktor      0         0   \n",
       "52530  2017-7-17   20:2:29:882893025   viktor      1         1   \n",
       "\n",
       "       acceleration_x  acceleration_y  acceleration_z  gyro_x  gyro_y  gyro_z  \n",
       "13548         -3.6288         -0.4976         -0.0995 -3.7646 -6.9557 -1.7011  \n",
       "16059          0.3054          0.2845          0.1541  2.7971 -6.6781  3.2144  \n",
       "19043         -0.9981         -0.5816         -0.4845 -2.7116 -6.6332 -6.6676  \n",
       "47646          0.8632         -1.1037          0.0037 -0.9582 -6.6959 -4.1244  \n",
       "52530         -0.5693          0.2547          0.2425  1.1462 -7.4647  1.5915  "
      ]
     },
     "execution_count": 144,
     "metadata": {},
     "output_type": "execute_result"
    }
   ],
   "source": [
    "df.loc[df.gyro_y<-6.6]"
   ]
  },
  {
   "cell_type": "code",
   "execution_count": 145,
   "id": "154c9475-063f-448d-a77a-3e7ba22add97",
   "metadata": {},
   "outputs": [
    {
     "data": {
      "text/plain": [
       "0.0393"
      ]
     },
     "execution_count": 145,
     "metadata": {},
     "output_type": "execute_result"
    }
   ],
   "source": [
    "np.median(df.gyro_y)"
   ]
  },
  {
   "cell_type": "code",
   "execution_count": 146,
   "id": "ae1ed61b-f77e-49fd-8dff-cd48feb8a9e9",
   "metadata": {},
   "outputs": [],
   "source": [
    "df.loc[df.gyro_y<-6.6 ,'gyro_y']=np.median(df.gyro_y)"
   ]
  },
  {
   "cell_type": "code",
   "execution_count": 147,
   "id": "316ad152-866f-4da9-a7c8-3fa9332c846b",
   "metadata": {},
   "outputs": [],
   "source": [
    "df.loc[df.gyro_y>7.6 ,'gyro_y']=np.median(df.gyro_y)"
   ]
  },
  {
   "cell_type": "code",
   "execution_count": 148,
   "id": "cf2aecfa-2bc3-418e-8e48-875bf96c0f91",
   "metadata": {},
   "outputs": [
    {
     "data": {
      "text/plain": [
       "<Axes: xlabel='gyro_y'>"
      ]
     },
     "execution_count": 148,
     "metadata": {},
     "output_type": "execute_result"
    },
    {
     "data": {
      "image/png": "[encoded data removed]",
      "text/plain": [
       "<Figure size 640x480 with 1 Axes>"
      ]
     },
     "metadata": {},
     "output_type": "display_data"
    }
   ],
   "source": [
    "sns.boxplot(x=df.gyro_y)"
   ]
  },
  {
   "cell_type": "markdown",
   "id": "b7e768e5-5728-4b30-9632-261da7a6bad8",
   "metadata": {},
   "source": [
    "## gyro_z"
   ]
  },
  {
   "cell_type": "code",
   "execution_count": 149,
   "id": "c5305f92-8b9d-4ac5-95a2-7ae2abd1753b",
   "metadata": {},
   "outputs": [
    {
     "data": {
      "text/html": [
       "<div>\n",
       "<style scoped>\n",
       "    .dataframe tbody tr th:only-of-type {\n",
       "        vertical-align: middle;\n",
       "    }\n",
       "\n",
       "    .dataframe tbody tr th {\n",
       "        vertical-align: top;\n",
       "    }\n",
       "\n",
       "    .dataframe thead th {\n",
       "        text-align: right;\n",
       "    }\n",
       "</style>\n",
       "<table border=\"1\" class=\"dataframe\">\n",
       "  <thead>\n",
       "    <tr style=\"text-align: right;\">\n",
       "      <th></th>\n",
       "      <th>date</th>\n",
       "      <th>time</th>\n",
       "      <th>username</th>\n",
       "      <th>wrist</th>\n",
       "      <th>activity</th>\n",
       "      <th>acceleration_x</th>\n",
       "      <th>acceleration_y</th>\n",
       "      <th>acceleration_z</th>\n",
       "      <th>gyro_x</th>\n",
       "      <th>gyro_y</th>\n",
       "      <th>gyro_z</th>\n",
       "    </tr>\n",
       "  </thead>\n",
       "  <tbody>\n",
       "    <tr>\n",
       "      <th>60643</th>\n",
       "      <td>2017-7-2</td>\n",
       "      <td>19:44:42:472842991</td>\n",
       "      <td>viktor</td>\n",
       "      <td>0</td>\n",
       "      <td>1</td>\n",
       "      <td>0.0779</td>\n",
       "      <td>1.1976</td>\n",
       "      <td>-0.6989</td>\n",
       "      <td>-0.2000</td>\n",
       "      <td>3.4339</td>\n",
       "      <td>11.2662</td>\n",
       "    </tr>\n",
       "    <tr>\n",
       "      <th>72241</th>\n",
       "      <td>2017-7-6</td>\n",
       "      <td>18:47:33:610493004</td>\n",
       "      <td>viktor</td>\n",
       "      <td>0</td>\n",
       "      <td>1</td>\n",
       "      <td>2.4175</td>\n",
       "      <td>-1.1534</td>\n",
       "      <td>-1.7530</td>\n",
       "      <td>2.8293</td>\n",
       "      <td>-1.5507</td>\n",
       "      <td>8.0350</td>\n",
       "    </tr>\n",
       "  </tbody>\n",
       "</table>\n",
       "</div>"
      ],
      "text/plain": [
       "           date                time username  wrist  activity  acceleration_x  \\\n",
       "60643  2017-7-2  19:44:42:472842991   viktor      0         1          0.0779   \n",
       "72241  2017-7-6  18:47:33:610493004   viktor      0         1          2.4175   \n",
       "\n",
       "       acceleration_y  acceleration_z  gyro_x  gyro_y   gyro_z  \n",
       "60643          1.1976         -0.6989 -0.2000  3.4339  11.2662  \n",
       "72241         -1.1534         -1.7530  2.8293 -1.5507   8.0350  "
      ]
     },
     "execution_count": 149,
     "metadata": {},
     "output_type": "execute_result"
    }
   ],
   "source": [
    "df.loc[df.gyro_z>7.9]"
   ]
  },
  {
   "cell_type": "code",
   "execution_count": 150,
   "id": "882ad631-e8f2-4231-b5bb-bb0a162b0b63",
   "metadata": {},
   "outputs": [
    {
     "data": {
      "text/html": [
       "<div>\n",
       "<style scoped>\n",
       "    .dataframe tbody tr th:only-of-type {\n",
       "        vertical-align: middle;\n",
       "    }\n",
       "\n",
       "    .dataframe tbody tr th {\n",
       "        vertical-align: top;\n",
       "    }\n",
       "\n",
       "    .dataframe thead th {\n",
       "        text-align: right;\n",
       "    }\n",
       "</style>\n",
       "<table border=\"1\" class=\"dataframe\">\n",
       "  <thead>\n",
       "    <tr style=\"text-align: right;\">\n",
       "      <th></th>\n",
       "      <th>date</th>\n",
       "      <th>time</th>\n",
       "      <th>username</th>\n",
       "      <th>wrist</th>\n",
       "      <th>activity</th>\n",
       "      <th>acceleration_x</th>\n",
       "      <th>acceleration_y</th>\n",
       "      <th>acceleration_z</th>\n",
       "      <th>gyro_x</th>\n",
       "      <th>gyro_y</th>\n",
       "      <th>gyro_z</th>\n",
       "    </tr>\n",
       "  </thead>\n",
       "  <tbody>\n",
       "    <tr>\n",
       "      <th>60641</th>\n",
       "      <td>2017-7-2</td>\n",
       "      <td>19:44:42:72026014</td>\n",
       "      <td>viktor</td>\n",
       "      <td>0</td>\n",
       "      <td>1</td>\n",
       "      <td>-0.3572</td>\n",
       "      <td>1.0598</td>\n",
       "      <td>-0.4366</td>\n",
       "      <td>-1.7009</td>\n",
       "      <td>2.4628</td>\n",
       "      <td>-9.48</td>\n",
       "    </tr>\n",
       "  </tbody>\n",
       "</table>\n",
       "</div>"
      ],
      "text/plain": [
       "           date               time username  wrist  activity  acceleration_x  \\\n",
       "60641  2017-7-2  19:44:42:72026014   viktor      0         1         -0.3572   \n",
       "\n",
       "       acceleration_y  acceleration_z  gyro_x  gyro_y  gyro_z  \n",
       "60641          1.0598         -0.4366 -1.7009  2.4628   -9.48  "
      ]
     },
     "execution_count": 150,
     "metadata": {},
     "output_type": "execute_result"
    }
   ],
   "source": [
    "df.loc[df.gyro_z<-7.9]"
   ]
  },
  {
   "cell_type": "code",
   "execution_count": 151,
   "id": "c237afe6-4aa2-4947-b5ce-4dba237c98ff",
   "metadata": {},
   "outputs": [
    {
     "data": {
      "text/plain": [
       "0.0069"
      ]
     },
     "execution_count": 151,
     "metadata": {},
     "output_type": "execute_result"
    }
   ],
   "source": [
    "np.median(df.gyro_z)"
   ]
  },
  {
   "cell_type": "code",
   "execution_count": 152,
   "id": "c38f80dd-e964-496a-9aa1-8d52ae2b0913",
   "metadata": {},
   "outputs": [],
   "source": [
    "df.loc[df.gyro_z>7.9,'gyro_z']=np.median(df.gyro_z)"
   ]
  },
  {
   "cell_type": "code",
   "execution_count": 153,
   "id": "d656c1ce-3fb8-4479-848c-936717515555",
   "metadata": {},
   "outputs": [],
   "source": [
    "df.loc[df.gyro_z<-7.9,'gyro_z']=np.median(df.gyro_z)"
   ]
  },
  {
   "cell_type": "code",
   "execution_count": 154,
   "id": "5f4c6b36-5851-46e1-9975-252e0be731f3",
   "metadata": {},
   "outputs": [
    {
     "data": {
      "text/plain": [
       "<Axes: xlabel='gyro_z'>"
      ]
     },
     "execution_count": 154,
     "metadata": {},
     "output_type": "execute_result"
    },
    {
     "data": {
      "image/png": "[encoded data removed]",
      "text/plain": [
       "<Figure size 640x480 with 1 Axes>"
      ]
     },
     "metadata": {},
     "output_type": "display_data"
    }
   ],
   "source": [
    "sns.boxplot(x=df.gyro_z)"
   ]
  },
  {
   "cell_type": "code",
   "execution_count": 155,
   "id": "e0409235-861f-4025-b9dd-1576517eb589",
   "metadata": {
    "scrolled": true
   },
   "outputs": [
    {
     "data": {
      "text/plain": [
       "activity\n",
       "1    44365\n",
       "0    44223\n",
       "Name: count, dtype: int64"
      ]
     },
     "execution_count": 155,
     "metadata": {},
     "output_type": "execute_result"
    }
   ],
   "source": [
    "df.activity.value_counts()"
   ]
  },
  {
   "cell_type": "markdown",
   "id": "964c6734-66a6-4662-a2bb-29c6d685245b",
   "metadata": {},
   "source": [
    "### 3) Conversion of Categorical  data to Numrical  & Scaling of features "
   ]
  },
  {
   "cell_type": "code",
   "execution_count": 156,
   "id": "894edc45-fd70-412e-95f8-3b44efc4d5d8",
   "metadata": {},
   "outputs": [],
   "source": [
    "from sklearn.preprocessing import LabelEncoder,MinMaxScaler"
   ]
  },
  {
   "cell_type": "code",
   "execution_count": 157,
   "id": "0791dcf6-443d-41bf-aa1e-c51e856a0a28",
   "metadata": {},
   "outputs": [],
   "source": [
    "lb=LabelEncoder()"
   ]
  },
  {
   "cell_type": "code",
   "execution_count": 158,
   "id": "4e7b693d-6cd5-4218-aa73-327e53511eb2",
   "metadata": {},
   "outputs": [],
   "source": [
    "ms=MinMaxScaler()"
   ]
  },
  {
   "cell_type": "code",
   "execution_count": 159,
   "id": "2367c2f1-a39c-4757-8714-d5e70b4d7689",
   "metadata": {},
   "outputs": [],
   "source": [
    "df.date=lb.fit_transform(df.date)"
   ]
  },
  {
   "cell_type": "code",
   "execution_count": 160,
   "id": "af5a11e3-91a8-4862-b811-4237857bce27",
   "metadata": {},
   "outputs": [],
   "source": [
    "df.time=lb.fit_transform(df.time)"
   ]
  },
  {
   "cell_type": "code",
   "execution_count": 161,
   "id": "269cee23-1c28-45c8-8d4b-4265b4265fec",
   "metadata": {},
   "outputs": [
    {
     "data": {
      "text/plain": [
       "0         3280\n",
       "1         3281\n",
       "2         3282\n",
       "3         3283\n",
       "4         3284\n",
       "         ...  \n",
       "88583    87701\n",
       "88584    87703\n",
       "88585    87705\n",
       "88586    87708\n",
       "88587    87709\n",
       "Name: time, Length: 88588, dtype: int32"
      ]
     },
     "execution_count": 161,
     "metadata": {},
     "output_type": "execute_result"
    }
   ],
   "source": [
    "df.time"
   ]
  },
  {
   "cell_type": "code",
   "execution_count": 162,
   "id": "a7e24db5-494a-4404-bbb1-5da815131acb",
   "metadata": {},
   "outputs": [
    {
     "data": {
      "text/plain": [
       "0         0\n",
       "1         0\n",
       "2         0\n",
       "3         0\n",
       "4         0\n",
       "         ..\n",
       "88583    11\n",
       "88584    11\n",
       "88585    11\n",
       "88586    11\n",
       "88587    11\n",
       "Name: date, Length: 88588, dtype: int32"
      ]
     },
     "execution_count": 162,
     "metadata": {},
     "output_type": "execute_result"
    }
   ],
   "source": [
    "df.date"
   ]
  },
  {
   "cell_type": "code",
   "execution_count": 163,
   "id": "84d84595-ed09-4f48-ba3e-d8465fbe03fd",
   "metadata": {},
   "outputs": [],
   "source": [
    "df.time=ms.fit_transform(df[['time']])"
   ]
  },
  {
   "cell_type": "code",
   "execution_count": 164,
   "id": "0b214e9f-d099-43f0-bcb4-a1df3e559d26",
   "metadata": {},
   "outputs": [
    {
     "data": {
      "text/plain": [
       "0        0.037026\n",
       "1        0.037037\n",
       "2        0.037048\n",
       "3        0.037060\n",
       "4        0.037071\n",
       "           ...   \n",
       "88583    0.989999\n",
       "88584    0.990021\n",
       "88585    0.990044\n",
       "88586    0.990078\n",
       "88587    0.990089\n",
       "Name: time, Length: 88588, dtype: float64"
      ]
     },
     "execution_count": 164,
     "metadata": {},
     "output_type": "execute_result"
    }
   ],
   "source": [
    "df.time"
   ]
  },
  {
   "cell_type": "code",
   "execution_count": 165,
   "id": "a636f703-a43a-4046-b72f-efa4bc7f129c",
   "metadata": {},
   "outputs": [],
   "source": [
    "df.date=ms.fit_transform(df[['date']])"
   ]
  },
  {
   "cell_type": "code",
   "execution_count": 166,
   "id": "f60d4102-b8ed-4aec-9a88-d857fcda7e75",
   "metadata": {},
   "outputs": [
    {
     "data": {
      "text/plain": [
       "0        0.0\n",
       "1        0.0\n",
       "2        0.0\n",
       "3        0.0\n",
       "4        0.0\n",
       "        ... \n",
       "88583    1.0\n",
       "88584    1.0\n",
       "88585    1.0\n",
       "88586    1.0\n",
       "88587    1.0\n",
       "Name: date, Length: 88588, dtype: float64"
      ]
     },
     "execution_count": 166,
     "metadata": {},
     "output_type": "execute_result"
    }
   ],
   "source": [
    "df.date"
   ]
  },
  {
   "cell_type": "markdown",
   "id": "589547d8-24b9-4086-8ca6-1b5c8dfde453",
   "metadata": {},
   "source": [
    "# Feature Selection"
   ]
  },
  {
   "cell_type": "markdown",
   "id": "b194a5c9-7eda-4fb4-9ba1-62bb240a7373",
   "metadata": {},
   "source": [
    "### 1)Dropping Redundant Column:"
   ]
  },
  {
   "cell_type": "code",
   "execution_count": 167,
   "id": "193813fe-1bcb-4edd-a65e-35eb231b8f7a",
   "metadata": {},
   "outputs": [],
   "source": [
    "df.drop('username' ,axis=1,inplace=True)"
   ]
  },
  {
   "cell_type": "code",
   "execution_count": 168,
   "id": "93156920-3e49-4201-a34e-fe7cb2f3df0b",
   "metadata": {},
   "outputs": [
    {
     "data": {
      "text/html": [
       "<div>\n",
       "<style scoped>\n",
       "    .dataframe tbody tr th:only-of-type {\n",
       "        vertical-align: middle;\n",
       "    }\n",
       "\n",
       "    .dataframe tbody tr th {\n",
       "        vertical-align: top;\n",
       "    }\n",
       "\n",
       "    .dataframe thead th {\n",
       "        text-align: right;\n",
       "    }\n",
       "</style>\n",
       "<table border=\"1\" class=\"dataframe\">\n",
       "  <thead>\n",
       "    <tr style=\"text-align: right;\">\n",
       "      <th></th>\n",
       "      <th>date</th>\n",
       "      <th>time</th>\n",
       "      <th>wrist</th>\n",
       "      <th>activity</th>\n",
       "      <th>acceleration_x</th>\n",
       "      <th>acceleration_y</th>\n",
       "      <th>acceleration_z</th>\n",
       "      <th>gyro_x</th>\n",
       "      <th>gyro_y</th>\n",
       "      <th>gyro_z</th>\n",
       "    </tr>\n",
       "  </thead>\n",
       "  <tbody>\n",
       "    <tr>\n",
       "      <th>0</th>\n",
       "      <td>0.0</td>\n",
       "      <td>0.037026</td>\n",
       "      <td>0</td>\n",
       "      <td>0</td>\n",
       "      <td>0.2650</td>\n",
       "      <td>-0.7814</td>\n",
       "      <td>-0.0076</td>\n",
       "      <td>-0.0590</td>\n",
       "      <td>0.0325</td>\n",
       "      <td>-2.9296</td>\n",
       "    </tr>\n",
       "    <tr>\n",
       "      <th>1</th>\n",
       "      <td>0.0</td>\n",
       "      <td>0.037037</td>\n",
       "      <td>0</td>\n",
       "      <td>0</td>\n",
       "      <td>0.6722</td>\n",
       "      <td>-1.1233</td>\n",
       "      <td>-0.2344</td>\n",
       "      <td>-0.1757</td>\n",
       "      <td>0.0208</td>\n",
       "      <td>0.1269</td>\n",
       "    </tr>\n",
       "    <tr>\n",
       "      <th>2</th>\n",
       "      <td>0.0</td>\n",
       "      <td>0.037048</td>\n",
       "      <td>0</td>\n",
       "      <td>0</td>\n",
       "      <td>0.4399</td>\n",
       "      <td>-1.4817</td>\n",
       "      <td>0.0722</td>\n",
       "      <td>-0.9105</td>\n",
       "      <td>0.1063</td>\n",
       "      <td>-2.4367</td>\n",
       "    </tr>\n",
       "    <tr>\n",
       "      <th>3</th>\n",
       "      <td>0.0</td>\n",
       "      <td>0.037060</td>\n",
       "      <td>0</td>\n",
       "      <td>0</td>\n",
       "      <td>0.3031</td>\n",
       "      <td>-0.8125</td>\n",
       "      <td>0.0888</td>\n",
       "      <td>0.1199</td>\n",
       "      <td>-0.4099</td>\n",
       "      <td>-2.9336</td>\n",
       "    </tr>\n",
       "    <tr>\n",
       "      <th>4</th>\n",
       "      <td>0.0</td>\n",
       "      <td>0.037071</td>\n",
       "      <td>0</td>\n",
       "      <td>0</td>\n",
       "      <td>0.4814</td>\n",
       "      <td>-0.9312</td>\n",
       "      <td>0.0359</td>\n",
       "      <td>0.0527</td>\n",
       "      <td>0.4379</td>\n",
       "      <td>2.4922</td>\n",
       "    </tr>\n",
       "    <tr>\n",
       "      <th>...</th>\n",
       "      <td>...</td>\n",
       "      <td>...</td>\n",
       "      <td>...</td>\n",
       "      <td>...</td>\n",
       "      <td>...</td>\n",
       "      <td>...</td>\n",
       "      <td>...</td>\n",
       "      <td>...</td>\n",
       "      <td>...</td>\n",
       "      <td>...</td>\n",
       "    </tr>\n",
       "    <tr>\n",
       "      <th>88583</th>\n",
       "      <td>1.0</td>\n",
       "      <td>0.989999</td>\n",
       "      <td>0</td>\n",
       "      <td>0</td>\n",
       "      <td>0.3084</td>\n",
       "      <td>-0.8376</td>\n",
       "      <td>-0.1327</td>\n",
       "      <td>0.4823</td>\n",
       "      <td>2.0124</td>\n",
       "      <td>0.6048</td>\n",
       "    </tr>\n",
       "    <tr>\n",
       "      <th>88584</th>\n",
       "      <td>1.0</td>\n",
       "      <td>0.990021</td>\n",
       "      <td>0</td>\n",
       "      <td>0</td>\n",
       "      <td>0.4977</td>\n",
       "      <td>-1.0027</td>\n",
       "      <td>-0.4397</td>\n",
       "      <td>0.1022</td>\n",
       "      <td>-1.2565</td>\n",
       "      <td>-0.0761</td>\n",
       "    </tr>\n",
       "    <tr>\n",
       "      <th>88585</th>\n",
       "      <td>1.0</td>\n",
       "      <td>0.990044</td>\n",
       "      <td>0</td>\n",
       "      <td>0</td>\n",
       "      <td>0.4587</td>\n",
       "      <td>-1.1780</td>\n",
       "      <td>-0.2827</td>\n",
       "      <td>-1.4500</td>\n",
       "      <td>-0.2792</td>\n",
       "      <td>-1.2616</td>\n",
       "    </tr>\n",
       "    <tr>\n",
       "      <th>88586</th>\n",
       "      <td>1.0</td>\n",
       "      <td>0.990078</td>\n",
       "      <td>0</td>\n",
       "      <td>0</td>\n",
       "      <td>0.2590</td>\n",
       "      <td>-0.8582</td>\n",
       "      <td>-0.0759</td>\n",
       "      <td>-1.5165</td>\n",
       "      <td>0.4560</td>\n",
       "      <td>-1.7755</td>\n",
       "    </tr>\n",
       "    <tr>\n",
       "      <th>88587</th>\n",
       "      <td>1.0</td>\n",
       "      <td>0.990089</td>\n",
       "      <td>0</td>\n",
       "      <td>0</td>\n",
       "      <td>0.3140</td>\n",
       "      <td>-0.8008</td>\n",
       "      <td>-0.0911</td>\n",
       "      <td>0.1183</td>\n",
       "      <td>1.0850</td>\n",
       "      <td>1.2814</td>\n",
       "    </tr>\n",
       "  </tbody>\n",
       "</table>\n",
       "<p>88588 rows × 10 columns</p>\n",
       "</div>"
      ],
      "text/plain": [
       "       date      time  wrist  activity  acceleration_x  acceleration_y  \\\n",
       "0       0.0  0.037026      0         0          0.2650         -0.7814   \n",
       "1       0.0  0.037037      0         0          0.6722         -1.1233   \n",
       "2       0.0  0.037048      0         0          0.4399         -1.4817   \n",
       "3       0.0  0.037060      0         0          0.3031         -0.8125   \n",
       "4       0.0  0.037071      0         0          0.4814         -0.9312   \n",
       "...     ...       ...    ...       ...             ...             ...   \n",
       "88583   1.0  0.989999      0         0          0.3084         -0.8376   \n",
       "88584   1.0  0.990021      0         0          0.4977         -1.0027   \n",
       "88585   1.0  0.990044      0         0          0.4587         -1.1780   \n",
       "88586   1.0  0.990078      0         0          0.2590         -0.8582   \n",
       "88587   1.0  0.990089      0         0          0.3140         -0.8008   \n",
       "\n",
       "       acceleration_z  gyro_x  gyro_y  gyro_z  \n",
       "0             -0.0076 -0.0590  0.0325 -2.9296  \n",
       "1             -0.2344 -0.1757  0.0208  0.1269  \n",
       "2              0.0722 -0.9105  0.1063 -2.4367  \n",
       "3              0.0888  0.1199 -0.4099 -2.9336  \n",
       "4              0.0359  0.0527  0.4379  2.4922  \n",
       "...               ...     ...     ...     ...  \n",
       "88583         -0.1327  0.4823  2.0124  0.6048  \n",
       "88584         -0.4397  0.1022 -1.2565 -0.0761  \n",
       "88585         -0.2827 -1.4500 -0.2792 -1.2616  \n",
       "88586         -0.0759 -1.5165  0.4560 -1.7755  \n",
       "88587         -0.0911  0.1183  1.0850  1.2814  \n",
       "\n",
       "[88588 rows x 10 columns]"
      ]
     },
     "execution_count": 168,
     "metadata": {},
     "output_type": "execute_result"
    }
   ],
   "source": [
    "df"
   ]
  },
  {
   "cell_type": "code",
   "execution_count": 169,
   "id": "7fbddfe7-fb11-4183-a8e8-758d5366319c",
   "metadata": {
    "scrolled": true
   },
   "outputs": [
    {
     "data": {
      "text/html": [
       "<div>\n",
       "<style scoped>\n",
       "    .dataframe tbody tr th:only-of-type {\n",
       "        vertical-align: middle;\n",
       "    }\n",
       "\n",
       "    .dataframe tbody tr th {\n",
       "        vertical-align: top;\n",
       "    }\n",
       "\n",
       "    .dataframe thead th {\n",
       "        text-align: right;\n",
       "    }\n",
       "</style>\n",
       "<table border=\"1\" class=\"dataframe\">\n",
       "  <thead>\n",
       "    <tr style=\"text-align: right;\">\n",
       "      <th></th>\n",
       "      <th>date</th>\n",
       "      <th>time</th>\n",
       "      <th>wrist</th>\n",
       "      <th>acceleration_x</th>\n",
       "      <th>acceleration_y</th>\n",
       "      <th>acceleration_z</th>\n",
       "      <th>gyro_x</th>\n",
       "      <th>gyro_y</th>\n",
       "      <th>gyro_z</th>\n",
       "    </tr>\n",
       "  </thead>\n",
       "  <tbody>\n",
       "    <tr>\n",
       "      <th>date</th>\n",
       "      <td>1.000000</td>\n",
       "      <td>0.197195</td>\n",
       "      <td>-0.470160</td>\n",
       "      <td>0.291588</td>\n",
       "      <td>-0.016331</td>\n",
       "      <td>-0.201649</td>\n",
       "      <td>0.016620</td>\n",
       "      <td>0.048257</td>\n",
       "      <td>-0.004672</td>\n",
       "    </tr>\n",
       "    <tr>\n",
       "      <th>time</th>\n",
       "      <td>0.197195</td>\n",
       "      <td>1.000000</td>\n",
       "      <td>-0.318196</td>\n",
       "      <td>0.110347</td>\n",
       "      <td>0.471220</td>\n",
       "      <td>-0.159840</td>\n",
       "      <td>0.032614</td>\n",
       "      <td>0.023341</td>\n",
       "      <td>-0.007311</td>\n",
       "    </tr>\n",
       "    <tr>\n",
       "      <th>wrist</th>\n",
       "      <td>-0.470160</td>\n",
       "      <td>-0.318196</td>\n",
       "      <td>1.000000</td>\n",
       "      <td>-0.609672</td>\n",
       "      <td>0.086966</td>\n",
       "      <td>0.323549</td>\n",
       "      <td>-0.022135</td>\n",
       "      <td>-0.068378</td>\n",
       "      <td>0.008860</td>\n",
       "    </tr>\n",
       "    <tr>\n",
       "      <th>acceleration_x</th>\n",
       "      <td>0.291588</td>\n",
       "      <td>0.110347</td>\n",
       "      <td>-0.609672</td>\n",
       "      <td>1.000000</td>\n",
       "      <td>-0.264597</td>\n",
       "      <td>-0.551579</td>\n",
       "      <td>-0.021491</td>\n",
       "      <td>-0.004008</td>\n",
       "      <td>-0.060745</td>\n",
       "    </tr>\n",
       "    <tr>\n",
       "      <th>acceleration_y</th>\n",
       "      <td>-0.016331</td>\n",
       "      <td>0.471220</td>\n",
       "      <td>0.086966</td>\n",
       "      <td>-0.264597</td>\n",
       "      <td>1.000000</td>\n",
       "      <td>0.105851</td>\n",
       "      <td>0.009738</td>\n",
       "      <td>0.072331</td>\n",
       "      <td>-0.023370</td>\n",
       "    </tr>\n",
       "    <tr>\n",
       "      <th>acceleration_z</th>\n",
       "      <td>-0.201649</td>\n",
       "      <td>-0.159840</td>\n",
       "      <td>0.323549</td>\n",
       "      <td>-0.551579</td>\n",
       "      <td>0.105851</td>\n",
       "      <td>1.000000</td>\n",
       "      <td>0.035081</td>\n",
       "      <td>-0.021283</td>\n",
       "      <td>0.049511</td>\n",
       "    </tr>\n",
       "    <tr>\n",
       "      <th>gyro_x</th>\n",
       "      <td>0.016620</td>\n",
       "      <td>0.032614</td>\n",
       "      <td>-0.022135</td>\n",
       "      <td>-0.021491</td>\n",
       "      <td>0.009738</td>\n",
       "      <td>0.035081</td>\n",
       "      <td>1.000000</td>\n",
       "      <td>0.094035</td>\n",
       "      <td>0.317542</td>\n",
       "    </tr>\n",
       "    <tr>\n",
       "      <th>gyro_y</th>\n",
       "      <td>0.048257</td>\n",
       "      <td>0.023341</td>\n",
       "      <td>-0.068378</td>\n",
       "      <td>-0.004008</td>\n",
       "      <td>0.072331</td>\n",
       "      <td>-0.021283</td>\n",
       "      <td>0.094035</td>\n",
       "      <td>1.000000</td>\n",
       "      <td>0.287441</td>\n",
       "    </tr>\n",
       "    <tr>\n",
       "      <th>gyro_z</th>\n",
       "      <td>-0.004672</td>\n",
       "      <td>-0.007311</td>\n",
       "      <td>0.008860</td>\n",
       "      <td>-0.060745</td>\n",
       "      <td>-0.023370</td>\n",
       "      <td>0.049511</td>\n",
       "      <td>0.317542</td>\n",
       "      <td>0.287441</td>\n",
       "      <td>1.000000</td>\n",
       "    </tr>\n",
       "  </tbody>\n",
       "</table>\n",
       "</div>"
      ],
      "text/plain": [
       "                    date      time     wrist  acceleration_x  acceleration_y  \\\n",
       "date            1.000000  0.197195 -0.470160        0.291588       -0.016331   \n",
       "time            0.197195  1.000000 -0.318196        0.110347        0.471220   \n",
       "wrist          -0.470160 -0.318196  1.000000       -0.609672        0.086966   \n",
       "acceleration_x  0.291588  0.110347 -0.609672        1.000000       -0.264597   \n",
       "acceleration_y -0.016331  0.471220  0.086966       -0.264597        1.000000   \n",
       "acceleration_z -0.201649 -0.159840  0.323549       -0.551579        0.105851   \n",
       "gyro_x          0.016620  0.032614 -0.022135       -0.021491        0.009738   \n",
       "gyro_y          0.048257  0.023341 -0.068378       -0.004008        0.072331   \n",
       "gyro_z         -0.004672 -0.007311  0.008860       -0.060745       -0.023370   \n",
       "\n",
       "                acceleration_z    gyro_x    gyro_y    gyro_z  \n",
       "date                 -0.201649  0.016620  0.048257 -0.004672  \n",
       "time                 -0.159840  0.032614  0.023341 -0.007311  \n",
       "wrist                 0.323549 -0.022135 -0.068378  0.008860  \n",
       "acceleration_x       -0.551579 -0.021491 -0.004008 -0.060745  \n",
       "acceleration_y        0.105851  0.009738  0.072331 -0.023370  \n",
       "acceleration_z        1.000000  0.035081 -0.021283  0.049511  \n",
       "gyro_x                0.035081  1.000000  0.094035  0.317542  \n",
       "gyro_y               -0.021283  0.094035  1.000000  0.287441  \n",
       "gyro_z                0.049511  0.317542  0.287441  1.000000  "
      ]
     },
     "execution_count": 169,
     "metadata": {},
     "output_type": "execute_result"
    }
   ],
   "source": [
    "df.drop('activity',axis=1).corr()"
   ]
  },
  {
   "cell_type": "markdown",
   "id": "1213e609-112c-4ca1-bfbd-417e726e8a21",
   "metadata": {},
   "source": [
    "## Finding Correlation  between Features"
   ]
  },
  {
   "cell_type": "code",
   "execution_count": 170,
   "id": "4a95347e-8b8a-4b04-aa3b-4539e411e6fb",
   "metadata": {},
   "outputs": [
    {
     "data": {
      "text/plain": [
       "<Axes: >"
      ]
     },
     "execution_count": 170,
     "metadata": {},
     "output_type": "execute_result"
    },
    {
     "data": {
      "image/png": "[encoded data removed]",
      "text/plain": [
       "<Figure size 640x480 with 2 Axes>"
      ]
     },
     "metadata": {},
     "output_type": "display_data"
    }
   ],
   "source": [
    "sns.heatmap(df.drop('activity',axis=1).corr(),annot=True)"
   ]
  },
  {
   "cell_type": "markdown",
   "id": "52215d0d-8d50-4c4e-b024-1416b3a31ef1",
   "metadata": {},
   "source": [
    "#### There is no corrleation found between any two columns "
   ]
  },
  {
   "cell_type": "markdown",
   "id": "c489c9c5-09d8-4a82-81dc-b203313ebb81",
   "metadata": {},
   "source": [
    "# Model Creation"
   ]
  },
  {
   "cell_type": "code",
   "execution_count": 171,
   "id": "cd0f9533-1a5d-4254-8784-15f8d56217bf",
   "metadata": {},
   "outputs": [
    {
     "data": {
      "text/html": [
       "<div>\n",
       "<style scoped>\n",
       "    .dataframe tbody tr th:only-of-type {\n",
       "        vertical-align: middle;\n",
       "    }\n",
       "\n",
       "    .dataframe tbody tr th {\n",
       "        vertical-align: top;\n",
       "    }\n",
       "\n",
       "    .dataframe thead th {\n",
       "        text-align: right;\n",
       "    }\n",
       "</style>\n",
       "<table border=\"1\" class=\"dataframe\">\n",
       "  <thead>\n",
       "    <tr style=\"text-align: right;\">\n",
       "      <th></th>\n",
       "      <th>date</th>\n",
       "      <th>time</th>\n",
       "      <th>wrist</th>\n",
       "      <th>acceleration_x</th>\n",
       "      <th>acceleration_y</th>\n",
       "      <th>acceleration_z</th>\n",
       "      <th>gyro_x</th>\n",
       "      <th>gyro_y</th>\n",
       "      <th>gyro_z</th>\n",
       "    </tr>\n",
       "  </thead>\n",
       "  <tbody>\n",
       "    <tr>\n",
       "      <th>0</th>\n",
       "      <td>0.0</td>\n",
       "      <td>0.037026</td>\n",
       "      <td>0</td>\n",
       "      <td>0.2650</td>\n",
       "      <td>-0.7814</td>\n",
       "      <td>-0.0076</td>\n",
       "      <td>-0.0590</td>\n",
       "      <td>0.0325</td>\n",
       "      <td>-2.9296</td>\n",
       "    </tr>\n",
       "    <tr>\n",
       "      <th>1</th>\n",
       "      <td>0.0</td>\n",
       "      <td>0.037037</td>\n",
       "      <td>0</td>\n",
       "      <td>0.6722</td>\n",
       "      <td>-1.1233</td>\n",
       "      <td>-0.2344</td>\n",
       "      <td>-0.1757</td>\n",
       "      <td>0.0208</td>\n",
       "      <td>0.1269</td>\n",
       "    </tr>\n",
       "    <tr>\n",
       "      <th>2</th>\n",
       "      <td>0.0</td>\n",
       "      <td>0.037048</td>\n",
       "      <td>0</td>\n",
       "      <td>0.4399</td>\n",
       "      <td>-1.4817</td>\n",
       "      <td>0.0722</td>\n",
       "      <td>-0.9105</td>\n",
       "      <td>0.1063</td>\n",
       "      <td>-2.4367</td>\n",
       "    </tr>\n",
       "    <tr>\n",
       "      <th>3</th>\n",
       "      <td>0.0</td>\n",
       "      <td>0.037060</td>\n",
       "      <td>0</td>\n",
       "      <td>0.3031</td>\n",
       "      <td>-0.8125</td>\n",
       "      <td>0.0888</td>\n",
       "      <td>0.1199</td>\n",
       "      <td>-0.4099</td>\n",
       "      <td>-2.9336</td>\n",
       "    </tr>\n",
       "    <tr>\n",
       "      <th>4</th>\n",
       "      <td>0.0</td>\n",
       "      <td>0.037071</td>\n",
       "      <td>0</td>\n",
       "      <td>0.4814</td>\n",
       "      <td>-0.9312</td>\n",
       "      <td>0.0359</td>\n",
       "      <td>0.0527</td>\n",
       "      <td>0.4379</td>\n",
       "      <td>2.4922</td>\n",
       "    </tr>\n",
       "    <tr>\n",
       "      <th>...</th>\n",
       "      <td>...</td>\n",
       "      <td>...</td>\n",
       "      <td>...</td>\n",
       "      <td>...</td>\n",
       "      <td>...</td>\n",
       "      <td>...</td>\n",
       "      <td>...</td>\n",
       "      <td>...</td>\n",
       "      <td>...</td>\n",
       "    </tr>\n",
       "    <tr>\n",
       "      <th>88583</th>\n",
       "      <td>1.0</td>\n",
       "      <td>0.989999</td>\n",
       "      <td>0</td>\n",
       "      <td>0.3084</td>\n",
       "      <td>-0.8376</td>\n",
       "      <td>-0.1327</td>\n",
       "      <td>0.4823</td>\n",
       "      <td>2.0124</td>\n",
       "      <td>0.6048</td>\n",
       "    </tr>\n",
       "    <tr>\n",
       "      <th>88584</th>\n",
       "      <td>1.0</td>\n",
       "      <td>0.990021</td>\n",
       "      <td>0</td>\n",
       "      <td>0.4977</td>\n",
       "      <td>-1.0027</td>\n",
       "      <td>-0.4397</td>\n",
       "      <td>0.1022</td>\n",
       "      <td>-1.2565</td>\n",
       "      <td>-0.0761</td>\n",
       "    </tr>\n",
       "    <tr>\n",
       "      <th>88585</th>\n",
       "      <td>1.0</td>\n",
       "      <td>0.990044</td>\n",
       "      <td>0</td>\n",
       "      <td>0.4587</td>\n",
       "      <td>-1.1780</td>\n",
       "      <td>-0.2827</td>\n",
       "      <td>-1.4500</td>\n",
       "      <td>-0.2792</td>\n",
       "      <td>-1.2616</td>\n",
       "    </tr>\n",
       "    <tr>\n",
       "      <th>88586</th>\n",
       "      <td>1.0</td>\n",
       "      <td>0.990078</td>\n",
       "      <td>0</td>\n",
       "      <td>0.2590</td>\n",
       "      <td>-0.8582</td>\n",
       "      <td>-0.0759</td>\n",
       "      <td>-1.5165</td>\n",
       "      <td>0.4560</td>\n",
       "      <td>-1.7755</td>\n",
       "    </tr>\n",
       "    <tr>\n",
       "      <th>88587</th>\n",
       "      <td>1.0</td>\n",
       "      <td>0.990089</td>\n",
       "      <td>0</td>\n",
       "      <td>0.3140</td>\n",
       "      <td>-0.8008</td>\n",
       "      <td>-0.0911</td>\n",
       "      <td>0.1183</td>\n",
       "      <td>1.0850</td>\n",
       "      <td>1.2814</td>\n",
       "    </tr>\n",
       "  </tbody>\n",
       "</table>\n",
       "<p>88588 rows × 9 columns</p>\n",
       "</div>"
      ],
      "text/plain": [
       "       date      time  wrist  acceleration_x  acceleration_y  acceleration_z  \\\n",
       "0       0.0  0.037026      0          0.2650         -0.7814         -0.0076   \n",
       "1       0.0  0.037037      0          0.6722         -1.1233         -0.2344   \n",
       "2       0.0  0.037048      0          0.4399         -1.4817          0.0722   \n",
       "3       0.0  0.037060      0          0.3031         -0.8125          0.0888   \n",
       "4       0.0  0.037071      0          0.4814         -0.9312          0.0359   \n",
       "...     ...       ...    ...             ...             ...             ...   \n",
       "88583   1.0  0.989999      0          0.3084         -0.8376         -0.1327   \n",
       "88584   1.0  0.990021      0          0.4977         -1.0027         -0.4397   \n",
       "88585   1.0  0.990044      0          0.4587         -1.1780         -0.2827   \n",
       "88586   1.0  0.990078      0          0.2590         -0.8582         -0.0759   \n",
       "88587   1.0  0.990089      0          0.3140         -0.8008         -0.0911   \n",
       "\n",
       "       gyro_x  gyro_y  gyro_z  \n",
       "0     -0.0590  0.0325 -2.9296  \n",
       "1     -0.1757  0.0208  0.1269  \n",
       "2     -0.9105  0.1063 -2.4367  \n",
       "3      0.1199 -0.4099 -2.9336  \n",
       "4      0.0527  0.4379  2.4922  \n",
       "...       ...     ...     ...  \n",
       "88583  0.4823  2.0124  0.6048  \n",
       "88584  0.1022 -1.2565 -0.0761  \n",
       "88585 -1.4500 -0.2792 -1.2616  \n",
       "88586 -1.5165  0.4560 -1.7755  \n",
       "88587  0.1183  1.0850  1.2814  \n",
       "\n",
       "[88588 rows x 9 columns]"
      ]
     },
     "execution_count": 171,
     "metadata": {},
     "output_type": "execute_result"
    }
   ],
   "source": [
    "x=df.drop('activity',axis=1)\n",
    "x"
   ]
  },
  {
   "cell_type": "code",
   "execution_count": 172,
   "id": "e15a1a40-0424-44a5-b6ac-05ac961f7ec5",
   "metadata": {},
   "outputs": [
    {
     "data": {
      "text/plain": [
       "0        0\n",
       "1        0\n",
       "2        0\n",
       "3        0\n",
       "4        0\n",
       "        ..\n",
       "88583    0\n",
       "88584    0\n",
       "88585    0\n",
       "88586    0\n",
       "88587    0\n",
       "Name: activity, Length: 88588, dtype: int64"
      ]
     },
     "execution_count": 172,
     "metadata": {},
     "output_type": "execute_result"
    }
   ],
   "source": [
    "y=df.activity\n",
    "y"
   ]
  },
  {
   "cell_type": "code",
   "execution_count": 173,
   "id": "8f547ce5-8d6a-4413-8b68-00795204edbc",
   "metadata": {},
   "outputs": [],
   "source": [
    "from sklearn.model_selection import train_test_split"
   ]
  },
  {
   "cell_type": "code",
   "execution_count": 174,
   "id": "8f10e7b1-e11b-4d5f-bbc5-c6613ce1d23c",
   "metadata": {},
   "outputs": [],
   "source": [
    "x_train,x_test,y_train,y_test=train_test_split(x,y,test_size=0.24,random_state=42)"
   ]
  },
  {
   "cell_type": "code",
   "execution_count": 175,
   "id": "d09550ca-db91-4878-a8ac-1be724561850",
   "metadata": {},
   "outputs": [
    {
     "name": "stdout",
     "output_type": "stream",
     "text": [
      "(67326, 9)\n",
      "(21262, 9)\n",
      "(67326,)\n",
      "(21262,)\n"
     ]
    }
   ],
   "source": [
    "print(x_train.shape)\n",
    "print(x_test.shape)\n",
    "print(y_train.shape)\n",
    "print(y_test.shape)"
   ]
  },
  {
   "cell_type": "markdown",
   "id": "525f566e-49ea-4126-bf52-9d847e1f417f",
   "metadata": {},
   "source": [
    "## Logistics_Regression "
   ]
  },
  {
   "cell_type": "code",
   "execution_count": 176,
   "id": "d82895b7-3162-420b-9576-ac0e12a41ea4",
   "metadata": {},
   "outputs": [],
   "source": [
    "from sklearn.linear_model import LogisticRegression\n",
    "LR=LogisticRegression()"
   ]
  },
  {
   "cell_type": "code",
   "execution_count": 177,
   "id": "435cc084-d0f7-4bde-ae29-65327746089b",
   "metadata": {},
   "outputs": [
    {
     "data": {
      "text/html": [
       "<style>#sk-container-id-2 {color: black;background-color: white;}#sk-container-id-2 pre{padding: 0;}#sk-container-id-2 div.sk-toggleable {background-color: white;}#sk-container-id-2 label.sk-toggleable__label {cursor: pointer;display: block;width: 100%;margin-bottom: 0;padding: 0.3em;box-sizing: border-box;text-align: center;}#sk-container-id-2 label.sk-toggleable__label-arrow:before {content: \"▸\";float: left;margin-right: 0.25em;color: #696969;}#sk-container-id-2 label.sk-toggleable__label-arrow:hover:before {color: black;}#sk-container-id-2 div.sk-estimator:hover label.sk-toggleable__label-arrow:before {color: black;}#sk-container-id-2 div.sk-toggleable__content {max-height: 0;max-width: 0;overflow: hidden;text-align: left;background-color: #f0f8ff;}#sk-container-id-2 div.sk-toggleable__content pre {margin: 0.2em;color: black;border-radius: 0.25em;background-color: #f0f8ff;}#sk-container-id-2 input.sk-toggleable__control:checked~div.sk-toggleable__content {max-height: 200px;max-width: 100%;overflow: auto;}#sk-container-id-2 input.sk-toggleable__control:checked~label.sk-toggleable__label-arrow:before {content: \"▾\";}#sk-container-id-2 div.sk-estimator input.sk-toggleable__control:checked~label.sk-toggleable__label {background-color: #d4ebff;}#sk-container-id-2 div.sk-label input.sk-toggleable__control:checked~label.sk-toggleable__label {background-color: #d4ebff;}#sk-container-id-2 input.sk-hidden--visually {border: 0;clip: rect(1px 1px 1px 1px);clip: rect(1px, 1px, 1px, 1px);height: 1px;margin: -1px;overflow: hidden;padding: 0;position: absolute;width: 1px;}#sk-container-id-2 div.sk-estimator {font-family: monospace;background-color: #f0f8ff;border: 1px dotted black;border-radius: 0.25em;box-sizing: border-box;margin-bottom: 0.5em;}#sk-container-id-2 div.sk-estimator:hover {background-color: #d4ebff;}#sk-container-id-2 div.sk-parallel-item::after {content: \"\";width: 100%;border-bottom: 1px solid gray;flex-grow: 1;}#sk-container-id-2 div.sk-label:hover label.sk-toggleable__label {background-color: #d4ebff;}#sk-container-id-2 div.sk-serial::before {content: \"\";position: absolute;border-left: 1px solid gray;box-sizing: border-box;top: 0;bottom: 0;left: 50%;z-index: 0;}#sk-container-id-2 div.sk-serial {display: flex;flex-direction: column;align-items: center;background-color: white;padding-right: 0.2em;padding-left: 0.2em;position: relative;}#sk-container-id-2 div.sk-item {position: relative;z-index: 1;}#sk-container-id-2 div.sk-parallel {display: flex;align-items: stretch;justify-content: center;background-color: white;position: relative;}#sk-container-id-2 div.sk-item::before, #sk-container-id-2 div.sk-parallel-item::before {content: \"\";position: absolute;border-left: 1px solid gray;box-sizing: border-box;top: 0;bottom: 0;left: 50%;z-index: -1;}#sk-container-id-2 div.sk-parallel-item {display: flex;flex-direction: column;z-index: 1;position: relative;background-color: white;}#sk-container-id-2 div.sk-parallel-item:first-child::after {align-self: flex-end;width: 50%;}#sk-container-id-2 div.sk-parallel-item:last-child::after {align-self: flex-start;width: 50%;}#sk-container-id-2 div.sk-parallel-item:only-child::after {width: 0;}#sk-container-id-2 div.sk-dashed-wrapped {border: 1px dashed gray;margin: 0 0.4em 0.5em 0.4em;box-sizing: border-box;padding-bottom: 0.4em;background-color: white;}#sk-container-id-2 div.sk-label label {font-family: monospace;font-weight: bold;display: inline-block;line-height: 1.2em;}#sk-container-id-2 div.sk-label-container {text-align: center;}#sk-container-id-2 div.sk-container {/* jupyter's `normalize.less` sets `[hidden] { display: none; }` but bootstrap.min.css set `[hidden] { display: none !important; }` so we also need the `!important` here to be able to override the default hidden behavior on the sphinx rendered scikit-learn.org. See: https://github.com/scikit-learn/scikit-learn/issues/21755 */display: inline-block !important;position: relative;}#sk-container-id-2 div.sk-text-repr-fallback {display: none;}</style><div id=\"sk-container-id-2\" class=\"sk-top-container\"><div class=\"sk-text-repr-fallback\"><pre>LogisticRegression()</pre><b>In a Jupyter environment, please rerun this cell to show the HTML representation or trust the notebook. <br />On GitHub, the HTML representation is unable to render, please try loading this page with nbviewer.org.</b></div><div class=\"sk-container\" hidden><div class=\"sk-item\"><div class=\"sk-estimator sk-toggleable\"><input class=\"sk-toggleable__control sk-hidden--visually\" id=\"sk-estimator-id-2\" type=\"checkbox\" checked><label for=\"sk-estimator-id-2\" class=\"sk-toggleable__label sk-toggleable__label-arrow\">LogisticRegression</label><div class=\"sk-toggleable__content\"><pre>LogisticRegression()</pre></div></div></div></div></div>"
      ],
      "text/plain": [
       "LogisticRegression()"
      ]
     },
     "execution_count": 177,
     "metadata": {},
     "output_type": "execute_result"
    }
   ],
   "source": [
    "LR.fit(x_train,y_train)"
   ]
  },
  {
   "cell_type": "code",
   "execution_count": 178,
   "id": "6973dd9a-7ed2-4e6e-9bae-8936b3c72cae",
   "metadata": {},
   "outputs": [
    {
     "data": {
      "text/plain": [
       "array([1, 1, 1, ..., 1, 1, 0], dtype=int64)"
      ]
     },
     "execution_count": 178,
     "metadata": {},
     "output_type": "execute_result"
    }
   ],
   "source": [
    "y_pred=LR.predict(x_test)\n",
    "y_pred"
   ]
  },
  {
   "cell_type": "code",
   "execution_count": 179,
   "id": "a1c59ae5-08f2-408c-9a83-9234d2ef6990",
   "metadata": {},
   "outputs": [
    {
     "data": {
      "text/html": [
       "<div>\n",
       "<style scoped>\n",
       "    .dataframe tbody tr th:only-of-type {\n",
       "        vertical-align: middle;\n",
       "    }\n",
       "\n",
       "    .dataframe tbody tr th {\n",
       "        vertical-align: top;\n",
       "    }\n",
       "\n",
       "    .dataframe thead th {\n",
       "        text-align: right;\n",
       "    }\n",
       "</style>\n",
       "<table border=\"1\" class=\"dataframe\">\n",
       "  <thead>\n",
       "    <tr style=\"text-align: right;\">\n",
       "      <th></th>\n",
       "      <th>date</th>\n",
       "      <th>time</th>\n",
       "      <th>wrist</th>\n",
       "      <th>acceleration_x</th>\n",
       "      <th>acceleration_y</th>\n",
       "      <th>acceleration_z</th>\n",
       "      <th>gyro_x</th>\n",
       "      <th>gyro_y</th>\n",
       "      <th>gyro_z</th>\n",
       "    </tr>\n",
       "  </thead>\n",
       "  <tbody>\n",
       "    <tr>\n",
       "      <th>57800</th>\n",
       "      <td>0.090909</td>\n",
       "      <td>0.518056</td>\n",
       "      <td>0</td>\n",
       "      <td>1.6815</td>\n",
       "      <td>-0.4641</td>\n",
       "      <td>-0.9647</td>\n",
       "      <td>0.2961</td>\n",
       "      <td>-1.5709</td>\n",
       "      <td>-1.6958</td>\n",
       "    </tr>\n",
       "    <tr>\n",
       "      <th>53690</th>\n",
       "      <td>0.545455</td>\n",
       "      <td>0.972569</td>\n",
       "      <td>1</td>\n",
       "      <td>-0.1132</td>\n",
       "      <td>0.4044</td>\n",
       "      <td>-0.2144</td>\n",
       "      <td>1.7535</td>\n",
       "      <td>-0.7964</td>\n",
       "      <td>3.5975</td>\n",
       "    </tr>\n",
       "    <tr>\n",
       "      <th>75294</th>\n",
       "      <td>0.818182</td>\n",
       "      <td>0.668439</td>\n",
       "      <td>0</td>\n",
       "      <td>2.2226</td>\n",
       "      <td>-1.8281</td>\n",
       "      <td>-2.2184</td>\n",
       "      <td>-0.1521</td>\n",
       "      <td>-0.3216</td>\n",
       "      <td>2.7630</td>\n",
       "    </tr>\n",
       "    <tr>\n",
       "      <th>16113</th>\n",
       "      <td>0.363636</td>\n",
       "      <td>0.524061</td>\n",
       "      <td>1</td>\n",
       "      <td>0.0571</td>\n",
       "      <td>0.5462</td>\n",
       "      <td>-0.1377</td>\n",
       "      <td>0.7485</td>\n",
       "      <td>0.0477</td>\n",
       "      <td>2.0552</td>\n",
       "    </tr>\n",
       "    <tr>\n",
       "      <th>88456</th>\n",
       "      <td>1.000000</td>\n",
       "      <td>0.992900</td>\n",
       "      <td>0</td>\n",
       "      <td>0.3597</td>\n",
       "      <td>-1.2908</td>\n",
       "      <td>-0.3557</td>\n",
       "      <td>-0.8036</td>\n",
       "      <td>-0.7982</td>\n",
       "      <td>-1.3781</td>\n",
       "    </tr>\n",
       "    <tr>\n",
       "      <th>...</th>\n",
       "      <td>...</td>\n",
       "      <td>...</td>\n",
       "      <td>...</td>\n",
       "      <td>...</td>\n",
       "      <td>...</td>\n",
       "      <td>...</td>\n",
       "      <td>...</td>\n",
       "      <td>...</td>\n",
       "      <td>...</td>\n",
       "    </tr>\n",
       "    <tr>\n",
       "      <th>9381</th>\n",
       "      <td>0.272727</td>\n",
       "      <td>0.463556</td>\n",
       "      <td>1</td>\n",
       "      <td>0.0208</td>\n",
       "      <td>-0.5043</td>\n",
       "      <td>0.2691</td>\n",
       "      <td>0.2225</td>\n",
       "      <td>-0.5957</td>\n",
       "      <td>-1.7486</td>\n",
       "    </tr>\n",
       "    <tr>\n",
       "      <th>11566</th>\n",
       "      <td>0.272727</td>\n",
       "      <td>0.488175</td>\n",
       "      <td>1</td>\n",
       "      <td>0.2325</td>\n",
       "      <td>-0.7076</td>\n",
       "      <td>0.2374</td>\n",
       "      <td>-1.2124</td>\n",
       "      <td>-0.1643</td>\n",
       "      <td>0.2289</td>\n",
       "    </tr>\n",
       "    <tr>\n",
       "      <th>86768</th>\n",
       "      <td>1.000000</td>\n",
       "      <td>0.933049</td>\n",
       "      <td>0</td>\n",
       "      <td>0.5972</td>\n",
       "      <td>-1.0141</td>\n",
       "      <td>-0.3522</td>\n",
       "      <td>0.7481</td>\n",
       "      <td>-0.4093</td>\n",
       "      <td>3.0925</td>\n",
       "    </tr>\n",
       "    <tr>\n",
       "      <th>2428</th>\n",
       "      <td>0.000000</td>\n",
       "      <td>0.943863</td>\n",
       "      <td>0</td>\n",
       "      <td>0.1522</td>\n",
       "      <td>0.5670</td>\n",
       "      <td>-0.1219</td>\n",
       "      <td>-0.8155</td>\n",
       "      <td>1.0935</td>\n",
       "      <td>-1.4262</td>\n",
       "    </tr>\n",
       "    <tr>\n",
       "      <th>27362</th>\n",
       "      <td>0.454545</td>\n",
       "      <td>0.111089</td>\n",
       "      <td>1</td>\n",
       "      <td>-0.0726</td>\n",
       "      <td>-1.1731</td>\n",
       "      <td>-0.4033</td>\n",
       "      <td>0.5160</td>\n",
       "      <td>-2.1105</td>\n",
       "      <td>-0.4123</td>\n",
       "    </tr>\n",
       "  </tbody>\n",
       "</table>\n",
       "<p>21262 rows × 9 columns</p>\n",
       "</div>"
      ],
      "text/plain": [
       "           date      time  wrist  acceleration_x  acceleration_y  \\\n",
       "57800  0.090909  0.518056      0          1.6815         -0.4641   \n",
       "53690  0.545455  0.972569      1         -0.1132          0.4044   \n",
       "75294  0.818182  0.668439      0          2.2226         -1.8281   \n",
       "16113  0.363636  0.524061      1          0.0571          0.5462   \n",
       "88456  1.000000  0.992900      0          0.3597         -1.2908   \n",
       "...         ...       ...    ...             ...             ...   \n",
       "9381   0.272727  0.463556      1          0.0208         -0.5043   \n",
       "11566  0.272727  0.488175      1          0.2325         -0.7076   \n",
       "86768  1.000000  0.933049      0          0.5972         -1.0141   \n",
       "2428   0.000000  0.943863      0          0.1522          0.5670   \n",
       "27362  0.454545  0.111089      1         -0.0726         -1.1731   \n",
       "\n",
       "       acceleration_z  gyro_x  gyro_y  gyro_z  \n",
       "57800         -0.9647  0.2961 -1.5709 -1.6958  \n",
       "53690         -0.2144  1.7535 -0.7964  3.5975  \n",
       "75294         -2.2184 -0.1521 -0.3216  2.7630  \n",
       "16113         -0.1377  0.7485  0.0477  2.0552  \n",
       "88456         -0.3557 -0.8036 -0.7982 -1.3781  \n",
       "...               ...     ...     ...     ...  \n",
       "9381           0.2691  0.2225 -0.5957 -1.7486  \n",
       "11566          0.2374 -1.2124 -0.1643  0.2289  \n",
       "86768         -0.3522  0.7481 -0.4093  3.0925  \n",
       "2428          -0.1219 -0.8155  1.0935 -1.4262  \n",
       "27362         -0.4033  0.5160 -2.1105 -0.4123  \n",
       "\n",
       "[21262 rows x 9 columns]"
      ]
     },
     "execution_count": 179,
     "metadata": {},
     "output_type": "execute_result"
    }
   ],
   "source": [
    "x_test"
   ]
  },
  {
   "cell_type": "code",
   "execution_count": 180,
   "id": "a325d80b-ef5a-4d69-a6bf-bddaf0a9de80",
   "metadata": {},
   "outputs": [
    {
     "data": {
      "text/plain": [
       "array([1, 1, 1, ..., 1, 1, 0], dtype=int64)"
      ]
     },
     "execution_count": 180,
     "metadata": {},
     "output_type": "execute_result"
    }
   ],
   "source": [
    "y_test.values"
   ]
  },
  {
   "cell_type": "markdown",
   "id": "8d08af65-58fe-4ffe-8c5b-eb7ce6214276",
   "metadata": {},
   "source": [
    "# Model Evaluation"
   ]
  },
  {
   "cell_type": "code",
   "execution_count": 181,
   "id": "b8f95f9f-acd0-44c5-9827-2f14e9a885c3",
   "metadata": {},
   "outputs": [],
   "source": [
    "from sklearn.metrics import accuracy_score,precision_score,recall_score,roc_auc_score,confusion_matrix,classification_report,f1_score"
   ]
  },
  {
   "cell_type": "code",
   "execution_count": 182,
   "id": "d40af5d9-81d4-476b-8b98-85ef7fc7a287",
   "metadata": {},
   "outputs": [
    {
     "data": {
      "text/plain": [
       "0.9311917975731352"
      ]
     },
     "execution_count": 182,
     "metadata": {},
     "output_type": "execute_result"
    }
   ],
   "source": [
    "acc=accuracy_score(y_test,y_pred)\n",
    "acc"
   ]
  },
  {
   "cell_type": "code",
   "execution_count": 183,
   "id": "d92a86bf-299b-4326-a5f3-0d6395668576",
   "metadata": {},
   "outputs": [
    {
     "data": {
      "text/plain": [
       "0.9292060491493384"
      ]
     },
     "execution_count": 183,
     "metadata": {},
     "output_type": "execute_result"
    }
   ],
   "source": [
    "pr=precision_score(y_test,y_pred)\n",
    "pr"
   ]
  },
  {
   "cell_type": "code",
   "execution_count": 184,
   "id": "fe8706e5-6ba1-4900-a2a4-0d30e9fd56c2",
   "metadata": {},
   "outputs": [
    {
     "data": {
      "text/plain": [
       "0.9322901849217639"
      ]
     },
     "execution_count": 184,
     "metadata": {},
     "output_type": "execute_result"
    }
   ],
   "source": [
    "re=recall_score(y_test,y_pred)\n",
    "re"
   ]
  },
  {
   "cell_type": "code",
   "execution_count": 185,
   "id": "6a4cd91f-02c4-4872-97ba-41e119c63211",
   "metadata": {},
   "outputs": [
    {
     "data": {
      "text/html": [
       "<div>\n",
       "<style scoped>\n",
       "    .dataframe tbody tr th:only-of-type {\n",
       "        vertical-align: middle;\n",
       "    }\n",
       "\n",
       "    .dataframe tbody tr th {\n",
       "        vertical-align: top;\n",
       "    }\n",
       "\n",
       "    .dataframe thead th {\n",
       "        text-align: right;\n",
       "    }\n",
       "</style>\n",
       "<table border=\"1\" class=\"dataframe\">\n",
       "  <thead>\n",
       "    <tr style=\"text-align: right;\">\n",
       "      <th>col_0</th>\n",
       "      <th>0</th>\n",
       "      <th>1</th>\n",
       "    </tr>\n",
       "    <tr>\n",
       "      <th>activity</th>\n",
       "      <th></th>\n",
       "      <th></th>\n",
       "    </tr>\n",
       "  </thead>\n",
       "  <tbody>\n",
       "    <tr>\n",
       "      <th>0</th>\n",
       "      <td>9968</td>\n",
       "      <td>749</td>\n",
       "    </tr>\n",
       "    <tr>\n",
       "      <th>1</th>\n",
       "      <td>714</td>\n",
       "      <td>9831</td>\n",
       "    </tr>\n",
       "  </tbody>\n",
       "</table>\n",
       "</div>"
      ],
      "text/plain": [
       "col_0        0     1\n",
       "activity            \n",
       "0         9968   749\n",
       "1          714  9831"
      ]
     },
     "execution_count": 185,
     "metadata": {},
     "output_type": "execute_result"
    }
   ],
   "source": [
    "pd.crosstab(y_test,y_pred)"
   ]
  },
  {
   "cell_type": "code",
   "execution_count": 186,
   "id": "c6412098-61e3-42da-b489-9ea7c966d643",
   "metadata": {
    "scrolled": true
   },
   "outputs": [
    {
     "data": {
      "text/plain": [
       "0.9307455621301773"
      ]
     },
     "execution_count": 186,
     "metadata": {},
     "output_type": "execute_result"
    }
   ],
   "source": [
    "f1_score(y_test,y_pred)"
   ]
  },
  {
   "cell_type": "code",
   "execution_count": 187,
   "id": "3ef76e54-94b8-4c91-9d01-6137c3ad7e1b",
   "metadata": {},
   "outputs": [
    {
     "data": {
      "text/plain": [
       "0.9312006117293339"
      ]
     },
     "execution_count": 187,
     "metadata": {},
     "output_type": "execute_result"
    }
   ],
   "source": [
    "roc_auc_score(y_test,y_pred)"
   ]
  },
  {
   "cell_type": "code",
   "execution_count": 188,
   "id": "fa251a72-d47b-4c76-a163-645cffdd5c8c",
   "metadata": {},
   "outputs": [
    {
     "name": "stdout",
     "output_type": "stream",
     "text": [
      "              precision    recall  f1-score   support\n",
      "\n",
      "           0       0.93      0.93      0.93     10717\n",
      "           1       0.93      0.93      0.93     10545\n",
      "\n",
      "    accuracy                           0.93     21262\n",
      "   macro avg       0.93      0.93      0.93     21262\n",
      "weighted avg       0.93      0.93      0.93     21262\n",
      "\n"
     ]
    }
   ],
   "source": [
    "print(classification_report(y_test,y_pred))"
   ]
  },
  {
   "cell_type": "markdown",
   "id": "7043971a-aa4d-442a-9cc3-193769ccc2a2",
   "metadata": {},
   "source": [
    "# Cross Validation"
   ]
  },
  {
   "cell_type": "code",
   "execution_count": 189,
   "id": "47f2d752-f13c-49c0-a345-4e3f7833b861",
   "metadata": {},
   "outputs": [],
   "source": [
    "LR1=LogisticRegression()"
   ]
  },
  {
   "cell_type": "code",
   "execution_count": 190,
   "id": "80000338-3621-449d-a021-02baebac2e88",
   "metadata": {},
   "outputs": [
    {
     "data": {
      "text/plain": [
       "array([0.88405874, 0.93716338, 0.96288121, 0.87786949, 0.88598527])"
      ]
     },
     "execution_count": 190,
     "metadata": {},
     "output_type": "execute_result"
    }
   ],
   "source": [
    "from sklearn.model_selection import cross_val_score\n",
    "cv=cross_val_score(LR1,x,y,scoring='f1',cv=5)\n",
    "cv"
   ]
  },
  {
   "cell_type": "code",
   "execution_count": 191,
   "id": "c3f36bc5-4f36-4bb4-b807-59eac7a277f0",
   "metadata": {},
   "outputs": [
    {
     "data": {
      "text/plain": [
       "0.9095916172368212"
      ]
     },
     "execution_count": 191,
     "metadata": {},
     "output_type": "execute_result"
    }
   ],
   "source": [
    "cv.mean()"
   ]
  },
  {
   "cell_type": "code",
   "execution_count": 192,
   "id": "9d5cd777-2fde-4490-92d2-9bea236ab96e",
   "metadata": {},
   "outputs": [
    {
     "data": {
      "text/plain": [
       "0.03410414331651516"
      ]
     },
     "execution_count": 192,
     "metadata": {},
     "output_type": "execute_result"
    }
   ],
   "source": [
    "cv.std()"
   ]
  },
  {
   "cell_type": "markdown",
   "id": "4d0bab02-3c19-4358-8c18-349e59f1a493",
   "metadata": {},
   "source": [
    "# Hyperparameter tunning "
   ]
  },
  {
   "cell_type": "code",
   "execution_count": 193,
   "id": "b12b2b41-3fbb-45b7-99c5-00ad5a71b730",
   "metadata": {},
   "outputs": [],
   "source": [
    "from sklearn.model_selection import GridSearchCV"
   ]
  },
  {
   "cell_type": "code",
   "execution_count": 194,
   "id": "adbf3c0c-1866-45a3-bf43-eccfb1ad7002",
   "metadata": {},
   "outputs": [],
   "source": [
    "LR2=LogisticRegression()"
   ]
  },
  {
   "cell_type": "code",
   "execution_count": 195,
   "id": "4dc755f9-6cd5-4b03-a018-aeac31fc3eca",
   "metadata": {},
   "outputs": [],
   "source": [
    "param_grid={'C':[0.1,1,10,100,1000],'tol':[0.00001,0.0001,0.001,0.01,0.1]}"
   ]
  },
  {
   "cell_type": "code",
   "execution_count": 196,
   "id": "af9a8d12-c630-4d4b-b5db-965d825d4463",
   "metadata": {},
   "outputs": [],
   "source": [
    "grid=GridSearchCV(LR2,param_grid,scoring='f1',cv=5,verbose=3)"
   ]
  },
  {
   "cell_type": "code",
   "execution_count": 197,
   "id": "204065b7-6d43-4709-8b8a-786b2c166bc9",
   "metadata": {
    "scrolled": true
   },
   "outputs": [
    {
     "name": "stdout",
     "output_type": "stream",
     "text": [
      "Fitting 5 folds for each of 25 candidates, totalling 125 fits\n",
      "[CV 1/5] END ..................C=0.1, tol=1e-05;, score=0.926 total time=   0.2s\n",
      "[CV 2/5] END ..................C=0.1, tol=1e-05;, score=0.929 total time=   0.2s\n",
      "[CV 3/5] END ..................C=0.1, tol=1e-05;, score=0.932 total time=   0.2s\n",
      "[CV 4/5] END ..................C=0.1, tol=1e-05;, score=0.930 total time=   0.2s\n",
      "[CV 5/5] END ..................C=0.1, tol=1e-05;, score=0.927 total time=   0.2s\n",
      "[CV 1/5] END .................C=0.1, tol=0.0001;, score=0.926 total time=   0.2s\n",
      "[CV 2/5] END .................C=0.1, tol=0.0001;, score=0.929 total time=   0.2s\n",
      "[CV 3/5] END .................C=0.1, tol=0.0001;, score=0.932 total time=   0.2s\n",
      "[CV 4/5] END .................C=0.1, tol=0.0001;, score=0.930 total time=   0.2s\n",
      "[CV 5/5] END .................C=0.1, tol=0.0001;, score=0.927 total time=   0.2s\n",
      "[CV 1/5] END ..................C=0.1, tol=0.001;, score=0.926 total time=   0.2s\n",
      "[CV 2/5] END ..................C=0.1, tol=0.001;, score=0.929 total time=   0.2s\n",
      "[CV 3/5] END ..................C=0.1, tol=0.001;, score=0.932 total time=   0.2s\n",
      "[CV 4/5] END ..................C=0.1, tol=0.001;, score=0.930 total time=   0.2s\n",
      "[CV 5/5] END ..................C=0.1, tol=0.001;, score=0.927 total time=   0.2s\n",
      "[CV 1/5] END ...................C=0.1, tol=0.01;, score=0.926 total time=   0.2s\n",
      "[CV 2/5] END ...................C=0.1, tol=0.01;, score=0.929 total time=   0.2s\n",
      "[CV 3/5] END ...................C=0.1, tol=0.01;, score=0.932 total time=   0.2s\n",
      "[CV 4/5] END ...................C=0.1, tol=0.01;, score=0.930 total time=   0.2s\n",
      "[CV 5/5] END ...................C=0.1, tol=0.01;, score=0.927 total time=   0.2s\n",
      "[CV 1/5] END ....................C=0.1, tol=0.1;, score=0.926 total time=   0.2s\n",
      "[CV 2/5] END ....................C=0.1, tol=0.1;, score=0.929 total time=   0.2s\n",
      "[CV 3/5] END ....................C=0.1, tol=0.1;, score=0.932 total time=   0.1s\n",
      "[CV 4/5] END ....................C=0.1, tol=0.1;, score=0.930 total time=   0.2s\n",
      "[CV 5/5] END ....................C=0.1, tol=0.1;, score=0.927 total time=   0.2s\n",
      "[CV 1/5] END ....................C=1, tol=1e-05;, score=0.926 total time=   0.2s\n",
      "[CV 2/5] END ....................C=1, tol=1e-05;, score=0.930 total time=   0.2s\n",
      "[CV 3/5] END ....................C=1, tol=1e-05;, score=0.932 total time=   0.2s\n",
      "[CV 4/5] END ....................C=1, tol=1e-05;, score=0.931 total time=   0.2s\n",
      "[CV 5/5] END ....................C=1, tol=1e-05;, score=0.928 total time=   0.1s\n",
      "[CV 1/5] END ...................C=1, tol=0.0001;, score=0.926 total time=   0.2s\n",
      "[CV 2/5] END ...................C=1, tol=0.0001;, score=0.930 total time=   0.2s\n",
      "[CV 3/5] END ...................C=1, tol=0.0001;, score=0.932 total time=   0.2s\n",
      "[CV 4/5] END ...................C=1, tol=0.0001;, score=0.931 total time=   0.2s\n",
      "[CV 5/5] END ...................C=1, tol=0.0001;, score=0.928 total time=   0.2s\n",
      "[CV 1/5] END ....................C=1, tol=0.001;, score=0.926 total time=   0.2s\n",
      "[CV 2/5] END ....................C=1, tol=0.001;, score=0.930 total time=   0.2s\n",
      "[CV 3/5] END ....................C=1, tol=0.001;, score=0.932 total time=   0.2s\n",
      "[CV 4/5] END ....................C=1, tol=0.001;, score=0.931 total time=   0.2s\n",
      "[CV 5/5] END ....................C=1, tol=0.001;, score=0.928 total time=   0.2s\n",
      "[CV 1/5] END .....................C=1, tol=0.01;, score=0.926 total time=   0.2s\n",
      "[CV 2/5] END .....................C=1, tol=0.01;, score=0.930 total time=   0.2s\n",
      "[CV 3/5] END .....................C=1, tol=0.01;, score=0.932 total time=   0.2s\n",
      "[CV 4/5] END .....................C=1, tol=0.01;, score=0.931 total time=   0.2s\n",
      "[CV 5/5] END .....................C=1, tol=0.01;, score=0.928 total time=   0.2s\n",
      "[CV 1/5] END ......................C=1, tol=0.1;, score=0.926 total time=   0.2s\n",
      "[CV 2/5] END ......................C=1, tol=0.1;, score=0.930 total time=   0.2s\n",
      "[CV 3/5] END ......................C=1, tol=0.1;, score=0.932 total time=   0.2s\n",
      "[CV 4/5] END ......................C=1, tol=0.1;, score=0.931 total time=   0.2s\n",
      "[CV 5/5] END ......................C=1, tol=0.1;, score=0.928 total time=   0.2s\n",
      "[CV 1/5] END ...................C=10, tol=1e-05;, score=0.926 total time=   0.2s\n",
      "[CV 2/5] END ...................C=10, tol=1e-05;, score=0.930 total time=   0.2s\n",
      "[CV 3/5] END ...................C=10, tol=1e-05;, score=0.932 total time=   0.2s\n",
      "[CV 4/5] END ...................C=10, tol=1e-05;, score=0.931 total time=   0.2s\n",
      "[CV 5/5] END ...................C=10, tol=1e-05;, score=0.928 total time=   0.2s\n",
      "[CV 1/5] END ..................C=10, tol=0.0001;, score=0.926 total time=   0.2s\n",
      "[CV 2/5] END ..................C=10, tol=0.0001;, score=0.930 total time=   0.2s\n",
      "[CV 3/5] END ..................C=10, tol=0.0001;, score=0.932 total time=   0.2s\n",
      "[CV 4/5] END ..................C=10, tol=0.0001;, score=0.931 total time=   0.2s\n",
      "[CV 5/5] END ..................C=10, tol=0.0001;, score=0.928 total time=   0.2s\n",
      "[CV 1/5] END ...................C=10, tol=0.001;, score=0.926 total time=   0.2s\n",
      "[CV 2/5] END ...................C=10, tol=0.001;, score=0.930 total time=   0.2s\n",
      "[CV 3/5] END ...................C=10, tol=0.001;, score=0.932 total time=   0.2s\n",
      "[CV 4/5] END ...................C=10, tol=0.001;, score=0.931 total time=   0.2s\n",
      "[CV 5/5] END ...................C=10, tol=0.001;, score=0.928 total time=   0.2s\n",
      "[CV 1/5] END ....................C=10, tol=0.01;, score=0.926 total time=   0.2s\n",
      "[CV 2/5] END ....................C=10, tol=0.01;, score=0.930 total time=   0.2s\n",
      "[CV 3/5] END ....................C=10, tol=0.01;, score=0.932 total time=   0.2s\n",
      "[CV 4/5] END ....................C=10, tol=0.01;, score=0.931 total time=   0.2s\n",
      "[CV 5/5] END ....................C=10, tol=0.01;, score=0.928 total time=   0.2s\n",
      "[CV 1/5] END .....................C=10, tol=0.1;, score=0.926 total time=   0.2s\n",
      "[CV 2/5] END .....................C=10, tol=0.1;, score=0.930 total time=   0.2s\n",
      "[CV 3/5] END .....................C=10, tol=0.1;, score=0.932 total time=   0.2s\n",
      "[CV 4/5] END .....................C=10, tol=0.1;, score=0.931 total time=   0.2s\n",
      "[CV 5/5] END .....................C=10, tol=0.1;, score=0.928 total time=   0.2s\n",
      "[CV 1/5] END ..................C=100, tol=1e-05;, score=0.926 total time=   0.2s\n",
      "[CV 2/5] END ..................C=100, tol=1e-05;, score=0.930 total time=   0.2s\n",
      "[CV 3/5] END ..................C=100, tol=1e-05;, score=0.932 total time=   0.2s\n",
      "[CV 4/5] END ..................C=100, tol=1e-05;, score=0.931 total time=   0.2s\n",
      "[CV 5/5] END ..................C=100, tol=1e-05;, score=0.928 total time=   0.2s\n",
      "[CV 1/5] END .................C=100, tol=0.0001;, score=0.926 total time=   0.3s\n",
      "[CV 2/5] END .................C=100, tol=0.0001;, score=0.930 total time=   0.2s\n",
      "[CV 3/5] END .................C=100, tol=0.0001;, score=0.932 total time=   0.2s\n",
      "[CV 4/5] END .................C=100, tol=0.0001;, score=0.931 total time=   0.2s\n",
      "[CV 5/5] END .................C=100, tol=0.0001;, score=0.928 total time=   0.2s\n",
      "[CV 1/5] END ..................C=100, tol=0.001;, score=0.926 total time=   0.3s\n",
      "[CV 2/5] END ..................C=100, tol=0.001;, score=0.930 total time=   0.2s\n",
      "[CV 3/5] END ..................C=100, tol=0.001;, score=0.932 total time=   0.2s\n",
      "[CV 4/5] END ..................C=100, tol=0.001;, score=0.931 total time=   0.2s\n",
      "[CV 5/5] END ..................C=100, tol=0.001;, score=0.928 total time=   0.2s\n",
      "[CV 1/5] END ...................C=100, tol=0.01;, score=0.926 total time=   0.3s\n",
      "[CV 2/5] END ...................C=100, tol=0.01;, score=0.930 total time=   0.2s\n",
      "[CV 3/5] END ...................C=100, tol=0.01;, score=0.932 total time=   0.2s\n",
      "[CV 4/5] END ...................C=100, tol=0.01;, score=0.931 total time=   0.2s\n",
      "[CV 5/5] END ...................C=100, tol=0.01;, score=0.928 total time=   0.2s\n",
      "[CV 1/5] END ....................C=100, tol=0.1;, score=0.926 total time=   0.2s\n",
      "[CV 2/5] END ....................C=100, tol=0.1;, score=0.930 total time=   0.2s\n",
      "[CV 3/5] END ....................C=100, tol=0.1;, score=0.932 total time=   0.2s\n",
      "[CV 4/5] END ....................C=100, tol=0.1;, score=0.931 total time=   0.2s\n",
      "[CV 5/5] END ....................C=100, tol=0.1;, score=0.928 total time=   0.2s\n",
      "[CV 1/5] END .................C=1000, tol=1e-05;, score=0.926 total time=   0.2s\n",
      "[CV 2/5] END .................C=1000, tol=1e-05;, score=0.930 total time=   0.2s\n",
      "[CV 3/5] END .................C=1000, tol=1e-05;, score=0.932 total time=   0.2s\n",
      "[CV 4/5] END .................C=1000, tol=1e-05;, score=0.931 total time=   0.2s\n",
      "[CV 5/5] END .................C=1000, tol=1e-05;, score=0.928 total time=   0.2s\n",
      "[CV 1/5] END ................C=1000, tol=0.0001;, score=0.926 total time=   0.2s\n",
      "[CV 2/5] END ................C=1000, tol=0.0001;, score=0.930 total time=   0.2s\n",
      "[CV 3/5] END ................C=1000, tol=0.0001;, score=0.932 total time=   0.2s\n",
      "[CV 4/5] END ................C=1000, tol=0.0001;, score=0.931 total time=   0.2s\n",
      "[CV 5/5] END ................C=1000, tol=0.0001;, score=0.928 total time=   0.2s\n",
      "[CV 1/5] END .................C=1000, tol=0.001;, score=0.926 total time=   0.2s\n",
      "[CV 2/5] END .................C=1000, tol=0.001;, score=0.930 total time=   0.2s\n",
      "[CV 3/5] END .................C=1000, tol=0.001;, score=0.932 total time=   0.2s\n",
      "[CV 4/5] END .................C=1000, tol=0.001;, score=0.931 total time=   0.2s\n",
      "[CV 5/5] END .................C=1000, tol=0.001;, score=0.928 total time=   0.2s\n",
      "[CV 1/5] END ..................C=1000, tol=0.01;, score=0.926 total time=   0.2s\n",
      "[CV 2/5] END ..................C=1000, tol=0.01;, score=0.930 total time=   0.2s\n",
      "[CV 3/5] END ..................C=1000, tol=0.01;, score=0.932 total time=   0.2s\n",
      "[CV 4/5] END ..................C=1000, tol=0.01;, score=0.931 total time=   0.2s\n",
      "[CV 5/5] END ..................C=1000, tol=0.01;, score=0.928 total time=   0.2s\n",
      "[CV 1/5] END ...................C=1000, tol=0.1;, score=0.926 total time=   0.2s\n",
      "[CV 2/5] END ...................C=1000, tol=0.1;, score=0.930 total time=   0.2s\n",
      "[CV 3/5] END ...................C=1000, tol=0.1;, score=0.932 total time=   0.2s\n",
      "[CV 4/5] END ...................C=1000, tol=0.1;, score=0.931 total time=   0.2s\n",
      "[CV 5/5] END ...................C=1000, tol=0.1;, score=0.928 total time=   0.2s\n"
     ]
    },
    {
     "data": {
      "text/html": [
       "<style>#sk-container-id-3 {color: black;background-color: white;}#sk-container-id-3 pre{padding: 0;}#sk-container-id-3 div.sk-toggleable {background-color: white;}#sk-container-id-3 label.sk-toggleable__label {cursor: pointer;display: block;width: 100%;margin-bottom: 0;padding: 0.3em;box-sizing: border-box;text-align: center;}#sk-container-id-3 label.sk-toggleable__label-arrow:before {content: \"▸\";float: left;margin-right: 0.25em;color: #696969;}#sk-container-id-3 label.sk-toggleable__label-arrow:hover:before {color: black;}#sk-container-id-3 div.sk-estimator:hover label.sk-toggleable__label-arrow:before {color: black;}#sk-container-id-3 div.sk-toggleable__content {max-height: 0;max-width: 0;overflow: hidden;text-align: left;background-color: #f0f8ff;}#sk-container-id-3 div.sk-toggleable__content pre {margin: 0.2em;color: black;border-radius: 0.25em;background-color: #f0f8ff;}#sk-container-id-3 input.sk-toggleable__control:checked~div.sk-toggleable__content {max-height: 200px;max-width: 100%;overflow: auto;}#sk-container-id-3 input.sk-toggleable__control:checked~label.sk-toggleable__label-arrow:before {content: \"▾\";}#sk-container-id-3 div.sk-estimator input.sk-toggleable__control:checked~label.sk-toggleable__label {background-color: #d4ebff;}#sk-container-id-3 div.sk-label input.sk-toggleable__control:checked~label.sk-toggleable__label {background-color: #d4ebff;}#sk-container-id-3 input.sk-hidden--visually {border: 0;clip: rect(1px 1px 1px 1px);clip: rect(1px, 1px, 1px, 1px);height: 1px;margin: -1px;overflow: hidden;padding: 0;position: absolute;width: 1px;}#sk-container-id-3 div.sk-estimator {font-family: monospace;background-color: #f0f8ff;border: 1px dotted black;border-radius: 0.25em;box-sizing: border-box;margin-bottom: 0.5em;}#sk-container-id-3 div.sk-estimator:hover {background-color: #d4ebff;}#sk-container-id-3 div.sk-parallel-item::after {content: \"\";width: 100%;border-bottom: 1px solid gray;flex-grow: 1;}#sk-container-id-3 div.sk-label:hover label.sk-toggleable__label {background-color: #d4ebff;}#sk-container-id-3 div.sk-serial::before {content: \"\";position: absolute;border-left: 1px solid gray;box-sizing: border-box;top: 0;bottom: 0;left: 50%;z-index: 0;}#sk-container-id-3 div.sk-serial {display: flex;flex-direction: column;align-items: center;background-color: white;padding-right: 0.2em;padding-left: 0.2em;position: relative;}#sk-container-id-3 div.sk-item {position: relative;z-index: 1;}#sk-container-id-3 div.sk-parallel {display: flex;align-items: stretch;justify-content: center;background-color: white;position: relative;}#sk-container-id-3 div.sk-item::before, #sk-container-id-3 div.sk-parallel-item::before {content: \"\";position: absolute;border-left: 1px solid gray;box-sizing: border-box;top: 0;bottom: 0;left: 50%;z-index: -1;}#sk-container-id-3 div.sk-parallel-item {display: flex;flex-direction: column;z-index: 1;position: relative;background-color: white;}#sk-container-id-3 div.sk-parallel-item:first-child::after {align-self: flex-end;width: 50%;}#sk-container-id-3 div.sk-parallel-item:last-child::after {align-self: flex-start;width: 50%;}#sk-container-id-3 div.sk-parallel-item:only-child::after {width: 0;}#sk-container-id-3 div.sk-dashed-wrapped {border: 1px dashed gray;margin: 0 0.4em 0.5em 0.4em;box-sizing: border-box;padding-bottom: 0.4em;background-color: white;}#sk-container-id-3 div.sk-label label {font-family: monospace;font-weight: bold;display: inline-block;line-height: 1.2em;}#sk-container-id-3 div.sk-label-container {text-align: center;}#sk-container-id-3 div.sk-container {/* jupyter's `normalize.less` sets `[hidden] { display: none; }` but bootstrap.min.css set `[hidden] { display: none !important; }` so we also need the `!important` here to be able to override the default hidden behavior on the sphinx rendered scikit-learn.org. See: https://github.com/scikit-learn/scikit-learn/issues/21755 */display: inline-block !important;position: relative;}#sk-container-id-3 div.sk-text-repr-fallback {display: none;}</style><div id=\"sk-container-id-3\" class=\"sk-top-container\"><div class=\"sk-text-repr-fallback\"><pre>GridSearchCV(cv=5, estimator=LogisticRegression(),\n",
       "             param_grid={&#x27;C&#x27;: [0.1, 1, 10, 100, 1000],\n",
       "                         &#x27;tol&#x27;: [1e-05, 0.0001, 0.001, 0.01, 0.1]},\n",
       "             scoring=&#x27;f1&#x27;, verbose=3)</pre><b>In a Jupyter environment, please rerun this cell to show the HTML representation or trust the notebook. <br />On GitHub, the HTML representation is unable to render, please try loading this page with nbviewer.org.</b></div><div class=\"sk-container\" hidden><div class=\"sk-item sk-dashed-wrapped\"><div class=\"sk-label-container\"><div class=\"sk-label sk-toggleable\"><input class=\"sk-toggleable__control sk-hidden--visually\" id=\"sk-estimator-id-3\" type=\"checkbox\" ><label for=\"sk-estimator-id-3\" class=\"sk-toggleable__label sk-toggleable__label-arrow\">GridSearchCV</label><div class=\"sk-toggleable__content\"><pre>GridSearchCV(cv=5, estimator=LogisticRegression(),\n",
       "             param_grid={&#x27;C&#x27;: [0.1, 1, 10, 100, 1000],\n",
       "                         &#x27;tol&#x27;: [1e-05, 0.0001, 0.001, 0.01, 0.1]},\n",
       "             scoring=&#x27;f1&#x27;, verbose=3)</pre></div></div></div><div class=\"sk-parallel\"><div class=\"sk-parallel-item\"><div class=\"sk-item\"><div class=\"sk-label-container\"><div class=\"sk-label sk-toggleable\"><input class=\"sk-toggleable__control sk-hidden--visually\" id=\"sk-estimator-id-4\" type=\"checkbox\" ><label for=\"sk-estimator-id-4\" class=\"sk-toggleable__label sk-toggleable__label-arrow\">estimator: LogisticRegression</label><div class=\"sk-toggleable__content\"><pre>LogisticRegression()</pre></div></div></div><div class=\"sk-serial\"><div class=\"sk-item\"><div class=\"sk-estimator sk-toggleable\"><input class=\"sk-toggleable__control sk-hidden--visually\" id=\"sk-estimator-id-5\" type=\"checkbox\" ><label for=\"sk-estimator-id-5\" class=\"sk-toggleable__label sk-toggleable__label-arrow\">LogisticRegression</label><div class=\"sk-toggleable__content\"><pre>LogisticRegression()</pre></div></div></div></div></div></div></div></div></div></div>"
      ],
      "text/plain": [
       "GridSearchCV(cv=5, estimator=LogisticRegression(),\n",
       "             param_grid={'C': [0.1, 1, 10, 100, 1000],\n",
       "                         'tol': [1e-05, 0.0001, 0.001, 0.01, 0.1]},\n",
       "             scoring='f1', verbose=3)"
      ]
     },
     "execution_count": 197,
     "metadata": {},
     "output_type": "execute_result"
    }
   ],
   "source": [
    "grid.fit(x_train,y_train)"
   ]
  },
  {
   "cell_type": "code",
   "execution_count": 198,
   "id": "9d748503-7068-487e-a5c8-d2bb7fec046d",
   "metadata": {},
   "outputs": [
    {
     "data": {
      "text/plain": [
       "{'C': 1, 'tol': 1e-05}"
      ]
     },
     "execution_count": 198,
     "metadata": {},
     "output_type": "execute_result"
    }
   ],
   "source": [
    "grid.best_params_"
   ]
  },
  {
   "cell_type": "code",
   "execution_count": 199,
   "id": "72d6e85d-f448-46a5-bf8e-727e486b57d8",
   "metadata": {},
   "outputs": [
    {
     "data": {
      "text/html": [
       "<style>#sk-container-id-4 {color: black;background-color: white;}#sk-container-id-4 pre{padding: 0;}#sk-container-id-4 div.sk-toggleable {background-color: white;}#sk-container-id-4 label.sk-toggleable__label {cursor: pointer;display: block;width: 100%;margin-bottom: 0;padding: 0.3em;box-sizing: border-box;text-align: center;}#sk-container-id-4 label.sk-toggleable__label-arrow:before {content: \"▸\";float: left;margin-right: 0.25em;color: #696969;}#sk-container-id-4 label.sk-toggleable__label-arrow:hover:before {color: black;}#sk-container-id-4 div.sk-estimator:hover label.sk-toggleable__label-arrow:before {color: black;}#sk-container-id-4 div.sk-toggleable__content {max-height: 0;max-width: 0;overflow: hidden;text-align: left;background-color: #f0f8ff;}#sk-container-id-4 div.sk-toggleable__content pre {margin: 0.2em;color: black;border-radius: 0.25em;background-color: #f0f8ff;}#sk-container-id-4 input.sk-toggleable__control:checked~div.sk-toggleable__content {max-height: 200px;max-width: 100%;overflow: auto;}#sk-container-id-4 input.sk-toggleable__control:checked~label.sk-toggleable__label-arrow:before {content: \"▾\";}#sk-container-id-4 div.sk-estimator input.sk-toggleable__control:checked~label.sk-toggleable__label {background-color: #d4ebff;}#sk-container-id-4 div.sk-label input.sk-toggleable__control:checked~label.sk-toggleable__label {background-color: #d4ebff;}#sk-container-id-4 input.sk-hidden--visually {border: 0;clip: rect(1px 1px 1px 1px);clip: rect(1px, 1px, 1px, 1px);height: 1px;margin: -1px;overflow: hidden;padding: 0;position: absolute;width: 1px;}#sk-container-id-4 div.sk-estimator {font-family: monospace;background-color: #f0f8ff;border: 1px dotted black;border-radius: 0.25em;box-sizing: border-box;margin-bottom: 0.5em;}#sk-container-id-4 div.sk-estimator:hover {background-color: #d4ebff;}#sk-container-id-4 div.sk-parallel-item::after {content: \"\";width: 100%;border-bottom: 1px solid gray;flex-grow: 1;}#sk-container-id-4 div.sk-label:hover label.sk-toggleable__label {background-color: #d4ebff;}#sk-container-id-4 div.sk-serial::before {content: \"\";position: absolute;border-left: 1px solid gray;box-sizing: border-box;top: 0;bottom: 0;left: 50%;z-index: 0;}#sk-container-id-4 div.sk-serial {display: flex;flex-direction: column;align-items: center;background-color: white;padding-right: 0.2em;padding-left: 0.2em;position: relative;}#sk-container-id-4 div.sk-item {position: relative;z-index: 1;}#sk-container-id-4 div.sk-parallel {display: flex;align-items: stretch;justify-content: center;background-color: white;position: relative;}#sk-container-id-4 div.sk-item::before, #sk-container-id-4 div.sk-parallel-item::before {content: \"\";position: absolute;border-left: 1px solid gray;box-sizing: border-box;top: 0;bottom: 0;left: 50%;z-index: -1;}#sk-container-id-4 div.sk-parallel-item {display: flex;flex-direction: column;z-index: 1;position: relative;background-color: white;}#sk-container-id-4 div.sk-parallel-item:first-child::after {align-self: flex-end;width: 50%;}#sk-container-id-4 div.sk-parallel-item:last-child::after {align-self: flex-start;width: 50%;}#sk-container-id-4 div.sk-parallel-item:only-child::after {width: 0;}#sk-container-id-4 div.sk-dashed-wrapped {border: 1px dashed gray;margin: 0 0.4em 0.5em 0.4em;box-sizing: border-box;padding-bottom: 0.4em;background-color: white;}#sk-container-id-4 div.sk-label label {font-family: monospace;font-weight: bold;display: inline-block;line-height: 1.2em;}#sk-container-id-4 div.sk-label-container {text-align: center;}#sk-container-id-4 div.sk-container {/* jupyter's `normalize.less` sets `[hidden] { display: none; }` but bootstrap.min.css set `[hidden] { display: none !important; }` so we also need the `!important` here to be able to override the default hidden behavior on the sphinx rendered scikit-learn.org. See: https://github.com/scikit-learn/scikit-learn/issues/21755 */display: inline-block !important;position: relative;}#sk-container-id-4 div.sk-text-repr-fallback {display: none;}</style><div id=\"sk-container-id-4\" class=\"sk-top-container\"><div class=\"sk-text-repr-fallback\"><pre>LogisticRegression(C=1, tol=1e-05)</pre><b>In a Jupyter environment, please rerun this cell to show the HTML representation or trust the notebook. <br />On GitHub, the HTML representation is unable to render, please try loading this page with nbviewer.org.</b></div><div class=\"sk-container\" hidden><div class=\"sk-item\"><div class=\"sk-estimator sk-toggleable\"><input class=\"sk-toggleable__control sk-hidden--visually\" id=\"sk-estimator-id-6\" type=\"checkbox\" checked><label for=\"sk-estimator-id-6\" class=\"sk-toggleable__label sk-toggleable__label-arrow\">LogisticRegression</label><div class=\"sk-toggleable__content\"><pre>LogisticRegression(C=1, tol=1e-05)</pre></div></div></div></div></div>"
      ],
      "text/plain": [
       "LogisticRegression(C=1, tol=1e-05)"
      ]
     },
     "execution_count": 199,
     "metadata": {},
     "output_type": "execute_result"
    }
   ],
   "source": [
    "grid.best_estimator_"
   ]
  },
  {
   "cell_type": "code",
   "execution_count": 200,
   "id": "db7c6792-3ed2-44fa-bab9-62a96b0cf3fa",
   "metadata": {},
   "outputs": [],
   "source": [
    "LR3=LogisticRegression(C= 0.1, tol=1e-05)"
   ]
  },
  {
   "cell_type": "code",
   "execution_count": 201,
   "id": "d73a40b6-4e05-4764-a29c-95064f1fedca",
   "metadata": {},
   "outputs": [
    {
     "data": {
      "text/html": [
       "<style>#sk-container-id-5 {color: black;background-color: white;}#sk-container-id-5 pre{padding: 0;}#sk-container-id-5 div.sk-toggleable {background-color: white;}#sk-container-id-5 label.sk-toggleable__label {cursor: pointer;display: block;width: 100%;margin-bottom: 0;padding: 0.3em;box-sizing: border-box;text-align: center;}#sk-container-id-5 label.sk-toggleable__label-arrow:before {content: \"▸\";float: left;margin-right: 0.25em;color: #696969;}#sk-container-id-5 label.sk-toggleable__label-arrow:hover:before {color: black;}#sk-container-id-5 div.sk-estimator:hover label.sk-toggleable__label-arrow:before {color: black;}#sk-container-id-5 div.sk-toggleable__content {max-height: 0;max-width: 0;overflow: hidden;text-align: left;background-color: #f0f8ff;}#sk-container-id-5 div.sk-toggleable__content pre {margin: 0.2em;color: black;border-radius: 0.25em;background-color: #f0f8ff;}#sk-container-id-5 input.sk-toggleable__control:checked~div.sk-toggleable__content {max-height: 200px;max-width: 100%;overflow: auto;}#sk-container-id-5 input.sk-toggleable__control:checked~label.sk-toggleable__label-arrow:before {content: \"▾\";}#sk-container-id-5 div.sk-estimator input.sk-toggleable__control:checked~label.sk-toggleable__label {background-color: #d4ebff;}#sk-container-id-5 div.sk-label input.sk-toggleable__control:checked~label.sk-toggleable__label {background-color: #d4ebff;}#sk-container-id-5 input.sk-hidden--visually {border: 0;clip: rect(1px 1px 1px 1px);clip: rect(1px, 1px, 1px, 1px);height: 1px;margin: -1px;overflow: hidden;padding: 0;position: absolute;width: 1px;}#sk-container-id-5 div.sk-estimator {font-family: monospace;background-color: #f0f8ff;border: 1px dotted black;border-radius: 0.25em;box-sizing: border-box;margin-bottom: 0.5em;}#sk-container-id-5 div.sk-estimator:hover {background-color: #d4ebff;}#sk-container-id-5 div.sk-parallel-item::after {content: \"\";width: 100%;border-bottom: 1px solid gray;flex-grow: 1;}#sk-container-id-5 div.sk-label:hover label.sk-toggleable__label {background-color: #d4ebff;}#sk-container-id-5 div.sk-serial::before {content: \"\";position: absolute;border-left: 1px solid gray;box-sizing: border-box;top: 0;bottom: 0;left: 50%;z-index: 0;}#sk-container-id-5 div.sk-serial {display: flex;flex-direction: column;align-items: center;background-color: white;padding-right: 0.2em;padding-left: 0.2em;position: relative;}#sk-container-id-5 div.sk-item {position: relative;z-index: 1;}#sk-container-id-5 div.sk-parallel {display: flex;align-items: stretch;justify-content: center;background-color: white;position: relative;}#sk-container-id-5 div.sk-item::before, #sk-container-id-5 div.sk-parallel-item::before {content: \"\";position: absolute;border-left: 1px solid gray;box-sizing: border-box;top: 0;bottom: 0;left: 50%;z-index: -1;}#sk-container-id-5 div.sk-parallel-item {display: flex;flex-direction: column;z-index: 1;position: relative;background-color: white;}#sk-container-id-5 div.sk-parallel-item:first-child::after {align-self: flex-end;width: 50%;}#sk-container-id-5 div.sk-parallel-item:last-child::after {align-self: flex-start;width: 50%;}#sk-container-id-5 div.sk-parallel-item:only-child::after {width: 0;}#sk-container-id-5 div.sk-dashed-wrapped {border: 1px dashed gray;margin: 0 0.4em 0.5em 0.4em;box-sizing: border-box;padding-bottom: 0.4em;background-color: white;}#sk-container-id-5 div.sk-label label {font-family: monospace;font-weight: bold;display: inline-block;line-height: 1.2em;}#sk-container-id-5 div.sk-label-container {text-align: center;}#sk-container-id-5 div.sk-container {/* jupyter's `normalize.less` sets `[hidden] { display: none; }` but bootstrap.min.css set `[hidden] { display: none !important; }` so we also need the `!important` here to be able to override the default hidden behavior on the sphinx rendered scikit-learn.org. See: https://github.com/scikit-learn/scikit-learn/issues/21755 */display: inline-block !important;position: relative;}#sk-container-id-5 div.sk-text-repr-fallback {display: none;}</style><div id=\"sk-container-id-5\" class=\"sk-top-container\"><div class=\"sk-text-repr-fallback\"><pre>LogisticRegression(C=0.1, tol=1e-05)</pre><b>In a Jupyter environment, please rerun this cell to show the HTML representation or trust the notebook. <br />On GitHub, the HTML representation is unable to render, please try loading this page with nbviewer.org.</b></div><div class=\"sk-container\" hidden><div class=\"sk-item\"><div class=\"sk-estimator sk-toggleable\"><input class=\"sk-toggleable__control sk-hidden--visually\" id=\"sk-estimator-id-7\" type=\"checkbox\" checked><label for=\"sk-estimator-id-7\" class=\"sk-toggleable__label sk-toggleable__label-arrow\">LogisticRegression</label><div class=\"sk-toggleable__content\"><pre>LogisticRegression(C=0.1, tol=1e-05)</pre></div></div></div></div></div>"
      ],
      "text/plain": [
       "LogisticRegression(C=0.1, tol=1e-05)"
      ]
     },
     "execution_count": 201,
     "metadata": {},
     "output_type": "execute_result"
    }
   ],
   "source": [
    "LR3.fit(x_train,y_train)"
   ]
  },
  {
   "cell_type": "code",
   "execution_count": 202,
   "id": "317d5722-7972-4da8-a56e-4ff8d99dc078",
   "metadata": {},
   "outputs": [
    {
     "data": {
      "text/plain": [
       "array([1, 1, 0, ..., 1, 1, 0], dtype=int64)"
      ]
     },
     "execution_count": 202,
     "metadata": {},
     "output_type": "execute_result"
    }
   ],
   "source": [
    "y_pred1=LR3.predict(x_test)\n",
    "y_pred1"
   ]
  },
  {
   "cell_type": "code",
   "execution_count": 203,
   "id": "5297a87b-471c-4bba-bea3-d7d6d85ae531",
   "metadata": {},
   "outputs": [
    {
     "data": {
      "text/plain": [
       "array([1, 1, 1, ..., 1, 1, 0], dtype=int64)"
      ]
     },
     "execution_count": 203,
     "metadata": {},
     "output_type": "execute_result"
    }
   ],
   "source": [
    "y_test.values"
   ]
  },
  {
   "cell_type": "markdown",
   "id": "cf5c305a-64b8-4919-bc54-2c51792c807e",
   "metadata": {},
   "source": [
    "## Model Evaluation of LogisticRegression"
   ]
  },
  {
   "cell_type": "markdown",
   "id": "b296b285-4d3a-43dc-b2b5-bc60d9dfd2e0",
   "metadata": {},
   "source": [
    "## Testing"
   ]
  },
  {
   "cell_type": "code",
   "execution_count": 204,
   "id": "7c1e0d47-5d82-4056-98e6-bdc8a1cb560e",
   "metadata": {},
   "outputs": [
    {
     "data": {
      "text/plain": [
       "0.9310977330448688"
      ]
     },
     "execution_count": 204,
     "metadata": {},
     "output_type": "execute_result"
    }
   ],
   "source": [
    "accuracy_score(y_test,y_pred1)"
   ]
  },
  {
   "cell_type": "code",
   "execution_count": 205,
   "id": "ff233369-34dc-4e04-98d0-a43902dda7ef",
   "metadata": {},
   "outputs": [
    {
     "data": {
      "text/plain": [
       "0.9293550217514659"
      ]
     },
     "execution_count": 205,
     "metadata": {},
     "output_type": "execute_result"
    }
   ],
   "source": [
    "precision_score(y_test,y_pred1)"
   ]
  },
  {
   "cell_type": "code",
   "execution_count": 206,
   "id": "77c45522-74d9-4ac6-b26e-837b2d4250ce",
   "metadata": {},
   "outputs": [
    {
     "data": {
      "text/plain": [
       "0.9319108582266477"
      ]
     },
     "execution_count": 206,
     "metadata": {},
     "output_type": "execute_result"
    }
   ],
   "source": [
    "recall_score(y_test,y_pred1)"
   ]
  },
  {
   "cell_type": "code",
   "execution_count": 207,
   "id": "e609f8a7-5b17-4149-9fd1-3429aa6cea25",
   "metadata": {},
   "outputs": [
    {
     "data": {
      "text/plain": [
       "0.9311042580766532"
      ]
     },
     "execution_count": 207,
     "metadata": {},
     "output_type": "execute_result"
    }
   ],
   "source": [
    "roc_auc_score(y_test,y_pred1)"
   ]
  },
  {
   "cell_type": "code",
   "execution_count": 208,
   "id": "12ad9a59-f750-4d68-8250-bb274090fab9",
   "metadata": {},
   "outputs": [
    {
     "data": {
      "text/html": [
       "<div>\n",
       "<style scoped>\n",
       "    .dataframe tbody tr th:only-of-type {\n",
       "        vertical-align: middle;\n",
       "    }\n",
       "\n",
       "    .dataframe tbody tr th {\n",
       "        vertical-align: top;\n",
       "    }\n",
       "\n",
       "    .dataframe thead th {\n",
       "        text-align: right;\n",
       "    }\n",
       "</style>\n",
       "<table border=\"1\" class=\"dataframe\">\n",
       "  <thead>\n",
       "    <tr style=\"text-align: right;\">\n",
       "      <th>col_0</th>\n",
       "      <th>0</th>\n",
       "      <th>1</th>\n",
       "    </tr>\n",
       "    <tr>\n",
       "      <th>activity</th>\n",
       "      <th></th>\n",
       "      <th></th>\n",
       "    </tr>\n",
       "  </thead>\n",
       "  <tbody>\n",
       "    <tr>\n",
       "      <th>0</th>\n",
       "      <td>9970</td>\n",
       "      <td>747</td>\n",
       "    </tr>\n",
       "    <tr>\n",
       "      <th>1</th>\n",
       "      <td>718</td>\n",
       "      <td>9827</td>\n",
       "    </tr>\n",
       "  </tbody>\n",
       "</table>\n",
       "</div>"
      ],
      "text/plain": [
       "col_0        0     1\n",
       "activity            \n",
       "0         9970   747\n",
       "1          718  9827"
      ]
     },
     "execution_count": 208,
     "metadata": {},
     "output_type": "execute_result"
    }
   ],
   "source": [
    "pd.crosstab(y_test,y_pred1)"
   ]
  },
  {
   "cell_type": "code",
   "execution_count": 209,
   "id": "8a98d141-f0b4-4681-83d0-47b8bbf25342",
   "metadata": {},
   "outputs": [
    {
     "name": "stdout",
     "output_type": "stream",
     "text": [
      "              precision    recall  f1-score   support\n",
      "\n",
      "           0       0.93      0.93      0.93     10717\n",
      "           1       0.93      0.93      0.93     10545\n",
      "\n",
      "    accuracy                           0.93     21262\n",
      "   macro avg       0.93      0.93      0.93     21262\n",
      "weighted avg       0.93      0.93      0.93     21262\n",
      "\n"
     ]
    }
   ],
   "source": [
    "print(classification_report(y_test,y_pred1))"
   ]
  },
  {
   "cell_type": "code",
   "execution_count": 210,
   "id": "6c2103b4-426b-49bc-ab7e-2dfb770d9cd8",
   "metadata": {},
   "outputs": [
    {
     "data": {
      "text/plain": [
       "0.9306311851886927"
      ]
     },
     "execution_count": 210,
     "metadata": {},
     "output_type": "execute_result"
    }
   ],
   "source": [
    "f1_score(y_test,y_pred1)"
   ]
  },
  {
   "cell_type": "markdown",
   "id": "e8215c82-14f2-423a-bc8a-851408f2a182",
   "metadata": {},
   "source": [
    "## Training"
   ]
  },
  {
   "cell_type": "code",
   "execution_count": 211,
   "id": "7d96c6e9-8f82-4c0e-b9fa-d679afdb2784",
   "metadata": {},
   "outputs": [],
   "source": [
    "y_pred_lrhtr=LR3.predict(x_train)"
   ]
  },
  {
   "cell_type": "code",
   "execution_count": 212,
   "id": "9a35cee9-c3b1-42c7-aaa2-133d4d69f140",
   "metadata": {},
   "outputs": [
    {
     "data": {
      "text/plain": [
       "0.9286159878798681"
      ]
     },
     "execution_count": 212,
     "metadata": {},
     "output_type": "execute_result"
    }
   ],
   "source": [
    "accuracy_score(y_train,y_pred_lrhtr)"
   ]
  },
  {
   "cell_type": "code",
   "execution_count": 213,
   "id": "0f73fe96-38b5-47ae-bdfc-4f238b4ecd03",
   "metadata": {},
   "outputs": [
    {
     "data": {
      "text/plain": [
       "0.9290354970173055"
      ]
     },
     "execution_count": 213,
     "metadata": {},
     "output_type": "execute_result"
    }
   ],
   "source": [
    "f1_score(y_train,y_pred_lrhtr)"
   ]
  },
  {
   "cell_type": "code",
   "execution_count": 214,
   "id": "296a44cc-1352-4bfb-b1c1-8f370a14ce30",
   "metadata": {},
   "outputs": [
    {
     "data": {
      "text/plain": [
       "0.9301892371377883"
      ]
     },
     "execution_count": 214,
     "metadata": {},
     "output_type": "execute_result"
    }
   ],
   "source": [
    "recall_score(y_train,y_pred_lrhtr)"
   ]
  },
  {
   "cell_type": "code",
   "execution_count": 215,
   "id": "a3a61e86-d8d7-49c8-86ad-b124184eed09",
   "metadata": {},
   "outputs": [
    {
     "data": {
      "text/plain": [
       "0.9278846153846154"
      ]
     },
     "execution_count": 215,
     "metadata": {},
     "output_type": "execute_result"
    }
   ],
   "source": [
    "precision_score(y_train,y_pred_lrhtr)"
   ]
  },
  {
   "cell_type": "code",
   "execution_count": 216,
   "id": "f7a6c434-e99e-46ee-9b10-aef8535a3d64",
   "metadata": {},
   "outputs": [
    {
     "data": {
      "text/html": [
       "<div>\n",
       "<style scoped>\n",
       "    .dataframe tbody tr th:only-of-type {\n",
       "        vertical-align: middle;\n",
       "    }\n",
       "\n",
       "    .dataframe tbody tr th {\n",
       "        vertical-align: top;\n",
       "    }\n",
       "\n",
       "    .dataframe thead th {\n",
       "        text-align: right;\n",
       "    }\n",
       "</style>\n",
       "<table border=\"1\" class=\"dataframe\">\n",
       "  <thead>\n",
       "    <tr style=\"text-align: right;\">\n",
       "      <th>col_0</th>\n",
       "      <th>0</th>\n",
       "      <th>1</th>\n",
       "    </tr>\n",
       "    <tr>\n",
       "      <th>activity</th>\n",
       "      <th></th>\n",
       "      <th></th>\n",
       "    </tr>\n",
       "  </thead>\n",
       "  <tbody>\n",
       "    <tr>\n",
       "      <th>0</th>\n",
       "      <td>31061</td>\n",
       "      <td>2445</td>\n",
       "    </tr>\n",
       "    <tr>\n",
       "      <th>1</th>\n",
       "      <td>2361</td>\n",
       "      <td>31459</td>\n",
       "    </tr>\n",
       "  </tbody>\n",
       "</table>\n",
       "</div>"
      ],
      "text/plain": [
       "col_0         0      1\n",
       "activity              \n",
       "0         31061   2445\n",
       "1          2361  31459"
      ]
     },
     "execution_count": 216,
     "metadata": {},
     "output_type": "execute_result"
    }
   ],
   "source": [
    "pd.crosstab(y_train,y_pred_lrhtr)"
   ]
  },
  {
   "cell_type": "code",
   "execution_count": 217,
   "id": "c284b4e4-9cf8-40b8-906b-15dbec1f0782",
   "metadata": {},
   "outputs": [
    {
     "data": {
      "text/plain": [
       "0.9286086160618805"
      ]
     },
     "execution_count": 217,
     "metadata": {},
     "output_type": "execute_result"
    }
   ],
   "source": [
    "roc_auc_score(y_train,y_pred_lrhtr)"
   ]
  },
  {
   "cell_type": "markdown",
   "id": "8b17ade8-fbbd-4c2c-9ad2-4eefb32ee5fc",
   "metadata": {},
   "source": [
    "## SVM"
   ]
  },
  {
   "cell_type": "code",
   "execution_count": 218,
   "id": "1dab8bc6-b20a-4660-978c-79aa06cb91d6",
   "metadata": {},
   "outputs": [],
   "source": [
    "from sklearn.svm import SVC"
   ]
  },
  {
   "cell_type": "code",
   "execution_count": 219,
   "id": "aa810c79-b0fe-46fd-8ca2-05a2f9b634ba",
   "metadata": {},
   "outputs": [],
   "source": [
    "sv=SVC()"
   ]
  },
  {
   "cell_type": "code",
   "execution_count": 220,
   "id": "e2730dec-e380-4c0f-8cc6-0cb3c2038527",
   "metadata": {},
   "outputs": [
    {
     "data": {
      "text/html": [
       "<style>#sk-container-id-6 {color: black;background-color: white;}#sk-container-id-6 pre{padding: 0;}#sk-container-id-6 div.sk-toggleable {background-color: white;}#sk-container-id-6 label.sk-toggleable__label {cursor: pointer;display: block;width: 100%;margin-bottom: 0;padding: 0.3em;box-sizing: border-box;text-align: center;}#sk-container-id-6 label.sk-toggleable__label-arrow:before {content: \"▸\";float: left;margin-right: 0.25em;color: #696969;}#sk-container-id-6 label.sk-toggleable__label-arrow:hover:before {color: black;}#sk-container-id-6 div.sk-estimator:hover label.sk-toggleable__label-arrow:before {color: black;}#sk-container-id-6 div.sk-toggleable__content {max-height: 0;max-width: 0;overflow: hidden;text-align: left;background-color: #f0f8ff;}#sk-container-id-6 div.sk-toggleable__content pre {margin: 0.2em;color: black;border-radius: 0.25em;background-color: #f0f8ff;}#sk-container-id-6 input.sk-toggleable__control:checked~div.sk-toggleable__content {max-height: 200px;max-width: 100%;overflow: auto;}#sk-container-id-6 input.sk-toggleable__control:checked~label.sk-toggleable__label-arrow:before {content: \"▾\";}#sk-container-id-6 div.sk-estimator input.sk-toggleable__control:checked~label.sk-toggleable__label {background-color: #d4ebff;}#sk-container-id-6 div.sk-label input.sk-toggleable__control:checked~label.sk-toggleable__label {background-color: #d4ebff;}#sk-container-id-6 input.sk-hidden--visually {border: 0;clip: rect(1px 1px 1px 1px);clip: rect(1px, 1px, 1px, 1px);height: 1px;margin: -1px;overflow: hidden;padding: 0;position: absolute;width: 1px;}#sk-container-id-6 div.sk-estimator {font-family: monospace;background-color: #f0f8ff;border: 1px dotted black;border-radius: 0.25em;box-sizing: border-box;margin-bottom: 0.5em;}#sk-container-id-6 div.sk-estimator:hover {background-color: #d4ebff;}#sk-container-id-6 div.sk-parallel-item::after {content: \"\";width: 100%;border-bottom: 1px solid gray;flex-grow: 1;}#sk-container-id-6 div.sk-label:hover label.sk-toggleable__label {background-color: #d4ebff;}#sk-container-id-6 div.sk-serial::before {content: \"\";position: absolute;border-left: 1px solid gray;box-sizing: border-box;top: 0;bottom: 0;left: 50%;z-index: 0;}#sk-container-id-6 div.sk-serial {display: flex;flex-direction: column;align-items: center;background-color: white;padding-right: 0.2em;padding-left: 0.2em;position: relative;}#sk-container-id-6 div.sk-item {position: relative;z-index: 1;}#sk-container-id-6 div.sk-parallel {display: flex;align-items: stretch;justify-content: center;background-color: white;position: relative;}#sk-container-id-6 div.sk-item::before, #sk-container-id-6 div.sk-parallel-item::before {content: \"\";position: absolute;border-left: 1px solid gray;box-sizing: border-box;top: 0;bottom: 0;left: 50%;z-index: -1;}#sk-container-id-6 div.sk-parallel-item {display: flex;flex-direction: column;z-index: 1;position: relative;background-color: white;}#sk-container-id-6 div.sk-parallel-item:first-child::after {align-self: flex-end;width: 50%;}#sk-container-id-6 div.sk-parallel-item:last-child::after {align-self: flex-start;width: 50%;}#sk-container-id-6 div.sk-parallel-item:only-child::after {width: 0;}#sk-container-id-6 div.sk-dashed-wrapped {border: 1px dashed gray;margin: 0 0.4em 0.5em 0.4em;box-sizing: border-box;padding-bottom: 0.4em;background-color: white;}#sk-container-id-6 div.sk-label label {font-family: monospace;font-weight: bold;display: inline-block;line-height: 1.2em;}#sk-container-id-6 div.sk-label-container {text-align: center;}#sk-container-id-6 div.sk-container {/* jupyter's `normalize.less` sets `[hidden] { display: none; }` but bootstrap.min.css set `[hidden] { display: none !important; }` so we also need the `!important` here to be able to override the default hidden behavior on the sphinx rendered scikit-learn.org. See: https://github.com/scikit-learn/scikit-learn/issues/21755 */display: inline-block !important;position: relative;}#sk-container-id-6 div.sk-text-repr-fallback {display: none;}</style><div id=\"sk-container-id-6\" class=\"sk-top-container\"><div class=\"sk-text-repr-fallback\"><pre>SVC()</pre><b>In a Jupyter environment, please rerun this cell to show the HTML representation or trust the notebook. <br />On GitHub, the HTML representation is unable to render, please try loading this page with nbviewer.org.</b></div><div class=\"sk-container\" hidden><div class=\"sk-item\"><div class=\"sk-estimator sk-toggleable\"><input class=\"sk-toggleable__control sk-hidden--visually\" id=\"sk-estimator-id-8\" type=\"checkbox\" checked><label for=\"sk-estimator-id-8\" class=\"sk-toggleable__label sk-toggleable__label-arrow\">SVC</label><div class=\"sk-toggleable__content\"><pre>SVC()</pre></div></div></div></div></div>"
      ],
      "text/plain": [
       "SVC()"
      ]
     },
     "execution_count": 220,
     "metadata": {},
     "output_type": "execute_result"
    }
   ],
   "source": [
    "sv.fit(x_train,y_train)"
   ]
  },
  {
   "cell_type": "code",
   "execution_count": 221,
   "id": "31ed6553-ce74-4812-a354-fdb361f077df",
   "metadata": {},
   "outputs": [
    {
     "data": {
      "text/plain": [
       "array([1, 1, 1, ..., 1, 1, 0], dtype=int64)"
      ]
     },
     "execution_count": 221,
     "metadata": {},
     "output_type": "execute_result"
    }
   ],
   "source": [
    "y_pred_sv=sv.predict(x_test)\n",
    "y_pred_sv"
   ]
  },
  {
   "cell_type": "code",
   "execution_count": 222,
   "id": "a7391d86-6ec8-4586-81fc-df5a999aa2af",
   "metadata": {},
   "outputs": [
    {
     "data": {
      "text/plain": [
       "array([1, 1, 1, ..., 1, 1, 0], dtype=int64)"
      ]
     },
     "execution_count": 222,
     "metadata": {},
     "output_type": "execute_result"
    }
   ],
   "source": [
    "y_test.values"
   ]
  },
  {
   "cell_type": "code",
   "execution_count": 223,
   "id": "2b974cc8-2d2a-436c-95ec-b1a2d08aeecc",
   "metadata": {},
   "outputs": [],
   "source": [
    "from sklearn.metrics import accuracy_score,precision_score,recall_score,roc_auc_score,confusion_matrix,classification_report,f1_score"
   ]
  },
  {
   "cell_type": "code",
   "execution_count": 224,
   "id": "63053716-d2e0-4f68-99f6-3c2c10609f3a",
   "metadata": {},
   "outputs": [
    {
     "data": {
      "text/plain": [
       "0.9929764616552771"
      ]
     },
     "execution_count": 224,
     "metadata": {},
     "output_type": "execute_result"
    }
   ],
   "source": [
    "f1_score(y_test,y_pred_sv)"
   ]
  },
  {
   "cell_type": "code",
   "execution_count": 225,
   "id": "ab51949b-4be9-4454-9f97-d29a2e24456a",
   "metadata": {},
   "outputs": [
    {
     "data": {
      "text/plain": [
       "0.9311917975731352"
      ]
     },
     "execution_count": 225,
     "metadata": {},
     "output_type": "execute_result"
    }
   ],
   "source": [
    "acc_sv=accuracy_score(y_test,y_pred_sv)\n",
    "acc"
   ]
  },
  {
   "cell_type": "code",
   "execution_count": 226,
   "id": "1b05688f-f8c0-49a0-b79e-dd7b3d69156f",
   "metadata": {},
   "outputs": [
    {
     "data": {
      "text/plain": [
       "0.9921289710763395"
      ]
     },
     "execution_count": 226,
     "metadata": {},
     "output_type": "execute_result"
    }
   ],
   "source": [
    "recall_score(y_test,y_pred_sv)"
   ]
  },
  {
   "cell_type": "code",
   "execution_count": 227,
   "id": "543bd4f0-9dc6-4e62-a00e-2f7be258ffe8",
   "metadata": {},
   "outputs": [
    {
     "data": {
      "text/plain": [
       "0.9938254013489123"
      ]
     },
     "execution_count": 227,
     "metadata": {},
     "output_type": "execute_result"
    }
   ],
   "source": [
    "precision_score(y_test,y_pred_sv)"
   ]
  },
  {
   "cell_type": "code",
   "execution_count": 228,
   "id": "6194586d-1ba0-45de-9392-a4db573f22c6",
   "metadata": {
    "scrolled": true
   },
   "outputs": [
    {
     "data": {
      "text/html": [
       "<div>\n",
       "<style scoped>\n",
       "    .dataframe tbody tr th:only-of-type {\n",
       "        vertical-align: middle;\n",
       "    }\n",
       "\n",
       "    .dataframe tbody tr th {\n",
       "        vertical-align: top;\n",
       "    }\n",
       "\n",
       "    .dataframe thead th {\n",
       "        text-align: right;\n",
       "    }\n",
       "</style>\n",
       "<table border=\"1\" class=\"dataframe\">\n",
       "  <thead>\n",
       "    <tr style=\"text-align: right;\">\n",
       "      <th>col_0</th>\n",
       "      <th>0</th>\n",
       "      <th>1</th>\n",
       "    </tr>\n",
       "    <tr>\n",
       "      <th>activity</th>\n",
       "      <th></th>\n",
       "      <th></th>\n",
       "    </tr>\n",
       "  </thead>\n",
       "  <tbody>\n",
       "    <tr>\n",
       "      <th>0</th>\n",
       "      <td>10652</td>\n",
       "      <td>65</td>\n",
       "    </tr>\n",
       "    <tr>\n",
       "      <th>1</th>\n",
       "      <td>83</td>\n",
       "      <td>10462</td>\n",
       "    </tr>\n",
       "  </tbody>\n",
       "</table>\n",
       "</div>"
      ],
      "text/plain": [
       "col_0         0      1\n",
       "activity              \n",
       "0         10652     65\n",
       "1            83  10462"
      ]
     },
     "execution_count": 228,
     "metadata": {},
     "output_type": "execute_result"
    }
   ],
   "source": [
    "pd.crosstab(y_test,y_pred_sv)"
   ]
  },
  {
   "cell_type": "code",
   "execution_count": 229,
   "id": "d8890834-25bb-4cfb-8da1-a7a11b40f611",
   "metadata": {},
   "outputs": [
    {
     "data": {
      "text/plain": [
       "0.9930319204546576"
      ]
     },
     "execution_count": 229,
     "metadata": {},
     "output_type": "execute_result"
    }
   ],
   "source": [
    "roc_auc_score(y_test,y_pred_sv)"
   ]
  },
  {
   "cell_type": "code",
   "execution_count": 230,
   "id": "bb56a8d9-7305-4f19-99e1-8f805c7e800c",
   "metadata": {},
   "outputs": [
    {
     "data": {
      "text/plain": [
       "array([0, 0, 0, ..., 0, 1, 1], dtype=int64)"
      ]
     },
     "execution_count": 230,
     "metadata": {},
     "output_type": "execute_result"
    }
   ],
   "source": [
    "y_pred_sv1=sv.predict(x_train)\n",
    "y_pred_sv1"
   ]
  },
  {
   "cell_type": "code",
   "execution_count": 231,
   "id": "d60d0fa9-cb08-4cab-8eab-afab25964fef",
   "metadata": {},
   "outputs": [
    {
     "data": {
      "text/plain": [
       "0.9931230133974988"
      ]
     },
     "execution_count": 231,
     "metadata": {},
     "output_type": "execute_result"
    }
   ],
   "source": [
    "accuracy_score(y_train,y_pred_sv1)"
   ]
  },
  {
   "cell_type": "code",
   "execution_count": 232,
   "id": "96331853-3984-40f1-a851-4f8b077a0e43",
   "metadata": {
    "scrolled": true
   },
   "outputs": [
    {
     "name": "stdout",
     "output_type": "stream",
     "text": [
      "Counter({1: 33820, 0: 33506})\n"
     ]
    }
   ],
   "source": [
    "from collections import Counter\n",
    "print(Counter(y_train))"
   ]
  },
  {
   "cell_type": "markdown",
   "id": "d6cc0a98-14fa-4731-8a6c-955c736ae203",
   "metadata": {},
   "source": [
    "## Cross Validation"
   ]
  },
  {
   "cell_type": "code",
   "execution_count": 233,
   "id": "f1ba3d7e-d60c-4bb8-9268-7fb0acab1a1a",
   "metadata": {
    "scrolled": true
   },
   "outputs": [],
   "source": [
    "sv1=SVC()"
   ]
  },
  {
   "cell_type": "code",
   "execution_count": 234,
   "id": "8f35a433-d3e5-4460-9934-9b6b7e933f06",
   "metadata": {},
   "outputs": [],
   "source": [
    "from sklearn.model_selection import cross_val_score"
   ]
  },
  {
   "cell_type": "code",
   "execution_count": 235,
   "id": "4c603d66-b1d4-4d45-a9ca-0f907785700f",
   "metadata": {
    "scrolled": true
   },
   "outputs": [
    {
     "data": {
      "text/plain": [
       "array([0.96961885, 0.96043333])"
      ]
     },
     "execution_count": 235,
     "metadata": {},
     "output_type": "execute_result"
    }
   ],
   "source": [
    "cv=cross_val_score(sv1,x,y,scoring='f1',cv=2)\n",
    "cv"
   ]
  },
  {
   "cell_type": "markdown",
   "id": "88dd9887-2da6-4fec-88ec-29e4db20c8c7",
   "metadata": {},
   "source": [
    "## Hyperparameter Tunning"
   ]
  },
  {
   "cell_type": "code",
   "execution_count": 236,
   "id": "de3eb2e7-79c1-4c50-9e69-79d72815df7c",
   "metadata": {},
   "outputs": [],
   "source": [
    "from sklearn.model_selection import RandomizedSearchCV # grid is best option but it takes huge time "
   ]
  },
  {
   "cell_type": "code",
   "execution_count": 237,
   "id": "e8908ec1-b28c-4070-a7cf-7998c4c38cde",
   "metadata": {},
   "outputs": [],
   "source": [
    "sv2=SVC()"
   ]
  },
  {
   "cell_type": "code",
   "execution_count": 238,
   "id": "7dbd3c72-47fc-49ee-bf01-449ef0aa6a8c",
   "metadata": {},
   "outputs": [],
   "source": [
    "param_grid={'C':[0.1,1,10,100,1000],'gamma':[0.00001,0.0001,0.001,0.01,0.1]}"
   ]
  },
  {
   "cell_type": "code",
   "execution_count": 239,
   "id": "f8a2c444-7966-422f-b9ff-0ea33e6fbec5",
   "metadata": {},
   "outputs": [],
   "source": [
    "grid=RandomizedSearchCV(sv2,param_grid,scoring='f1',cv=2,verbose=3)"
   ]
  },
  {
   "cell_type": "code",
   "execution_count": 240,
   "id": "03c73403-a4af-46bf-b044-4798c11241a6",
   "metadata": {},
   "outputs": [
    {
     "name": "stdout",
     "output_type": "stream",
     "text": [
      "Fitting 2 folds for each of 10 candidates, totalling 20 fits\n",
      "[CV 1/2] END ..................C=1, gamma=0.001;, score=0.941 total time= 2.5min\n",
      "[CV 2/2] END ..................C=1, gamma=0.001;, score=0.941 total time= 2.6min\n",
      "[CV 1/2] END ..................C=100, gamma=0.1;, score=0.996 total time=  10.1s\n",
      "[CV 2/2] END ..................C=100, gamma=0.1;, score=0.996 total time=  10.1s\n",
      "[CV 1/2] END ..................C=10, gamma=0.01;, score=0.982 total time=  41.5s\n",
      "[CV 2/2] END ..................C=10, gamma=0.01;, score=0.983 total time=  40.0s\n",
      "[CV 1/2] END .................C=0.1, gamma=0.01;, score=0.954 total time= 2.3min\n",
      "[CV 2/2] END .................C=0.1, gamma=0.01;, score=0.955 total time= 2.3min\n",
      "[CV 1/2] END ................C=10, gamma=0.0001;, score=0.928 total time= 2.8min\n",
      "[CV 2/2] END ................C=10, gamma=0.0001;, score=0.928 total time= 3.0min\n",
      "[CV 1/2] END ................C=0.1, gamma=1e-05;, score=0.669 total time= 7.6min\n",
      "[CV 2/2] END ................C=0.1, gamma=1e-05;, score=0.669 total time= 7.0min\n",
      "[CV 1/2] END .................C=1000, gamma=0.1;, score=0.996 total time=  12.1s\n",
      "[CV 2/2] END .................C=1000, gamma=0.1;, score=0.996 total time=  10.8s\n",
      "[CV 1/2] END ................C=100, gamma=1e-05;, score=0.925 total time= 2.9min\n",
      "[CV 2/2] END ................C=100, gamma=1e-05;, score=0.923 total time= 2.8min\n",
      "[CV 1/2] END ...............C=1000, gamma=1e-05;, score=0.937 total time= 1.7min\n",
      "[CV 2/2] END ...............C=1000, gamma=1e-05;, score=0.938 total time= 1.7min\n",
      "[CV 1/2] END .................C=10, gamma=1e-05;, score=0.831 total time= 5.2min\n",
      "[CV 2/2] END .................C=10, gamma=1e-05;, score=0.830 total time= 5.2min\n"
     ]
    },
    {
     "data": {
      "text/html": [
       "<style>#sk-container-id-7 {color: black;background-color: white;}#sk-container-id-7 pre{padding: 0;}#sk-container-id-7 div.sk-toggleable {background-color: white;}#sk-container-id-7 label.sk-toggleable__label {cursor: pointer;display: block;width: 100%;margin-bottom: 0;padding: 0.3em;box-sizing: border-box;text-align: center;}#sk-container-id-7 label.sk-toggleable__label-arrow:before {content: \"▸\";float: left;margin-right: 0.25em;color: #696969;}#sk-container-id-7 label.sk-toggleable__label-arrow:hover:before {color: black;}#sk-container-id-7 div.sk-estimator:hover label.sk-toggleable__label-arrow:before {color: black;}#sk-container-id-7 div.sk-toggleable__content {max-height: 0;max-width: 0;overflow: hidden;text-align: left;background-color: #f0f8ff;}#sk-container-id-7 div.sk-toggleable__content pre {margin: 0.2em;color: black;border-radius: 0.25em;background-color: #f0f8ff;}#sk-container-id-7 input.sk-toggleable__control:checked~div.sk-toggleable__content {max-height: 200px;max-width: 100%;overflow: auto;}#sk-container-id-7 input.sk-toggleable__control:checked~label.sk-toggleable__label-arrow:before {content: \"▾\";}#sk-container-id-7 div.sk-estimator input.sk-toggleable__control:checked~label.sk-toggleable__label {background-color: #d4ebff;}#sk-container-id-7 div.sk-label input.sk-toggleable__control:checked~label.sk-toggleable__label {background-color: #d4ebff;}#sk-container-id-7 input.sk-hidden--visually {border: 0;clip: rect(1px 1px 1px 1px);clip: rect(1px, 1px, 1px, 1px);height: 1px;margin: -1px;overflow: hidden;padding: 0;position: absolute;width: 1px;}#sk-container-id-7 div.sk-estimator {font-family: monospace;background-color: #f0f8ff;border: 1px dotted black;border-radius: 0.25em;box-sizing: border-box;margin-bottom: 0.5em;}#sk-container-id-7 div.sk-estimator:hover {background-color: #d4ebff;}#sk-container-id-7 div.sk-parallel-item::after {content: \"\";width: 100%;border-bottom: 1px solid gray;flex-grow: 1;}#sk-container-id-7 div.sk-label:hover label.sk-toggleable__label {background-color: #d4ebff;}#sk-container-id-7 div.sk-serial::before {content: \"\";position: absolute;border-left: 1px solid gray;box-sizing: border-box;top: 0;bottom: 0;left: 50%;z-index: 0;}#sk-container-id-7 div.sk-serial {display: flex;flex-direction: column;align-items: center;background-color: white;padding-right: 0.2em;padding-left: 0.2em;position: relative;}#sk-container-id-7 div.sk-item {position: relative;z-index: 1;}#sk-container-id-7 div.sk-parallel {display: flex;align-items: stretch;justify-content: center;background-color: white;position: relative;}#sk-container-id-7 div.sk-item::before, #sk-container-id-7 div.sk-parallel-item::before {content: \"\";position: absolute;border-left: 1px solid gray;box-sizing: border-box;top: 0;bottom: 0;left: 50%;z-index: -1;}#sk-container-id-7 div.sk-parallel-item {display: flex;flex-direction: column;z-index: 1;position: relative;background-color: white;}#sk-container-id-7 div.sk-parallel-item:first-child::after {align-self: flex-end;width: 50%;}#sk-container-id-7 div.sk-parallel-item:last-child::after {align-self: flex-start;width: 50%;}#sk-container-id-7 div.sk-parallel-item:only-child::after {width: 0;}#sk-container-id-7 div.sk-dashed-wrapped {border: 1px dashed gray;margin: 0 0.4em 0.5em 0.4em;box-sizing: border-box;padding-bottom: 0.4em;background-color: white;}#sk-container-id-7 div.sk-label label {font-family: monospace;font-weight: bold;display: inline-block;line-height: 1.2em;}#sk-container-id-7 div.sk-label-container {text-align: center;}#sk-container-id-7 div.sk-container {/* jupyter's `normalize.less` sets `[hidden] { display: none; }` but bootstrap.min.css set `[hidden] { display: none !important; }` so we also need the `!important` here to be able to override the default hidden behavior on the sphinx rendered scikit-learn.org. See: https://github.com/scikit-learn/scikit-learn/issues/21755 */display: inline-block !important;position: relative;}#sk-container-id-7 div.sk-text-repr-fallback {display: none;}</style><div id=\"sk-container-id-7\" class=\"sk-top-container\"><div class=\"sk-text-repr-fallback\"><pre>RandomizedSearchCV(cv=2, estimator=SVC(),\n",
       "                   param_distributions={&#x27;C&#x27;: [0.1, 1, 10, 100, 1000],\n",
       "                                        &#x27;gamma&#x27;: [1e-05, 0.0001, 0.001, 0.01,\n",
       "                                                  0.1]},\n",
       "                   scoring=&#x27;f1&#x27;, verbose=3)</pre><b>In a Jupyter environment, please rerun this cell to show the HTML representation or trust the notebook. <br />On GitHub, the HTML representation is unable to render, please try loading this page with nbviewer.org.</b></div><div class=\"sk-container\" hidden><div class=\"sk-item sk-dashed-wrapped\"><div class=\"sk-label-container\"><div class=\"sk-label sk-toggleable\"><input class=\"sk-toggleable__control sk-hidden--visually\" id=\"sk-estimator-id-9\" type=\"checkbox\" ><label for=\"sk-estimator-id-9\" class=\"sk-toggleable__label sk-toggleable__label-arrow\">RandomizedSearchCV</label><div class=\"sk-toggleable__content\"><pre>RandomizedSearchCV(cv=2, estimator=SVC(),\n",
       "                   param_distributions={&#x27;C&#x27;: [0.1, 1, 10, 100, 1000],\n",
       "                                        &#x27;gamma&#x27;: [1e-05, 0.0001, 0.001, 0.01,\n",
       "                                                  0.1]},\n",
       "                   scoring=&#x27;f1&#x27;, verbose=3)</pre></div></div></div><div class=\"sk-parallel\"><div class=\"sk-parallel-item\"><div class=\"sk-item\"><div class=\"sk-label-container\"><div class=\"sk-label sk-toggleable\"><input class=\"sk-toggleable__control sk-hidden--visually\" id=\"sk-estimator-id-10\" type=\"checkbox\" ><label for=\"sk-estimator-id-10\" class=\"sk-toggleable__label sk-toggleable__label-arrow\">estimator: SVC</label><div class=\"sk-toggleable__content\"><pre>SVC()</pre></div></div></div><div class=\"sk-serial\"><div class=\"sk-item\"><div class=\"sk-estimator sk-toggleable\"><input class=\"sk-toggleable__control sk-hidden--visually\" id=\"sk-estimator-id-11\" type=\"checkbox\" ><label for=\"sk-estimator-id-11\" class=\"sk-toggleable__label sk-toggleable__label-arrow\">SVC</label><div class=\"sk-toggleable__content\"><pre>SVC()</pre></div></div></div></div></div></div></div></div></div></div>"
      ],
      "text/plain": [
       "RandomizedSearchCV(cv=2, estimator=SVC(),\n",
       "                   param_distributions={'C': [0.1, 1, 10, 100, 1000],\n",
       "                                        'gamma': [1e-05, 0.0001, 0.001, 0.01,\n",
       "                                                  0.1]},\n",
       "                   scoring='f1', verbose=3)"
      ]
     },
     "execution_count": 240,
     "metadata": {},
     "output_type": "execute_result"
    }
   ],
   "source": [
    "grid.fit(x_train,y_train)"
   ]
  },
  {
   "cell_type": "code",
   "execution_count": 241,
   "id": "b312e769-1256-43aa-aa6a-52b35d0b677a",
   "metadata": {},
   "outputs": [
    {
     "data": {
      "text/plain": [
       "{'gamma': 0.1, 'C': 1000}"
      ]
     },
     "execution_count": 241,
     "metadata": {},
     "output_type": "execute_result"
    }
   ],
   "source": [
    "grid.best_params_"
   ]
  },
  {
   "cell_type": "code",
   "execution_count": 242,
   "id": "20063190-61dd-46d1-a6da-bc0b1bdf5a60",
   "metadata": {},
   "outputs": [
    {
     "data": {
      "text/html": [
       "<style>#sk-container-id-8 {color: black;background-color: white;}#sk-container-id-8 pre{padding: 0;}#sk-container-id-8 div.sk-toggleable {background-color: white;}#sk-container-id-8 label.sk-toggleable__label {cursor: pointer;display: block;width: 100%;margin-bottom: 0;padding: 0.3em;box-sizing: border-box;text-align: center;}#sk-container-id-8 label.sk-toggleable__label-arrow:before {content: \"▸\";float: left;margin-right: 0.25em;color: #696969;}#sk-container-id-8 label.sk-toggleable__label-arrow:hover:before {color: black;}#sk-container-id-8 div.sk-estimator:hover label.sk-toggleable__label-arrow:before {color: black;}#sk-container-id-8 div.sk-toggleable__content {max-height: 0;max-width: 0;overflow: hidden;text-align: left;background-color: #f0f8ff;}#sk-container-id-8 div.sk-toggleable__content pre {margin: 0.2em;color: black;border-radius: 0.25em;background-color: #f0f8ff;}#sk-container-id-8 input.sk-toggleable__control:checked~div.sk-toggleable__content {max-height: 200px;max-width: 100%;overflow: auto;}#sk-container-id-8 input.sk-toggleable__control:checked~label.sk-toggleable__label-arrow:before {content: \"▾\";}#sk-container-id-8 div.sk-estimator input.sk-toggleable__control:checked~label.sk-toggleable__label {background-color: #d4ebff;}#sk-container-id-8 div.sk-label input.sk-toggleable__control:checked~label.sk-toggleable__label {background-color: #d4ebff;}#sk-container-id-8 input.sk-hidden--visually {border: 0;clip: rect(1px 1px 1px 1px);clip: rect(1px, 1px, 1px, 1px);height: 1px;margin: -1px;overflow: hidden;padding: 0;position: absolute;width: 1px;}#sk-container-id-8 div.sk-estimator {font-family: monospace;background-color: #f0f8ff;border: 1px dotted black;border-radius: 0.25em;box-sizing: border-box;margin-bottom: 0.5em;}#sk-container-id-8 div.sk-estimator:hover {background-color: #d4ebff;}#sk-container-id-8 div.sk-parallel-item::after {content: \"\";width: 100%;border-bottom: 1px solid gray;flex-grow: 1;}#sk-container-id-8 div.sk-label:hover label.sk-toggleable__label {background-color: #d4ebff;}#sk-container-id-8 div.sk-serial::before {content: \"\";position: absolute;border-left: 1px solid gray;box-sizing: border-box;top: 0;bottom: 0;left: 50%;z-index: 0;}#sk-container-id-8 div.sk-serial {display: flex;flex-direction: column;align-items: center;background-color: white;padding-right: 0.2em;padding-left: 0.2em;position: relative;}#sk-container-id-8 div.sk-item {position: relative;z-index: 1;}#sk-container-id-8 div.sk-parallel {display: flex;align-items: stretch;justify-content: center;background-color: white;position: relative;}#sk-container-id-8 div.sk-item::before, #sk-container-id-8 div.sk-parallel-item::before {content: \"\";position: absolute;border-left: 1px solid gray;box-sizing: border-box;top: 0;bottom: 0;left: 50%;z-index: -1;}#sk-container-id-8 div.sk-parallel-item {display: flex;flex-direction: column;z-index: 1;position: relative;background-color: white;}#sk-container-id-8 div.sk-parallel-item:first-child::after {align-self: flex-end;width: 50%;}#sk-container-id-8 div.sk-parallel-item:last-child::after {align-self: flex-start;width: 50%;}#sk-container-id-8 div.sk-parallel-item:only-child::after {width: 0;}#sk-container-id-8 div.sk-dashed-wrapped {border: 1px dashed gray;margin: 0 0.4em 0.5em 0.4em;box-sizing: border-box;padding-bottom: 0.4em;background-color: white;}#sk-container-id-8 div.sk-label label {font-family: monospace;font-weight: bold;display: inline-block;line-height: 1.2em;}#sk-container-id-8 div.sk-label-container {text-align: center;}#sk-container-id-8 div.sk-container {/* jupyter's `normalize.less` sets `[hidden] { display: none; }` but bootstrap.min.css set `[hidden] { display: none !important; }` so we also need the `!important` here to be able to override the default hidden behavior on the sphinx rendered scikit-learn.org. See: https://github.com/scikit-learn/scikit-learn/issues/21755 */display: inline-block !important;position: relative;}#sk-container-id-8 div.sk-text-repr-fallback {display: none;}</style><div id=\"sk-container-id-8\" class=\"sk-top-container\"><div class=\"sk-text-repr-fallback\"><pre>SVC(C=1000, gamma=0.1)</pre><b>In a Jupyter environment, please rerun this cell to show the HTML representation or trust the notebook. <br />On GitHub, the HTML representation is unable to render, please try loading this page with nbviewer.org.</b></div><div class=\"sk-container\" hidden><div class=\"sk-item\"><div class=\"sk-estimator sk-toggleable\"><input class=\"sk-toggleable__control sk-hidden--visually\" id=\"sk-estimator-id-12\" type=\"checkbox\" checked><label for=\"sk-estimator-id-12\" class=\"sk-toggleable__label sk-toggleable__label-arrow\">SVC</label><div class=\"sk-toggleable__content\"><pre>SVC(C=1000, gamma=0.1)</pre></div></div></div></div></div>"
      ],
      "text/plain": [
       "SVC(C=1000, gamma=0.1)"
      ]
     },
     "execution_count": 242,
     "metadata": {},
     "output_type": "execute_result"
    }
   ],
   "source": [
    "grid.best_estimator_"
   ]
  },
  {
   "cell_type": "code",
   "execution_count": 243,
   "id": "c18d5f0f-fb2a-4d31-b591-cdda86df804e",
   "metadata": {},
   "outputs": [],
   "source": [
    "sv3=SVC(C=1000,gamma=0.1)"
   ]
  },
  {
   "cell_type": "code",
   "execution_count": 244,
   "id": "f8415b97-0fe6-48dc-9fa1-43c822259592",
   "metadata": {},
   "outputs": [
    {
     "data": {
      "text/html": [
       "<style>#sk-container-id-9 {color: black;background-color: white;}#sk-container-id-9 pre{padding: 0;}#sk-container-id-9 div.sk-toggleable {background-color: white;}#sk-container-id-9 label.sk-toggleable__label {cursor: pointer;display: block;width: 100%;margin-bottom: 0;padding: 0.3em;box-sizing: border-box;text-align: center;}#sk-container-id-9 label.sk-toggleable__label-arrow:before {content: \"▸\";float: left;margin-right: 0.25em;color: #696969;}#sk-container-id-9 label.sk-toggleable__label-arrow:hover:before {color: black;}#sk-container-id-9 div.sk-estimator:hover label.sk-toggleable__label-arrow:before {color: black;}#sk-container-id-9 div.sk-toggleable__content {max-height: 0;max-width: 0;overflow: hidden;text-align: left;background-color: #f0f8ff;}#sk-container-id-9 div.sk-toggleable__content pre {margin: 0.2em;color: black;border-radius: 0.25em;background-color: #f0f8ff;}#sk-container-id-9 input.sk-toggleable__control:checked~div.sk-toggleable__content {max-height: 200px;max-width: 100%;overflow: auto;}#sk-container-id-9 input.sk-toggleable__control:checked~label.sk-toggleable__label-arrow:before {content: \"▾\";}#sk-container-id-9 div.sk-estimator input.sk-toggleable__control:checked~label.sk-toggleable__label {background-color: #d4ebff;}#sk-container-id-9 div.sk-label input.sk-toggleable__control:checked~label.sk-toggleable__label {background-color: #d4ebff;}#sk-container-id-9 input.sk-hidden--visually {border: 0;clip: rect(1px 1px 1px 1px);clip: rect(1px, 1px, 1px, 1px);height: 1px;margin: -1px;overflow: hidden;padding: 0;position: absolute;width: 1px;}#sk-container-id-9 div.sk-estimator {font-family: monospace;background-color: #f0f8ff;border: 1px dotted black;border-radius: 0.25em;box-sizing: border-box;margin-bottom: 0.5em;}#sk-container-id-9 div.sk-estimator:hover {background-color: #d4ebff;}#sk-container-id-9 div.sk-parallel-item::after {content: \"\";width: 100%;border-bottom: 1px solid gray;flex-grow: 1;}#sk-container-id-9 div.sk-label:hover label.sk-toggleable__label {background-color: #d4ebff;}#sk-container-id-9 div.sk-serial::before {content: \"\";position: absolute;border-left: 1px solid gray;box-sizing: border-box;top: 0;bottom: 0;left: 50%;z-index: 0;}#sk-container-id-9 div.sk-serial {display: flex;flex-direction: column;align-items: center;background-color: white;padding-right: 0.2em;padding-left: 0.2em;position: relative;}#sk-container-id-9 div.sk-item {position: relative;z-index: 1;}#sk-container-id-9 div.sk-parallel {display: flex;align-items: stretch;justify-content: center;background-color: white;position: relative;}#sk-container-id-9 div.sk-item::before, #sk-container-id-9 div.sk-parallel-item::before {content: \"\";position: absolute;border-left: 1px solid gray;box-sizing: border-box;top: 0;bottom: 0;left: 50%;z-index: -1;}#sk-container-id-9 div.sk-parallel-item {display: flex;flex-direction: column;z-index: 1;position: relative;background-color: white;}#sk-container-id-9 div.sk-parallel-item:first-child::after {align-self: flex-end;width: 50%;}#sk-container-id-9 div.sk-parallel-item:last-child::after {align-self: flex-start;width: 50%;}#sk-container-id-9 div.sk-parallel-item:only-child::after {width: 0;}#sk-container-id-9 div.sk-dashed-wrapped {border: 1px dashed gray;margin: 0 0.4em 0.5em 0.4em;box-sizing: border-box;padding-bottom: 0.4em;background-color: white;}#sk-container-id-9 div.sk-label label {font-family: monospace;font-weight: bold;display: inline-block;line-height: 1.2em;}#sk-container-id-9 div.sk-label-container {text-align: center;}#sk-container-id-9 div.sk-container {/* jupyter's `normalize.less` sets `[hidden] { display: none; }` but bootstrap.min.css set `[hidden] { display: none !important; }` so we also need the `!important` here to be able to override the default hidden behavior on the sphinx rendered scikit-learn.org. See: https://github.com/scikit-learn/scikit-learn/issues/21755 */display: inline-block !important;position: relative;}#sk-container-id-9 div.sk-text-repr-fallback {display: none;}</style><div id=\"sk-container-id-9\" class=\"sk-top-container\"><div class=\"sk-text-repr-fallback\"><pre>SVC(C=100, gamma=0.1)</pre><b>In a Jupyter environment, please rerun this cell to show the HTML representation or trust the notebook. <br />On GitHub, the HTML representation is unable to render, please try loading this page with nbviewer.org.</b></div><div class=\"sk-container\" hidden><div class=\"sk-item\"><div class=\"sk-estimator sk-toggleable\"><input class=\"sk-toggleable__control sk-hidden--visually\" id=\"sk-estimator-id-13\" type=\"checkbox\" checked><label for=\"sk-estimator-id-13\" class=\"sk-toggleable__label sk-toggleable__label-arrow\">SVC</label><div class=\"sk-toggleable__content\"><pre>SVC(C=100, gamma=0.1)</pre></div></div></div></div></div>"
      ],
      "text/plain": [
       "SVC(C=100, gamma=0.1)"
      ]
     },
     "execution_count": 244,
     "metadata": {},
     "output_type": "execute_result"
    }
   ],
   "source": [
    "sv3"
   ]
  },
  {
   "cell_type": "code",
   "execution_count": 245,
   "id": "9fa0dcd6-2d08-472e-9db0-dc138b694a5d",
   "metadata": {},
   "outputs": [
    {
     "data": {
      "text/html": [
       "<style>#sk-container-id-10 {color: black;background-color: white;}#sk-container-id-10 pre{padding: 0;}#sk-container-id-10 div.sk-toggleable {background-color: white;}#sk-container-id-10 label.sk-toggleable__label {cursor: pointer;display: block;width: 100%;margin-bottom: 0;padding: 0.3em;box-sizing: border-box;text-align: center;}#sk-container-id-10 label.sk-toggleable__label-arrow:before {content: \"▸\";float: left;margin-right: 0.25em;color: #696969;}#sk-container-id-10 label.sk-toggleable__label-arrow:hover:before {color: black;}#sk-container-id-10 div.sk-estimator:hover label.sk-toggleable__label-arrow:before {color: black;}#sk-container-id-10 div.sk-toggleable__content {max-height: 0;max-width: 0;overflow: hidden;text-align: left;background-color: #f0f8ff;}#sk-container-id-10 div.sk-toggleable__content pre {margin: 0.2em;color: black;border-radius: 0.25em;background-color: #f0f8ff;}#sk-container-id-10 input.sk-toggleable__control:checked~div.sk-toggleable__content {max-height: 200px;max-width: 100%;overflow: auto;}#sk-container-id-10 input.sk-toggleable__control:checked~label.sk-toggleable__label-arrow:before {content: \"▾\";}#sk-container-id-10 div.sk-estimator input.sk-toggleable__control:checked~label.sk-toggleable__label {background-color: #d4ebff;}#sk-container-id-10 div.sk-label input.sk-toggleable__control:checked~label.sk-toggleable__label {background-color: #d4ebff;}#sk-container-id-10 input.sk-hidden--visually {border: 0;clip: rect(1px 1px 1px 1px);clip: rect(1px, 1px, 1px, 1px);height: 1px;margin: -1px;overflow: hidden;padding: 0;position: absolute;width: 1px;}#sk-container-id-10 div.sk-estimator {font-family: monospace;background-color: #f0f8ff;border: 1px dotted black;border-radius: 0.25em;box-sizing: border-box;margin-bottom: 0.5em;}#sk-container-id-10 div.sk-estimator:hover {background-color: #d4ebff;}#sk-container-id-10 div.sk-parallel-item::after {content: \"\";width: 100%;border-bottom: 1px solid gray;flex-grow: 1;}#sk-container-id-10 div.sk-label:hover label.sk-toggleable__label {background-color: #d4ebff;}#sk-container-id-10 div.sk-serial::before {content: \"\";position: absolute;border-left: 1px solid gray;box-sizing: border-box;top: 0;bottom: 0;left: 50%;z-index: 0;}#sk-container-id-10 div.sk-serial {display: flex;flex-direction: column;align-items: center;background-color: white;padding-right: 0.2em;padding-left: 0.2em;position: relative;}#sk-container-id-10 div.sk-item {position: relative;z-index: 1;}#sk-container-id-10 div.sk-parallel {display: flex;align-items: stretch;justify-content: center;background-color: white;position: relative;}#sk-container-id-10 div.sk-item::before, #sk-container-id-10 div.sk-parallel-item::before {content: \"\";position: absolute;border-left: 1px solid gray;box-sizing: border-box;top: 0;bottom: 0;left: 50%;z-index: -1;}#sk-container-id-10 div.sk-parallel-item {display: flex;flex-direction: column;z-index: 1;position: relative;background-color: white;}#sk-container-id-10 div.sk-parallel-item:first-child::after {align-self: flex-end;width: 50%;}#sk-container-id-10 div.sk-parallel-item:last-child::after {align-self: flex-start;width: 50%;}#sk-container-id-10 div.sk-parallel-item:only-child::after {width: 0;}#sk-container-id-10 div.sk-dashed-wrapped {border: 1px dashed gray;margin: 0 0.4em 0.5em 0.4em;box-sizing: border-box;padding-bottom: 0.4em;background-color: white;}#sk-container-id-10 div.sk-label label {font-family: monospace;font-weight: bold;display: inline-block;line-height: 1.2em;}#sk-container-id-10 div.sk-label-container {text-align: center;}#sk-container-id-10 div.sk-container {/* jupyter's `normalize.less` sets `[hidden] { display: none; }` but bootstrap.min.css set `[hidden] { display: none !important; }` so we also need the `!important` here to be able to override the default hidden behavior on the sphinx rendered scikit-learn.org. See: https://github.com/scikit-learn/scikit-learn/issues/21755 */display: inline-block !important;position: relative;}#sk-container-id-10 div.sk-text-repr-fallback {display: none;}</style><div id=\"sk-container-id-10\" class=\"sk-top-container\"><div class=\"sk-text-repr-fallback\"><pre>SVC(C=100, gamma=0.1)</pre><b>In a Jupyter environment, please rerun this cell to show the HTML representation or trust the notebook. <br />On GitHub, the HTML representation is unable to render, please try loading this page with nbviewer.org.</b></div><div class=\"sk-container\" hidden><div class=\"sk-item\"><div class=\"sk-estimator sk-toggleable\"><input class=\"sk-toggleable__control sk-hidden--visually\" id=\"sk-estimator-id-14\" type=\"checkbox\" checked><label for=\"sk-estimator-id-14\" class=\"sk-toggleable__label sk-toggleable__label-arrow\">SVC</label><div class=\"sk-toggleable__content\"><pre>SVC(C=100, gamma=0.1)</pre></div></div></div></div></div>"
      ],
      "text/plain": [
       "SVC(C=100, gamma=0.1)"
      ]
     },
     "execution_count": 245,
     "metadata": {},
     "output_type": "execute_result"
    }
   ],
   "source": [
    "sv3.fit(x_train,y_train)"
   ]
  },
  {
   "cell_type": "code",
   "execution_count": 246,
   "id": "529b033f-cd3f-4168-ad5d-8d4c79a1ab06",
   "metadata": {},
   "outputs": [
    {
     "data": {
      "text/plain": [
       "array([1, 1, 1, ..., 1, 1, 0], dtype=int64)"
      ]
     },
     "execution_count": 246,
     "metadata": {},
     "output_type": "execute_result"
    }
   ],
   "source": [
    "y_pred_h=sv3.predict(x_test)\n",
    "y_pred_h"
   ]
  },
  {
   "cell_type": "code",
   "execution_count": 247,
   "id": "a8a1d326-8908-43db-9c26-68bdeca70ab9",
   "metadata": {},
   "outputs": [
    {
     "data": {
      "text/plain": [
       "array([1, 1, 1, ..., 1, 1, 0], dtype=int64)"
      ]
     },
     "execution_count": 247,
     "metadata": {},
     "output_type": "execute_result"
    }
   ],
   "source": [
    "y_test.values"
   ]
  },
  {
   "cell_type": "markdown",
   "id": "e0b276d1-3d97-4e2e-a509-385def04ea81",
   "metadata": {},
   "source": [
    "## Model Evaluation of SVM"
   ]
  },
  {
   "cell_type": "markdown",
   "id": "f30be42d-22b9-4bc4-8b6d-8017dfbc0ff7",
   "metadata": {},
   "source": [
    "## Testing"
   ]
  },
  {
   "cell_type": "code",
   "execution_count": 248,
   "id": "690c4e44-458b-4528-bd9b-8737167e74f9",
   "metadata": {},
   "outputs": [
    {
     "data": {
      "text/plain": [
       "0.9973191609444079"
      ]
     },
     "execution_count": 248,
     "metadata": {},
     "output_type": "execute_result"
    }
   ],
   "source": [
    "accuracy_score(y_test,y_pred_h)"
   ]
  },
  {
   "cell_type": "code",
   "execution_count": 249,
   "id": "b47fd288-56d6-43ec-886b-d136fec2cda7",
   "metadata": {},
   "outputs": [
    {
     "data": {
      "text/plain": [
       "0.9963963963963964"
      ]
     },
     "execution_count": 249,
     "metadata": {},
     "output_type": "execute_result"
    }
   ],
   "source": [
    "recall_score(y_test,y_pred_h)"
   ]
  },
  {
   "cell_type": "code",
   "execution_count": 250,
   "id": "6749cbd9-9034-4362-a378-9eff289db32a",
   "metadata": {},
   "outputs": [
    {
     "data": {
      "text/plain": [
       "0.9981949458483754"
      ]
     },
     "execution_count": 250,
     "metadata": {},
     "output_type": "execute_result"
    }
   ],
   "source": [
    "precision_score(y_test,y_pred_h)"
   ]
  },
  {
   "cell_type": "code",
   "execution_count": 251,
   "id": "afd8c368-3b70-4939-ba10-ae65f27e6408",
   "metadata": {},
   "outputs": [
    {
     "data": {
      "text/plain": [
       "0.9972948602344455"
      ]
     },
     "execution_count": 251,
     "metadata": {},
     "output_type": "execute_result"
    }
   ],
   "source": [
    "f1_score(y_test,y_pred_h)"
   ]
  },
  {
   "cell_type": "code",
   "execution_count": 252,
   "id": "7eae0fbe-7ceb-4896-a7df-f0ace824450f",
   "metadata": {},
   "outputs": [
    {
     "data": {
      "text/html": [
       "<div>\n",
       "<style scoped>\n",
       "    .dataframe tbody tr th:only-of-type {\n",
       "        vertical-align: middle;\n",
       "    }\n",
       "\n",
       "    .dataframe tbody tr th {\n",
       "        vertical-align: top;\n",
       "    }\n",
       "\n",
       "    .dataframe thead th {\n",
       "        text-align: right;\n",
       "    }\n",
       "</style>\n",
       "<table border=\"1\" class=\"dataframe\">\n",
       "  <thead>\n",
       "    <tr style=\"text-align: right;\">\n",
       "      <th>col_0</th>\n",
       "      <th>0</th>\n",
       "      <th>1</th>\n",
       "    </tr>\n",
       "    <tr>\n",
       "      <th>activity</th>\n",
       "      <th></th>\n",
       "      <th></th>\n",
       "    </tr>\n",
       "  </thead>\n",
       "  <tbody>\n",
       "    <tr>\n",
       "      <th>0</th>\n",
       "      <td>10698</td>\n",
       "      <td>19</td>\n",
       "    </tr>\n",
       "    <tr>\n",
       "      <th>1</th>\n",
       "      <td>38</td>\n",
       "      <td>10507</td>\n",
       "    </tr>\n",
       "  </tbody>\n",
       "</table>\n",
       "</div>"
      ],
      "text/plain": [
       "col_0         0      1\n",
       "activity              \n",
       "0         10698     19\n",
       "1            38  10507"
      ]
     },
     "execution_count": 252,
     "metadata": {},
     "output_type": "execute_result"
    }
   ],
   "source": [
    "pd.crosstab(y_test,y_pred_h)"
   ]
  },
  {
   "cell_type": "code",
   "execution_count": 253,
   "id": "19dcae60-11f3-4b20-8609-da9240a1deec",
   "metadata": {},
   "outputs": [
    {
     "data": {
      "text/plain": [
       "0.997311756096864"
      ]
     },
     "execution_count": 253,
     "metadata": {},
     "output_type": "execute_result"
    }
   ],
   "source": [
    "roc_auc_score(y_test,y_pred_h)"
   ]
  },
  {
   "cell_type": "markdown",
   "id": "8db3e513-6b57-4cb4-b93c-091bbfd773f3",
   "metadata": {},
   "source": [
    "## Training"
   ]
  },
  {
   "cell_type": "code",
   "execution_count": 254,
   "id": "a15965dd-ee06-4e4f-a6b5-b40c9db70818",
   "metadata": {},
   "outputs": [],
   "source": [
    "y_pred_svtr=sv3.predict(x_train)"
   ]
  },
  {
   "cell_type": "code",
   "execution_count": 255,
   "id": "8154016f-31d1-41b7-b542-49a49f7febd5",
   "metadata": {},
   "outputs": [
    {
     "data": {
      "text/plain": [
       "0.9981433621483528"
      ]
     },
     "execution_count": 255,
     "metadata": {},
     "output_type": "execute_result"
    }
   ],
   "source": [
    "accuracy_score(y_train,y_pred_svtr)"
   ]
  },
  {
   "cell_type": "code",
   "execution_count": 256,
   "id": "847d1e0e-113f-4034-b4ea-0d8c3bf8405b",
   "metadata": {},
   "outputs": [
    {
     "data": {
      "text/plain": [
       "0.9981514071488783"
      ]
     },
     "execution_count": 256,
     "metadata": {},
     "output_type": "execute_result"
    }
   ],
   "source": [
    "f1_score(y_train,y_pred_svtr)"
   ]
  },
  {
   "cell_type": "code",
   "execution_count": 257,
   "id": "46309cd2-583f-4918-8ba5-92ec76311188",
   "metadata": {},
   "outputs": [
    {
     "data": {
      "text/plain": [
       "0.9978415138971023"
      ]
     },
     "execution_count": 257,
     "metadata": {},
     "output_type": "execute_result"
    }
   ],
   "source": [
    "recall_score(y_train,y_pred_svtr)"
   ]
  },
  {
   "cell_type": "code",
   "execution_count": 258,
   "id": "c1f1affb-c480-4679-95a7-7f040def60b0",
   "metadata": {},
   "outputs": [
    {
     "data": {
      "text/plain": [
       "0.9984614929435782"
      ]
     },
     "execution_count": 258,
     "metadata": {},
     "output_type": "execute_result"
    }
   ],
   "source": [
    "precision_score(y_train,y_pred_svtr)"
   ]
  },
  {
   "cell_type": "code",
   "execution_count": 259,
   "id": "e5701e7b-5373-4838-b6b8-ca72ebab61c2",
   "metadata": {},
   "outputs": [
    {
     "data": {
      "text/html": [
       "<div>\n",
       "<style scoped>\n",
       "    .dataframe tbody tr th:only-of-type {\n",
       "        vertical-align: middle;\n",
       "    }\n",
       "\n",
       "    .dataframe tbody tr th {\n",
       "        vertical-align: top;\n",
       "    }\n",
       "\n",
       "    .dataframe thead th {\n",
       "        text-align: right;\n",
       "    }\n",
       "</style>\n",
       "<table border=\"1\" class=\"dataframe\">\n",
       "  <thead>\n",
       "    <tr style=\"text-align: right;\">\n",
       "      <th>col_0</th>\n",
       "      <th>0</th>\n",
       "      <th>1</th>\n",
       "    </tr>\n",
       "    <tr>\n",
       "      <th>activity</th>\n",
       "      <th></th>\n",
       "      <th></th>\n",
       "    </tr>\n",
       "  </thead>\n",
       "  <tbody>\n",
       "    <tr>\n",
       "      <th>0</th>\n",
       "      <td>33454</td>\n",
       "      <td>52</td>\n",
       "    </tr>\n",
       "    <tr>\n",
       "      <th>1</th>\n",
       "      <td>73</td>\n",
       "      <td>33747</td>\n",
       "    </tr>\n",
       "  </tbody>\n",
       "</table>\n",
       "</div>"
      ],
      "text/plain": [
       "col_0         0      1\n",
       "activity              \n",
       "0         33454     52\n",
       "1            73  33747"
      ]
     },
     "execution_count": 259,
     "metadata": {},
     "output_type": "execute_result"
    }
   ],
   "source": [
    "pd.crosstab(y_train,y_pred_svtr)"
   ]
  },
  {
   "cell_type": "code",
   "execution_count": 260,
   "id": "13b895ac-e886-46f5-b882-e5ce7a95c6f3",
   "metadata": {},
   "outputs": [
    {
     "data": {
      "text/plain": [
       "0.9981447765271342"
      ]
     },
     "execution_count": 260,
     "metadata": {},
     "output_type": "execute_result"
    }
   ],
   "source": [
    "roc_auc_score(y_train,y_pred_svtr)"
   ]
  },
  {
   "cell_type": "code",
   "execution_count": null,
   "id": "81122104-ac77-4ece-8fbf-29cc9b2bb01b",
   "metadata": {},
   "outputs": [],
   "source": []
  },
  {
   "cell_type": "code",
   "execution_count": null,
   "id": "84426cf9-9f64-46a6-be84-817091e480e8",
   "metadata": {},
   "outputs": [],
   "source": []
  },
  {
   "cell_type": "markdown",
   "id": "fc3fb910-65c4-4b70-b5b4-eec5a1eef05e",
   "metadata": {},
   "source": [
    "# Decision Tree"
   ]
  },
  {
   "cell_type": "code",
   "execution_count": 261,
   "id": "79638509-6f8e-477d-8991-7f7e46c4194b",
   "metadata": {},
   "outputs": [
    {
     "data": {
      "text/html": [
       "<style>#sk-container-id-11 {color: black;background-color: white;}#sk-container-id-11 pre{padding: 0;}#sk-container-id-11 div.sk-toggleable {background-color: white;}#sk-container-id-11 label.sk-toggleable__label {cursor: pointer;display: block;width: 100%;margin-bottom: 0;padding: 0.3em;box-sizing: border-box;text-align: center;}#sk-container-id-11 label.sk-toggleable__label-arrow:before {content: \"▸\";float: left;margin-right: 0.25em;color: #696969;}#sk-container-id-11 label.sk-toggleable__label-arrow:hover:before {color: black;}#sk-container-id-11 div.sk-estimator:hover label.sk-toggleable__label-arrow:before {color: black;}#sk-container-id-11 div.sk-toggleable__content {max-height: 0;max-width: 0;overflow: hidden;text-align: left;background-color: #f0f8ff;}#sk-container-id-11 div.sk-toggleable__content pre {margin: 0.2em;color: black;border-radius: 0.25em;background-color: #f0f8ff;}#sk-container-id-11 input.sk-toggleable__control:checked~div.sk-toggleable__content {max-height: 200px;max-width: 100%;overflow: auto;}#sk-container-id-11 input.sk-toggleable__control:checked~label.sk-toggleable__label-arrow:before {content: \"▾\";}#sk-container-id-11 div.sk-estimator input.sk-toggleable__control:checked~label.sk-toggleable__label {background-color: #d4ebff;}#sk-container-id-11 div.sk-label input.sk-toggleable__control:checked~label.sk-toggleable__label {background-color: #d4ebff;}#sk-container-id-11 input.sk-hidden--visually {border: 0;clip: rect(1px 1px 1px 1px);clip: rect(1px, 1px, 1px, 1px);height: 1px;margin: -1px;overflow: hidden;padding: 0;position: absolute;width: 1px;}#sk-container-id-11 div.sk-estimator {font-family: monospace;background-color: #f0f8ff;border: 1px dotted black;border-radius: 0.25em;box-sizing: border-box;margin-bottom: 0.5em;}#sk-container-id-11 div.sk-estimator:hover {background-color: #d4ebff;}#sk-container-id-11 div.sk-parallel-item::after {content: \"\";width: 100%;border-bottom: 1px solid gray;flex-grow: 1;}#sk-container-id-11 div.sk-label:hover label.sk-toggleable__label {background-color: #d4ebff;}#sk-container-id-11 div.sk-serial::before {content: \"\";position: absolute;border-left: 1px solid gray;box-sizing: border-box;top: 0;bottom: 0;left: 50%;z-index: 0;}#sk-container-id-11 div.sk-serial {display: flex;flex-direction: column;align-items: center;background-color: white;padding-right: 0.2em;padding-left: 0.2em;position: relative;}#sk-container-id-11 div.sk-item {position: relative;z-index: 1;}#sk-container-id-11 div.sk-parallel {display: flex;align-items: stretch;justify-content: center;background-color: white;position: relative;}#sk-container-id-11 div.sk-item::before, #sk-container-id-11 div.sk-parallel-item::before {content: \"\";position: absolute;border-left: 1px solid gray;box-sizing: border-box;top: 0;bottom: 0;left: 50%;z-index: -1;}#sk-container-id-11 div.sk-parallel-item {display: flex;flex-direction: column;z-index: 1;position: relative;background-color: white;}#sk-container-id-11 div.sk-parallel-item:first-child::after {align-self: flex-end;width: 50%;}#sk-container-id-11 div.sk-parallel-item:last-child::after {align-self: flex-start;width: 50%;}#sk-container-id-11 div.sk-parallel-item:only-child::after {width: 0;}#sk-container-id-11 div.sk-dashed-wrapped {border: 1px dashed gray;margin: 0 0.4em 0.5em 0.4em;box-sizing: border-box;padding-bottom: 0.4em;background-color: white;}#sk-container-id-11 div.sk-label label {font-family: monospace;font-weight: bold;display: inline-block;line-height: 1.2em;}#sk-container-id-11 div.sk-label-container {text-align: center;}#sk-container-id-11 div.sk-container {/* jupyter's `normalize.less` sets `[hidden] { display: none; }` but bootstrap.min.css set `[hidden] { display: none !important; }` so we also need the `!important` here to be able to override the default hidden behavior on the sphinx rendered scikit-learn.org. See: https://github.com/scikit-learn/scikit-learn/issues/21755 */display: inline-block !important;position: relative;}#sk-container-id-11 div.sk-text-repr-fallback {display: none;}</style><div id=\"sk-container-id-11\" class=\"sk-top-container\"><div class=\"sk-text-repr-fallback\"><pre>DecisionTreeClassifier()</pre><b>In a Jupyter environment, please rerun this cell to show the HTML representation or trust the notebook. <br />On GitHub, the HTML representation is unable to render, please try loading this page with nbviewer.org.</b></div><div class=\"sk-container\" hidden><div class=\"sk-item\"><div class=\"sk-estimator sk-toggleable\"><input class=\"sk-toggleable__control sk-hidden--visually\" id=\"sk-estimator-id-15\" type=\"checkbox\" checked><label for=\"sk-estimator-id-15\" class=\"sk-toggleable__label sk-toggleable__label-arrow\">DecisionTreeClassifier</label><div class=\"sk-toggleable__content\"><pre>DecisionTreeClassifier()</pre></div></div></div></div></div>"
      ],
      "text/plain": [
       "DecisionTreeClassifier()"
      ]
     },
     "execution_count": 261,
     "metadata": {},
     "output_type": "execute_result"
    }
   ],
   "source": [
    "from sklearn.tree import DecisionTreeClassifier\n",
    "dt=DecisionTreeClassifier()\n",
    "dt.fit(x_train,y_train)"
   ]
  },
  {
   "cell_type": "code",
   "execution_count": 262,
   "id": "1f92e95f-d599-420f-8995-0812e6585bd6",
   "metadata": {},
   "outputs": [
    {
     "data": {
      "text/plain": [
       "array([1, 1, 1, ..., 1, 1, 0], dtype=int64)"
      ]
     },
     "execution_count": 262,
     "metadata": {},
     "output_type": "execute_result"
    }
   ],
   "source": [
    "y_pred_dt=dt.predict(x_test)\n",
    "y_pred_dt"
   ]
  },
  {
   "cell_type": "code",
   "execution_count": 263,
   "id": "0ecdf7e5-20fd-4c88-b12f-b4e9d36c6e4a",
   "metadata": {},
   "outputs": [
    {
     "data": {
      "text/plain": [
       "array([1, 1, 1, ..., 1, 1, 0], dtype=int64)"
      ]
     },
     "execution_count": 263,
     "metadata": {},
     "output_type": "execute_result"
    }
   ],
   "source": [
    "y_test.values"
   ]
  },
  {
   "cell_type": "code",
   "execution_count": 264,
   "id": "eadfdd3a-8c0b-431d-8fbf-5e690788c6a0",
   "metadata": {},
   "outputs": [],
   "source": [
    "from sklearn.metrics import accuracy_score,precision_score,recall_score,roc_auc_score,confusion_matrix,classification_report,f1_score"
   ]
  },
  {
   "cell_type": "code",
   "execution_count": 265,
   "id": "3a73923e-ea2f-4ce6-81dc-1d8335715c89",
   "metadata": {},
   "outputs": [
    {
     "data": {
      "text/plain": [
       "0.9947794186812153"
      ]
     },
     "execution_count": 265,
     "metadata": {},
     "output_type": "execute_result"
    }
   ],
   "source": [
    "accuracy_score(y_test,y_pred_dt)"
   ]
  },
  {
   "cell_type": "code",
   "execution_count": 266,
   "id": "bebeecc0-ada4-4199-a60a-4dd4d9af14a7",
   "metadata": {},
   "outputs": [
    {
     "data": {
      "text/plain": [
       "0.9943149516770893"
      ]
     },
     "execution_count": 266,
     "metadata": {},
     "output_type": "execute_result"
    }
   ],
   "source": [
    "precision_score(y_test,y_pred_dt)"
   ]
  },
  {
   "cell_type": "code",
   "execution_count": 267,
   "id": "ab0047de-564a-46c4-be7b-5bfab781184f",
   "metadata": {},
   "outputs": [
    {
     "data": {
      "text/plain": [
       "0.9951635846372688"
      ]
     },
     "execution_count": 267,
     "metadata": {},
     "output_type": "execute_result"
    }
   ],
   "source": [
    "recall_score(y_test,y_pred_dt)"
   ]
  },
  {
   "cell_type": "code",
   "execution_count": 268,
   "id": "44cbc7b3-1020-4772-80d3-86ac2e203aac",
   "metadata": {},
   "outputs": [
    {
     "data": {
      "text/plain": [
       "0.994739087160529"
      ]
     },
     "execution_count": 268,
     "metadata": {},
     "output_type": "execute_result"
    }
   ],
   "source": [
    "f1_score(y_test,y_pred_dt)"
   ]
  },
  {
   "cell_type": "code",
   "execution_count": 269,
   "id": "95f68e88-840f-42ae-aa74-20461070f980",
   "metadata": {},
   "outputs": [
    {
     "data": {
      "text/plain": [
       "0.9947825014723155"
      ]
     },
     "execution_count": 269,
     "metadata": {},
     "output_type": "execute_result"
    }
   ],
   "source": [
    "roc_auc_score(y_test,y_pred_dt)"
   ]
  },
  {
   "cell_type": "code",
   "execution_count": 270,
   "id": "3e1dda9f-bb92-47a2-8b5e-9a6fda6065ad",
   "metadata": {},
   "outputs": [
    {
     "data": {
      "text/html": [
       "<div>\n",
       "<style scoped>\n",
       "    .dataframe tbody tr th:only-of-type {\n",
       "        vertical-align: middle;\n",
       "    }\n",
       "\n",
       "    .dataframe tbody tr th {\n",
       "        vertical-align: top;\n",
       "    }\n",
       "\n",
       "    .dataframe thead th {\n",
       "        text-align: right;\n",
       "    }\n",
       "</style>\n",
       "<table border=\"1\" class=\"dataframe\">\n",
       "  <thead>\n",
       "    <tr style=\"text-align: right;\">\n",
       "      <th>col_0</th>\n",
       "      <th>0</th>\n",
       "      <th>1</th>\n",
       "    </tr>\n",
       "    <tr>\n",
       "      <th>activity</th>\n",
       "      <th></th>\n",
       "      <th></th>\n",
       "    </tr>\n",
       "  </thead>\n",
       "  <tbody>\n",
       "    <tr>\n",
       "      <th>0</th>\n",
       "      <td>10657</td>\n",
       "      <td>60</td>\n",
       "    </tr>\n",
       "    <tr>\n",
       "      <th>1</th>\n",
       "      <td>51</td>\n",
       "      <td>10494</td>\n",
       "    </tr>\n",
       "  </tbody>\n",
       "</table>\n",
       "</div>"
      ],
      "text/plain": [
       "col_0         0      1\n",
       "activity              \n",
       "0         10657     60\n",
       "1            51  10494"
      ]
     },
     "execution_count": 270,
     "metadata": {},
     "output_type": "execute_result"
    }
   ],
   "source": [
    "pd.crosstab(y_test,y_pred_dt)"
   ]
  },
  {
   "cell_type": "code",
   "execution_count": 271,
   "id": "136780dd-c55c-403a-b862-8f2ca1704ee6",
   "metadata": {
    "scrolled": true
   },
   "outputs": [
    {
     "name": "stdout",
     "output_type": "stream",
     "text": [
      "              precision    recall  f1-score   support\n",
      "\n",
      "           0       1.00      0.99      0.99     10717\n",
      "           1       0.99      1.00      0.99     10545\n",
      "\n",
      "    accuracy                           0.99     21262\n",
      "   macro avg       0.99      0.99      0.99     21262\n",
      "weighted avg       0.99      0.99      0.99     21262\n",
      "\n"
     ]
    }
   ],
   "source": [
    "print(classification_report(y_test,y_pred_dt))"
   ]
  },
  {
   "cell_type": "markdown",
   "id": "4f43d73e-8535-4fe7-a088-3562b3f0f01f",
   "metadata": {},
   "source": [
    "## Cross Validation"
   ]
  },
  {
   "cell_type": "code",
   "execution_count": 272,
   "id": "48fb0df5-45a7-42ed-8c97-b74b75a5f941",
   "metadata": {},
   "outputs": [],
   "source": [
    "from sklearn.model_selection import cross_val_score\n",
    "dt1=DecisionTreeClassifier()"
   ]
  },
  {
   "cell_type": "code",
   "execution_count": 273,
   "id": "f52df86f-649c-4cce-95fd-df830dacb331",
   "metadata": {},
   "outputs": [
    {
     "data": {
      "text/plain": [
       "array([0.80657678, 0.99592613, 0.94921838, 0.8778632 ])"
      ]
     },
     "execution_count": 273,
     "metadata": {},
     "output_type": "execute_result"
    }
   ],
   "source": [
    "cv=cross_val_score(dt1,x,y,scoring='f1',cv=4)\n",
    "cv"
   ]
  },
  {
   "cell_type": "markdown",
   "id": "4a14c408-3f77-4d9e-b64a-03cd2702b300",
   "metadata": {},
   "source": [
    "## Hyperparameter Tunning"
   ]
  },
  {
   "cell_type": "code",
   "execution_count": 274,
   "id": "0ca4c642-00dd-4b14-9f0c-282ce5dc05a5",
   "metadata": {},
   "outputs": [],
   "source": [
    "from sklearn.model_selection import RandomizedSearchCV"
   ]
  },
  {
   "cell_type": "code",
   "execution_count": 275,
   "id": "aec6df31-a9c1-4052-8fa8-45f542dbdb22",
   "metadata": {},
   "outputs": [
    {
     "data": {
      "text/plain": [
       "[1, 2, 3, 4, 5, 6, 7, 8, 9, 10, 11, 12, 13, 14, 15, 16, 17, 18, 19]"
      ]
     },
     "execution_count": 275,
     "metadata": {},
     "output_type": "execute_result"
    }
   ],
   "source": [
    "list(range(1, 20))"
   ]
  },
  {
   "cell_type": "code",
   "execution_count": 276,
   "id": "a465a096-4eb7-4945-8bc6-e5adb21b3cd3",
   "metadata": {},
   "outputs": [],
   "source": [
    "params = {\n",
    "    \"criterion\":(\"gini\", \"entropy\"),\n",
    "    \"splitter\":(\"best\", \"random\"), \n",
    "    \"max_depth\":(list(range(1, 20))), \n",
    "    \"min_samples_split\":[2, 3, 4],    \n",
    "    \"min_samples_leaf\":list(range(1, 20))\n",
    "}"
   ]
  },
  {
   "cell_type": "code",
   "execution_count": 277,
   "id": "71102cb9-a780-4898-a2d9-2d355b29a826",
   "metadata": {},
   "outputs": [],
   "source": [
    "dt2 = DecisionTreeClassifier()"
   ]
  },
  {
   "cell_type": "code",
   "execution_count": 278,
   "id": "397085ff-f503-46ce-ad33-14641db4d627",
   "metadata": {},
   "outputs": [],
   "source": [
    "grid = RandomizedSearchCV(dt2 ,params, scoring='f1', cv =4, verbose = 3, n_jobs=-1)"
   ]
  },
  {
   "cell_type": "code",
   "execution_count": 279,
   "id": "5134cc7a-7f43-48e6-b9b6-2d36886d942f",
   "metadata": {},
   "outputs": [
    {
     "name": "stdout",
     "output_type": "stream",
     "text": [
      "Fitting 4 folds for each of 10 candidates, totalling 40 fits\n"
     ]
    },
    {
     "data": {
      "text/html": [
       "<style>#sk-container-id-12 {color: black;background-color: white;}#sk-container-id-12 pre{padding: 0;}#sk-container-id-12 div.sk-toggleable {background-color: white;}#sk-container-id-12 label.sk-toggleable__label {cursor: pointer;display: block;width: 100%;margin-bottom: 0;padding: 0.3em;box-sizing: border-box;text-align: center;}#sk-container-id-12 label.sk-toggleable__label-arrow:before {content: \"▸\";float: left;margin-right: 0.25em;color: #696969;}#sk-container-id-12 label.sk-toggleable__label-arrow:hover:before {color: black;}#sk-container-id-12 div.sk-estimator:hover label.sk-toggleable__label-arrow:before {color: black;}#sk-container-id-12 div.sk-toggleable__content {max-height: 0;max-width: 0;overflow: hidden;text-align: left;background-color: #f0f8ff;}#sk-container-id-12 div.sk-toggleable__content pre {margin: 0.2em;color: black;border-radius: 0.25em;background-color: #f0f8ff;}#sk-container-id-12 input.sk-toggleable__control:checked~div.sk-toggleable__content {max-height: 200px;max-width: 100%;overflow: auto;}#sk-container-id-12 input.sk-toggleable__control:checked~label.sk-toggleable__label-arrow:before {content: \"▾\";}#sk-container-id-12 div.sk-estimator input.sk-toggleable__control:checked~label.sk-toggleable__label {background-color: #d4ebff;}#sk-container-id-12 div.sk-label input.sk-toggleable__control:checked~label.sk-toggleable__label {background-color: #d4ebff;}#sk-container-id-12 input.sk-hidden--visually {border: 0;clip: rect(1px 1px 1px 1px);clip: rect(1px, 1px, 1px, 1px);height: 1px;margin: -1px;overflow: hidden;padding: 0;position: absolute;width: 1px;}#sk-container-id-12 div.sk-estimator {font-family: monospace;background-color: #f0f8ff;border: 1px dotted black;border-radius: 0.25em;box-sizing: border-box;margin-bottom: 0.5em;}#sk-container-id-12 div.sk-estimator:hover {background-color: #d4ebff;}#sk-container-id-12 div.sk-parallel-item::after {content: \"\";width: 100%;border-bottom: 1px solid gray;flex-grow: 1;}#sk-container-id-12 div.sk-label:hover label.sk-toggleable__label {background-color: #d4ebff;}#sk-container-id-12 div.sk-serial::before {content: \"\";position: absolute;border-left: 1px solid gray;box-sizing: border-box;top: 0;bottom: 0;left: 50%;z-index: 0;}#sk-container-id-12 div.sk-serial {display: flex;flex-direction: column;align-items: center;background-color: white;padding-right: 0.2em;padding-left: 0.2em;position: relative;}#sk-container-id-12 div.sk-item {position: relative;z-index: 1;}#sk-container-id-12 div.sk-parallel {display: flex;align-items: stretch;justify-content: center;background-color: white;position: relative;}#sk-container-id-12 div.sk-item::before, #sk-container-id-12 div.sk-parallel-item::before {content: \"\";position: absolute;border-left: 1px solid gray;box-sizing: border-box;top: 0;bottom: 0;left: 50%;z-index: -1;}#sk-container-id-12 div.sk-parallel-item {display: flex;flex-direction: column;z-index: 1;position: relative;background-color: white;}#sk-container-id-12 div.sk-parallel-item:first-child::after {align-self: flex-end;width: 50%;}#sk-container-id-12 div.sk-parallel-item:last-child::after {align-self: flex-start;width: 50%;}#sk-container-id-12 div.sk-parallel-item:only-child::after {width: 0;}#sk-container-id-12 div.sk-dashed-wrapped {border: 1px dashed gray;margin: 0 0.4em 0.5em 0.4em;box-sizing: border-box;padding-bottom: 0.4em;background-color: white;}#sk-container-id-12 div.sk-label label {font-family: monospace;font-weight: bold;display: inline-block;line-height: 1.2em;}#sk-container-id-12 div.sk-label-container {text-align: center;}#sk-container-id-12 div.sk-container {/* jupyter's `normalize.less` sets `[hidden] { display: none; }` but bootstrap.min.css set `[hidden] { display: none !important; }` so we also need the `!important` here to be able to override the default hidden behavior on the sphinx rendered scikit-learn.org. See: https://github.com/scikit-learn/scikit-learn/issues/21755 */display: inline-block !important;position: relative;}#sk-container-id-12 div.sk-text-repr-fallback {display: none;}</style><div id=\"sk-container-id-12\" class=\"sk-top-container\"><div class=\"sk-text-repr-fallback\"><pre>RandomizedSearchCV(cv=4, estimator=DecisionTreeClassifier(), n_jobs=-1,\n",
       "                   param_distributions={&#x27;criterion&#x27;: (&#x27;gini&#x27;, &#x27;entropy&#x27;),\n",
       "                                        &#x27;max_depth&#x27;: [1, 2, 3, 4, 5, 6, 7, 8, 9,\n",
       "                                                      10, 11, 12, 13, 14, 15,\n",
       "                                                      16, 17, 18, 19],\n",
       "                                        &#x27;min_samples_leaf&#x27;: [1, 2, 3, 4, 5, 6,\n",
       "                                                             7, 8, 9, 10, 11,\n",
       "                                                             12, 13, 14, 15, 16,\n",
       "                                                             17, 18, 19],\n",
       "                                        &#x27;min_samples_split&#x27;: [2, 3, 4],\n",
       "                                        &#x27;splitter&#x27;: (&#x27;best&#x27;, &#x27;random&#x27;)},\n",
       "                   scoring=&#x27;f1&#x27;, verbose=3)</pre><b>In a Jupyter environment, please rerun this cell to show the HTML representation or trust the notebook. <br />On GitHub, the HTML representation is unable to render, please try loading this page with nbviewer.org.</b></div><div class=\"sk-container\" hidden><div class=\"sk-item sk-dashed-wrapped\"><div class=\"sk-label-container\"><div class=\"sk-label sk-toggleable\"><input class=\"sk-toggleable__control sk-hidden--visually\" id=\"sk-estimator-id-16\" type=\"checkbox\" ><label for=\"sk-estimator-id-16\" class=\"sk-toggleable__label sk-toggleable__label-arrow\">RandomizedSearchCV</label><div class=\"sk-toggleable__content\"><pre>RandomizedSearchCV(cv=4, estimator=DecisionTreeClassifier(), n_jobs=-1,\n",
       "                   param_distributions={&#x27;criterion&#x27;: (&#x27;gini&#x27;, &#x27;entropy&#x27;),\n",
       "                                        &#x27;max_depth&#x27;: [1, 2, 3, 4, 5, 6, 7, 8, 9,\n",
       "                                                      10, 11, 12, 13, 14, 15,\n",
       "                                                      16, 17, 18, 19],\n",
       "                                        &#x27;min_samples_leaf&#x27;: [1, 2, 3, 4, 5, 6,\n",
       "                                                             7, 8, 9, 10, 11,\n",
       "                                                             12, 13, 14, 15, 16,\n",
       "                                                             17, 18, 19],\n",
       "                                        &#x27;min_samples_split&#x27;: [2, 3, 4],\n",
       "                                        &#x27;splitter&#x27;: (&#x27;best&#x27;, &#x27;random&#x27;)},\n",
       "                   scoring=&#x27;f1&#x27;, verbose=3)</pre></div></div></div><div class=\"sk-parallel\"><div class=\"sk-parallel-item\"><div class=\"sk-item\"><div class=\"sk-label-container\"><div class=\"sk-label sk-toggleable\"><input class=\"sk-toggleable__control sk-hidden--visually\" id=\"sk-estimator-id-17\" type=\"checkbox\" ><label for=\"sk-estimator-id-17\" class=\"sk-toggleable__label sk-toggleable__label-arrow\">estimator: DecisionTreeClassifier</label><div class=\"sk-toggleable__content\"><pre>DecisionTreeClassifier()</pre></div></div></div><div class=\"sk-serial\"><div class=\"sk-item\"><div class=\"sk-estimator sk-toggleable\"><input class=\"sk-toggleable__control sk-hidden--visually\" id=\"sk-estimator-id-18\" type=\"checkbox\" ><label for=\"sk-estimator-id-18\" class=\"sk-toggleable__label sk-toggleable__label-arrow\">DecisionTreeClassifier</label><div class=\"sk-toggleable__content\"><pre>DecisionTreeClassifier()</pre></div></div></div></div></div></div></div></div></div></div>"
      ],
      "text/plain": [
       "RandomizedSearchCV(cv=4, estimator=DecisionTreeClassifier(), n_jobs=-1,\n",
       "                   param_distributions={'criterion': ('gini', 'entropy'),\n",
       "                                        'max_depth': [1, 2, 3, 4, 5, 6, 7, 8, 9,\n",
       "                                                      10, 11, 12, 13, 14, 15,\n",
       "                                                      16, 17, 18, 19],\n",
       "                                        'min_samples_leaf': [1, 2, 3, 4, 5, 6,\n",
       "                                                             7, 8, 9, 10, 11,\n",
       "                                                             12, 13, 14, 15, 16,\n",
       "                                                             17, 18, 19],\n",
       "                                        'min_samples_split': [2, 3, 4],\n",
       "                                        'splitter': ('best', 'random')},\n",
       "                   scoring='f1', verbose=3)"
      ]
     },
     "execution_count": 279,
     "metadata": {},
     "output_type": "execute_result"
    }
   ],
   "source": [
    "grid.fit(x_train, y_train)"
   ]
  },
  {
   "cell_type": "code",
   "execution_count": 280,
   "id": "bce3bcb1-c8c0-4e91-9466-f58a0bb860e7",
   "metadata": {},
   "outputs": [
    {
     "data": {
      "text/plain": [
       "{'splitter': 'best',\n",
       " 'min_samples_split': 3,\n",
       " 'min_samples_leaf': 7,\n",
       " 'max_depth': 19,\n",
       " 'criterion': 'entropy'}"
      ]
     },
     "execution_count": 280,
     "metadata": {},
     "output_type": "execute_result"
    }
   ],
   "source": [
    "grid.best_params_"
   ]
  },
  {
   "cell_type": "code",
   "execution_count": 281,
   "id": "6f02f5e2-9c5c-4930-b04d-3c310f14b3e6",
   "metadata": {},
   "outputs": [
    {
     "data": {
      "text/plain": [
       "0.9961564347687533"
      ]
     },
     "execution_count": 281,
     "metadata": {},
     "output_type": "execute_result"
    }
   ],
   "source": [
    "grid.best_score_"
   ]
  },
  {
   "cell_type": "code",
   "execution_count": 282,
   "id": "31e62ddd-a67c-4179-ad42-da89d8fe4aea",
   "metadata": {},
   "outputs": [
    {
     "data": {
      "text/html": [
       "<style>#sk-container-id-13 {color: black;background-color: white;}#sk-container-id-13 pre{padding: 0;}#sk-container-id-13 div.sk-toggleable {background-color: white;}#sk-container-id-13 label.sk-toggleable__label {cursor: pointer;display: block;width: 100%;margin-bottom: 0;padding: 0.3em;box-sizing: border-box;text-align: center;}#sk-container-id-13 label.sk-toggleable__label-arrow:before {content: \"▸\";float: left;margin-right: 0.25em;color: #696969;}#sk-container-id-13 label.sk-toggleable__label-arrow:hover:before {color: black;}#sk-container-id-13 div.sk-estimator:hover label.sk-toggleable__label-arrow:before {color: black;}#sk-container-id-13 div.sk-toggleable__content {max-height: 0;max-width: 0;overflow: hidden;text-align: left;background-color: #f0f8ff;}#sk-container-id-13 div.sk-toggleable__content pre {margin: 0.2em;color: black;border-radius: 0.25em;background-color: #f0f8ff;}#sk-container-id-13 input.sk-toggleable__control:checked~div.sk-toggleable__content {max-height: 200px;max-width: 100%;overflow: auto;}#sk-container-id-13 input.sk-toggleable__control:checked~label.sk-toggleable__label-arrow:before {content: \"▾\";}#sk-container-id-13 div.sk-estimator input.sk-toggleable__control:checked~label.sk-toggleable__label {background-color: #d4ebff;}#sk-container-id-13 div.sk-label input.sk-toggleable__control:checked~label.sk-toggleable__label {background-color: #d4ebff;}#sk-container-id-13 input.sk-hidden--visually {border: 0;clip: rect(1px 1px 1px 1px);clip: rect(1px, 1px, 1px, 1px);height: 1px;margin: -1px;overflow: hidden;padding: 0;position: absolute;width: 1px;}#sk-container-id-13 div.sk-estimator {font-family: monospace;background-color: #f0f8ff;border: 1px dotted black;border-radius: 0.25em;box-sizing: border-box;margin-bottom: 0.5em;}#sk-container-id-13 div.sk-estimator:hover {background-color: #d4ebff;}#sk-container-id-13 div.sk-parallel-item::after {content: \"\";width: 100%;border-bottom: 1px solid gray;flex-grow: 1;}#sk-container-id-13 div.sk-label:hover label.sk-toggleable__label {background-color: #d4ebff;}#sk-container-id-13 div.sk-serial::before {content: \"\";position: absolute;border-left: 1px solid gray;box-sizing: border-box;top: 0;bottom: 0;left: 50%;z-index: 0;}#sk-container-id-13 div.sk-serial {display: flex;flex-direction: column;align-items: center;background-color: white;padding-right: 0.2em;padding-left: 0.2em;position: relative;}#sk-container-id-13 div.sk-item {position: relative;z-index: 1;}#sk-container-id-13 div.sk-parallel {display: flex;align-items: stretch;justify-content: center;background-color: white;position: relative;}#sk-container-id-13 div.sk-item::before, #sk-container-id-13 div.sk-parallel-item::before {content: \"\";position: absolute;border-left: 1px solid gray;box-sizing: border-box;top: 0;bottom: 0;left: 50%;z-index: -1;}#sk-container-id-13 div.sk-parallel-item {display: flex;flex-direction: column;z-index: 1;position: relative;background-color: white;}#sk-container-id-13 div.sk-parallel-item:first-child::after {align-self: flex-end;width: 50%;}#sk-container-id-13 div.sk-parallel-item:last-child::after {align-self: flex-start;width: 50%;}#sk-container-id-13 div.sk-parallel-item:only-child::after {width: 0;}#sk-container-id-13 div.sk-dashed-wrapped {border: 1px dashed gray;margin: 0 0.4em 0.5em 0.4em;box-sizing: border-box;padding-bottom: 0.4em;background-color: white;}#sk-container-id-13 div.sk-label label {font-family: monospace;font-weight: bold;display: inline-block;line-height: 1.2em;}#sk-container-id-13 div.sk-label-container {text-align: center;}#sk-container-id-13 div.sk-container {/* jupyter's `normalize.less` sets `[hidden] { display: none; }` but bootstrap.min.css set `[hidden] { display: none !important; }` so we also need the `!important` here to be able to override the default hidden behavior on the sphinx rendered scikit-learn.org. See: https://github.com/scikit-learn/scikit-learn/issues/21755 */display: inline-block !important;position: relative;}#sk-container-id-13 div.sk-text-repr-fallback {display: none;}</style><div id=\"sk-container-id-13\" class=\"sk-top-container\"><div class=\"sk-text-repr-fallback\"><pre>DecisionTreeClassifier()</pre><b>In a Jupyter environment, please rerun this cell to show the HTML representation or trust the notebook. <br />On GitHub, the HTML representation is unable to render, please try loading this page with nbviewer.org.</b></div><div class=\"sk-container\" hidden><div class=\"sk-item\"><div class=\"sk-estimator sk-toggleable\"><input class=\"sk-toggleable__control sk-hidden--visually\" id=\"sk-estimator-id-19\" type=\"checkbox\" checked><label for=\"sk-estimator-id-19\" class=\"sk-toggleable__label sk-toggleable__label-arrow\">DecisionTreeClassifier</label><div class=\"sk-toggleable__content\"><pre>DecisionTreeClassifier()</pre></div></div></div></div></div>"
      ],
      "text/plain": [
       "DecisionTreeClassifier()"
      ]
     },
     "execution_count": 282,
     "metadata": {},
     "output_type": "execute_result"
    }
   ],
   "source": [
    "dt3=DecisionTreeClassifier()\n",
    "dt3"
   ]
  },
  {
   "cell_type": "code",
   "execution_count": 283,
   "id": "62e7afc0-6fb2-4b1e-b166-3cee4ef3fd70",
   "metadata": {},
   "outputs": [
    {
     "data": {
      "text/html": [
       "<style>#sk-container-id-14 {color: black;background-color: white;}#sk-container-id-14 pre{padding: 0;}#sk-container-id-14 div.sk-toggleable {background-color: white;}#sk-container-id-14 label.sk-toggleable__label {cursor: pointer;display: block;width: 100%;margin-bottom: 0;padding: 0.3em;box-sizing: border-box;text-align: center;}#sk-container-id-14 label.sk-toggleable__label-arrow:before {content: \"▸\";float: left;margin-right: 0.25em;color: #696969;}#sk-container-id-14 label.sk-toggleable__label-arrow:hover:before {color: black;}#sk-container-id-14 div.sk-estimator:hover label.sk-toggleable__label-arrow:before {color: black;}#sk-container-id-14 div.sk-toggleable__content {max-height: 0;max-width: 0;overflow: hidden;text-align: left;background-color: #f0f8ff;}#sk-container-id-14 div.sk-toggleable__content pre {margin: 0.2em;color: black;border-radius: 0.25em;background-color: #f0f8ff;}#sk-container-id-14 input.sk-toggleable__control:checked~div.sk-toggleable__content {max-height: 200px;max-width: 100%;overflow: auto;}#sk-container-id-14 input.sk-toggleable__control:checked~label.sk-toggleable__label-arrow:before {content: \"▾\";}#sk-container-id-14 div.sk-estimator input.sk-toggleable__control:checked~label.sk-toggleable__label {background-color: #d4ebff;}#sk-container-id-14 div.sk-label input.sk-toggleable__control:checked~label.sk-toggleable__label {background-color: #d4ebff;}#sk-container-id-14 input.sk-hidden--visually {border: 0;clip: rect(1px 1px 1px 1px);clip: rect(1px, 1px, 1px, 1px);height: 1px;margin: -1px;overflow: hidden;padding: 0;position: absolute;width: 1px;}#sk-container-id-14 div.sk-estimator {font-family: monospace;background-color: #f0f8ff;border: 1px dotted black;border-radius: 0.25em;box-sizing: border-box;margin-bottom: 0.5em;}#sk-container-id-14 div.sk-estimator:hover {background-color: #d4ebff;}#sk-container-id-14 div.sk-parallel-item::after {content: \"\";width: 100%;border-bottom: 1px solid gray;flex-grow: 1;}#sk-container-id-14 div.sk-label:hover label.sk-toggleable__label {background-color: #d4ebff;}#sk-container-id-14 div.sk-serial::before {content: \"\";position: absolute;border-left: 1px solid gray;box-sizing: border-box;top: 0;bottom: 0;left: 50%;z-index: 0;}#sk-container-id-14 div.sk-serial {display: flex;flex-direction: column;align-items: center;background-color: white;padding-right: 0.2em;padding-left: 0.2em;position: relative;}#sk-container-id-14 div.sk-item {position: relative;z-index: 1;}#sk-container-id-14 div.sk-parallel {display: flex;align-items: stretch;justify-content: center;background-color: white;position: relative;}#sk-container-id-14 div.sk-item::before, #sk-container-id-14 div.sk-parallel-item::before {content: \"\";position: absolute;border-left: 1px solid gray;box-sizing: border-box;top: 0;bottom: 0;left: 50%;z-index: -1;}#sk-container-id-14 div.sk-parallel-item {display: flex;flex-direction: column;z-index: 1;position: relative;background-color: white;}#sk-container-id-14 div.sk-parallel-item:first-child::after {align-self: flex-end;width: 50%;}#sk-container-id-14 div.sk-parallel-item:last-child::after {align-self: flex-start;width: 50%;}#sk-container-id-14 div.sk-parallel-item:only-child::after {width: 0;}#sk-container-id-14 div.sk-dashed-wrapped {border: 1px dashed gray;margin: 0 0.4em 0.5em 0.4em;box-sizing: border-box;padding-bottom: 0.4em;background-color: white;}#sk-container-id-14 div.sk-label label {font-family: monospace;font-weight: bold;display: inline-block;line-height: 1.2em;}#sk-container-id-14 div.sk-label-container {text-align: center;}#sk-container-id-14 div.sk-container {/* jupyter's `normalize.less` sets `[hidden] { display: none; }` but bootstrap.min.css set `[hidden] { display: none !important; }` so we also need the `!important` here to be able to override the default hidden behavior on the sphinx rendered scikit-learn.org. See: https://github.com/scikit-learn/scikit-learn/issues/21755 */display: inline-block !important;position: relative;}#sk-container-id-14 div.sk-text-repr-fallback {display: none;}</style><div id=\"sk-container-id-14\" class=\"sk-top-container\"><div class=\"sk-text-repr-fallback\"><pre>DecisionTreeClassifier()</pre><b>In a Jupyter environment, please rerun this cell to show the HTML representation or trust the notebook. <br />On GitHub, the HTML representation is unable to render, please try loading this page with nbviewer.org.</b></div><div class=\"sk-container\" hidden><div class=\"sk-item\"><div class=\"sk-estimator sk-toggleable\"><input class=\"sk-toggleable__control sk-hidden--visually\" id=\"sk-estimator-id-20\" type=\"checkbox\" checked><label for=\"sk-estimator-id-20\" class=\"sk-toggleable__label sk-toggleable__label-arrow\">DecisionTreeClassifier</label><div class=\"sk-toggleable__content\"><pre>DecisionTreeClassifier()</pre></div></div></div></div></div>"
      ],
      "text/plain": [
       "DecisionTreeClassifier()"
      ]
     },
     "execution_count": 283,
     "metadata": {},
     "output_type": "execute_result"
    }
   ],
   "source": [
    "dt3.fit(x_train,y_train)\n",
    "dt3"
   ]
  },
  {
   "cell_type": "code",
   "execution_count": 284,
   "id": "73c4a318-919d-4d9a-986b-5fdb2cc03a61",
   "metadata": {},
   "outputs": [
    {
     "data": {
      "text/plain": [
       "array([1, 1, 1, ..., 1, 1, 0], dtype=int64)"
      ]
     },
     "execution_count": 284,
     "metadata": {},
     "output_type": "execute_result"
    }
   ],
   "source": [
    "y_pred_hdt=dt3.predict(x_test)\n",
    "y_pred_hdt"
   ]
  },
  {
   "cell_type": "code",
   "execution_count": 285,
   "id": "e05bcaa8-ef55-4158-94eb-10bbdebd0e46",
   "metadata": {},
   "outputs": [
    {
     "data": {
      "text/plain": [
       "array([1, 1, 1, ..., 1, 1, 0], dtype=int64)"
      ]
     },
     "execution_count": 285,
     "metadata": {},
     "output_type": "execute_result"
    }
   ],
   "source": [
    "y_test.values"
   ]
  },
  {
   "cell_type": "markdown",
   "id": "693b69ee-85b1-4c40-b9b5-3201a7740cc7",
   "metadata": {},
   "source": [
    "## Model Evaluation of Decision Tree"
   ]
  },
  {
   "cell_type": "markdown",
   "id": "60a7a05a-0bfc-40fe-851b-68471e78fbde",
   "metadata": {},
   "source": [
    "## Testing"
   ]
  },
  {
   "cell_type": "code",
   "execution_count": 286,
   "id": "6090f0f4-dee2-4117-97ad-ed24482af45e",
   "metadata": {},
   "outputs": [
    {
     "data": {
      "text/plain": [
       "0.9949675477377481"
      ]
     },
     "execution_count": 286,
     "metadata": {},
     "output_type": "execute_result"
    }
   ],
   "source": [
    "accuracy_score(y_test,y_pred_hdt)"
   ]
  },
  {
   "cell_type": "code",
   "execution_count": 287,
   "id": "ce0b2225-8e96-4e96-aaf4-167f6fa6336d",
   "metadata": {},
   "outputs": [
    {
     "data": {
      "text/plain": [
       "0.9949267460054052"
      ]
     },
     "execution_count": 287,
     "metadata": {},
     "output_type": "execute_result"
    }
   ],
   "source": [
    "f1_score(y_test,y_pred_hdt)"
   ]
  },
  {
   "cell_type": "code",
   "execution_count": 288,
   "id": "bd7fee54-3bce-4810-813c-115a2ed06d5e",
   "metadata": {},
   "outputs": [
    {
     "data": {
      "text/plain": [
       "0.9949739212897107"
      ]
     },
     "execution_count": 288,
     "metadata": {},
     "output_type": "execute_result"
    }
   ],
   "source": [
    "recall_score(y_test,y_pred_hdt)"
   ]
  },
  {
   "cell_type": "code",
   "execution_count": 289,
   "id": "ec4b5887-3582-4ee5-aeea-634135deccbf",
   "metadata": {},
   "outputs": [
    {
     "data": {
      "text/plain": [
       "0.9948795751943865"
      ]
     },
     "execution_count": 289,
     "metadata": {},
     "output_type": "execute_result"
    }
   ],
   "source": [
    "precision_score(y_test,y_pred_hdt)"
   ]
  },
  {
   "cell_type": "code",
   "execution_count": 290,
   "id": "80ce916d-2647-4e25-8d91-628f7c54f55b",
   "metadata": {},
   "outputs": [
    {
     "data": {
      "text/html": [
       "<div>\n",
       "<style scoped>\n",
       "    .dataframe tbody tr th:only-of-type {\n",
       "        vertical-align: middle;\n",
       "    }\n",
       "\n",
       "    .dataframe tbody tr th {\n",
       "        vertical-align: top;\n",
       "    }\n",
       "\n",
       "    .dataframe thead th {\n",
       "        text-align: right;\n",
       "    }\n",
       "</style>\n",
       "<table border=\"1\" class=\"dataframe\">\n",
       "  <thead>\n",
       "    <tr style=\"text-align: right;\">\n",
       "      <th>col_0</th>\n",
       "      <th>0</th>\n",
       "      <th>1</th>\n",
       "    </tr>\n",
       "    <tr>\n",
       "      <th>activity</th>\n",
       "      <th></th>\n",
       "      <th></th>\n",
       "    </tr>\n",
       "  </thead>\n",
       "  <tbody>\n",
       "    <tr>\n",
       "      <th>0</th>\n",
       "      <td>10663</td>\n",
       "      <td>54</td>\n",
       "    </tr>\n",
       "    <tr>\n",
       "      <th>1</th>\n",
       "      <td>53</td>\n",
       "      <td>10492</td>\n",
       "    </tr>\n",
       "  </tbody>\n",
       "</table>\n",
       "</div>"
      ],
      "text/plain": [
       "col_0         0      1\n",
       "activity              \n",
       "0         10663     54\n",
       "1            53  10492"
      ]
     },
     "execution_count": 290,
     "metadata": {},
     "output_type": "execute_result"
    }
   ],
   "source": [
    "pd.crosstab(y_test,y_pred_hdt)"
   ]
  },
  {
   "cell_type": "code",
   "execution_count": 291,
   "id": "1bc0fd4e-da22-499f-b66f-7ddb570c107f",
   "metadata": {},
   "outputs": [
    {
     "data": {
      "text/plain": [
       "0.9949675988831682"
      ]
     },
     "execution_count": 291,
     "metadata": {},
     "output_type": "execute_result"
    }
   ],
   "source": [
    "roc_auc_score(y_test,y_pred_hdt)"
   ]
  },
  {
   "cell_type": "markdown",
   "id": "da40421d-11cb-4a84-ab33-ee4755a290d6",
   "metadata": {},
   "source": [
    "## Training"
   ]
  },
  {
   "cell_type": "code",
   "execution_count": 292,
   "id": "29d6e207-bed7-40a3-af47-311c84af486b",
   "metadata": {},
   "outputs": [],
   "source": [
    "y_pred_hdt_tr=dt3.predict(x_train)"
   ]
  },
  {
   "cell_type": "code",
   "execution_count": 293,
   "id": "9c96106e-4cbc-4ce9-8c94-0bc9c9795860",
   "metadata": {},
   "outputs": [
    {
     "data": {
      "text/plain": [
       "1.0"
      ]
     },
     "execution_count": 293,
     "metadata": {},
     "output_type": "execute_result"
    }
   ],
   "source": [
    "accuracy_score(y_train,y_pred_hdt_tr)"
   ]
  },
  {
   "cell_type": "code",
   "execution_count": 294,
   "id": "1fe9f883-daa9-420c-a892-2908c746579a",
   "metadata": {},
   "outputs": [
    {
     "data": {
      "text/plain": [
       "1.0"
      ]
     },
     "execution_count": 294,
     "metadata": {},
     "output_type": "execute_result"
    }
   ],
   "source": [
    "f1_score(y_train,y_pred_hdt_tr)"
   ]
  },
  {
   "cell_type": "code",
   "execution_count": 295,
   "id": "b8a1e28b-ef44-4701-b5b1-41814f0407ce",
   "metadata": {},
   "outputs": [
    {
     "data": {
      "text/plain": [
       "1.0"
      ]
     },
     "execution_count": 295,
     "metadata": {},
     "output_type": "execute_result"
    }
   ],
   "source": [
    "recall_score(y_train,y_pred_hdt_tr)"
   ]
  },
  {
   "cell_type": "code",
   "execution_count": 296,
   "id": "568ddfb8-7fae-44f5-bc96-01f9626af92f",
   "metadata": {},
   "outputs": [
    {
     "data": {
      "text/plain": [
       "1.0"
      ]
     },
     "execution_count": 296,
     "metadata": {},
     "output_type": "execute_result"
    }
   ],
   "source": [
    "precision_score(y_train,y_pred_hdt_tr)"
   ]
  },
  {
   "cell_type": "code",
   "execution_count": 297,
   "id": "85ac6325-71f2-470d-9783-b6e088859fa4",
   "metadata": {},
   "outputs": [
    {
     "data": {
      "text/html": [
       "<div>\n",
       "<style scoped>\n",
       "    .dataframe tbody tr th:only-of-type {\n",
       "        vertical-align: middle;\n",
       "    }\n",
       "\n",
       "    .dataframe tbody tr th {\n",
       "        vertical-align: top;\n",
       "    }\n",
       "\n",
       "    .dataframe thead th {\n",
       "        text-align: right;\n",
       "    }\n",
       "</style>\n",
       "<table border=\"1\" class=\"dataframe\">\n",
       "  <thead>\n",
       "    <tr style=\"text-align: right;\">\n",
       "      <th>col_0</th>\n",
       "      <th>0</th>\n",
       "      <th>1</th>\n",
       "    </tr>\n",
       "    <tr>\n",
       "      <th>activity</th>\n",
       "      <th></th>\n",
       "      <th></th>\n",
       "    </tr>\n",
       "  </thead>\n",
       "  <tbody>\n",
       "    <tr>\n",
       "      <th>0</th>\n",
       "      <td>33506</td>\n",
       "      <td>0</td>\n",
       "    </tr>\n",
       "    <tr>\n",
       "      <th>1</th>\n",
       "      <td>0</td>\n",
       "      <td>33820</td>\n",
       "    </tr>\n",
       "  </tbody>\n",
       "</table>\n",
       "</div>"
      ],
      "text/plain": [
       "col_0         0      1\n",
       "activity              \n",
       "0         33506      0\n",
       "1             0  33820"
      ]
     },
     "execution_count": 297,
     "metadata": {},
     "output_type": "execute_result"
    }
   ],
   "source": [
    "pd.crosstab(y_train,y_pred_hdt_tr)"
   ]
  },
  {
   "cell_type": "code",
   "execution_count": 298,
   "id": "55f5b849-49e1-4188-97d2-ad79c6a41daf",
   "metadata": {},
   "outputs": [
    {
     "data": {
      "text/plain": [
       "1.0"
      ]
     },
     "execution_count": 298,
     "metadata": {},
     "output_type": "execute_result"
    }
   ],
   "source": [
    "roc_auc_score(y_train,y_pred_hdt_tr)"
   ]
  },
  {
   "cell_type": "markdown",
   "id": "12127db0-c4fe-4bb1-9cd2-66569b733b22",
   "metadata": {},
   "source": [
    "# Random Forest"
   ]
  },
  {
   "cell_type": "code",
   "execution_count": 299,
   "id": "acbd2956-5097-4d07-a06e-8c093069974e",
   "metadata": {},
   "outputs": [],
   "source": [
    "from sklearn.ensemble import RandomForestClassifier\n",
    "rf=RandomForestClassifier(n_estimators=200)"
   ]
  },
  {
   "cell_type": "code",
   "execution_count": 300,
   "id": "9cc80e5d-cd28-4db1-8c6a-ee396e1781e3",
   "metadata": {},
   "outputs": [
    {
     "data": {
      "text/html": [
       "<style>#sk-container-id-15 {color: black;background-color: white;}#sk-container-id-15 pre{padding: 0;}#sk-container-id-15 div.sk-toggleable {background-color: white;}#sk-container-id-15 label.sk-toggleable__label {cursor: pointer;display: block;width: 100%;margin-bottom: 0;padding: 0.3em;box-sizing: border-box;text-align: center;}#sk-container-id-15 label.sk-toggleable__label-arrow:before {content: \"▸\";float: left;margin-right: 0.25em;color: #696969;}#sk-container-id-15 label.sk-toggleable__label-arrow:hover:before {color: black;}#sk-container-id-15 div.sk-estimator:hover label.sk-toggleable__label-arrow:before {color: black;}#sk-container-id-15 div.sk-toggleable__content {max-height: 0;max-width: 0;overflow: hidden;text-align: left;background-color: #f0f8ff;}#sk-container-id-15 div.sk-toggleable__content pre {margin: 0.2em;color: black;border-radius: 0.25em;background-color: #f0f8ff;}#sk-container-id-15 input.sk-toggleable__control:checked~div.sk-toggleable__content {max-height: 200px;max-width: 100%;overflow: auto;}#sk-container-id-15 input.sk-toggleable__control:checked~label.sk-toggleable__label-arrow:before {content: \"▾\";}#sk-container-id-15 div.sk-estimator input.sk-toggleable__control:checked~label.sk-toggleable__label {background-color: #d4ebff;}#sk-container-id-15 div.sk-label input.sk-toggleable__control:checked~label.sk-toggleable__label {background-color: #d4ebff;}#sk-container-id-15 input.sk-hidden--visually {border: 0;clip: rect(1px 1px 1px 1px);clip: rect(1px, 1px, 1px, 1px);height: 1px;margin: -1px;overflow: hidden;padding: 0;position: absolute;width: 1px;}#sk-container-id-15 div.sk-estimator {font-family: monospace;background-color: #f0f8ff;border: 1px dotted black;border-radius: 0.25em;box-sizing: border-box;margin-bottom: 0.5em;}#sk-container-id-15 div.sk-estimator:hover {background-color: #d4ebff;}#sk-container-id-15 div.sk-parallel-item::after {content: \"\";width: 100%;border-bottom: 1px solid gray;flex-grow: 1;}#sk-container-id-15 div.sk-label:hover label.sk-toggleable__label {background-color: #d4ebff;}#sk-container-id-15 div.sk-serial::before {content: \"\";position: absolute;border-left: 1px solid gray;box-sizing: border-box;top: 0;bottom: 0;left: 50%;z-index: 0;}#sk-container-id-15 div.sk-serial {display: flex;flex-direction: column;align-items: center;background-color: white;padding-right: 0.2em;padding-left: 0.2em;position: relative;}#sk-container-id-15 div.sk-item {position: relative;z-index: 1;}#sk-container-id-15 div.sk-parallel {display: flex;align-items: stretch;justify-content: center;background-color: white;position: relative;}#sk-container-id-15 div.sk-item::before, #sk-container-id-15 div.sk-parallel-item::before {content: \"\";position: absolute;border-left: 1px solid gray;box-sizing: border-box;top: 0;bottom: 0;left: 50%;z-index: -1;}#sk-container-id-15 div.sk-parallel-item {display: flex;flex-direction: column;z-index: 1;position: relative;background-color: white;}#sk-container-id-15 div.sk-parallel-item:first-child::after {align-self: flex-end;width: 50%;}#sk-container-id-15 div.sk-parallel-item:last-child::after {align-self: flex-start;width: 50%;}#sk-container-id-15 div.sk-parallel-item:only-child::after {width: 0;}#sk-container-id-15 div.sk-dashed-wrapped {border: 1px dashed gray;margin: 0 0.4em 0.5em 0.4em;box-sizing: border-box;padding-bottom: 0.4em;background-color: white;}#sk-container-id-15 div.sk-label label {font-family: monospace;font-weight: bold;display: inline-block;line-height: 1.2em;}#sk-container-id-15 div.sk-label-container {text-align: center;}#sk-container-id-15 div.sk-container {/* jupyter's `normalize.less` sets `[hidden] { display: none; }` but bootstrap.min.css set `[hidden] { display: none !important; }` so we also need the `!important` here to be able to override the default hidden behavior on the sphinx rendered scikit-learn.org. See: https://github.com/scikit-learn/scikit-learn/issues/21755 */display: inline-block !important;position: relative;}#sk-container-id-15 div.sk-text-repr-fallback {display: none;}</style><div id=\"sk-container-id-15\" class=\"sk-top-container\"><div class=\"sk-text-repr-fallback\"><pre>RandomForestClassifier(n_estimators=200)</pre><b>In a Jupyter environment, please rerun this cell to show the HTML representation or trust the notebook. <br />On GitHub, the HTML representation is unable to render, please try loading this page with nbviewer.org.</b></div><div class=\"sk-container\" hidden><div class=\"sk-item\"><div class=\"sk-estimator sk-toggleable\"><input class=\"sk-toggleable__control sk-hidden--visually\" id=\"sk-estimator-id-21\" type=\"checkbox\" checked><label for=\"sk-estimator-id-21\" class=\"sk-toggleable__label sk-toggleable__label-arrow\">RandomForestClassifier</label><div class=\"sk-toggleable__content\"><pre>RandomForestClassifier(n_estimators=200)</pre></div></div></div></div></div>"
      ],
      "text/plain": [
       "RandomForestClassifier(n_estimators=200)"
      ]
     },
     "execution_count": 300,
     "metadata": {},
     "output_type": "execute_result"
    }
   ],
   "source": [
    "rf.fit(x_train,y_train)"
   ]
  },
  {
   "cell_type": "code",
   "execution_count": 301,
   "id": "d8198661-737c-4f96-af0c-2cf529e2792d",
   "metadata": {},
   "outputs": [
    {
     "data": {
      "text/plain": [
       "array([1, 1, 1, ..., 1, 1, 0], dtype=int64)"
      ]
     },
     "execution_count": 301,
     "metadata": {},
     "output_type": "execute_result"
    }
   ],
   "source": [
    "y_pred_rf=rf.predict(x_test)\n",
    "y_pred_rf"
   ]
  },
  {
   "cell_type": "code",
   "execution_count": 302,
   "id": "e9226962-9eef-4b7c-a23c-e5458df5c5a7",
   "metadata": {},
   "outputs": [
    {
     "data": {
      "text/plain": [
       "array([1, 1, 1, ..., 1, 1, 0], dtype=int64)"
      ]
     },
     "execution_count": 302,
     "metadata": {},
     "output_type": "execute_result"
    }
   ],
   "source": [
    "y_test.values"
   ]
  },
  {
   "cell_type": "code",
   "execution_count": 303,
   "id": "a6a48bf1-98c7-40d0-822a-36fbed7b5759",
   "metadata": {},
   "outputs": [],
   "source": [
    "from sklearn.metrics import accuracy_score,precision_score,recall_score,roc_auc_score,confusion_matrix,classification_report,f1_score"
   ]
  },
  {
   "cell_type": "code",
   "execution_count": 304,
   "id": "b4daf315-d96e-4916-a4e2-7896ea6fb82a",
   "metadata": {},
   "outputs": [
    {
     "data": {
      "text/plain": [
       "0.9987771611325369"
      ]
     },
     "execution_count": 304,
     "metadata": {},
     "output_type": "execute_result"
    }
   ],
   "source": [
    "accuracy_score(y_test,y_pred_rf)"
   ]
  },
  {
   "cell_type": "code",
   "execution_count": 305,
   "id": "784658ee-a7bd-476c-a7b9-7edfebc283df",
   "metadata": {},
   "outputs": [
    {
     "data": {
      "text/plain": [
       "0.9982002462820877"
      ]
     },
     "execution_count": 305,
     "metadata": {},
     "output_type": "execute_result"
    }
   ],
   "source": [
    "precision_score(y_test,y_pred_rf)"
   ]
  },
  {
   "cell_type": "code",
   "execution_count": 306,
   "id": "d9bdc461-f535-4190-829a-053017381dbb",
   "metadata": {},
   "outputs": [
    {
     "data": {
      "text/plain": [
       "0.9993361782835467"
      ]
     },
     "execution_count": 306,
     "metadata": {},
     "output_type": "execute_result"
    }
   ],
   "source": [
    "recall_score(y_test,y_pred_rf)"
   ]
  },
  {
   "cell_type": "code",
   "execution_count": 307,
   "id": "d6134e16-ade9-4580-b968-b4083ed6297b",
   "metadata": {},
   "outputs": [
    {
     "data": {
      "text/plain": [
       "0.9987816470404389"
      ]
     },
     "execution_count": 307,
     "metadata": {},
     "output_type": "execute_result"
    }
   ],
   "source": [
    "roc_auc_score(y_test,y_pred_rf)"
   ]
  },
  {
   "cell_type": "code",
   "execution_count": 308,
   "id": "809cdfe6-9dd8-4f96-8023-32d523ae81ab",
   "metadata": {},
   "outputs": [
    {
     "data": {
      "text/plain": [
       "0.9987678892995925"
      ]
     },
     "execution_count": 308,
     "metadata": {},
     "output_type": "execute_result"
    }
   ],
   "source": [
    "f1_score(y_test,y_pred_rf)"
   ]
  },
  {
   "cell_type": "code",
   "execution_count": 309,
   "id": "acd8e315-7c64-4d26-99e6-58f001e3db2b",
   "metadata": {},
   "outputs": [
    {
     "data": {
      "text/html": [
       "<div>\n",
       "<style scoped>\n",
       "    .dataframe tbody tr th:only-of-type {\n",
       "        vertical-align: middle;\n",
       "    }\n",
       "\n",
       "    .dataframe tbody tr th {\n",
       "        vertical-align: top;\n",
       "    }\n",
       "\n",
       "    .dataframe thead th {\n",
       "        text-align: right;\n",
       "    }\n",
       "</style>\n",
       "<table border=\"1\" class=\"dataframe\">\n",
       "  <thead>\n",
       "    <tr style=\"text-align: right;\">\n",
       "      <th>col_0</th>\n",
       "      <th>0</th>\n",
       "      <th>1</th>\n",
       "    </tr>\n",
       "    <tr>\n",
       "      <th>activity</th>\n",
       "      <th></th>\n",
       "      <th></th>\n",
       "    </tr>\n",
       "  </thead>\n",
       "  <tbody>\n",
       "    <tr>\n",
       "      <th>0</th>\n",
       "      <td>10698</td>\n",
       "      <td>19</td>\n",
       "    </tr>\n",
       "    <tr>\n",
       "      <th>1</th>\n",
       "      <td>7</td>\n",
       "      <td>10538</td>\n",
       "    </tr>\n",
       "  </tbody>\n",
       "</table>\n",
       "</div>"
      ],
      "text/plain": [
       "col_0         0      1\n",
       "activity              \n",
       "0         10698     19\n",
       "1             7  10538"
      ]
     },
     "execution_count": 309,
     "metadata": {},
     "output_type": "execute_result"
    }
   ],
   "source": [
    "pd.crosstab(y_test,y_pred_rf)"
   ]
  },
  {
   "cell_type": "code",
   "execution_count": 310,
   "id": "2a589c59-28c6-4ee4-9c62-47815b8ba0b5",
   "metadata": {},
   "outputs": [
    {
     "data": {
      "text/plain": [
       "array([0, 0, 0, ..., 0, 1, 1], dtype=int64)"
      ]
     },
     "execution_count": 310,
     "metadata": {},
     "output_type": "execute_result"
    }
   ],
   "source": [
    "y_pred_rf1=rf.predict(x_train)\n",
    "y_pred_rf1"
   ]
  },
  {
   "cell_type": "code",
   "execution_count": 311,
   "id": "d494ba30-b450-4c22-8952-c52a6faebb56",
   "metadata": {},
   "outputs": [
    {
     "data": {
      "text/plain": [
       "1.0"
      ]
     },
     "execution_count": 311,
     "metadata": {},
     "output_type": "execute_result"
    }
   ],
   "source": [
    "accuracy_score(y_train,y_pred_rf1)"
   ]
  },
  {
   "cell_type": "code",
   "execution_count": 312,
   "id": "c54f9388-6279-4847-bf56-4dff715ca2e5",
   "metadata": {
    "scrolled": true
   },
   "outputs": [
    {
     "data": {
      "text/plain": [
       "1.0"
      ]
     },
     "execution_count": 312,
     "metadata": {},
     "output_type": "execute_result"
    }
   ],
   "source": [
    "recall_score(y_train,y_pred_rf1)"
   ]
  },
  {
   "cell_type": "markdown",
   "id": "e2069db7-ad06-4712-b3da-2ab926395e76",
   "metadata": {},
   "source": [
    "# cross validation"
   ]
  },
  {
   "cell_type": "code",
   "execution_count": 313,
   "id": "a187d402-f6ca-4ee9-b6b2-969cc791d25e",
   "metadata": {},
   "outputs": [],
   "source": [
    "from sklearn.model_selection import cross_val_score"
   ]
  },
  {
   "cell_type": "code",
   "execution_count": 314,
   "id": "49772b6f-bc11-457c-ad1b-9636543c2fe2",
   "metadata": {},
   "outputs": [],
   "source": [
    "rf1 = RandomForestClassifier()"
   ]
  },
  {
   "cell_type": "code",
   "execution_count": 315,
   "id": "2bb43b95-e4d7-4ace-98a9-d1bd7413389f",
   "metadata": {},
   "outputs": [
    {
     "data": {
      "text/plain": [
       "array([0.90462231, 0.94671475])"
      ]
     },
     "execution_count": 315,
     "metadata": {},
     "output_type": "execute_result"
    }
   ],
   "source": [
    "cv = cross_val_score(rf1,x,y,scoring='f1',cv=2)\n",
    "cv"
   ]
  },
  {
   "cell_type": "code",
   "execution_count": 316,
   "id": "fb1887e1-57d8-4d1a-88a7-4b8516d4ffd6",
   "metadata": {
    "scrolled": true
   },
   "outputs": [
    {
     "data": {
      "text/plain": [
       "0.9256685319993918"
      ]
     },
     "execution_count": 316,
     "metadata": {},
     "output_type": "execute_result"
    }
   ],
   "source": [
    "cv.mean()"
   ]
  },
  {
   "cell_type": "code",
   "execution_count": 317,
   "id": "6335e052-b174-4edf-bf8f-1e497adf6b2d",
   "metadata": {},
   "outputs": [
    {
     "data": {
      "text/plain": [
       "0.02104622013991375"
      ]
     },
     "execution_count": 317,
     "metadata": {},
     "output_type": "execute_result"
    }
   ],
   "source": [
    "cv.std()"
   ]
  },
  {
   "cell_type": "markdown",
   "id": "c3f6eac5-c586-4c23-8e11-daf97686c6f1",
   "metadata": {},
   "source": [
    "# hyperparameter tunning"
   ]
  },
  {
   "cell_type": "code",
   "execution_count": 318,
   "id": "e5b940fe-d045-48ec-a020-42fd2d75a5d8",
   "metadata": {},
   "outputs": [],
   "source": [
    "from sklearn.model_selection import RandomizedSearchCV\n"
   ]
  },
  {
   "cell_type": "code",
   "execution_count": 319,
   "id": "b8242e19-4c52-412f-b0be-31a745e95af5",
   "metadata": {},
   "outputs": [
    {
     "data": {
      "text/plain": [
       "[200, 400, 600, 800, 1000, 1200, 1400, 1600, 1800, 2000]"
      ]
     },
     "execution_count": 319,
     "metadata": {},
     "output_type": "execute_result"
    }
   ],
   "source": [
    "n_estimators = [int(x) for x in np.linspace(start=200, stop=2000, num=10)]\n",
    "n_estimators"
   ]
  },
  {
   "cell_type": "code",
   "execution_count": 320,
   "id": "7864c02e-6662-418d-a6d6-5b01625e92c3",
   "metadata": {
    "scrolled": true
   },
   "outputs": [
    {
     "data": {
      "text/plain": [
       "[10, 20, 30, 40, 50, 60, 70, 80, 90, 100, 110]"
      ]
     },
     "execution_count": 320,
     "metadata": {},
     "output_type": "execute_result"
    }
   ],
   "source": [
    "max_depth = [int(x) for x in np.linspace(10, 110, num=11)]\n",
    "max_depth"
   ]
  },
  {
   "cell_type": "code",
   "execution_count": 321,
   "id": "c38c31fa-8ffa-4286-9597-4995637c4f67",
   "metadata": {},
   "outputs": [],
   "source": [
    "n_estimators = [int(x) for x in np.linspace(start=200, stop=2000, num=10)]\n",
    "max_features = ['auto', 'sqrt']\n",
    "max_depth = [int(x) for x in np.linspace(10, 110, num=11)]\n",
    "min_samples_split = [2, 5, 10]\n",
    "min_samples_leaf = [1, 2, 4]\n",
    "bootstrap = [True, False] "
   ]
  },
  {
   "cell_type": "code",
   "execution_count": 322,
   "id": "7b9422dd-5497-4e47-aa1e-1367c7eaa204",
   "metadata": {},
   "outputs": [],
   "source": [
    "random_grid = {'n_estimators': n_estimators, 'max_features': max_features,\n",
    "               'max_depth': max_depth, 'min_samples_split': min_samples_split,\n",
    "               'min_samples_leaf': min_samples_leaf, 'bootstrap': bootstrap}"
   ]
  },
  {
   "cell_type": "code",
   "execution_count": 323,
   "id": "b01da327-d4fd-4a4f-a249-ab8a8c0e9393",
   "metadata": {},
   "outputs": [],
   "source": [
    "rf2 = RandomForestClassifier(random_state=42)"
   ]
  },
  {
   "cell_type": "code",
   "execution_count": 324,
   "id": "0a037a93-08a7-4f11-83a7-55ced96303bb",
   "metadata": {},
   "outputs": [],
   "source": [
    "rscv = RandomizedSearchCV(estimator=rf2, scoring='f1',param_distributions=random_grid, n_iter=20, cv=2, \n",
    "                               verbose=2, random_state=42, n_jobs=-1)"
   ]
  },
  {
   "cell_type": "code",
   "execution_count": 325,
   "id": "378dd887-bb31-4d02-8f1c-b64986a53adb",
   "metadata": {},
   "outputs": [
    {
     "name": "stdout",
     "output_type": "stream",
     "text": [
      "Fitting 2 folds for each of 20 candidates, totalling 40 fits\n"
     ]
    },
    {
     "data": {
      "text/html": [
       "<style>#sk-container-id-16 {color: black;background-color: white;}#sk-container-id-16 pre{padding: 0;}#sk-container-id-16 div.sk-toggleable {background-color: white;}#sk-container-id-16 label.sk-toggleable__label {cursor: pointer;display: block;width: 100%;margin-bottom: 0;padding: 0.3em;box-sizing: border-box;text-align: center;}#sk-container-id-16 label.sk-toggleable__label-arrow:before {content: \"▸\";float: left;margin-right: 0.25em;color: #696969;}#sk-container-id-16 label.sk-toggleable__label-arrow:hover:before {color: black;}#sk-container-id-16 div.sk-estimator:hover label.sk-toggleable__label-arrow:before {color: black;}#sk-container-id-16 div.sk-toggleable__content {max-height: 0;max-width: 0;overflow: hidden;text-align: left;background-color: #f0f8ff;}#sk-container-id-16 div.sk-toggleable__content pre {margin: 0.2em;color: black;border-radius: 0.25em;background-color: #f0f8ff;}#sk-container-id-16 input.sk-toggleable__control:checked~div.sk-toggleable__content {max-height: 200px;max-width: 100%;overflow: auto;}#sk-container-id-16 input.sk-toggleable__control:checked~label.sk-toggleable__label-arrow:before {content: \"▾\";}#sk-container-id-16 div.sk-estimator input.sk-toggleable__control:checked~label.sk-toggleable__label {background-color: #d4ebff;}#sk-container-id-16 div.sk-label input.sk-toggleable__control:checked~label.sk-toggleable__label {background-color: #d4ebff;}#sk-container-id-16 input.sk-hidden--visually {border: 0;clip: rect(1px 1px 1px 1px);clip: rect(1px, 1px, 1px, 1px);height: 1px;margin: -1px;overflow: hidden;padding: 0;position: absolute;width: 1px;}#sk-container-id-16 div.sk-estimator {font-family: monospace;background-color: #f0f8ff;border: 1px dotted black;border-radius: 0.25em;box-sizing: border-box;margin-bottom: 0.5em;}#sk-container-id-16 div.sk-estimator:hover {background-color: #d4ebff;}#sk-container-id-16 div.sk-parallel-item::after {content: \"\";width: 100%;border-bottom: 1px solid gray;flex-grow: 1;}#sk-container-id-16 div.sk-label:hover label.sk-toggleable__label {background-color: #d4ebff;}#sk-container-id-16 div.sk-serial::before {content: \"\";position: absolute;border-left: 1px solid gray;box-sizing: border-box;top: 0;bottom: 0;left: 50%;z-index: 0;}#sk-container-id-16 div.sk-serial {display: flex;flex-direction: column;align-items: center;background-color: white;padding-right: 0.2em;padding-left: 0.2em;position: relative;}#sk-container-id-16 div.sk-item {position: relative;z-index: 1;}#sk-container-id-16 div.sk-parallel {display: flex;align-items: stretch;justify-content: center;background-color: white;position: relative;}#sk-container-id-16 div.sk-item::before, #sk-container-id-16 div.sk-parallel-item::before {content: \"\";position: absolute;border-left: 1px solid gray;box-sizing: border-box;top: 0;bottom: 0;left: 50%;z-index: -1;}#sk-container-id-16 div.sk-parallel-item {display: flex;flex-direction: column;z-index: 1;position: relative;background-color: white;}#sk-container-id-16 div.sk-parallel-item:first-child::after {align-self: flex-end;width: 50%;}#sk-container-id-16 div.sk-parallel-item:last-child::after {align-self: flex-start;width: 50%;}#sk-container-id-16 div.sk-parallel-item:only-child::after {width: 0;}#sk-container-id-16 div.sk-dashed-wrapped {border: 1px dashed gray;margin: 0 0.4em 0.5em 0.4em;box-sizing: border-box;padding-bottom: 0.4em;background-color: white;}#sk-container-id-16 div.sk-label label {font-family: monospace;font-weight: bold;display: inline-block;line-height: 1.2em;}#sk-container-id-16 div.sk-label-container {text-align: center;}#sk-container-id-16 div.sk-container {/* jupyter's `normalize.less` sets `[hidden] { display: none; }` but bootstrap.min.css set `[hidden] { display: none !important; }` so we also need the `!important` here to be able to override the default hidden behavior on the sphinx rendered scikit-learn.org. See: https://github.com/scikit-learn/scikit-learn/issues/21755 */display: inline-block !important;position: relative;}#sk-container-id-16 div.sk-text-repr-fallback {display: none;}</style><div id=\"sk-container-id-16\" class=\"sk-top-container\"><div class=\"sk-text-repr-fallback\"><pre>RandomizedSearchCV(cv=2, estimator=RandomForestClassifier(random_state=42),\n",
       "                   n_iter=20, n_jobs=-1,\n",
       "                   param_distributions={&#x27;bootstrap&#x27;: [True, False],\n",
       "                                        &#x27;max_depth&#x27;: [10, 20, 30, 40, 50, 60,\n",
       "                                                      70, 80, 90, 100, 110],\n",
       "                                        &#x27;max_features&#x27;: [&#x27;auto&#x27;, &#x27;sqrt&#x27;],\n",
       "                                        &#x27;min_samples_leaf&#x27;: [1, 2, 4],\n",
       "                                        &#x27;min_samples_split&#x27;: [2, 5, 10],\n",
       "                                        &#x27;n_estimators&#x27;: [200, 400, 600, 800,\n",
       "                                                         1000, 1200, 1400, 1600,\n",
       "                                                         1800, 2000]},\n",
       "                   random_state=42, scoring=&#x27;f1&#x27;, verbose=2)</pre><b>In a Jupyter environment, please rerun this cell to show the HTML representation or trust the notebook. <br />On GitHub, the HTML representation is unable to render, please try loading this page with nbviewer.org.</b></div><div class=\"sk-container\" hidden><div class=\"sk-item sk-dashed-wrapped\"><div class=\"sk-label-container\"><div class=\"sk-label sk-toggleable\"><input class=\"sk-toggleable__control sk-hidden--visually\" id=\"sk-estimator-id-22\" type=\"checkbox\" ><label for=\"sk-estimator-id-22\" class=\"sk-toggleable__label sk-toggleable__label-arrow\">RandomizedSearchCV</label><div class=\"sk-toggleable__content\"><pre>RandomizedSearchCV(cv=2, estimator=RandomForestClassifier(random_state=42),\n",
       "                   n_iter=20, n_jobs=-1,\n",
       "                   param_distributions={&#x27;bootstrap&#x27;: [True, False],\n",
       "                                        &#x27;max_depth&#x27;: [10, 20, 30, 40, 50, 60,\n",
       "                                                      70, 80, 90, 100, 110],\n",
       "                                        &#x27;max_features&#x27;: [&#x27;auto&#x27;, &#x27;sqrt&#x27;],\n",
       "                                        &#x27;min_samples_leaf&#x27;: [1, 2, 4],\n",
       "                                        &#x27;min_samples_split&#x27;: [2, 5, 10],\n",
       "                                        &#x27;n_estimators&#x27;: [200, 400, 600, 800,\n",
       "                                                         1000, 1200, 1400, 1600,\n",
       "                                                         1800, 2000]},\n",
       "                   random_state=42, scoring=&#x27;f1&#x27;, verbose=2)</pre></div></div></div><div class=\"sk-parallel\"><div class=\"sk-parallel-item\"><div class=\"sk-item\"><div class=\"sk-label-container\"><div class=\"sk-label sk-toggleable\"><input class=\"sk-toggleable__control sk-hidden--visually\" id=\"sk-estimator-id-23\" type=\"checkbox\" ><label for=\"sk-estimator-id-23\" class=\"sk-toggleable__label sk-toggleable__label-arrow\">estimator: RandomForestClassifier</label><div class=\"sk-toggleable__content\"><pre>RandomForestClassifier(random_state=42)</pre></div></div></div><div class=\"sk-serial\"><div class=\"sk-item\"><div class=\"sk-estimator sk-toggleable\"><input class=\"sk-toggleable__control sk-hidden--visually\" id=\"sk-estimator-id-24\" type=\"checkbox\" ><label for=\"sk-estimator-id-24\" class=\"sk-toggleable__label sk-toggleable__label-arrow\">RandomForestClassifier</label><div class=\"sk-toggleable__content\"><pre>RandomForestClassifier(random_state=42)</pre></div></div></div></div></div></div></div></div></div></div>"
      ],
      "text/plain": [
       "RandomizedSearchCV(cv=2, estimator=RandomForestClassifier(random_state=42),\n",
       "                   n_iter=20, n_jobs=-1,\n",
       "                   param_distributions={'bootstrap': [True, False],\n",
       "                                        'max_depth': [10, 20, 30, 40, 50, 60,\n",
       "                                                      70, 80, 90, 100, 110],\n",
       "                                        'max_features': ['auto', 'sqrt'],\n",
       "                                        'min_samples_leaf': [1, 2, 4],\n",
       "                                        'min_samples_split': [2, 5, 10],\n",
       "                                        'n_estimators': [200, 400, 600, 800,\n",
       "                                                         1000, 1200, 1400, 1600,\n",
       "                                                         1800, 2000]},\n",
       "                   random_state=42, scoring='f1', verbose=2)"
      ]
     },
     "execution_count": 325,
     "metadata": {},
     "output_type": "execute_result"
    }
   ],
   "source": [
    "rscv.fit(x_train,y_train)"
   ]
  },
  {
   "cell_type": "code",
   "execution_count": 326,
   "id": "c14d895a-a211-411d-82ad-98ecfc0034a0",
   "metadata": {},
   "outputs": [],
   "source": [
    "y_pred_rfhte=rscv.predict(x_test)"
   ]
  },
  {
   "cell_type": "markdown",
   "id": "d0f9ca62-34de-4486-b8d2-b1d4a2f460f4",
   "metadata": {},
   "source": [
    "## Model Evaluation of Random Forest"
   ]
  },
  {
   "cell_type": "markdown",
   "id": "96a8ff4f-f0bc-4d9a-afaa-f6973347190c",
   "metadata": {},
   "source": [
    "## Testing"
   ]
  },
  {
   "cell_type": "code",
   "execution_count": 327,
   "id": "a872da9d-7330-4b21-aa3a-bfbe0078c7d4",
   "metadata": {},
   "outputs": [
    {
     "data": {
      "text/plain": [
       "0.9989182579249365"
      ]
     },
     "execution_count": 327,
     "metadata": {},
     "output_type": "execute_result"
    }
   ],
   "source": [
    "accuracy_score(y_test,y_pred_rfhte)"
   ]
  },
  {
   "cell_type": "code",
   "execution_count": 328,
   "id": "02ddd84b-7b97-4b63-9fc7-69dd39aa1d56",
   "metadata": {},
   "outputs": [
    {
     "data": {
      "text/plain": [
       "0.9995258416311048"
      ]
     },
     "execution_count": 328,
     "metadata": {},
     "output_type": "execute_result"
    }
   ],
   "source": [
    "recall_score(y_test,y_pred_rfhte)"
   ]
  },
  {
   "cell_type": "code",
   "execution_count": 329,
   "id": "58c07a75-5cf5-4c3a-a71e-7b1dc4d8f3c7",
   "metadata": {},
   "outputs": [
    {
     "data": {
      "text/plain": [
       "0.9989101075676443"
      ]
     },
     "execution_count": 329,
     "metadata": {},
     "output_type": "execute_result"
    }
   ],
   "source": [
    "f1_score(y_test,y_pred_rfhte)"
   ]
  },
  {
   "cell_type": "code",
   "execution_count": 330,
   "id": "2d5cf52f-a640-4ba7-82b4-a8779965dcdb",
   "metadata": {},
   "outputs": [
    {
     "data": {
      "text/plain": [
       "0.9982951316537223"
      ]
     },
     "execution_count": 330,
     "metadata": {},
     "output_type": "execute_result"
    }
   ],
   "source": [
    "precision_score(y_test,y_pred_rfhte)"
   ]
  },
  {
   "cell_type": "code",
   "execution_count": 331,
   "id": "7fd5a0b2-ec9a-4f42-a6d6-a645829035b5",
   "metadata": {},
   "outputs": [
    {
     "data": {
      "text/html": [
       "<div>\n",
       "<style scoped>\n",
       "    .dataframe tbody tr th:only-of-type {\n",
       "        vertical-align: middle;\n",
       "    }\n",
       "\n",
       "    .dataframe tbody tr th {\n",
       "        vertical-align: top;\n",
       "    }\n",
       "\n",
       "    .dataframe thead th {\n",
       "        text-align: right;\n",
       "    }\n",
       "</style>\n",
       "<table border=\"1\" class=\"dataframe\">\n",
       "  <thead>\n",
       "    <tr style=\"text-align: right;\">\n",
       "      <th>col_0</th>\n",
       "      <th>0</th>\n",
       "      <th>1</th>\n",
       "    </tr>\n",
       "    <tr>\n",
       "      <th>activity</th>\n",
       "      <th></th>\n",
       "      <th></th>\n",
       "    </tr>\n",
       "  </thead>\n",
       "  <tbody>\n",
       "    <tr>\n",
       "      <th>0</th>\n",
       "      <td>10699</td>\n",
       "      <td>18</td>\n",
       "    </tr>\n",
       "    <tr>\n",
       "      <th>1</th>\n",
       "      <td>5</td>\n",
       "      <td>10540</td>\n",
       "    </tr>\n",
       "  </tbody>\n",
       "</table>\n",
       "</div>"
      ],
      "text/plain": [
       "col_0         0      1\n",
       "activity              \n",
       "0         10699     18\n",
       "1             5  10540"
      ]
     },
     "execution_count": 331,
     "metadata": {},
     "output_type": "execute_result"
    }
   ],
   "source": [
    "pd.crosstab(y_test,y_pred_rfhte)"
   ]
  },
  {
   "cell_type": "code",
   "execution_count": 332,
   "id": "fbf24323-8eaf-45ae-93e5-a83f323cf478",
   "metadata": {},
   "outputs": [
    {
     "data": {
      "text/plain": [
       "0.9989231335616567"
      ]
     },
     "execution_count": 332,
     "metadata": {},
     "output_type": "execute_result"
    }
   ],
   "source": [
    "roc_auc_score(y_test,y_pred_rfhte)"
   ]
  },
  {
   "cell_type": "markdown",
   "id": "babb7ace-d213-4759-a7f1-5b419f3e8650",
   "metadata": {},
   "source": [
    "## Training"
   ]
  },
  {
   "cell_type": "code",
   "execution_count": 335,
   "id": "c8b0e126-fb42-4470-b744-53ee83e35c01",
   "metadata": {},
   "outputs": [],
   "source": [
    "y_pred_rfhtr=rscv.predict(x_train)"
   ]
  },
  {
   "cell_type": "code",
   "execution_count": 336,
   "id": "97e0aaa7-fe30-4290-8e48-d2977cefcf64",
   "metadata": {},
   "outputs": [
    {
     "data": {
      "text/plain": [
       "1.0"
      ]
     },
     "execution_count": 336,
     "metadata": {},
     "output_type": "execute_result"
    }
   ],
   "source": [
    "accuracy_score(y_train,y_pred_rfhtr)"
   ]
  },
  {
   "cell_type": "code",
   "execution_count": 337,
   "id": "364bccce-6862-42e0-8548-c7775cef7bc5",
   "metadata": {},
   "outputs": [
    {
     "data": {
      "text/plain": [
       "1.0"
      ]
     },
     "execution_count": 337,
     "metadata": {},
     "output_type": "execute_result"
    }
   ],
   "source": [
    "recall_score(y_train,y_pred_rfhtr)"
   ]
  },
  {
   "cell_type": "code",
   "execution_count": 338,
   "id": "4410f615-b682-4b7f-a593-52bff4e4a6f4",
   "metadata": {},
   "outputs": [
    {
     "data": {
      "text/plain": [
       "1.0"
      ]
     },
     "execution_count": 338,
     "metadata": {},
     "output_type": "execute_result"
    }
   ],
   "source": [
    "f1_score(y_train,y_pred_rfhtr)"
   ]
  },
  {
   "cell_type": "code",
   "execution_count": 339,
   "id": "f7fc9218-0cdd-4951-905c-045b6816c9b2",
   "metadata": {},
   "outputs": [
    {
     "data": {
      "text/plain": [
       "1.0"
      ]
     },
     "execution_count": 339,
     "metadata": {},
     "output_type": "execute_result"
    }
   ],
   "source": [
    "precision_score(y_train,y_pred_rfhtr)"
   ]
  },
  {
   "cell_type": "code",
   "execution_count": 340,
   "id": "958f61c4-627d-4c5c-9c63-6bcd26da0e37",
   "metadata": {},
   "outputs": [
    {
     "data": {
      "text/html": [
       "<div>\n",
       "<style scoped>\n",
       "    .dataframe tbody tr th:only-of-type {\n",
       "        vertical-align: middle;\n",
       "    }\n",
       "\n",
       "    .dataframe tbody tr th {\n",
       "        vertical-align: top;\n",
       "    }\n",
       "\n",
       "    .dataframe thead th {\n",
       "        text-align: right;\n",
       "    }\n",
       "</style>\n",
       "<table border=\"1\" class=\"dataframe\">\n",
       "  <thead>\n",
       "    <tr style=\"text-align: right;\">\n",
       "      <th>col_0</th>\n",
       "      <th>0</th>\n",
       "      <th>1</th>\n",
       "    </tr>\n",
       "    <tr>\n",
       "      <th>activity</th>\n",
       "      <th></th>\n",
       "      <th></th>\n",
       "    </tr>\n",
       "  </thead>\n",
       "  <tbody>\n",
       "    <tr>\n",
       "      <th>0</th>\n",
       "      <td>33506</td>\n",
       "      <td>0</td>\n",
       "    </tr>\n",
       "    <tr>\n",
       "      <th>1</th>\n",
       "      <td>0</td>\n",
       "      <td>33820</td>\n",
       "    </tr>\n",
       "  </tbody>\n",
       "</table>\n",
       "</div>"
      ],
      "text/plain": [
       "col_0         0      1\n",
       "activity              \n",
       "0         33506      0\n",
       "1             0  33820"
      ]
     },
     "execution_count": 340,
     "metadata": {},
     "output_type": "execute_result"
    }
   ],
   "source": [
    "pd.crosstab(y_train,y_pred_rfhtr)"
   ]
  },
  {
   "cell_type": "code",
   "execution_count": 341,
   "id": "cbb9366d-182f-4a05-9399-88aa1851d907",
   "metadata": {},
   "outputs": [
    {
     "data": {
      "text/plain": [
       "1.0"
      ]
     },
     "execution_count": 341,
     "metadata": {},
     "output_type": "execute_result"
    }
   ],
   "source": [
    "roc_auc_score(y_train,y_pred_rfhtr)"
   ]
  },
  {
   "cell_type": "markdown",
   "id": "c8ba0e4d-ae6c-4e16-9559-89f2ef7b3d42",
   "metadata": {},
   "source": [
    "# KNN"
   ]
  },
  {
   "cell_type": "code",
   "execution_count": 342,
   "id": "de3bfc44-93e5-4fef-9e6e-e0618873d36c",
   "metadata": {},
   "outputs": [],
   "source": [
    "from sklearn.neighbors import KNeighborsClassifier"
   ]
  },
  {
   "cell_type": "code",
   "execution_count": 343,
   "id": "f9f6e964-da07-4106-b0a9-bf89d8a04f03",
   "metadata": {},
   "outputs": [],
   "source": [
    "Er=[]\n",
    "for i in range(1,11):\n",
    "    knn=KNeighborsClassifier(n_neighbors=i)\n",
    "    knn.fit(x_train,y_train)\n",
    "    y_pred_knn=knn.predict(x_test)\n",
    "    error=(y_test !=y_pred_knn).sum()/len(y_test)\n",
    "    Er.append(error)"
   ]
  },
  {
   "cell_type": "code",
   "execution_count": 344,
   "id": "adf37167-7664-411c-bb22-c05d8aa1e13c",
   "metadata": {},
   "outputs": [
    {
     "data": {
      "text/plain": [
       "[0.005032452262251905,\n",
       " 0.007101871884112501,\n",
       " 0.0048913554698523185,\n",
       " 0.006020129809049007,\n",
       " 0.00569090396011664,\n",
       " 0.006443420186247766,\n",
       " 0.005973097544915812,\n",
       " 0.006725613771046938,\n",
       " 0.006255291129714985,\n",
       " 0.007195936412378892]"
      ]
     },
     "execution_count": 344,
     "metadata": {},
     "output_type": "execute_result"
    }
   ],
   "source": [
    "Er"
   ]
  },
  {
   "cell_type": "code",
   "execution_count": 345,
   "id": "2b7c1dfc-3fb8-4f7c-946d-015f64f22d2c",
   "metadata": {},
   "outputs": [
    {
     "data": {
      "image/png": "[encoded data removed]",
      "text/plain": [
       "<Figure size 640x480 with 1 Axes>"
      ]
     },
     "metadata": {},
     "output_type": "display_data"
    }
   ],
   "source": [
    "plt.plot(range(1,11),Er,marker='*')\n",
    "plt.xlabel('NUmber Of Negighbours')\n",
    "plt.ylabel('Error')\n",
    "plt.title('K vs Error')\n",
    "plt.show()"
   ]
  },
  {
   "cell_type": "code",
   "execution_count": 346,
   "id": "6d253973-84e9-4017-ba79-2e7233874378",
   "metadata": {},
   "outputs": [],
   "source": [
    "\n",
    "knn=KNeighborsClassifier(n_neighbors=3)"
   ]
  },
  {
   "cell_type": "code",
   "execution_count": 347,
   "id": "28958025-6afe-411f-b9fc-18e0c4c65ea7",
   "metadata": {},
   "outputs": [
    {
     "data": {
      "text/html": [
       "<style>#sk-container-id-17 {color: black;background-color: white;}#sk-container-id-17 pre{padding: 0;}#sk-container-id-17 div.sk-toggleable {background-color: white;}#sk-container-id-17 label.sk-toggleable__label {cursor: pointer;display: block;width: 100%;margin-bottom: 0;padding: 0.3em;box-sizing: border-box;text-align: center;}#sk-container-id-17 label.sk-toggleable__label-arrow:before {content: \"▸\";float: left;margin-right: 0.25em;color: #696969;}#sk-container-id-17 label.sk-toggleable__label-arrow:hover:before {color: black;}#sk-container-id-17 div.sk-estimator:hover label.sk-toggleable__label-arrow:before {color: black;}#sk-container-id-17 div.sk-toggleable__content {max-height: 0;max-width: 0;overflow: hidden;text-align: left;background-color: #f0f8ff;}#sk-container-id-17 div.sk-toggleable__content pre {margin: 0.2em;color: black;border-radius: 0.25em;background-color: #f0f8ff;}#sk-container-id-17 input.sk-toggleable__control:checked~div.sk-toggleable__content {max-height: 200px;max-width: 100%;overflow: auto;}#sk-container-id-17 input.sk-toggleable__control:checked~label.sk-toggleable__label-arrow:before {content: \"▾\";}#sk-container-id-17 div.sk-estimator input.sk-toggleable__control:checked~label.sk-toggleable__label {background-color: #d4ebff;}#sk-container-id-17 div.sk-label input.sk-toggleable__control:checked~label.sk-toggleable__label {background-color: #d4ebff;}#sk-container-id-17 input.sk-hidden--visually {border: 0;clip: rect(1px 1px 1px 1px);clip: rect(1px, 1px, 1px, 1px);height: 1px;margin: -1px;overflow: hidden;padding: 0;position: absolute;width: 1px;}#sk-container-id-17 div.sk-estimator {font-family: monospace;background-color: #f0f8ff;border: 1px dotted black;border-radius: 0.25em;box-sizing: border-box;margin-bottom: 0.5em;}#sk-container-id-17 div.sk-estimator:hover {background-color: #d4ebff;}#sk-container-id-17 div.sk-parallel-item::after {content: \"\";width: 100%;border-bottom: 1px solid gray;flex-grow: 1;}#sk-container-id-17 div.sk-label:hover label.sk-toggleable__label {background-color: #d4ebff;}#sk-container-id-17 div.sk-serial::before {content: \"\";position: absolute;border-left: 1px solid gray;box-sizing: border-box;top: 0;bottom: 0;left: 50%;z-index: 0;}#sk-container-id-17 div.sk-serial {display: flex;flex-direction: column;align-items: center;background-color: white;padding-right: 0.2em;padding-left: 0.2em;position: relative;}#sk-container-id-17 div.sk-item {position: relative;z-index: 1;}#sk-container-id-17 div.sk-parallel {display: flex;align-items: stretch;justify-content: center;background-color: white;position: relative;}#sk-container-id-17 div.sk-item::before, #sk-container-id-17 div.sk-parallel-item::before {content: \"\";position: absolute;border-left: 1px solid gray;box-sizing: border-box;top: 0;bottom: 0;left: 50%;z-index: -1;}#sk-container-id-17 div.sk-parallel-item {display: flex;flex-direction: column;z-index: 1;position: relative;background-color: white;}#sk-container-id-17 div.sk-parallel-item:first-child::after {align-self: flex-end;width: 50%;}#sk-container-id-17 div.sk-parallel-item:last-child::after {align-self: flex-start;width: 50%;}#sk-container-id-17 div.sk-parallel-item:only-child::after {width: 0;}#sk-container-id-17 div.sk-dashed-wrapped {border: 1px dashed gray;margin: 0 0.4em 0.5em 0.4em;box-sizing: border-box;padding-bottom: 0.4em;background-color: white;}#sk-container-id-17 div.sk-label label {font-family: monospace;font-weight: bold;display: inline-block;line-height: 1.2em;}#sk-container-id-17 div.sk-label-container {text-align: center;}#sk-container-id-17 div.sk-container {/* jupyter's `normalize.less` sets `[hidden] { display: none; }` but bootstrap.min.css set `[hidden] { display: none !important; }` so we also need the `!important` here to be able to override the default hidden behavior on the sphinx rendered scikit-learn.org. See: https://github.com/scikit-learn/scikit-learn/issues/21755 */display: inline-block !important;position: relative;}#sk-container-id-17 div.sk-text-repr-fallback {display: none;}</style><div id=\"sk-container-id-17\" class=\"sk-top-container\"><div class=\"sk-text-repr-fallback\"><pre>KNeighborsClassifier(n_neighbors=3)</pre><b>In a Jupyter environment, please rerun this cell to show the HTML representation or trust the notebook. <br />On GitHub, the HTML representation is unable to render, please try loading this page with nbviewer.org.</b></div><div class=\"sk-container\" hidden><div class=\"sk-item\"><div class=\"sk-estimator sk-toggleable\"><input class=\"sk-toggleable__control sk-hidden--visually\" id=\"sk-estimator-id-25\" type=\"checkbox\" checked><label for=\"sk-estimator-id-25\" class=\"sk-toggleable__label sk-toggleable__label-arrow\">KNeighborsClassifier</label><div class=\"sk-toggleable__content\"><pre>KNeighborsClassifier(n_neighbors=3)</pre></div></div></div></div></div>"
      ],
      "text/plain": [
       "KNeighborsClassifier(n_neighbors=3)"
      ]
     },
     "execution_count": 347,
     "metadata": {},
     "output_type": "execute_result"
    }
   ],
   "source": [
    "knn.fit(x_train,y_train)"
   ]
  },
  {
   "cell_type": "code",
   "execution_count": 348,
   "id": "31bd6d82-4753-49c8-b9e1-62a81e45f4e3",
   "metadata": {},
   "outputs": [
    {
     "data": {
      "text/plain": [
       "array([1, 1, 1, ..., 1, 1, 0], dtype=int64)"
      ]
     },
     "execution_count": 348,
     "metadata": {},
     "output_type": "execute_result"
    }
   ],
   "source": [
    "y_pred_knn=knn.predict(x_test)\n",
    "y_pred_knn"
   ]
  },
  {
   "cell_type": "code",
   "execution_count": 349,
   "id": "b12d7664-13e2-4eb9-9d4f-79670055434d",
   "metadata": {
    "scrolled": true
   },
   "outputs": [
    {
     "data": {
      "text/plain": [
       "array([1, 1, 1, ..., 1, 1, 0], dtype=int64)"
      ]
     },
     "execution_count": 349,
     "metadata": {},
     "output_type": "execute_result"
    }
   ],
   "source": [
    "y_test.values"
   ]
  },
  {
   "cell_type": "code",
   "execution_count": 350,
   "id": "d7f98ea6-e8f2-4b97-86f0-ad36fdf54e2a",
   "metadata": {},
   "outputs": [],
   "source": [
    "from sklearn.metrics import accuracy_score,precision_score,recall_score,roc_auc_score,confusion_matrix,classification_report,f1_score"
   ]
  },
  {
   "cell_type": "code",
   "execution_count": 351,
   "id": "6a7fe3e6-0737-4b00-a4ab-eb98827d91ae",
   "metadata": {},
   "outputs": [
    {
     "data": {
      "text/plain": [
       "0.9951086445301477"
      ]
     },
     "execution_count": 351,
     "metadata": {},
     "output_type": "execute_result"
    }
   ],
   "source": [
    "accuracy_score(y_test,y_pred_knn)"
   ]
  },
  {
   "cell_type": "code",
   "execution_count": 352,
   "id": "41f730a4-47ad-4ec5-b48a-90e04da9c4bf",
   "metadata": {},
   "outputs": [
    {
     "data": {
      "text/plain": [
       "0.9927927927927928"
      ]
     },
     "execution_count": 352,
     "metadata": {},
     "output_type": "execute_result"
    }
   ],
   "source": [
    "recall_score(y_test,y_pred_knn)"
   ]
  },
  {
   "cell_type": "code",
   "execution_count": 353,
   "id": "2fea5d41-c4c9-484e-ae25-4f707d878360",
   "metadata": {},
   "outputs": [
    {
     "data": {
      "text/plain": [
       "0.9973325712108222"
      ]
     },
     "execution_count": 353,
     "metadata": {},
     "output_type": "execute_result"
    }
   ],
   "source": [
    "precision_score(y_test,y_pred_knn)"
   ]
  },
  {
   "cell_type": "code",
   "execution_count": 354,
   "id": "90a762a2-f4ad-499a-86b7-8bb4b1d7f472",
   "metadata": {},
   "outputs": [
    {
     "data": {
      "text/plain": [
       "0.99505750403954"
      ]
     },
     "execution_count": 354,
     "metadata": {},
     "output_type": "execute_result"
    }
   ],
   "source": [
    "f1_score(y_test,y_pred_knn)"
   ]
  },
  {
   "cell_type": "code",
   "execution_count": 355,
   "id": "7ab4f7b4-b244-4ebe-bf82-bb9e2791dcd1",
   "metadata": {},
   "outputs": [
    {
     "data": {
      "text/plain": [
       "0.9950900606681143"
      ]
     },
     "execution_count": 355,
     "metadata": {},
     "output_type": "execute_result"
    }
   ],
   "source": [
    "roc_auc_score(y_test,y_pred_knn)"
   ]
  },
  {
   "cell_type": "markdown",
   "id": "021a4562-c6ec-4fea-9a37-f03f01798dd4",
   "metadata": {},
   "source": [
    "## Cross validation"
   ]
  },
  {
   "cell_type": "code",
   "execution_count": 356,
   "id": "966b8881-0c38-434f-b596-bae56293d9d0",
   "metadata": {},
   "outputs": [],
   "source": [
    "from sklearn.model_selection import cross_val_score"
   ]
  },
  {
   "cell_type": "code",
   "execution_count": 357,
   "id": "702e1144-e9b1-420b-8699-f27e662f19ca",
   "metadata": {},
   "outputs": [],
   "source": [
    "knn1=KNeighborsClassifier()"
   ]
  },
  {
   "cell_type": "code",
   "execution_count": 358,
   "id": "c7c5234d-67dc-41b9-af6c-f8be701ccab2",
   "metadata": {},
   "outputs": [
    {
     "data": {
      "text/plain": [
       "array([0.99043414, 0.99627077, 0.9835146 , 0.941381  , 0.97836218])"
      ]
     },
     "execution_count": 358,
     "metadata": {},
     "output_type": "execute_result"
    }
   ],
   "source": [
    "cv=cross_val_score(knn1,x,y,cv=5,scoring='f1')\n",
    "cv"
   ]
  },
  {
   "cell_type": "code",
   "execution_count": 359,
   "id": "b27f1739-8fac-4a93-b733-7137d4d52a8f",
   "metadata": {},
   "outputs": [
    {
     "data": {
      "text/plain": [
       "0.9779925368752709"
      ]
     },
     "execution_count": 359,
     "metadata": {},
     "output_type": "execute_result"
    }
   ],
   "source": [
    "cv.mean()"
   ]
  },
  {
   "cell_type": "code",
   "execution_count": 360,
   "id": "e2c55954-c9fb-4831-8852-4809b0d1ce15",
   "metadata": {},
   "outputs": [
    {
     "data": {
      "text/plain": [
       "0.0192868963909142"
      ]
     },
     "execution_count": 360,
     "metadata": {},
     "output_type": "execute_result"
    }
   ],
   "source": [
    "cv.std()"
   ]
  },
  {
   "cell_type": "markdown",
   "id": "ff37d7f3-dacd-4231-8794-630ef2f2f240",
   "metadata": {},
   "source": [
    "## Hyperparameter Tunning"
   ]
  },
  {
   "cell_type": "code",
   "execution_count": 361,
   "id": "1e7730d9-7dfe-4e69-8fb2-6d9a043b7f6a",
   "metadata": {},
   "outputs": [],
   "source": [
    "from sklearn.model_selection import GridSearchCV"
   ]
  },
  {
   "cell_type": "code",
   "execution_count": 362,
   "id": "a5f072cf-cb29-4dd5-a3a4-b35f00e60903",
   "metadata": {},
   "outputs": [],
   "source": [
    "knn2=KNeighborsClassifier()"
   ]
  },
  {
   "cell_type": "code",
   "execution_count": 363,
   "id": "17a2ebf8-c205-48da-8c09-d9d4f9bcc666",
   "metadata": {},
   "outputs": [],
   "source": [
    "param_grid_knn={'n_neighbors':[3,5,7,9],'weights':['unifrom','distance'],'metric':['euclidean','manhattan']}"
   ]
  },
  {
   "cell_type": "code",
   "execution_count": 364,
   "id": "d0dad180-7a38-4992-a7a2-e5f0a4fca470",
   "metadata": {},
   "outputs": [],
   "source": [
    "grid_knn=GridSearchCV(knn2,param_grid_knn,scoring='f1',cv=5,verbose=3)"
   ]
  },
  {
   "cell_type": "code",
   "execution_count": 365,
   "id": "cf8e173c-9aa5-476f-a714-7c724369369d",
   "metadata": {
    "scrolled": true
   },
   "outputs": [
    {
     "name": "stdout",
     "output_type": "stream",
     "text": [
      "Fitting 5 folds for each of 16 candidates, totalling 80 fits\n",
      "[CV 1/5] END metric=euclidean, n_neighbors=3, weights=unifrom;, score=nan total time=   0.0s\n",
      "[CV 2/5] END metric=euclidean, n_neighbors=3, weights=unifrom;, score=nan total time=   0.0s\n",
      "[CV 3/5] END metric=euclidean, n_neighbors=3, weights=unifrom;, score=nan total time=   0.0s\n",
      "[CV 4/5] END metric=euclidean, n_neighbors=3, weights=unifrom;, score=nan total time=   0.0s\n",
      "[CV 5/5] END metric=euclidean, n_neighbors=3, weights=unifrom;, score=nan total time=   0.0s\n",
      "[CV 1/5] END metric=euclidean, n_neighbors=3, weights=distance;, score=0.992 total time=   0.5s\n",
      "[CV 2/5] END metric=euclidean, n_neighbors=3, weights=distance;, score=0.993 total time=   0.3s\n",
      "[CV 3/5] END metric=euclidean, n_neighbors=3, weights=distance;, score=0.994 total time=   0.4s\n",
      "[CV 4/5] END metric=euclidean, n_neighbors=3, weights=distance;, score=0.993 total time=   0.4s\n",
      "[CV 5/5] END metric=euclidean, n_neighbors=3, weights=distance;, score=0.994 total time=   0.3s\n",
      "[CV 1/5] END metric=euclidean, n_neighbors=5, weights=unifrom;, score=nan total time=   0.0s\n",
      "[CV 2/5] END metric=euclidean, n_neighbors=5, weights=unifrom;, score=nan total time=   0.0s\n",
      "[CV 3/5] END metric=euclidean, n_neighbors=5, weights=unifrom;, score=nan total time=   0.0s\n",
      "[CV 4/5] END metric=euclidean, n_neighbors=5, weights=unifrom;, score=nan total time=   0.0s\n",
      "[CV 5/5] END metric=euclidean, n_neighbors=5, weights=unifrom;, score=nan total time=   0.0s\n",
      "[CV 1/5] END metric=euclidean, n_neighbors=5, weights=distance;, score=0.992 total time=   0.4s\n",
      "[CV 2/5] END metric=euclidean, n_neighbors=5, weights=distance;, score=0.993 total time=   0.4s\n",
      "[CV 3/5] END metric=euclidean, n_neighbors=5, weights=distance;, score=0.994 total time=   0.4s\n",
      "[CV 4/5] END metric=euclidean, n_neighbors=5, weights=distance;, score=0.993 total time=   0.5s\n",
      "[CV 5/5] END metric=euclidean, n_neighbors=5, weights=distance;, score=0.993 total time=   0.4s\n",
      "[CV 1/5] END metric=euclidean, n_neighbors=7, weights=unifrom;, score=nan total time=   0.0s\n",
      "[CV 2/5] END metric=euclidean, n_neighbors=7, weights=unifrom;, score=nan total time=   0.0s\n",
      "[CV 3/5] END metric=euclidean, n_neighbors=7, weights=unifrom;, score=nan total time=   0.0s\n",
      "[CV 4/5] END metric=euclidean, n_neighbors=7, weights=unifrom;, score=nan total time=   0.0s\n",
      "[CV 5/5] END metric=euclidean, n_neighbors=7, weights=unifrom;, score=nan total time=   0.0s\n",
      "[CV 1/5] END metric=euclidean, n_neighbors=7, weights=distance;, score=0.993 total time=   0.5s\n",
      "[CV 2/5] END metric=euclidean, n_neighbors=7, weights=distance;, score=0.993 total time=   0.5s\n",
      "[CV 3/5] END metric=euclidean, n_neighbors=7, weights=distance;, score=0.994 total time=   0.5s\n",
      "[CV 4/5] END metric=euclidean, n_neighbors=7, weights=distance;, score=0.992 total time=   0.5s\n",
      "[CV 5/5] END metric=euclidean, n_neighbors=7, weights=distance;, score=0.993 total time=   0.5s\n",
      "[CV 1/5] END metric=euclidean, n_neighbors=9, weights=unifrom;, score=nan total time=   0.0s\n",
      "[CV 2/5] END metric=euclidean, n_neighbors=9, weights=unifrom;, score=nan total time=   0.0s\n",
      "[CV 3/5] END metric=euclidean, n_neighbors=9, weights=unifrom;, score=nan total time=   0.0s\n",
      "[CV 4/5] END metric=euclidean, n_neighbors=9, weights=unifrom;, score=nan total time=   0.0s\n",
      "[CV 5/5] END metric=euclidean, n_neighbors=9, weights=unifrom;, score=nan total time=   0.0s\n",
      "[CV 1/5] END metric=euclidean, n_neighbors=9, weights=distance;, score=0.992 total time=   0.6s\n",
      "[CV 2/5] END metric=euclidean, n_neighbors=9, weights=distance;, score=0.993 total time=   0.6s\n",
      "[CV 3/5] END metric=euclidean, n_neighbors=9, weights=distance;, score=0.994 total time=   0.5s\n",
      "[CV 4/5] END metric=euclidean, n_neighbors=9, weights=distance;, score=0.992 total time=   0.6s\n",
      "[CV 5/5] END metric=euclidean, n_neighbors=9, weights=distance;, score=0.993 total time=   0.6s\n",
      "[CV 1/5] END metric=manhattan, n_neighbors=3, weights=unifrom;, score=nan total time=   0.0s\n",
      "[CV 2/5] END metric=manhattan, n_neighbors=3, weights=unifrom;, score=nan total time=   0.0s\n",
      "[CV 3/5] END metric=manhattan, n_neighbors=3, weights=unifrom;, score=nan total time=   0.0s\n",
      "[CV 4/5] END metric=manhattan, n_neighbors=3, weights=unifrom;, score=nan total time=   0.0s\n",
      "[CV 5/5] END metric=manhattan, n_neighbors=3, weights=unifrom;, score=nan total time=   0.0s\n",
      "[CV 1/5] END metric=manhattan, n_neighbors=3, weights=distance;, score=0.995 total time=   0.5s\n",
      "[CV 2/5] END metric=manhattan, n_neighbors=3, weights=distance;, score=0.995 total time=   0.6s\n",
      "[CV 3/5] END metric=manhattan, n_neighbors=3, weights=distance;, score=0.996 total time=   0.7s\n",
      "[CV 4/5] END metric=manhattan, n_neighbors=3, weights=distance;, score=0.995 total time=   0.5s\n",
      "[CV 5/5] END metric=manhattan, n_neighbors=3, weights=distance;, score=0.995 total time=   0.5s\n",
      "[CV 1/5] END metric=manhattan, n_neighbors=5, weights=unifrom;, score=nan total time=   0.0s\n",
      "[CV 2/5] END metric=manhattan, n_neighbors=5, weights=unifrom;, score=nan total time=   0.0s\n",
      "[CV 3/5] END metric=manhattan, n_neighbors=5, weights=unifrom;, score=nan total time=   0.0s\n",
      "[CV 4/5] END metric=manhattan, n_neighbors=5, weights=unifrom;, score=nan total time=   0.0s\n",
      "[CV 5/5] END metric=manhattan, n_neighbors=5, weights=unifrom;, score=nan total time=   0.0s\n",
      "[CV 1/5] END metric=manhattan, n_neighbors=5, weights=distance;, score=0.995 total time=   0.7s\n",
      "[CV 2/5] END metric=manhattan, n_neighbors=5, weights=distance;, score=0.996 total time=   0.6s\n",
      "[CV 3/5] END metric=manhattan, n_neighbors=5, weights=distance;, score=0.996 total time=   0.6s\n",
      "[CV 4/5] END metric=manhattan, n_neighbors=5, weights=distance;, score=0.995 total time=   0.6s\n",
      "[CV 5/5] END metric=manhattan, n_neighbors=5, weights=distance;, score=0.996 total time=   0.7s\n",
      "[CV 1/5] END metric=manhattan, n_neighbors=7, weights=unifrom;, score=nan total time=   0.0s\n",
      "[CV 2/5] END metric=manhattan, n_neighbors=7, weights=unifrom;, score=nan total time=   0.0s\n",
      "[CV 3/5] END metric=manhattan, n_neighbors=7, weights=unifrom;, score=nan total time=   0.0s\n",
      "[CV 4/5] END metric=manhattan, n_neighbors=7, weights=unifrom;, score=nan total time=   0.0s\n",
      "[CV 5/5] END metric=manhattan, n_neighbors=7, weights=unifrom;, score=nan total time=   0.0s\n",
      "[CV 1/5] END metric=manhattan, n_neighbors=7, weights=distance;, score=0.994 total time=   0.9s\n",
      "[CV 2/5] END metric=manhattan, n_neighbors=7, weights=distance;, score=0.995 total time=   0.8s\n",
      "[CV 3/5] END metric=manhattan, n_neighbors=7, weights=distance;, score=0.996 total time=   0.7s\n",
      "[CV 4/5] END metric=manhattan, n_neighbors=7, weights=distance;, score=0.995 total time=   1.0s\n",
      "[CV 5/5] END metric=manhattan, n_neighbors=7, weights=distance;, score=0.996 total time=   1.1s\n",
      "[CV 1/5] END metric=manhattan, n_neighbors=9, weights=unifrom;, score=nan total time=   0.0s\n",
      "[CV 2/5] END metric=manhattan, n_neighbors=9, weights=unifrom;, score=nan total time=   0.0s\n",
      "[CV 3/5] END metric=manhattan, n_neighbors=9, weights=unifrom;, score=nan total time=   0.0s\n",
      "[CV 4/5] END metric=manhattan, n_neighbors=9, weights=unifrom;, score=nan total time=   0.0s\n",
      "[CV 5/5] END metric=manhattan, n_neighbors=9, weights=unifrom;, score=nan total time=   0.0s\n",
      "[CV 1/5] END metric=manhattan, n_neighbors=9, weights=distance;, score=0.995 total time=   1.2s\n",
      "[CV 2/5] END metric=manhattan, n_neighbors=9, weights=distance;, score=0.995 total time=   1.0s\n",
      "[CV 3/5] END metric=manhattan, n_neighbors=9, weights=distance;, score=0.996 total time=   0.9s\n",
      "[CV 4/5] END metric=manhattan, n_neighbors=9, weights=distance;, score=0.995 total time=   1.0s\n",
      "[CV 5/5] END metric=manhattan, n_neighbors=9, weights=distance;, score=0.995 total time=   1.0s\n"
     ]
    },
    {
     "data": {
      "text/html": [
       "<style>#sk-container-id-18 {color: black;background-color: white;}#sk-container-id-18 pre{padding: 0;}#sk-container-id-18 div.sk-toggleable {background-color: white;}#sk-container-id-18 label.sk-toggleable__label {cursor: pointer;display: block;width: 100%;margin-bottom: 0;padding: 0.3em;box-sizing: border-box;text-align: center;}#sk-container-id-18 label.sk-toggleable__label-arrow:before {content: \"▸\";float: left;margin-right: 0.25em;color: #696969;}#sk-container-id-18 label.sk-toggleable__label-arrow:hover:before {color: black;}#sk-container-id-18 div.sk-estimator:hover label.sk-toggleable__label-arrow:before {color: black;}#sk-container-id-18 div.sk-toggleable__content {max-height: 0;max-width: 0;overflow: hidden;text-align: left;background-color: #f0f8ff;}#sk-container-id-18 div.sk-toggleable__content pre {margin: 0.2em;color: black;border-radius: 0.25em;background-color: #f0f8ff;}#sk-container-id-18 input.sk-toggleable__control:checked~div.sk-toggleable__content {max-height: 200px;max-width: 100%;overflow: auto;}#sk-container-id-18 input.sk-toggleable__control:checked~label.sk-toggleable__label-arrow:before {content: \"▾\";}#sk-container-id-18 div.sk-estimator input.sk-toggleable__control:checked~label.sk-toggleable__label {background-color: #d4ebff;}#sk-container-id-18 div.sk-label input.sk-toggleable__control:checked~label.sk-toggleable__label {background-color: #d4ebff;}#sk-container-id-18 input.sk-hidden--visually {border: 0;clip: rect(1px 1px 1px 1px);clip: rect(1px, 1px, 1px, 1px);height: 1px;margin: -1px;overflow: hidden;padding: 0;position: absolute;width: 1px;}#sk-container-id-18 div.sk-estimator {font-family: monospace;background-color: #f0f8ff;border: 1px dotted black;border-radius: 0.25em;box-sizing: border-box;margin-bottom: 0.5em;}#sk-container-id-18 div.sk-estimator:hover {background-color: #d4ebff;}#sk-container-id-18 div.sk-parallel-item::after {content: \"\";width: 100%;border-bottom: 1px solid gray;flex-grow: 1;}#sk-container-id-18 div.sk-label:hover label.sk-toggleable__label {background-color: #d4ebff;}#sk-container-id-18 div.sk-serial::before {content: \"\";position: absolute;border-left: 1px solid gray;box-sizing: border-box;top: 0;bottom: 0;left: 50%;z-index: 0;}#sk-container-id-18 div.sk-serial {display: flex;flex-direction: column;align-items: center;background-color: white;padding-right: 0.2em;padding-left: 0.2em;position: relative;}#sk-container-id-18 div.sk-item {position: relative;z-index: 1;}#sk-container-id-18 div.sk-parallel {display: flex;align-items: stretch;justify-content: center;background-color: white;position: relative;}#sk-container-id-18 div.sk-item::before, #sk-container-id-18 div.sk-parallel-item::before {content: \"\";position: absolute;border-left: 1px solid gray;box-sizing: border-box;top: 0;bottom: 0;left: 50%;z-index: -1;}#sk-container-id-18 div.sk-parallel-item {display: flex;flex-direction: column;z-index: 1;position: relative;background-color: white;}#sk-container-id-18 div.sk-parallel-item:first-child::after {align-self: flex-end;width: 50%;}#sk-container-id-18 div.sk-parallel-item:last-child::after {align-self: flex-start;width: 50%;}#sk-container-id-18 div.sk-parallel-item:only-child::after {width: 0;}#sk-container-id-18 div.sk-dashed-wrapped {border: 1px dashed gray;margin: 0 0.4em 0.5em 0.4em;box-sizing: border-box;padding-bottom: 0.4em;background-color: white;}#sk-container-id-18 div.sk-label label {font-family: monospace;font-weight: bold;display: inline-block;line-height: 1.2em;}#sk-container-id-18 div.sk-label-container {text-align: center;}#sk-container-id-18 div.sk-container {/* jupyter's `normalize.less` sets `[hidden] { display: none; }` but bootstrap.min.css set `[hidden] { display: none !important; }` so we also need the `!important` here to be able to override the default hidden behavior on the sphinx rendered scikit-learn.org. See: https://github.com/scikit-learn/scikit-learn/issues/21755 */display: inline-block !important;position: relative;}#sk-container-id-18 div.sk-text-repr-fallback {display: none;}</style><div id=\"sk-container-id-18\" class=\"sk-top-container\"><div class=\"sk-text-repr-fallback\"><pre>GridSearchCV(cv=5, estimator=KNeighborsClassifier(),\n",
       "             param_grid={&#x27;metric&#x27;: [&#x27;euclidean&#x27;, &#x27;manhattan&#x27;],\n",
       "                         &#x27;n_neighbors&#x27;: [3, 5, 7, 9],\n",
       "                         &#x27;weights&#x27;: [&#x27;unifrom&#x27;, &#x27;distance&#x27;]},\n",
       "             scoring=&#x27;f1&#x27;, verbose=3)</pre><b>In a Jupyter environment, please rerun this cell to show the HTML representation or trust the notebook. <br />On GitHub, the HTML representation is unable to render, please try loading this page with nbviewer.org.</b></div><div class=\"sk-container\" hidden><div class=\"sk-item sk-dashed-wrapped\"><div class=\"sk-label-container\"><div class=\"sk-label sk-toggleable\"><input class=\"sk-toggleable__control sk-hidden--visually\" id=\"sk-estimator-id-26\" type=\"checkbox\" ><label for=\"sk-estimator-id-26\" class=\"sk-toggleable__label sk-toggleable__label-arrow\">GridSearchCV</label><div class=\"sk-toggleable__content\"><pre>GridSearchCV(cv=5, estimator=KNeighborsClassifier(),\n",
       "             param_grid={&#x27;metric&#x27;: [&#x27;euclidean&#x27;, &#x27;manhattan&#x27;],\n",
       "                         &#x27;n_neighbors&#x27;: [3, 5, 7, 9],\n",
       "                         &#x27;weights&#x27;: [&#x27;unifrom&#x27;, &#x27;distance&#x27;]},\n",
       "             scoring=&#x27;f1&#x27;, verbose=3)</pre></div></div></div><div class=\"sk-parallel\"><div class=\"sk-parallel-item\"><div class=\"sk-item\"><div class=\"sk-label-container\"><div class=\"sk-label sk-toggleable\"><input class=\"sk-toggleable__control sk-hidden--visually\" id=\"sk-estimator-id-27\" type=\"checkbox\" ><label for=\"sk-estimator-id-27\" class=\"sk-toggleable__label sk-toggleable__label-arrow\">estimator: KNeighborsClassifier</label><div class=\"sk-toggleable__content\"><pre>KNeighborsClassifier()</pre></div></div></div><div class=\"sk-serial\"><div class=\"sk-item\"><div class=\"sk-estimator sk-toggleable\"><input class=\"sk-toggleable__control sk-hidden--visually\" id=\"sk-estimator-id-28\" type=\"checkbox\" ><label for=\"sk-estimator-id-28\" class=\"sk-toggleable__label sk-toggleable__label-arrow\">KNeighborsClassifier</label><div class=\"sk-toggleable__content\"><pre>KNeighborsClassifier()</pre></div></div></div></div></div></div></div></div></div></div>"
      ],
      "text/plain": [
       "GridSearchCV(cv=5, estimator=KNeighborsClassifier(),\n",
       "             param_grid={'metric': ['euclidean', 'manhattan'],\n",
       "                         'n_neighbors': [3, 5, 7, 9],\n",
       "                         'weights': ['unifrom', 'distance']},\n",
       "             scoring='f1', verbose=3)"
      ]
     },
     "execution_count": 365,
     "metadata": {},
     "output_type": "execute_result"
    }
   ],
   "source": [
    "grid_knn.fit(x_train,y_train)"
   ]
  },
  {
   "cell_type": "code",
   "execution_count": 366,
   "id": "027e0431-4d01-49b8-a8a1-69c4a2e6bd9f",
   "metadata": {},
   "outputs": [
    {
     "data": {
      "text/plain": [
       "{'metric': 'manhattan', 'n_neighbors': 5, 'weights': 'distance'}"
      ]
     },
     "execution_count": 366,
     "metadata": {},
     "output_type": "execute_result"
    }
   ],
   "source": [
    "grid_knn.best_params_"
   ]
  },
  {
   "cell_type": "code",
   "execution_count": 367,
   "id": "fabd9c9e-d693-4b22-80af-fe4e1a208761",
   "metadata": {},
   "outputs": [
    {
     "data": {
      "text/html": [
       "<style>#sk-container-id-19 {color: black;background-color: white;}#sk-container-id-19 pre{padding: 0;}#sk-container-id-19 div.sk-toggleable {background-color: white;}#sk-container-id-19 label.sk-toggleable__label {cursor: pointer;display: block;width: 100%;margin-bottom: 0;padding: 0.3em;box-sizing: border-box;text-align: center;}#sk-container-id-19 label.sk-toggleable__label-arrow:before {content: \"▸\";float: left;margin-right: 0.25em;color: #696969;}#sk-container-id-19 label.sk-toggleable__label-arrow:hover:before {color: black;}#sk-container-id-19 div.sk-estimator:hover label.sk-toggleable__label-arrow:before {color: black;}#sk-container-id-19 div.sk-toggleable__content {max-height: 0;max-width: 0;overflow: hidden;text-align: left;background-color: #f0f8ff;}#sk-container-id-19 div.sk-toggleable__content pre {margin: 0.2em;color: black;border-radius: 0.25em;background-color: #f0f8ff;}#sk-container-id-19 input.sk-toggleable__control:checked~div.sk-toggleable__content {max-height: 200px;max-width: 100%;overflow: auto;}#sk-container-id-19 input.sk-toggleable__control:checked~label.sk-toggleable__label-arrow:before {content: \"▾\";}#sk-container-id-19 div.sk-estimator input.sk-toggleable__control:checked~label.sk-toggleable__label {background-color: #d4ebff;}#sk-container-id-19 div.sk-label input.sk-toggleable__control:checked~label.sk-toggleable__label {background-color: #d4ebff;}#sk-container-id-19 input.sk-hidden--visually {border: 0;clip: rect(1px 1px 1px 1px);clip: rect(1px, 1px, 1px, 1px);height: 1px;margin: -1px;overflow: hidden;padding: 0;position: absolute;width: 1px;}#sk-container-id-19 div.sk-estimator {font-family: monospace;background-color: #f0f8ff;border: 1px dotted black;border-radius: 0.25em;box-sizing: border-box;margin-bottom: 0.5em;}#sk-container-id-19 div.sk-estimator:hover {background-color: #d4ebff;}#sk-container-id-19 div.sk-parallel-item::after {content: \"\";width: 100%;border-bottom: 1px solid gray;flex-grow: 1;}#sk-container-id-19 div.sk-label:hover label.sk-toggleable__label {background-color: #d4ebff;}#sk-container-id-19 div.sk-serial::before {content: \"\";position: absolute;border-left: 1px solid gray;box-sizing: border-box;top: 0;bottom: 0;left: 50%;z-index: 0;}#sk-container-id-19 div.sk-serial {display: flex;flex-direction: column;align-items: center;background-color: white;padding-right: 0.2em;padding-left: 0.2em;position: relative;}#sk-container-id-19 div.sk-item {position: relative;z-index: 1;}#sk-container-id-19 div.sk-parallel {display: flex;align-items: stretch;justify-content: center;background-color: white;position: relative;}#sk-container-id-19 div.sk-item::before, #sk-container-id-19 div.sk-parallel-item::before {content: \"\";position: absolute;border-left: 1px solid gray;box-sizing: border-box;top: 0;bottom: 0;left: 50%;z-index: -1;}#sk-container-id-19 div.sk-parallel-item {display: flex;flex-direction: column;z-index: 1;position: relative;background-color: white;}#sk-container-id-19 div.sk-parallel-item:first-child::after {align-self: flex-end;width: 50%;}#sk-container-id-19 div.sk-parallel-item:last-child::after {align-self: flex-start;width: 50%;}#sk-container-id-19 div.sk-parallel-item:only-child::after {width: 0;}#sk-container-id-19 div.sk-dashed-wrapped {border: 1px dashed gray;margin: 0 0.4em 0.5em 0.4em;box-sizing: border-box;padding-bottom: 0.4em;background-color: white;}#sk-container-id-19 div.sk-label label {font-family: monospace;font-weight: bold;display: inline-block;line-height: 1.2em;}#sk-container-id-19 div.sk-label-container {text-align: center;}#sk-container-id-19 div.sk-container {/* jupyter's `normalize.less` sets `[hidden] { display: none; }` but bootstrap.min.css set `[hidden] { display: none !important; }` so we also need the `!important` here to be able to override the default hidden behavior on the sphinx rendered scikit-learn.org. See: https://github.com/scikit-learn/scikit-learn/issues/21755 */display: inline-block !important;position: relative;}#sk-container-id-19 div.sk-text-repr-fallback {display: none;}</style><div id=\"sk-container-id-19\" class=\"sk-top-container\"><div class=\"sk-text-repr-fallback\"><pre>KNeighborsClassifier(metric=&#x27;manhattan&#x27;, weights=&#x27;distance&#x27;)</pre><b>In a Jupyter environment, please rerun this cell to show the HTML representation or trust the notebook. <br />On GitHub, the HTML representation is unable to render, please try loading this page with nbviewer.org.</b></div><div class=\"sk-container\" hidden><div class=\"sk-item\"><div class=\"sk-estimator sk-toggleable\"><input class=\"sk-toggleable__control sk-hidden--visually\" id=\"sk-estimator-id-29\" type=\"checkbox\" checked><label for=\"sk-estimator-id-29\" class=\"sk-toggleable__label sk-toggleable__label-arrow\">KNeighborsClassifier</label><div class=\"sk-toggleable__content\"><pre>KNeighborsClassifier(metric=&#x27;manhattan&#x27;, weights=&#x27;distance&#x27;)</pre></div></div></div></div></div>"
      ],
      "text/plain": [
       "KNeighborsClassifier(metric='manhattan', weights='distance')"
      ]
     },
     "execution_count": 367,
     "metadata": {},
     "output_type": "execute_result"
    }
   ],
   "source": [
    "grid_knn.best_estimator_"
   ]
  },
  {
   "cell_type": "code",
   "execution_count": 368,
   "id": "386bc664-c8ff-4918-a673-0a7e0a41f37e",
   "metadata": {},
   "outputs": [],
   "source": [
    "knn3=KNeighborsClassifier(metric='manhattan', weights='distance')"
   ]
  },
  {
   "cell_type": "code",
   "execution_count": 369,
   "id": "e1bd2972-5609-4b82-aa49-efef313b4a7d",
   "metadata": {},
   "outputs": [
    {
     "data": {
      "text/html": [
       "<style>#sk-container-id-20 {color: black;background-color: white;}#sk-container-id-20 pre{padding: 0;}#sk-container-id-20 div.sk-toggleable {background-color: white;}#sk-container-id-20 label.sk-toggleable__label {cursor: pointer;display: block;width: 100%;margin-bottom: 0;padding: 0.3em;box-sizing: border-box;text-align: center;}#sk-container-id-20 label.sk-toggleable__label-arrow:before {content: \"▸\";float: left;margin-right: 0.25em;color: #696969;}#sk-container-id-20 label.sk-toggleable__label-arrow:hover:before {color: black;}#sk-container-id-20 div.sk-estimator:hover label.sk-toggleable__label-arrow:before {color: black;}#sk-container-id-20 div.sk-toggleable__content {max-height: 0;max-width: 0;overflow: hidden;text-align: left;background-color: #f0f8ff;}#sk-container-id-20 div.sk-toggleable__content pre {margin: 0.2em;color: black;border-radius: 0.25em;background-color: #f0f8ff;}#sk-container-id-20 input.sk-toggleable__control:checked~div.sk-toggleable__content {max-height: 200px;max-width: 100%;overflow: auto;}#sk-container-id-20 input.sk-toggleable__control:checked~label.sk-toggleable__label-arrow:before {content: \"▾\";}#sk-container-id-20 div.sk-estimator input.sk-toggleable__control:checked~label.sk-toggleable__label {background-color: #d4ebff;}#sk-container-id-20 div.sk-label input.sk-toggleable__control:checked~label.sk-toggleable__label {background-color: #d4ebff;}#sk-container-id-20 input.sk-hidden--visually {border: 0;clip: rect(1px 1px 1px 1px);clip: rect(1px, 1px, 1px, 1px);height: 1px;margin: -1px;overflow: hidden;padding: 0;position: absolute;width: 1px;}#sk-container-id-20 div.sk-estimator {font-family: monospace;background-color: #f0f8ff;border: 1px dotted black;border-radius: 0.25em;box-sizing: border-box;margin-bottom: 0.5em;}#sk-container-id-20 div.sk-estimator:hover {background-color: #d4ebff;}#sk-container-id-20 div.sk-parallel-item::after {content: \"\";width: 100%;border-bottom: 1px solid gray;flex-grow: 1;}#sk-container-id-20 div.sk-label:hover label.sk-toggleable__label {background-color: #d4ebff;}#sk-container-id-20 div.sk-serial::before {content: \"\";position: absolute;border-left: 1px solid gray;box-sizing: border-box;top: 0;bottom: 0;left: 50%;z-index: 0;}#sk-container-id-20 div.sk-serial {display: flex;flex-direction: column;align-items: center;background-color: white;padding-right: 0.2em;padding-left: 0.2em;position: relative;}#sk-container-id-20 div.sk-item {position: relative;z-index: 1;}#sk-container-id-20 div.sk-parallel {display: flex;align-items: stretch;justify-content: center;background-color: white;position: relative;}#sk-container-id-20 div.sk-item::before, #sk-container-id-20 div.sk-parallel-item::before {content: \"\";position: absolute;border-left: 1px solid gray;box-sizing: border-box;top: 0;bottom: 0;left: 50%;z-index: -1;}#sk-container-id-20 div.sk-parallel-item {display: flex;flex-direction: column;z-index: 1;position: relative;background-color: white;}#sk-container-id-20 div.sk-parallel-item:first-child::after {align-self: flex-end;width: 50%;}#sk-container-id-20 div.sk-parallel-item:last-child::after {align-self: flex-start;width: 50%;}#sk-container-id-20 div.sk-parallel-item:only-child::after {width: 0;}#sk-container-id-20 div.sk-dashed-wrapped {border: 1px dashed gray;margin: 0 0.4em 0.5em 0.4em;box-sizing: border-box;padding-bottom: 0.4em;background-color: white;}#sk-container-id-20 div.sk-label label {font-family: monospace;font-weight: bold;display: inline-block;line-height: 1.2em;}#sk-container-id-20 div.sk-label-container {text-align: center;}#sk-container-id-20 div.sk-container {/* jupyter's `normalize.less` sets `[hidden] { display: none; }` but bootstrap.min.css set `[hidden] { display: none !important; }` so we also need the `!important` here to be able to override the default hidden behavior on the sphinx rendered scikit-learn.org. See: https://github.com/scikit-learn/scikit-learn/issues/21755 */display: inline-block !important;position: relative;}#sk-container-id-20 div.sk-text-repr-fallback {display: none;}</style><div id=\"sk-container-id-20\" class=\"sk-top-container\"><div class=\"sk-text-repr-fallback\"><pre>KNeighborsClassifier(metric=&#x27;manhattan&#x27;, weights=&#x27;distance&#x27;)</pre><b>In a Jupyter environment, please rerun this cell to show the HTML representation or trust the notebook. <br />On GitHub, the HTML representation is unable to render, please try loading this page with nbviewer.org.</b></div><div class=\"sk-container\" hidden><div class=\"sk-item\"><div class=\"sk-estimator sk-toggleable\"><input class=\"sk-toggleable__control sk-hidden--visually\" id=\"sk-estimator-id-30\" type=\"checkbox\" checked><label for=\"sk-estimator-id-30\" class=\"sk-toggleable__label sk-toggleable__label-arrow\">KNeighborsClassifier</label><div class=\"sk-toggleable__content\"><pre>KNeighborsClassifier(metric=&#x27;manhattan&#x27;, weights=&#x27;distance&#x27;)</pre></div></div></div></div></div>"
      ],
      "text/plain": [
       "KNeighborsClassifier(metric='manhattan', weights='distance')"
      ]
     },
     "execution_count": 369,
     "metadata": {},
     "output_type": "execute_result"
    }
   ],
   "source": [
    "knn3.fit(x_train,y_train)"
   ]
  },
  {
   "cell_type": "code",
   "execution_count": 370,
   "id": "8b7a910f-ef6c-47bc-84e8-71af30d8cbdc",
   "metadata": {
    "scrolled": true
   },
   "outputs": [
    {
     "data": {
      "text/plain": [
       "array([1, 1, 1, ..., 1, 1, 0], dtype=int64)"
      ]
     },
     "execution_count": 370,
     "metadata": {},
     "output_type": "execute_result"
    }
   ],
   "source": [
    "y_pred_knn_h=knn3.predict(x_test)\n",
    "y_pred_knn_h"
   ]
  },
  {
   "cell_type": "markdown",
   "id": "38d89c7b-b250-4f9e-930c-5b59fb777d86",
   "metadata": {},
   "source": [
    "## Model Evaluation of KNN"
   ]
  },
  {
   "cell_type": "markdown",
   "id": "fc0a1612-c8ce-4aa0-b1ed-7e34b4c14999",
   "metadata": {},
   "source": [
    "### Testing "
   ]
  },
  {
   "cell_type": "code",
   "execution_count": 371,
   "id": "d38e7ca9-2025-4b0e-a68d-d35c2f834975",
   "metadata": {},
   "outputs": [
    {
     "data": {
      "text/plain": [
       "0.9962374188693444"
      ]
     },
     "execution_count": 371,
     "metadata": {},
     "output_type": "execute_result"
    }
   ],
   "source": [
    "accuracy_score(y_test,y_pred_knn_h)"
   ]
  },
  {
   "cell_type": "code",
   "execution_count": 372,
   "id": "e3def04c-3ae7-466f-af46-8926cb7209c9",
   "metadata": {},
   "outputs": [
    {
     "data": {
      "text/plain": [
       "0.9937411095305833"
      ]
     },
     "execution_count": 372,
     "metadata": {},
     "output_type": "execute_result"
    }
   ],
   "source": [
    "recall_score(y_test,y_pred_knn_h)"
   ]
  },
  {
   "cell_type": "code",
   "execution_count": 373,
   "id": "fddef3dc-9afa-4127-ada6-2e1ef8b79439",
   "metadata": {},
   "outputs": [
    {
     "data": {
      "text/plain": [
       "0.9961973571632284"
      ]
     },
     "execution_count": 373,
     "metadata": {},
     "output_type": "execute_result"
    }
   ],
   "source": [
    "f1_score(y_test,y_pred_knn_h)"
   ]
  },
  {
   "cell_type": "code",
   "execution_count": 374,
   "id": "c02cfa35-6ec6-468f-aa0c-f63865fdd756",
   "metadata": {},
   "outputs": [
    {
     "data": {
      "text/plain": [
       "0.9986657771847899"
      ]
     },
     "execution_count": 374,
     "metadata": {},
     "output_type": "execute_result"
    }
   ],
   "source": [
    "precision_score(y_test,y_pred_knn_h)"
   ]
  },
  {
   "cell_type": "code",
   "execution_count": 375,
   "id": "4b561be8-2907-45aa-abc7-4c57ea31bb6a",
   "metadata": {},
   "outputs": [
    {
     "data": {
      "text/html": [
       "<div>\n",
       "<style scoped>\n",
       "    .dataframe tbody tr th:only-of-type {\n",
       "        vertical-align: middle;\n",
       "    }\n",
       "\n",
       "    .dataframe tbody tr th {\n",
       "        vertical-align: top;\n",
       "    }\n",
       "\n",
       "    .dataframe thead th {\n",
       "        text-align: right;\n",
       "    }\n",
       "</style>\n",
       "<table border=\"1\" class=\"dataframe\">\n",
       "  <thead>\n",
       "    <tr style=\"text-align: right;\">\n",
       "      <th>col_0</th>\n",
       "      <th>0</th>\n",
       "      <th>1</th>\n",
       "    </tr>\n",
       "    <tr>\n",
       "      <th>activity</th>\n",
       "      <th></th>\n",
       "      <th></th>\n",
       "    </tr>\n",
       "  </thead>\n",
       "  <tbody>\n",
       "    <tr>\n",
       "      <th>0</th>\n",
       "      <td>10703</td>\n",
       "      <td>14</td>\n",
       "    </tr>\n",
       "    <tr>\n",
       "      <th>1</th>\n",
       "      <td>66</td>\n",
       "      <td>10479</td>\n",
       "    </tr>\n",
       "  </tbody>\n",
       "</table>\n",
       "</div>"
      ],
      "text/plain": [
       "col_0         0      1\n",
       "activity              \n",
       "0         10703     14\n",
       "1            66  10479"
      ]
     },
     "execution_count": 375,
     "metadata": {},
     "output_type": "execute_result"
    }
   ],
   "source": [
    "pd.crosstab(y_test,y_pred_knn_h)"
   ]
  },
  {
   "cell_type": "code",
   "execution_count": 376,
   "id": "8cf195d0-9f76-492a-88ea-0fa7e46a5474",
   "metadata": {},
   "outputs": [
    {
     "data": {
      "text/plain": [
       "0.9962173869011506"
      ]
     },
     "execution_count": 376,
     "metadata": {},
     "output_type": "execute_result"
    }
   ],
   "source": [
    "roc_auc_score(y_test,y_pred_knn_h)"
   ]
  },
  {
   "cell_type": "markdown",
   "id": "e198aba8-8b97-4615-b56b-143bb8341fb1",
   "metadata": {},
   "source": [
    "### Training"
   ]
  },
  {
   "cell_type": "code",
   "execution_count": 377,
   "id": "112b24c2-e213-4fd7-b810-d80a182e7714",
   "metadata": {},
   "outputs": [
    {
     "data": {
      "text/plain": [
       "array([0, 0, 0, ..., 0, 1, 1], dtype=int64)"
      ]
     },
     "execution_count": 377,
     "metadata": {},
     "output_type": "execute_result"
    }
   ],
   "source": [
    "y_pred_knnhtr=knn3.predict(x_train)\n",
    "y_pred_knnhtr"
   ]
  },
  {
   "cell_type": "code",
   "execution_count": 378,
   "id": "24bf8503-e752-423c-8388-c556bdc6d7fc",
   "metadata": {},
   "outputs": [
    {
     "data": {
      "text/plain": [
       "1.0"
      ]
     },
     "execution_count": 378,
     "metadata": {},
     "output_type": "execute_result"
    }
   ],
   "source": [
    "accuracy_score(y_train,y_pred_knnhtr)"
   ]
  },
  {
   "cell_type": "code",
   "execution_count": 379,
   "id": "44f98705-3d1b-40ee-a918-e681709061d1",
   "metadata": {},
   "outputs": [
    {
     "data": {
      "text/plain": [
       "1.0"
      ]
     },
     "execution_count": 379,
     "metadata": {},
     "output_type": "execute_result"
    }
   ],
   "source": [
    "recall_score(y_train,y_pred_knnhtr)"
   ]
  },
  {
   "cell_type": "code",
   "execution_count": 380,
   "id": "f9cdf046-dace-4f5b-a5c2-96b3b8a92264",
   "metadata": {},
   "outputs": [
    {
     "data": {
      "text/plain": [
       "1.0"
      ]
     },
     "execution_count": 380,
     "metadata": {},
     "output_type": "execute_result"
    }
   ],
   "source": [
    "f1_score(y_train,y_pred_knnhtr)"
   ]
  },
  {
   "cell_type": "code",
   "execution_count": 381,
   "id": "7c8fbfb4-b6cc-4aae-b77d-c8e9dcdfa00e",
   "metadata": {},
   "outputs": [
    {
     "data": {
      "text/plain": [
       "1.0"
      ]
     },
     "execution_count": 381,
     "metadata": {},
     "output_type": "execute_result"
    }
   ],
   "source": [
    "precision_score(y_train,y_pred_knnhtr)"
   ]
  },
  {
   "cell_type": "code",
   "execution_count": 382,
   "id": "beb1f702-f745-46b4-b694-c21b65452488",
   "metadata": {
    "scrolled": true
   },
   "outputs": [
    {
     "data": {
      "text/html": [
       "<div>\n",
       "<style scoped>\n",
       "    .dataframe tbody tr th:only-of-type {\n",
       "        vertical-align: middle;\n",
       "    }\n",
       "\n",
       "    .dataframe tbody tr th {\n",
       "        vertical-align: top;\n",
       "    }\n",
       "\n",
       "    .dataframe thead th {\n",
       "        text-align: right;\n",
       "    }\n",
       "</style>\n",
       "<table border=\"1\" class=\"dataframe\">\n",
       "  <thead>\n",
       "    <tr style=\"text-align: right;\">\n",
       "      <th>col_0</th>\n",
       "      <th>0</th>\n",
       "      <th>1</th>\n",
       "    </tr>\n",
       "    <tr>\n",
       "      <th>activity</th>\n",
       "      <th></th>\n",
       "      <th></th>\n",
       "    </tr>\n",
       "  </thead>\n",
       "  <tbody>\n",
       "    <tr>\n",
       "      <th>0</th>\n",
       "      <td>33506</td>\n",
       "      <td>0</td>\n",
       "    </tr>\n",
       "    <tr>\n",
       "      <th>1</th>\n",
       "      <td>0</td>\n",
       "      <td>33820</td>\n",
       "    </tr>\n",
       "  </tbody>\n",
       "</table>\n",
       "</div>"
      ],
      "text/plain": [
       "col_0         0      1\n",
       "activity              \n",
       "0         33506      0\n",
       "1             0  33820"
      ]
     },
     "execution_count": 382,
     "metadata": {},
     "output_type": "execute_result"
    }
   ],
   "source": [
    "pd.crosstab(y_train,y_pred_knnhtr)"
   ]
  },
  {
   "cell_type": "code",
   "execution_count": 383,
   "id": "57391af3-78c2-4d71-b3da-b56fb95aad6f",
   "metadata": {
    "scrolled": true
   },
   "outputs": [
    {
     "data": {
      "text/plain": [
       "1.0"
      ]
     },
     "execution_count": 383,
     "metadata": {},
     "output_type": "execute_result"
    }
   ],
   "source": [
    "roc_auc_score(y_train,y_pred_knnhtr)"
   ]
  },
  {
   "cell_type": "markdown",
   "id": "9e32b83f-9670-4e63-840e-d55fcc488962",
   "metadata": {},
   "source": [
    "# XGBoost"
   ]
  },
  {
   "cell_type": "code",
   "execution_count": 384,
   "id": "e075c44a-7c2e-4780-abf8-87fed70eed9e",
   "metadata": {},
   "outputs": [
    {
     "data": {
      "text/html": [
       "<style>#sk-container-id-21 {color: black;background-color: white;}#sk-container-id-21 pre{padding: 0;}#sk-container-id-21 div.sk-toggleable {background-color: white;}#sk-container-id-21 label.sk-toggleable__label {cursor: pointer;display: block;width: 100%;margin-bottom: 0;padding: 0.3em;box-sizing: border-box;text-align: center;}#sk-container-id-21 label.sk-toggleable__label-arrow:before {content: \"▸\";float: left;margin-right: 0.25em;color: #696969;}#sk-container-id-21 label.sk-toggleable__label-arrow:hover:before {color: black;}#sk-container-id-21 div.sk-estimator:hover label.sk-toggleable__label-arrow:before {color: black;}#sk-container-id-21 div.sk-toggleable__content {max-height: 0;max-width: 0;overflow: hidden;text-align: left;background-color: #f0f8ff;}#sk-container-id-21 div.sk-toggleable__content pre {margin: 0.2em;color: black;border-radius: 0.25em;background-color: #f0f8ff;}#sk-container-id-21 input.sk-toggleable__control:checked~div.sk-toggleable__content {max-height: 200px;max-width: 100%;overflow: auto;}#sk-container-id-21 input.sk-toggleable__control:checked~label.sk-toggleable__label-arrow:before {content: \"▾\";}#sk-container-id-21 div.sk-estimator input.sk-toggleable__control:checked~label.sk-toggleable__label {background-color: #d4ebff;}#sk-container-id-21 div.sk-label input.sk-toggleable__control:checked~label.sk-toggleable__label {background-color: #d4ebff;}#sk-container-id-21 input.sk-hidden--visually {border: 0;clip: rect(1px 1px 1px 1px);clip: rect(1px, 1px, 1px, 1px);height: 1px;margin: -1px;overflow: hidden;padding: 0;position: absolute;width: 1px;}#sk-container-id-21 div.sk-estimator {font-family: monospace;background-color: #f0f8ff;border: 1px dotted black;border-radius: 0.25em;box-sizing: border-box;margin-bottom: 0.5em;}#sk-container-id-21 div.sk-estimator:hover {background-color: #d4ebff;}#sk-container-id-21 div.sk-parallel-item::after {content: \"\";width: 100%;border-bottom: 1px solid gray;flex-grow: 1;}#sk-container-id-21 div.sk-label:hover label.sk-toggleable__label {background-color: #d4ebff;}#sk-container-id-21 div.sk-serial::before {content: \"\";position: absolute;border-left: 1px solid gray;box-sizing: border-box;top: 0;bottom: 0;left: 50%;z-index: 0;}#sk-container-id-21 div.sk-serial {display: flex;flex-direction: column;align-items: center;background-color: white;padding-right: 0.2em;padding-left: 0.2em;position: relative;}#sk-container-id-21 div.sk-item {position: relative;z-index: 1;}#sk-container-id-21 div.sk-parallel {display: flex;align-items: stretch;justify-content: center;background-color: white;position: relative;}#sk-container-id-21 div.sk-item::before, #sk-container-id-21 div.sk-parallel-item::before {content: \"\";position: absolute;border-left: 1px solid gray;box-sizing: border-box;top: 0;bottom: 0;left: 50%;z-index: -1;}#sk-container-id-21 div.sk-parallel-item {display: flex;flex-direction: column;z-index: 1;position: relative;background-color: white;}#sk-container-id-21 div.sk-parallel-item:first-child::after {align-self: flex-end;width: 50%;}#sk-container-id-21 div.sk-parallel-item:last-child::after {align-self: flex-start;width: 50%;}#sk-container-id-21 div.sk-parallel-item:only-child::after {width: 0;}#sk-container-id-21 div.sk-dashed-wrapped {border: 1px dashed gray;margin: 0 0.4em 0.5em 0.4em;box-sizing: border-box;padding-bottom: 0.4em;background-color: white;}#sk-container-id-21 div.sk-label label {font-family: monospace;font-weight: bold;display: inline-block;line-height: 1.2em;}#sk-container-id-21 div.sk-label-container {text-align: center;}#sk-container-id-21 div.sk-container {/* jupyter's `normalize.less` sets `[hidden] { display: none; }` but bootstrap.min.css set `[hidden] { display: none !important; }` so we also need the `!important` here to be able to override the default hidden behavior on the sphinx rendered scikit-learn.org. See: https://github.com/scikit-learn/scikit-learn/issues/21755 */display: inline-block !important;position: relative;}#sk-container-id-21 div.sk-text-repr-fallback {display: none;}</style><div id=\"sk-container-id-21\" class=\"sk-top-container\"><div class=\"sk-text-repr-fallback\"><pre>GradientBoostingClassifier()</pre><b>In a Jupyter environment, please rerun this cell to show the HTML representation or trust the notebook. <br />On GitHub, the HTML representation is unable to render, please try loading this page with nbviewer.org.</b></div><div class=\"sk-container\" hidden><div class=\"sk-item\"><div class=\"sk-estimator sk-toggleable\"><input class=\"sk-toggleable__control sk-hidden--visually\" id=\"sk-estimator-id-31\" type=\"checkbox\" checked><label for=\"sk-estimator-id-31\" class=\"sk-toggleable__label sk-toggleable__label-arrow\">GradientBoostingClassifier</label><div class=\"sk-toggleable__content\"><pre>GradientBoostingClassifier()</pre></div></div></div></div></div>"
      ],
      "text/plain": [
       "GradientBoostingClassifier()"
      ]
     },
     "execution_count": 384,
     "metadata": {},
     "output_type": "execute_result"
    }
   ],
   "source": [
    "from sklearn.ensemble import GradientBoostingClassifier\n",
    "gbm = GradientBoostingClassifier() ## object creation\n",
    "gbm.fit(x_train,y_train) ## fitting the data"
   ]
  },
  {
   "cell_type": "code",
   "execution_count": 385,
   "id": "b3e6d135-29b3-4c97-9404-1c6e8450e468",
   "metadata": {},
   "outputs": [
    {
     "data": {
      "text/plain": [
       "array([1, 1, 1, ..., 1, 1, 0], dtype=int64)"
      ]
     },
     "execution_count": 385,
     "metadata": {},
     "output_type": "execute_result"
    }
   ],
   "source": [
    "y_gbm = gbm.predict(x_test)#predicting the price\n",
    "y_gbm"
   ]
  },
  {
   "cell_type": "code",
   "execution_count": 386,
   "id": "a72a4f31-aaaa-4e2e-bb2a-0d67a09f31ef",
   "metadata": {},
   "outputs": [],
   "source": [
    "y_gbm_train = gbm.predict(x_train)"
   ]
  },
  {
   "cell_type": "code",
   "execution_count": 387,
   "id": "1dbda512-369b-4a7f-88df-6cadff107ac8",
   "metadata": {
    "scrolled": true
   },
   "outputs": [
    {
     "data": {
      "text/plain": [
       "0.9981657416988053"
      ]
     },
     "execution_count": 387,
     "metadata": {},
     "output_type": "execute_result"
    }
   ],
   "source": [
    "from sklearn.metrics import accuracy_score,recall_score,precision_score,f1_score,classification_report# to check model performance\n",
    "accu_scor = accuracy_score(y_test,y_gbm)\n",
    "accu_scor"
   ]
  },
  {
   "cell_type": "code",
   "execution_count": 388,
   "id": "2cb4a58c-a403-403e-8e20-f44708ef1d75",
   "metadata": {},
   "outputs": [
    {
     "data": {
      "text/plain": [
       "0.99753741238871"
      ]
     },
     "execution_count": 388,
     "metadata": {},
     "output_type": "execute_result"
    }
   ],
   "source": [
    "precision_score(y_test,y_gbm)"
   ]
  },
  {
   "cell_type": "code",
   "execution_count": 389,
   "id": "de36211c-aec4-4432-8e51-df9cc6d50c3e",
   "metadata": {},
   "outputs": [
    {
     "data": {
      "text/plain": [
       "0.9987671882408724"
      ]
     },
     "execution_count": 389,
     "metadata": {},
     "output_type": "execute_result"
    }
   ],
   "source": [
    "recall_score(y_test,y_gbm)"
   ]
  },
  {
   "cell_type": "code",
   "execution_count": 390,
   "id": "c7bceb76-6a50-400d-aeb6-a55b66e893b7",
   "metadata": {},
   "outputs": [
    {
     "data": {
      "text/plain": [
       "0.9981519215277448"
      ]
     },
     "execution_count": 390,
     "metadata": {},
     "output_type": "execute_result"
    }
   ],
   "source": [
    "f1_score(y_test,y_gbm)"
   ]
  },
  {
   "cell_type": "code",
   "execution_count": 391,
   "id": "366e09b8-9365-403e-925b-24b669e28320",
   "metadata": {},
   "outputs": [
    {
     "data": {
      "text/plain": [
       "0.9981705680870312"
      ]
     },
     "execution_count": 391,
     "metadata": {},
     "output_type": "execute_result"
    }
   ],
   "source": [
    "roc_auc_score(y_test,y_gbm)"
   ]
  },
  {
   "cell_type": "code",
   "execution_count": 392,
   "id": "82c009ff-4699-4eff-9490-215b5d30b585",
   "metadata": {},
   "outputs": [
    {
     "data": {
      "text/plain": [
       "0.99841071799899"
      ]
     },
     "execution_count": 392,
     "metadata": {},
     "output_type": "execute_result"
    }
   ],
   "source": [
    "accu_scor_train = accuracy_score(y_train, y_gbm_train)\n",
    "accu_scor_train"
   ]
  },
  {
   "cell_type": "code",
   "execution_count": 394,
   "id": "d0b92238-b31c-4e04-a990-950fc88061cc",
   "metadata": {},
   "outputs": [
    {
     "name": "stdout",
     "output_type": "stream",
     "text": [
      "              precision    recall  f1-score   support\n",
      "\n",
      "           0       1.00      1.00      1.00     33506\n",
      "           1       1.00      1.00      1.00     33820\n",
      "\n",
      "    accuracy                           1.00     67326\n",
      "   macro avg       1.00      1.00      1.00     67326\n",
      "weighted avg       1.00      1.00      1.00     67326\n",
      "\n"
     ]
    }
   ],
   "source": [
    "print(classification_report(y_train, y_gbm_train))"
   ]
  },
  {
   "cell_type": "code",
   "execution_count": 395,
   "id": "242eb03a-323a-4768-9a4b-9e4d993d3c77",
   "metadata": {},
   "outputs": [
    {
     "data": {
      "text/html": [
       "<div>\n",
       "<style scoped>\n",
       "    .dataframe tbody tr th:only-of-type {\n",
       "        vertical-align: middle;\n",
       "    }\n",
       "\n",
       "    .dataframe tbody tr th {\n",
       "        vertical-align: top;\n",
       "    }\n",
       "\n",
       "    .dataframe thead th {\n",
       "        text-align: right;\n",
       "    }\n",
       "</style>\n",
       "<table border=\"1\" class=\"dataframe\">\n",
       "  <thead>\n",
       "    <tr style=\"text-align: right;\">\n",
       "      <th>col_0</th>\n",
       "      <th>0</th>\n",
       "      <th>1</th>\n",
       "    </tr>\n",
       "    <tr>\n",
       "      <th>activity</th>\n",
       "      <th></th>\n",
       "      <th></th>\n",
       "    </tr>\n",
       "  </thead>\n",
       "  <tbody>\n",
       "    <tr>\n",
       "      <th>0</th>\n",
       "      <td>33447</td>\n",
       "      <td>59</td>\n",
       "    </tr>\n",
       "    <tr>\n",
       "      <th>1</th>\n",
       "      <td>48</td>\n",
       "      <td>33772</td>\n",
       "    </tr>\n",
       "  </tbody>\n",
       "</table>\n",
       "</div>"
      ],
      "text/plain": [
       "col_0         0      1\n",
       "activity              \n",
       "0         33447     59\n",
       "1            48  33772"
      ]
     },
     "execution_count": 395,
     "metadata": {},
     "output_type": "execute_result"
    }
   ],
   "source": [
    "pd.crosstab(y_train, y_gbm_train)"
   ]
  },
  {
   "cell_type": "markdown",
   "id": "4db3fe7d-b04d-4ab1-adf6-e2a5dfe473e6",
   "metadata": {},
   "source": [
    "## Cross Validation"
   ]
  },
  {
   "cell_type": "code",
   "execution_count": 396,
   "id": "22b1dc01-7a75-4cc9-aceb-a351f35c9aad",
   "metadata": {},
   "outputs": [],
   "source": [
    "from sklearn.model_selection import cross_val_score"
   ]
  },
  {
   "cell_type": "code",
   "execution_count": 397,
   "id": "27938de0-23eb-49aa-aa9d-6da00e201f45",
   "metadata": {},
   "outputs": [],
   "source": [
    "gbm1=GradientBoostingClassifier()"
   ]
  },
  {
   "cell_type": "code",
   "execution_count": 398,
   "id": "3179a666-f2be-471d-a83d-9c4593ddbcd8",
   "metadata": {},
   "outputs": [
    {
     "data": {
      "text/plain": [
       "array([0.78833282, 0.99932333, 0.96045926, 0.96639399, 0.9581001 ])"
      ]
     },
     "execution_count": 398,
     "metadata": {},
     "output_type": "execute_result"
    }
   ],
   "source": [
    "cv=cross_val_score(gbm1,x,y,cv=5,scoring='f1')\n",
    "cv"
   ]
  },
  {
   "cell_type": "code",
   "execution_count": 399,
   "id": "1bfaa1cc-f96c-453b-b662-55dc27f33229",
   "metadata": {},
   "outputs": [
    {
     "data": {
      "text/plain": [
       "0.9345219006526415"
      ]
     },
     "execution_count": 399,
     "metadata": {},
     "output_type": "execute_result"
    }
   ],
   "source": [
    "cv.mean()"
   ]
  },
  {
   "cell_type": "code",
   "execution_count": 400,
   "id": "72b782fc-f4be-48f8-a2f6-239ea528a982",
   "metadata": {},
   "outputs": [
    {
     "data": {
      "text/plain": [
       "0.0745854953238635"
      ]
     },
     "execution_count": 400,
     "metadata": {},
     "output_type": "execute_result"
    }
   ],
   "source": [
    "cv.std()"
   ]
  },
  {
   "cell_type": "markdown",
   "id": "25c8fcd6-8b27-4dad-8c0d-6a7328f85ccb",
   "metadata": {},
   "source": [
    "## Hyperparameter Tunning"
   ]
  },
  {
   "cell_type": "code",
   "execution_count": 401,
   "id": "7c0698c0-4d20-4aec-ab0c-971694a726eb",
   "metadata": {},
   "outputs": [],
   "source": [
    "from sklearn.model_selection import GridSearchCV"
   ]
  },
  {
   "cell_type": "code",
   "execution_count": 402,
   "id": "dc45334c-059e-470a-8fa2-7a043b1c5b5c",
   "metadata": {},
   "outputs": [],
   "source": [
    "gbm2=GradientBoostingClassifier()"
   ]
  },
  {
   "cell_type": "code",
   "execution_count": 403,
   "id": "d48aa32b-3539-4760-aab8-42e210c81910",
   "metadata": {},
   "outputs": [],
   "source": [
    "param_grid_xgb= {\n",
    "    'max_depth': [3, 5, 7],\n",
    "    'learning_rate': [0.1, 0.01, 0.001],\n",
    "    'subsample': [0.5, 0.7, 1]\n",
    "}"
   ]
  },
  {
   "cell_type": "code",
   "execution_count": 404,
   "id": "8573494f-b0fb-49d2-b86b-93e536d508e1",
   "metadata": {},
   "outputs": [],
   "source": [
    "grid=GridSearchCV(gbm2,param_grid_xgb,scoring='f1',cv=5,verbose=3)"
   ]
  },
  {
   "cell_type": "code",
   "execution_count": 405,
   "id": "69692979-83aa-4d2c-a0ba-6e9d61bcc03e",
   "metadata": {},
   "outputs": [
    {
     "name": "stdout",
     "output_type": "stream",
     "text": [
      "Fitting 5 folds for each of 27 candidates, totalling 135 fits\n",
      "[CV 1/5] END learning_rate=0.1, max_depth=3, subsample=0.5;, score=0.998 total time=  11.1s\n",
      "[CV 2/5] END learning_rate=0.1, max_depth=3, subsample=0.5;, score=0.998 total time=  10.7s\n",
      "[CV 3/5] END learning_rate=0.1, max_depth=3, subsample=0.5;, score=0.997 total time=  11.0s\n",
      "[CV 4/5] END learning_rate=0.1, max_depth=3, subsample=0.5;, score=0.997 total time=  10.5s\n",
      "[CV 5/5] END learning_rate=0.1, max_depth=3, subsample=0.5;, score=0.998 total time=  10.8s\n",
      "[CV 1/5] END learning_rate=0.1, max_depth=3, subsample=0.7;, score=0.997 total time=  14.4s\n",
      "[CV 2/5] END learning_rate=0.1, max_depth=3, subsample=0.7;, score=0.998 total time=  14.1s\n",
      "[CV 3/5] END learning_rate=0.1, max_depth=3, subsample=0.7;, score=0.997 total time=  14.2s\n",
      "[CV 4/5] END learning_rate=0.1, max_depth=3, subsample=0.7;, score=0.998 total time=  14.2s\n",
      "[CV 5/5] END learning_rate=0.1, max_depth=3, subsample=0.7;, score=0.998 total time=  14.0s\n",
      "[CV 1/5] END learning_rate=0.1, max_depth=3, subsample=1;, score=0.998 total time=  18.8s\n",
      "[CV 2/5] END learning_rate=0.1, max_depth=3, subsample=1;, score=0.998 total time=  18.1s\n",
      "[CV 3/5] END learning_rate=0.1, max_depth=3, subsample=1;, score=0.997 total time=  18.8s\n",
      "[CV 4/5] END learning_rate=0.1, max_depth=3, subsample=1;, score=0.998 total time=  18.6s\n",
      "[CV 5/5] END learning_rate=0.1, max_depth=3, subsample=1;, score=0.998 total time=  18.6s\n",
      "[CV 1/5] END learning_rate=0.1, max_depth=5, subsample=0.5;, score=0.999 total time=  16.6s\n",
      "[CV 2/5] END learning_rate=0.1, max_depth=5, subsample=0.5;, score=0.999 total time=  16.9s\n",
      "[CV 3/5] END learning_rate=0.1, max_depth=5, subsample=0.5;, score=0.999 total time=  17.3s\n",
      "[CV 4/5] END learning_rate=0.1, max_depth=5, subsample=0.5;, score=1.000 total time=  16.4s\n",
      "[CV 5/5] END learning_rate=0.1, max_depth=5, subsample=0.5;, score=0.999 total time=  16.7s\n",
      "[CV 1/5] END learning_rate=0.1, max_depth=5, subsample=0.7;, score=0.999 total time=  22.7s\n",
      "[CV 2/5] END learning_rate=0.1, max_depth=5, subsample=0.7;, score=1.000 total time=  22.2s\n",
      "[CV 3/5] END learning_rate=0.1, max_depth=5, subsample=0.7;, score=0.999 total time=  22.1s\n",
      "[CV 4/5] END learning_rate=0.1, max_depth=5, subsample=0.7;, score=1.000 total time=  23.0s\n",
      "[CV 5/5] END learning_rate=0.1, max_depth=5, subsample=0.7;, score=0.999 total time=  21.6s\n",
      "[CV 1/5] END learning_rate=0.1, max_depth=5, subsample=1;, score=0.999 total time=  28.5s\n",
      "[CV 2/5] END learning_rate=0.1, max_depth=5, subsample=1;, score=0.999 total time=  29.3s\n",
      "[CV 3/5] END learning_rate=0.1, max_depth=5, subsample=1;, score=0.999 total time=  29.8s\n",
      "[CV 4/5] END learning_rate=0.1, max_depth=5, subsample=1;, score=1.000 total time=  28.8s\n",
      "[CV 5/5] END learning_rate=0.1, max_depth=5, subsample=1;, score=0.999 total time=  28.2s\n",
      "[CV 1/5] END learning_rate=0.1, max_depth=7, subsample=0.5;, score=1.000 total time=  21.2s\n",
      "[CV 2/5] END learning_rate=0.1, max_depth=7, subsample=0.5;, score=1.000 total time=  22.0s\n",
      "[CV 3/5] END learning_rate=0.1, max_depth=7, subsample=0.5;, score=0.999 total time=  21.0s\n",
      "[CV 4/5] END learning_rate=0.1, max_depth=7, subsample=0.5;, score=1.000 total time=  22.2s\n",
      "[CV 5/5] END learning_rate=0.1, max_depth=7, subsample=0.5;, score=1.000 total time=  20.9s\n",
      "[CV 1/5] END learning_rate=0.1, max_depth=7, subsample=0.7;, score=1.000 total time=  29.3s\n",
      "[CV 2/5] END learning_rate=0.1, max_depth=7, subsample=0.7;, score=1.000 total time=  27.5s\n",
      "[CV 3/5] END learning_rate=0.1, max_depth=7, subsample=0.7;, score=0.999 total time=  29.0s\n",
      "[CV 4/5] END learning_rate=0.1, max_depth=7, subsample=0.7;, score=1.000 total time=  29.3s\n",
      "[CV 5/5] END learning_rate=0.1, max_depth=7, subsample=0.7;, score=0.999 total time=  29.2s\n",
      "[CV 1/5] END learning_rate=0.1, max_depth=7, subsample=1;, score=1.000 total time=  37.4s\n",
      "[CV 2/5] END learning_rate=0.1, max_depth=7, subsample=1;, score=1.000 total time=  36.8s\n",
      "[CV 3/5] END learning_rate=0.1, max_depth=7, subsample=1;, score=0.999 total time=  36.1s\n",
      "[CV 4/5] END learning_rate=0.1, max_depth=7, subsample=1;, score=1.000 total time=  36.5s\n",
      "[CV 5/5] END learning_rate=0.1, max_depth=7, subsample=1;, score=1.000 total time=  35.8s\n",
      "[CV 1/5] END learning_rate=0.01, max_depth=3, subsample=0.5;, score=0.967 total time=  10.7s\n",
      "[CV 2/5] END learning_rate=0.01, max_depth=3, subsample=0.5;, score=0.969 total time=  10.3s\n",
      "[CV 3/5] END learning_rate=0.01, max_depth=3, subsample=0.5;, score=0.969 total time=  11.1s\n",
      "[CV 4/5] END learning_rate=0.01, max_depth=3, subsample=0.5;, score=0.968 total time=  11.6s\n",
      "[CV 5/5] END learning_rate=0.01, max_depth=3, subsample=0.5;, score=0.967 total time=  10.8s\n",
      "[CV 1/5] END learning_rate=0.01, max_depth=3, subsample=0.7;, score=0.967 total time=  14.3s\n",
      "[CV 2/5] END learning_rate=0.01, max_depth=3, subsample=0.7;, score=0.969 total time=  13.6s\n",
      "[CV 3/5] END learning_rate=0.01, max_depth=3, subsample=0.7;, score=0.968 total time=  13.5s\n",
      "[CV 4/5] END learning_rate=0.01, max_depth=3, subsample=0.7;, score=0.968 total time=  14.4s\n",
      "[CV 5/5] END learning_rate=0.01, max_depth=3, subsample=0.7;, score=0.967 total time=  13.2s\n",
      "[CV 1/5] END learning_rate=0.01, max_depth=3, subsample=1;, score=0.967 total time=  16.4s\n",
      "[CV 2/5] END learning_rate=0.01, max_depth=3, subsample=1;, score=0.969 total time=  16.7s\n",
      "[CV 3/5] END learning_rate=0.01, max_depth=3, subsample=1;, score=0.969 total time=  16.8s\n",
      "[CV 4/5] END learning_rate=0.01, max_depth=3, subsample=1;, score=0.968 total time=  16.1s\n",
      "[CV 5/5] END learning_rate=0.01, max_depth=3, subsample=1;, score=0.967 total time=  16.6s\n",
      "[CV 1/5] END learning_rate=0.01, max_depth=5, subsample=0.5;, score=0.987 total time=  16.2s\n",
      "[CV 2/5] END learning_rate=0.01, max_depth=5, subsample=0.5;, score=0.988 total time=  16.4s\n",
      "[CV 3/5] END learning_rate=0.01, max_depth=5, subsample=0.5;, score=0.987 total time=  16.2s\n",
      "[CV 4/5] END learning_rate=0.01, max_depth=5, subsample=0.5;, score=0.986 total time=  15.9s\n",
      "[CV 5/5] END learning_rate=0.01, max_depth=5, subsample=0.5;, score=0.987 total time=  16.0s\n",
      "[CV 1/5] END learning_rate=0.01, max_depth=5, subsample=0.7;, score=0.987 total time=  20.2s\n",
      "[CV 2/5] END learning_rate=0.01, max_depth=5, subsample=0.7;, score=0.987 total time=  22.1s\n",
      "[CV 3/5] END learning_rate=0.01, max_depth=5, subsample=0.7;, score=0.987 total time=  20.6s\n",
      "[CV 4/5] END learning_rate=0.01, max_depth=5, subsample=0.7;, score=0.986 total time=  21.8s\n",
      "[CV 5/5] END learning_rate=0.01, max_depth=5, subsample=0.7;, score=0.987 total time=  19.5s\n",
      "[CV 1/5] END learning_rate=0.01, max_depth=5, subsample=1;, score=0.988 total time=  24.5s\n",
      "[CV 2/5] END learning_rate=0.01, max_depth=5, subsample=1;, score=0.988 total time=  24.4s\n",
      "[CV 3/5] END learning_rate=0.01, max_depth=5, subsample=1;, score=0.987 total time=  25.1s\n",
      "[CV 4/5] END learning_rate=0.01, max_depth=5, subsample=1;, score=0.986 total time=  24.8s\n",
      "[CV 5/5] END learning_rate=0.01, max_depth=5, subsample=1;, score=0.986 total time=  25.0s\n",
      "[CV 1/5] END learning_rate=0.01, max_depth=7, subsample=0.5;, score=0.992 total time=  21.1s\n",
      "[CV 2/5] END learning_rate=0.01, max_depth=7, subsample=0.5;, score=0.993 total time=  20.2s\n",
      "[CV 3/5] END learning_rate=0.01, max_depth=7, subsample=0.5;, score=0.992 total time=  21.2s\n",
      "[CV 4/5] END learning_rate=0.01, max_depth=7, subsample=0.5;, score=0.991 total time=  21.2s\n",
      "[CV 5/5] END learning_rate=0.01, max_depth=7, subsample=0.5;, score=0.992 total time=  21.1s\n",
      "[CV 1/5] END learning_rate=0.01, max_depth=7, subsample=0.7;, score=0.992 total time=  25.9s\n",
      "[CV 2/5] END learning_rate=0.01, max_depth=7, subsample=0.7;, score=0.993 total time=  27.1s\n",
      "[CV 3/5] END learning_rate=0.01, max_depth=7, subsample=0.7;, score=0.992 total time=  26.0s\n",
      "[CV 4/5] END learning_rate=0.01, max_depth=7, subsample=0.7;, score=0.990 total time=  25.4s\n",
      "[CV 5/5] END learning_rate=0.01, max_depth=7, subsample=0.7;, score=0.992 total time=  25.9s\n",
      "[CV 1/5] END learning_rate=0.01, max_depth=7, subsample=1;, score=0.991 total time=  32.6s\n",
      "[CV 2/5] END learning_rate=0.01, max_depth=7, subsample=1;, score=0.993 total time=  32.4s\n",
      "[CV 3/5] END learning_rate=0.01, max_depth=7, subsample=1;, score=0.991 total time=  32.7s\n",
      "[CV 4/5] END learning_rate=0.01, max_depth=7, subsample=1;, score=0.990 total time=  32.8s\n",
      "[CV 5/5] END learning_rate=0.01, max_depth=7, subsample=1;, score=0.992 total time=  33.1s\n",
      "[CV 1/5] END learning_rate=0.001, max_depth=3, subsample=0.5;, score=0.961 total time=  10.3s\n",
      "[CV 2/5] END learning_rate=0.001, max_depth=3, subsample=0.5;, score=0.965 total time=  10.2s\n",
      "[CV 3/5] END learning_rate=0.001, max_depth=3, subsample=0.5;, score=0.964 total time=  10.5s\n",
      "[CV 4/5] END learning_rate=0.001, max_depth=3, subsample=0.5;, score=0.961 total time=  10.3s\n",
      "[CV 5/5] END learning_rate=0.001, max_depth=3, subsample=0.5;, score=0.964 total time=  10.8s\n",
      "[CV 1/5] END learning_rate=0.001, max_depth=3, subsample=0.7;, score=0.960 total time=  13.9s\n",
      "[CV 2/5] END learning_rate=0.001, max_depth=3, subsample=0.7;, score=0.965 total time=  13.8s\n",
      "[CV 3/5] END learning_rate=0.001, max_depth=3, subsample=0.7;, score=0.963 total time=  13.8s\n",
      "[CV 4/5] END learning_rate=0.001, max_depth=3, subsample=0.7;, score=0.962 total time=  13.5s\n",
      "[CV 5/5] END learning_rate=0.001, max_depth=3, subsample=0.7;, score=0.964 total time=  13.5s\n",
      "[CV 1/5] END learning_rate=0.001, max_depth=3, subsample=1;, score=0.958 total time=  16.1s\n",
      "[CV 2/5] END learning_rate=0.001, max_depth=3, subsample=1;, score=0.963 total time=  16.2s\n",
      "[CV 3/5] END learning_rate=0.001, max_depth=3, subsample=1;, score=0.963 total time=  16.3s\n",
      "[CV 4/5] END learning_rate=0.001, max_depth=3, subsample=1;, score=0.961 total time=  16.4s\n",
      "[CV 5/5] END learning_rate=0.001, max_depth=3, subsample=1;, score=0.961 total time=  16.1s\n",
      "[CV 1/5] END learning_rate=0.001, max_depth=5, subsample=0.5;, score=0.985 total time=  15.3s\n",
      "[CV 2/5] END learning_rate=0.001, max_depth=5, subsample=0.5;, score=0.984 total time=  16.0s\n",
      "[CV 3/5] END learning_rate=0.001, max_depth=5, subsample=0.5;, score=0.985 total time=  15.9s\n",
      "[CV 4/5] END learning_rate=0.001, max_depth=5, subsample=0.5;, score=0.983 total time=  15.8s\n",
      "[CV 5/5] END learning_rate=0.001, max_depth=5, subsample=0.5;, score=0.984 total time=  15.4s\n",
      "[CV 1/5] END learning_rate=0.001, max_depth=5, subsample=0.7;, score=0.984 total time=  20.6s\n",
      "[CV 2/5] END learning_rate=0.001, max_depth=5, subsample=0.7;, score=0.984 total time=  20.0s\n",
      "[CV 3/5] END learning_rate=0.001, max_depth=5, subsample=0.7;, score=0.985 total time=  20.0s\n",
      "[CV 4/5] END learning_rate=0.001, max_depth=5, subsample=0.7;, score=0.983 total time=  20.2s\n",
      "[CV 5/5] END learning_rate=0.001, max_depth=5, subsample=0.7;, score=0.984 total time=  21.0s\n",
      "[CV 1/5] END learning_rate=0.001, max_depth=5, subsample=1;, score=0.984 total time=  24.9s\n",
      "[CV 2/5] END learning_rate=0.001, max_depth=5, subsample=1;, score=0.984 total time=  24.6s\n",
      "[CV 3/5] END learning_rate=0.001, max_depth=5, subsample=1;, score=0.985 total time=  24.7s\n",
      "[CV 4/5] END learning_rate=0.001, max_depth=5, subsample=1;, score=0.983 total time=  24.9s\n",
      "[CV 5/5] END learning_rate=0.001, max_depth=5, subsample=1;, score=0.984 total time=  24.5s\n",
      "[CV 1/5] END learning_rate=0.001, max_depth=7, subsample=0.5;, score=0.991 total time=  19.7s\n",
      "[CV 2/5] END learning_rate=0.001, max_depth=7, subsample=0.5;, score=0.992 total time=  19.7s\n",
      "[CV 3/5] END learning_rate=0.001, max_depth=7, subsample=0.5;, score=0.991 total time=  20.2s\n",
      "[CV 4/5] END learning_rate=0.001, max_depth=7, subsample=0.5;, score=0.991 total time=  19.1s\n",
      "[CV 5/5] END learning_rate=0.001, max_depth=7, subsample=0.5;, score=0.992 total time=  19.7s\n",
      "[CV 1/5] END learning_rate=0.001, max_depth=7, subsample=0.7;, score=0.992 total time=  26.9s\n",
      "[CV 2/5] END learning_rate=0.001, max_depth=7, subsample=0.7;, score=0.992 total time=  26.3s\n",
      "[CV 3/5] END learning_rate=0.001, max_depth=7, subsample=0.7;, score=0.991 total time=  25.9s\n",
      "[CV 4/5] END learning_rate=0.001, max_depth=7, subsample=0.7;, score=0.990 total time=  28.5s\n",
      "[CV 5/5] END learning_rate=0.001, max_depth=7, subsample=0.7;, score=0.992 total time=  26.4s\n",
      "[CV 1/5] END learning_rate=0.001, max_depth=7, subsample=1;, score=0.990 total time=  33.3s\n",
      "[CV 2/5] END learning_rate=0.001, max_depth=7, subsample=1;, score=0.992 total time=  38.7s\n",
      "[CV 3/5] END learning_rate=0.001, max_depth=7, subsample=1;, score=0.991 total time= 1.3min\n",
      "[CV 4/5] END learning_rate=0.001, max_depth=7, subsample=1;, score=0.988 total time= 1.3min\n",
      "[CV 5/5] END learning_rate=0.001, max_depth=7, subsample=1;, score=0.992 total time= 1.3min\n"
     ]
    },
    {
     "data": {
      "text/html": [
       "<style>#sk-container-id-22 {color: black;background-color: white;}#sk-container-id-22 pre{padding: 0;}#sk-container-id-22 div.sk-toggleable {background-color: white;}#sk-container-id-22 label.sk-toggleable__label {cursor: pointer;display: block;width: 100%;margin-bottom: 0;padding: 0.3em;box-sizing: border-box;text-align: center;}#sk-container-id-22 label.sk-toggleable__label-arrow:before {content: \"▸\";float: left;margin-right: 0.25em;color: #696969;}#sk-container-id-22 label.sk-toggleable__label-arrow:hover:before {color: black;}#sk-container-id-22 div.sk-estimator:hover label.sk-toggleable__label-arrow:before {color: black;}#sk-container-id-22 div.sk-toggleable__content {max-height: 0;max-width: 0;overflow: hidden;text-align: left;background-color: #f0f8ff;}#sk-container-id-22 div.sk-toggleable__content pre {margin: 0.2em;color: black;border-radius: 0.25em;background-color: #f0f8ff;}#sk-container-id-22 input.sk-toggleable__control:checked~div.sk-toggleable__content {max-height: 200px;max-width: 100%;overflow: auto;}#sk-container-id-22 input.sk-toggleable__control:checked~label.sk-toggleable__label-arrow:before {content: \"▾\";}#sk-container-id-22 div.sk-estimator input.sk-toggleable__control:checked~label.sk-toggleable__label {background-color: #d4ebff;}#sk-container-id-22 div.sk-label input.sk-toggleable__control:checked~label.sk-toggleable__label {background-color: #d4ebff;}#sk-container-id-22 input.sk-hidden--visually {border: 0;clip: rect(1px 1px 1px 1px);clip: rect(1px, 1px, 1px, 1px);height: 1px;margin: -1px;overflow: hidden;padding: 0;position: absolute;width: 1px;}#sk-container-id-22 div.sk-estimator {font-family: monospace;background-color: #f0f8ff;border: 1px dotted black;border-radius: 0.25em;box-sizing: border-box;margin-bottom: 0.5em;}#sk-container-id-22 div.sk-estimator:hover {background-color: #d4ebff;}#sk-container-id-22 div.sk-parallel-item::after {content: \"\";width: 100%;border-bottom: 1px solid gray;flex-grow: 1;}#sk-container-id-22 div.sk-label:hover label.sk-toggleable__label {background-color: #d4ebff;}#sk-container-id-22 div.sk-serial::before {content: \"\";position: absolute;border-left: 1px solid gray;box-sizing: border-box;top: 0;bottom: 0;left: 50%;z-index: 0;}#sk-container-id-22 div.sk-serial {display: flex;flex-direction: column;align-items: center;background-color: white;padding-right: 0.2em;padding-left: 0.2em;position: relative;}#sk-container-id-22 div.sk-item {position: relative;z-index: 1;}#sk-container-id-22 div.sk-parallel {display: flex;align-items: stretch;justify-content: center;background-color: white;position: relative;}#sk-container-id-22 div.sk-item::before, #sk-container-id-22 div.sk-parallel-item::before {content: \"\";position: absolute;border-left: 1px solid gray;box-sizing: border-box;top: 0;bottom: 0;left: 50%;z-index: -1;}#sk-container-id-22 div.sk-parallel-item {display: flex;flex-direction: column;z-index: 1;position: relative;background-color: white;}#sk-container-id-22 div.sk-parallel-item:first-child::after {align-self: flex-end;width: 50%;}#sk-container-id-22 div.sk-parallel-item:last-child::after {align-self: flex-start;width: 50%;}#sk-container-id-22 div.sk-parallel-item:only-child::after {width: 0;}#sk-container-id-22 div.sk-dashed-wrapped {border: 1px dashed gray;margin: 0 0.4em 0.5em 0.4em;box-sizing: border-box;padding-bottom: 0.4em;background-color: white;}#sk-container-id-22 div.sk-label label {font-family: monospace;font-weight: bold;display: inline-block;line-height: 1.2em;}#sk-container-id-22 div.sk-label-container {text-align: center;}#sk-container-id-22 div.sk-container {/* jupyter's `normalize.less` sets `[hidden] { display: none; }` but bootstrap.min.css set `[hidden] { display: none !important; }` so we also need the `!important` here to be able to override the default hidden behavior on the sphinx rendered scikit-learn.org. See: https://github.com/scikit-learn/scikit-learn/issues/21755 */display: inline-block !important;position: relative;}#sk-container-id-22 div.sk-text-repr-fallback {display: none;}</style><div id=\"sk-container-id-22\" class=\"sk-top-container\"><div class=\"sk-text-repr-fallback\"><pre>GridSearchCV(cv=5, estimator=GradientBoostingClassifier(),\n",
       "             param_grid={&#x27;learning_rate&#x27;: [0.1, 0.01, 0.001],\n",
       "                         &#x27;max_depth&#x27;: [3, 5, 7], &#x27;subsample&#x27;: [0.5, 0.7, 1]},\n",
       "             scoring=&#x27;f1&#x27;, verbose=3)</pre><b>In a Jupyter environment, please rerun this cell to show the HTML representation or trust the notebook. <br />On GitHub, the HTML representation is unable to render, please try loading this page with nbviewer.org.</b></div><div class=\"sk-container\" hidden><div class=\"sk-item sk-dashed-wrapped\"><div class=\"sk-label-container\"><div class=\"sk-label sk-toggleable\"><input class=\"sk-toggleable__control sk-hidden--visually\" id=\"sk-estimator-id-32\" type=\"checkbox\" ><label for=\"sk-estimator-id-32\" class=\"sk-toggleable__label sk-toggleable__label-arrow\">GridSearchCV</label><div class=\"sk-toggleable__content\"><pre>GridSearchCV(cv=5, estimator=GradientBoostingClassifier(),\n",
       "             param_grid={&#x27;learning_rate&#x27;: [0.1, 0.01, 0.001],\n",
       "                         &#x27;max_depth&#x27;: [3, 5, 7], &#x27;subsample&#x27;: [0.5, 0.7, 1]},\n",
       "             scoring=&#x27;f1&#x27;, verbose=3)</pre></div></div></div><div class=\"sk-parallel\"><div class=\"sk-parallel-item\"><div class=\"sk-item\"><div class=\"sk-label-container\"><div class=\"sk-label sk-toggleable\"><input class=\"sk-toggleable__control sk-hidden--visually\" id=\"sk-estimator-id-33\" type=\"checkbox\" ><label for=\"sk-estimator-id-33\" class=\"sk-toggleable__label sk-toggleable__label-arrow\">estimator: GradientBoostingClassifier</label><div class=\"sk-toggleable__content\"><pre>GradientBoostingClassifier()</pre></div></div></div><div class=\"sk-serial\"><div class=\"sk-item\"><div class=\"sk-estimator sk-toggleable\"><input class=\"sk-toggleable__control sk-hidden--visually\" id=\"sk-estimator-id-34\" type=\"checkbox\" ><label for=\"sk-estimator-id-34\" class=\"sk-toggleable__label sk-toggleable__label-arrow\">GradientBoostingClassifier</label><div class=\"sk-toggleable__content\"><pre>GradientBoostingClassifier()</pre></div></div></div></div></div></div></div></div></div></div>"
      ],
      "text/plain": [
       "GridSearchCV(cv=5, estimator=GradientBoostingClassifier(),\n",
       "             param_grid={'learning_rate': [0.1, 0.01, 0.001],\n",
       "                         'max_depth': [3, 5, 7], 'subsample': [0.5, 0.7, 1]},\n",
       "             scoring='f1', verbose=3)"
      ]
     },
     "execution_count": 405,
     "metadata": {},
     "output_type": "execute_result"
    }
   ],
   "source": [
    "grid.fit(x_train,y_train)"
   ]
  },
  {
   "cell_type": "code",
   "execution_count": 406,
   "id": "0283f587-edb5-4be7-936d-c60ee968da3a",
   "metadata": {},
   "outputs": [
    {
     "data": {
      "text/plain": [
       "{'learning_rate': 0.1, 'max_depth': 7, 'subsample': 1}"
      ]
     },
     "execution_count": 406,
     "metadata": {},
     "output_type": "execute_result"
    }
   ],
   "source": [
    "grid.best_params_"
   ]
  },
  {
   "cell_type": "code",
   "execution_count": 407,
   "id": "bb00fbd2-1e83-40c8-85b7-19ff63f1f6f7",
   "metadata": {},
   "outputs": [
    {
     "data": {
      "text/html": [
       "<style>#sk-container-id-23 {color: black;background-color: white;}#sk-container-id-23 pre{padding: 0;}#sk-container-id-23 div.sk-toggleable {background-color: white;}#sk-container-id-23 label.sk-toggleable__label {cursor: pointer;display: block;width: 100%;margin-bottom: 0;padding: 0.3em;box-sizing: border-box;text-align: center;}#sk-container-id-23 label.sk-toggleable__label-arrow:before {content: \"▸\";float: left;margin-right: 0.25em;color: #696969;}#sk-container-id-23 label.sk-toggleable__label-arrow:hover:before {color: black;}#sk-container-id-23 div.sk-estimator:hover label.sk-toggleable__label-arrow:before {color: black;}#sk-container-id-23 div.sk-toggleable__content {max-height: 0;max-width: 0;overflow: hidden;text-align: left;background-color: #f0f8ff;}#sk-container-id-23 div.sk-toggleable__content pre {margin: 0.2em;color: black;border-radius: 0.25em;background-color: #f0f8ff;}#sk-container-id-23 input.sk-toggleable__control:checked~div.sk-toggleable__content {max-height: 200px;max-width: 100%;overflow: auto;}#sk-container-id-23 input.sk-toggleable__control:checked~label.sk-toggleable__label-arrow:before {content: \"▾\";}#sk-container-id-23 div.sk-estimator input.sk-toggleable__control:checked~label.sk-toggleable__label {background-color: #d4ebff;}#sk-container-id-23 div.sk-label input.sk-toggleable__control:checked~label.sk-toggleable__label {background-color: #d4ebff;}#sk-container-id-23 input.sk-hidden--visually {border: 0;clip: rect(1px 1px 1px 1px);clip: rect(1px, 1px, 1px, 1px);height: 1px;margin: -1px;overflow: hidden;padding: 0;position: absolute;width: 1px;}#sk-container-id-23 div.sk-estimator {font-family: monospace;background-color: #f0f8ff;border: 1px dotted black;border-radius: 0.25em;box-sizing: border-box;margin-bottom: 0.5em;}#sk-container-id-23 div.sk-estimator:hover {background-color: #d4ebff;}#sk-container-id-23 div.sk-parallel-item::after {content: \"\";width: 100%;border-bottom: 1px solid gray;flex-grow: 1;}#sk-container-id-23 div.sk-label:hover label.sk-toggleable__label {background-color: #d4ebff;}#sk-container-id-23 div.sk-serial::before {content: \"\";position: absolute;border-left: 1px solid gray;box-sizing: border-box;top: 0;bottom: 0;left: 50%;z-index: 0;}#sk-container-id-23 div.sk-serial {display: flex;flex-direction: column;align-items: center;background-color: white;padding-right: 0.2em;padding-left: 0.2em;position: relative;}#sk-container-id-23 div.sk-item {position: relative;z-index: 1;}#sk-container-id-23 div.sk-parallel {display: flex;align-items: stretch;justify-content: center;background-color: white;position: relative;}#sk-container-id-23 div.sk-item::before, #sk-container-id-23 div.sk-parallel-item::before {content: \"\";position: absolute;border-left: 1px solid gray;box-sizing: border-box;top: 0;bottom: 0;left: 50%;z-index: -1;}#sk-container-id-23 div.sk-parallel-item {display: flex;flex-direction: column;z-index: 1;position: relative;background-color: white;}#sk-container-id-23 div.sk-parallel-item:first-child::after {align-self: flex-end;width: 50%;}#sk-container-id-23 div.sk-parallel-item:last-child::after {align-self: flex-start;width: 50%;}#sk-container-id-23 div.sk-parallel-item:only-child::after {width: 0;}#sk-container-id-23 div.sk-dashed-wrapped {border: 1px dashed gray;margin: 0 0.4em 0.5em 0.4em;box-sizing: border-box;padding-bottom: 0.4em;background-color: white;}#sk-container-id-23 div.sk-label label {font-family: monospace;font-weight: bold;display: inline-block;line-height: 1.2em;}#sk-container-id-23 div.sk-label-container {text-align: center;}#sk-container-id-23 div.sk-container {/* jupyter's `normalize.less` sets `[hidden] { display: none; }` but bootstrap.min.css set `[hidden] { display: none !important; }` so we also need the `!important` here to be able to override the default hidden behavior on the sphinx rendered scikit-learn.org. See: https://github.com/scikit-learn/scikit-learn/issues/21755 */display: inline-block !important;position: relative;}#sk-container-id-23 div.sk-text-repr-fallback {display: none;}</style><div id=\"sk-container-id-23\" class=\"sk-top-container\"><div class=\"sk-text-repr-fallback\"><pre>GradientBoostingClassifier(max_depth=7, subsample=1)</pre><b>In a Jupyter environment, please rerun this cell to show the HTML representation or trust the notebook. <br />On GitHub, the HTML representation is unable to render, please try loading this page with nbviewer.org.</b></div><div class=\"sk-container\" hidden><div class=\"sk-item\"><div class=\"sk-estimator sk-toggleable\"><input class=\"sk-toggleable__control sk-hidden--visually\" id=\"sk-estimator-id-35\" type=\"checkbox\" checked><label for=\"sk-estimator-id-35\" class=\"sk-toggleable__label sk-toggleable__label-arrow\">GradientBoostingClassifier</label><div class=\"sk-toggleable__content\"><pre>GradientBoostingClassifier(max_depth=7, subsample=1)</pre></div></div></div></div></div>"
      ],
      "text/plain": [
       "GradientBoostingClassifier(max_depth=7, subsample=1)"
      ]
     },
     "execution_count": 407,
     "metadata": {},
     "output_type": "execute_result"
    }
   ],
   "source": [
    "grid.best_estimator_"
   ]
  },
  {
   "cell_type": "code",
   "execution_count": 408,
   "id": "4ce08d93-4d86-4074-bfbb-a81f1dffdb6f",
   "metadata": {},
   "outputs": [],
   "source": [
    "gbm3=GradientBoostingClassifier(max_depth=7, subsample=1)"
   ]
  },
  {
   "cell_type": "code",
   "execution_count": 409,
   "id": "89bc4ef9-100c-4428-9187-d82f8e38fad4",
   "metadata": {},
   "outputs": [
    {
     "data": {
      "text/html": [
       "<style>#sk-container-id-24 {color: black;background-color: white;}#sk-container-id-24 pre{padding: 0;}#sk-container-id-24 div.sk-toggleable {background-color: white;}#sk-container-id-24 label.sk-toggleable__label {cursor: pointer;display: block;width: 100%;margin-bottom: 0;padding: 0.3em;box-sizing: border-box;text-align: center;}#sk-container-id-24 label.sk-toggleable__label-arrow:before {content: \"▸\";float: left;margin-right: 0.25em;color: #696969;}#sk-container-id-24 label.sk-toggleable__label-arrow:hover:before {color: black;}#sk-container-id-24 div.sk-estimator:hover label.sk-toggleable__label-arrow:before {color: black;}#sk-container-id-24 div.sk-toggleable__content {max-height: 0;max-width: 0;overflow: hidden;text-align: left;background-color: #f0f8ff;}#sk-container-id-24 div.sk-toggleable__content pre {margin: 0.2em;color: black;border-radius: 0.25em;background-color: #f0f8ff;}#sk-container-id-24 input.sk-toggleable__control:checked~div.sk-toggleable__content {max-height: 200px;max-width: 100%;overflow: auto;}#sk-container-id-24 input.sk-toggleable__control:checked~label.sk-toggleable__label-arrow:before {content: \"▾\";}#sk-container-id-24 div.sk-estimator input.sk-toggleable__control:checked~label.sk-toggleable__label {background-color: #d4ebff;}#sk-container-id-24 div.sk-label input.sk-toggleable__control:checked~label.sk-toggleable__label {background-color: #d4ebff;}#sk-container-id-24 input.sk-hidden--visually {border: 0;clip: rect(1px 1px 1px 1px);clip: rect(1px, 1px, 1px, 1px);height: 1px;margin: -1px;overflow: hidden;padding: 0;position: absolute;width: 1px;}#sk-container-id-24 div.sk-estimator {font-family: monospace;background-color: #f0f8ff;border: 1px dotted black;border-radius: 0.25em;box-sizing: border-box;margin-bottom: 0.5em;}#sk-container-id-24 div.sk-estimator:hover {background-color: #d4ebff;}#sk-container-id-24 div.sk-parallel-item::after {content: \"\";width: 100%;border-bottom: 1px solid gray;flex-grow: 1;}#sk-container-id-24 div.sk-label:hover label.sk-toggleable__label {background-color: #d4ebff;}#sk-container-id-24 div.sk-serial::before {content: \"\";position: absolute;border-left: 1px solid gray;box-sizing: border-box;top: 0;bottom: 0;left: 50%;z-index: 0;}#sk-container-id-24 div.sk-serial {display: flex;flex-direction: column;align-items: center;background-color: white;padding-right: 0.2em;padding-left: 0.2em;position: relative;}#sk-container-id-24 div.sk-item {position: relative;z-index: 1;}#sk-container-id-24 div.sk-parallel {display: flex;align-items: stretch;justify-content: center;background-color: white;position: relative;}#sk-container-id-24 div.sk-item::before, #sk-container-id-24 div.sk-parallel-item::before {content: \"\";position: absolute;border-left: 1px solid gray;box-sizing: border-box;top: 0;bottom: 0;left: 50%;z-index: -1;}#sk-container-id-24 div.sk-parallel-item {display: flex;flex-direction: column;z-index: 1;position: relative;background-color: white;}#sk-container-id-24 div.sk-parallel-item:first-child::after {align-self: flex-end;width: 50%;}#sk-container-id-24 div.sk-parallel-item:last-child::after {align-self: flex-start;width: 50%;}#sk-container-id-24 div.sk-parallel-item:only-child::after {width: 0;}#sk-container-id-24 div.sk-dashed-wrapped {border: 1px dashed gray;margin: 0 0.4em 0.5em 0.4em;box-sizing: border-box;padding-bottom: 0.4em;background-color: white;}#sk-container-id-24 div.sk-label label {font-family: monospace;font-weight: bold;display: inline-block;line-height: 1.2em;}#sk-container-id-24 div.sk-label-container {text-align: center;}#sk-container-id-24 div.sk-container {/* jupyter's `normalize.less` sets `[hidden] { display: none; }` but bootstrap.min.css set `[hidden] { display: none !important; }` so we also need the `!important` here to be able to override the default hidden behavior on the sphinx rendered scikit-learn.org. See: https://github.com/scikit-learn/scikit-learn/issues/21755 */display: inline-block !important;position: relative;}#sk-container-id-24 div.sk-text-repr-fallback {display: none;}</style><div id=\"sk-container-id-24\" class=\"sk-top-container\"><div class=\"sk-text-repr-fallback\"><pre>GradientBoostingClassifier(max_depth=7, subsample=1)</pre><b>In a Jupyter environment, please rerun this cell to show the HTML representation or trust the notebook. <br />On GitHub, the HTML representation is unable to render, please try loading this page with nbviewer.org.</b></div><div class=\"sk-container\" hidden><div class=\"sk-item\"><div class=\"sk-estimator sk-toggleable\"><input class=\"sk-toggleable__control sk-hidden--visually\" id=\"sk-estimator-id-36\" type=\"checkbox\" checked><label for=\"sk-estimator-id-36\" class=\"sk-toggleable__label sk-toggleable__label-arrow\">GradientBoostingClassifier</label><div class=\"sk-toggleable__content\"><pre>GradientBoostingClassifier(max_depth=7, subsample=1)</pre></div></div></div></div></div>"
      ],
      "text/plain": [
       "GradientBoostingClassifier(max_depth=7, subsample=1)"
      ]
     },
     "execution_count": 409,
     "metadata": {},
     "output_type": "execute_result"
    }
   ],
   "source": [
    "gbm3.fit(x_train,y_train)"
   ]
  },
  {
   "cell_type": "code",
   "execution_count": 410,
   "id": "475b826e-48e6-4641-a762-5f0b5724a141",
   "metadata": {},
   "outputs": [
    {
     "data": {
      "text/plain": [
       "array([1, 1, 1, ..., 1, 1, 0], dtype=int64)"
      ]
     },
     "execution_count": 410,
     "metadata": {},
     "output_type": "execute_result"
    }
   ],
   "source": [
    "y_pred_gbm_hte=gbm3.predict(x_test)\n",
    "y_pred_gbm_hte"
   ]
  },
  {
   "cell_type": "code",
   "execution_count": 411,
   "id": "4a411839-e48a-4bbd-ab0d-92c218ef7353",
   "metadata": {},
   "outputs": [
    {
     "data": {
      "text/plain": [
       "array([1, 1, 1, ..., 1, 1, 0], dtype=int64)"
      ]
     },
     "execution_count": 411,
     "metadata": {},
     "output_type": "execute_result"
    }
   ],
   "source": [
    "y_test.values"
   ]
  },
  {
   "cell_type": "markdown",
   "id": "ecac48ad-03c0-46a2-8840-7a1b7731fff5",
   "metadata": {},
   "source": [
    "## Testing"
   ]
  },
  {
   "cell_type": "code",
   "execution_count": 412,
   "id": "9b7adeeb-bbda-4ec4-80fc-efa85a358ff1",
   "metadata": {},
   "outputs": [
    {
     "data": {
      "text/plain": [
       "0.9996237418869345"
      ]
     },
     "execution_count": 412,
     "metadata": {},
     "output_type": "execute_result"
    }
   ],
   "source": [
    "accuracy_score(y_test,y_pred_gbm_hte)"
   ]
  },
  {
   "cell_type": "code",
   "execution_count": 413,
   "id": "ae9c7565-7a41-4cf6-8493-0a8ba8dd2376",
   "metadata": {},
   "outputs": [
    {
     "data": {
      "text/plain": [
       "0.9998103366524419"
      ]
     },
     "execution_count": 413,
     "metadata": {},
     "output_type": "execute_result"
    }
   ],
   "source": [
    "recall_score(y_test,y_pred_gbm_hte)"
   ]
  },
  {
   "cell_type": "code",
   "execution_count": 414,
   "id": "c6075f10-36b9-4463-b7c5-97f6df94a08f",
   "metadata": {},
   "outputs": [
    {
     "data": {
      "text/plain": [
       "0.999620745235612"
      ]
     },
     "execution_count": 414,
     "metadata": {},
     "output_type": "execute_result"
    }
   ],
   "source": [
    "f1_score(y_test,y_pred_gbm_hte)"
   ]
  },
  {
   "cell_type": "code",
   "execution_count": 415,
   "id": "5f71422b-dd7c-4ad5-9993-5b28b51deccb",
   "metadata": {},
   "outputs": [
    {
     "data": {
      "text/plain": [
       "0.999431225708598"
      ]
     },
     "execution_count": 415,
     "metadata": {},
     "output_type": "execute_result"
    }
   ],
   "source": [
    "precision_score(y_test,y_pred_gbm_hte)"
   ]
  },
  {
   "cell_type": "code",
   "execution_count": 416,
   "id": "e465f3e9-4af3-401b-b3b5-244b83ae3f03",
   "metadata": {},
   "outputs": [
    {
     "data": {
      "text/html": [
       "<div>\n",
       "<style scoped>\n",
       "    .dataframe tbody tr th:only-of-type {\n",
       "        vertical-align: middle;\n",
       "    }\n",
       "\n",
       "    .dataframe tbody tr th {\n",
       "        vertical-align: top;\n",
       "    }\n",
       "\n",
       "    .dataframe thead th {\n",
       "        text-align: right;\n",
       "    }\n",
       "</style>\n",
       "<table border=\"1\" class=\"dataframe\">\n",
       "  <thead>\n",
       "    <tr style=\"text-align: right;\">\n",
       "      <th>col_0</th>\n",
       "      <th>0</th>\n",
       "      <th>1</th>\n",
       "    </tr>\n",
       "    <tr>\n",
       "      <th>activity</th>\n",
       "      <th></th>\n",
       "      <th></th>\n",
       "    </tr>\n",
       "  </thead>\n",
       "  <tbody>\n",
       "    <tr>\n",
       "      <th>0</th>\n",
       "      <td>10711</td>\n",
       "      <td>6</td>\n",
       "    </tr>\n",
       "    <tr>\n",
       "      <th>1</th>\n",
       "      <td>2</td>\n",
       "      <td>10543</td>\n",
       "    </tr>\n",
       "  </tbody>\n",
       "</table>\n",
       "</div>"
      ],
      "text/plain": [
       "col_0         0      1\n",
       "activity              \n",
       "0         10711      6\n",
       "1             2  10543"
      ]
     },
     "execution_count": 416,
     "metadata": {},
     "output_type": "execute_result"
    }
   ],
   "source": [
    "pd.crosstab(y_test,y_pred_gbm_hte)"
   ]
  },
  {
   "cell_type": "code",
   "execution_count": 417,
   "id": "0c179c02-65fb-415a-8505-982fe56de3ea",
   "metadata": {},
   "outputs": [
    {
     "data": {
      "text/plain": [
       "0.9996252392415891"
      ]
     },
     "execution_count": 417,
     "metadata": {},
     "output_type": "execute_result"
    }
   ],
   "source": [
    "roc_auc_score(y_test,y_pred_gbm_hte)"
   ]
  },
  {
   "cell_type": "markdown",
   "id": "5d9540ac-3178-4a36-bf30-39555215a80f",
   "metadata": {},
   "source": [
    "## Training"
   ]
  },
  {
   "cell_type": "code",
   "execution_count": 418,
   "id": "4c0a9662-3c97-4418-a7c5-185f35745d74",
   "metadata": {},
   "outputs": [
    {
     "data": {
      "text/plain": [
       "array([0, 0, 0, ..., 0, 1, 1], dtype=int64)"
      ]
     },
     "execution_count": 418,
     "metadata": {},
     "output_type": "execute_result"
    }
   ],
   "source": [
    "y_pred_gbm_htr=gbm3.predict(x_train)\n",
    "y_pred_gbm_htr"
   ]
  },
  {
   "cell_type": "code",
   "execution_count": 419,
   "id": "b8fb0c88-b0f9-415f-a3e3-9ed5e99e8837",
   "metadata": {},
   "outputs": [
    {
     "data": {
      "text/plain": [
       "1.0"
      ]
     },
     "execution_count": 419,
     "metadata": {},
     "output_type": "execute_result"
    }
   ],
   "source": [
    "accuracy_score(y_train,y_pred_gbm_htr)"
   ]
  },
  {
   "cell_type": "code",
   "execution_count": 420,
   "id": "0091fb0c-a975-4ec0-a85c-1f72a9a3be4a",
   "metadata": {},
   "outputs": [
    {
     "data": {
      "text/plain": [
       "1.0"
      ]
     },
     "execution_count": 420,
     "metadata": {},
     "output_type": "execute_result"
    }
   ],
   "source": [
    "recall_score(y_train,y_pred_gbm_htr)"
   ]
  },
  {
   "cell_type": "code",
   "execution_count": 421,
   "id": "bfc17667-3d6b-4efa-82ab-a5fb1ad54b13",
   "metadata": {},
   "outputs": [
    {
     "data": {
      "text/plain": [
       "1.0"
      ]
     },
     "execution_count": 421,
     "metadata": {},
     "output_type": "execute_result"
    }
   ],
   "source": [
    "precision_score(y_train,y_pred_gbm_htr)"
   ]
  },
  {
   "cell_type": "code",
   "execution_count": 422,
   "id": "d836fedb-4b59-4256-a693-d578f3534660",
   "metadata": {},
   "outputs": [
    {
     "data": {
      "text/plain": [
       "1.0"
      ]
     },
     "execution_count": 422,
     "metadata": {},
     "output_type": "execute_result"
    }
   ],
   "source": [
    "f1_score(y_train,y_pred_gbm_htr)"
   ]
  },
  {
   "cell_type": "code",
   "execution_count": 423,
   "id": "a99d5df2-1682-48b5-ae35-0213433f7c28",
   "metadata": {},
   "outputs": [
    {
     "data": {
      "text/html": [
       "<div>\n",
       "<style scoped>\n",
       "    .dataframe tbody tr th:only-of-type {\n",
       "        vertical-align: middle;\n",
       "    }\n",
       "\n",
       "    .dataframe tbody tr th {\n",
       "        vertical-align: top;\n",
       "    }\n",
       "\n",
       "    .dataframe thead th {\n",
       "        text-align: right;\n",
       "    }\n",
       "</style>\n",
       "<table border=\"1\" class=\"dataframe\">\n",
       "  <thead>\n",
       "    <tr style=\"text-align: right;\">\n",
       "      <th>col_0</th>\n",
       "      <th>0</th>\n",
       "      <th>1</th>\n",
       "    </tr>\n",
       "    <tr>\n",
       "      <th>activity</th>\n",
       "      <th></th>\n",
       "      <th></th>\n",
       "    </tr>\n",
       "  </thead>\n",
       "  <tbody>\n",
       "    <tr>\n",
       "      <th>0</th>\n",
       "      <td>33506</td>\n",
       "      <td>0</td>\n",
       "    </tr>\n",
       "    <tr>\n",
       "      <th>1</th>\n",
       "      <td>0</td>\n",
       "      <td>33820</td>\n",
       "    </tr>\n",
       "  </tbody>\n",
       "</table>\n",
       "</div>"
      ],
      "text/plain": [
       "col_0         0      1\n",
       "activity              \n",
       "0         33506      0\n",
       "1             0  33820"
      ]
     },
     "execution_count": 423,
     "metadata": {},
     "output_type": "execute_result"
    }
   ],
   "source": [
    "pd.crosstab(y_train,y_pred_gbm_htr)"
   ]
  },
  {
   "cell_type": "code",
   "execution_count": 424,
   "id": "fac50d43-2764-44e9-af0f-5c3b4e26059f",
   "metadata": {
    "scrolled": true
   },
   "outputs": [
    {
     "data": {
      "text/plain": [
       "1.0"
      ]
     },
     "execution_count": 424,
     "metadata": {},
     "output_type": "execute_result"
    }
   ],
   "source": [
    "roc_auc_score(y_train,y_pred_gbm_htr)"
   ]
  },
  {
   "cell_type": "markdown",
   "id": "f6c33c1b-0732-4d87-a11a-976e52a9c73e",
   "metadata": {},
   "source": [
    "# Bagging"
   ]
  },
  {
   "cell_type": "code",
   "execution_count": 425,
   "id": "0a2cbf0c-40a5-4869-935a-948ab9838d5e",
   "metadata": {},
   "outputs": [],
   "source": [
    "from sklearn.ensemble import BaggingClassifier\n",
    "bc=BaggingClassifier()"
   ]
  },
  {
   "cell_type": "code",
   "execution_count": 426,
   "id": "591b00f1-c527-4dcb-865b-c4aa6847b144",
   "metadata": {},
   "outputs": [
    {
     "data": {
      "text/html": [
       "<style>#sk-container-id-25 {color: black;background-color: white;}#sk-container-id-25 pre{padding: 0;}#sk-container-id-25 div.sk-toggleable {background-color: white;}#sk-container-id-25 label.sk-toggleable__label {cursor: pointer;display: block;width: 100%;margin-bottom: 0;padding: 0.3em;box-sizing: border-box;text-align: center;}#sk-container-id-25 label.sk-toggleable__label-arrow:before {content: \"▸\";float: left;margin-right: 0.25em;color: #696969;}#sk-container-id-25 label.sk-toggleable__label-arrow:hover:before {color: black;}#sk-container-id-25 div.sk-estimator:hover label.sk-toggleable__label-arrow:before {color: black;}#sk-container-id-25 div.sk-toggleable__content {max-height: 0;max-width: 0;overflow: hidden;text-align: left;background-color: #f0f8ff;}#sk-container-id-25 div.sk-toggleable__content pre {margin: 0.2em;color: black;border-radius: 0.25em;background-color: #f0f8ff;}#sk-container-id-25 input.sk-toggleable__control:checked~div.sk-toggleable__content {max-height: 200px;max-width: 100%;overflow: auto;}#sk-container-id-25 input.sk-toggleable__control:checked~label.sk-toggleable__label-arrow:before {content: \"▾\";}#sk-container-id-25 div.sk-estimator input.sk-toggleable__control:checked~label.sk-toggleable__label {background-color: #d4ebff;}#sk-container-id-25 div.sk-label input.sk-toggleable__control:checked~label.sk-toggleable__label {background-color: #d4ebff;}#sk-container-id-25 input.sk-hidden--visually {border: 0;clip: rect(1px 1px 1px 1px);clip: rect(1px, 1px, 1px, 1px);height: 1px;margin: -1px;overflow: hidden;padding: 0;position: absolute;width: 1px;}#sk-container-id-25 div.sk-estimator {font-family: monospace;background-color: #f0f8ff;border: 1px dotted black;border-radius: 0.25em;box-sizing: border-box;margin-bottom: 0.5em;}#sk-container-id-25 div.sk-estimator:hover {background-color: #d4ebff;}#sk-container-id-25 div.sk-parallel-item::after {content: \"\";width: 100%;border-bottom: 1px solid gray;flex-grow: 1;}#sk-container-id-25 div.sk-label:hover label.sk-toggleable__label {background-color: #d4ebff;}#sk-container-id-25 div.sk-serial::before {content: \"\";position: absolute;border-left: 1px solid gray;box-sizing: border-box;top: 0;bottom: 0;left: 50%;z-index: 0;}#sk-container-id-25 div.sk-serial {display: flex;flex-direction: column;align-items: center;background-color: white;padding-right: 0.2em;padding-left: 0.2em;position: relative;}#sk-container-id-25 div.sk-item {position: relative;z-index: 1;}#sk-container-id-25 div.sk-parallel {display: flex;align-items: stretch;justify-content: center;background-color: white;position: relative;}#sk-container-id-25 div.sk-item::before, #sk-container-id-25 div.sk-parallel-item::before {content: \"\";position: absolute;border-left: 1px solid gray;box-sizing: border-box;top: 0;bottom: 0;left: 50%;z-index: -1;}#sk-container-id-25 div.sk-parallel-item {display: flex;flex-direction: column;z-index: 1;position: relative;background-color: white;}#sk-container-id-25 div.sk-parallel-item:first-child::after {align-self: flex-end;width: 50%;}#sk-container-id-25 div.sk-parallel-item:last-child::after {align-self: flex-start;width: 50%;}#sk-container-id-25 div.sk-parallel-item:only-child::after {width: 0;}#sk-container-id-25 div.sk-dashed-wrapped {border: 1px dashed gray;margin: 0 0.4em 0.5em 0.4em;box-sizing: border-box;padding-bottom: 0.4em;background-color: white;}#sk-container-id-25 div.sk-label label {font-family: monospace;font-weight: bold;display: inline-block;line-height: 1.2em;}#sk-container-id-25 div.sk-label-container {text-align: center;}#sk-container-id-25 div.sk-container {/* jupyter's `normalize.less` sets `[hidden] { display: none; }` but bootstrap.min.css set `[hidden] { display: none !important; }` so we also need the `!important` here to be able to override the default hidden behavior on the sphinx rendered scikit-learn.org. See: https://github.com/scikit-learn/scikit-learn/issues/21755 */display: inline-block !important;position: relative;}#sk-container-id-25 div.sk-text-repr-fallback {display: none;}</style><div id=\"sk-container-id-25\" class=\"sk-top-container\"><div class=\"sk-text-repr-fallback\"><pre>BaggingClassifier()</pre><b>In a Jupyter environment, please rerun this cell to show the HTML representation or trust the notebook. <br />On GitHub, the HTML representation is unable to render, please try loading this page with nbviewer.org.</b></div><div class=\"sk-container\" hidden><div class=\"sk-item\"><div class=\"sk-estimator sk-toggleable\"><input class=\"sk-toggleable__control sk-hidden--visually\" id=\"sk-estimator-id-37\" type=\"checkbox\" checked><label for=\"sk-estimator-id-37\" class=\"sk-toggleable__label sk-toggleable__label-arrow\">BaggingClassifier</label><div class=\"sk-toggleable__content\"><pre>BaggingClassifier()</pre></div></div></div></div></div>"
      ],
      "text/plain": [
       "BaggingClassifier()"
      ]
     },
     "execution_count": 426,
     "metadata": {},
     "output_type": "execute_result"
    }
   ],
   "source": [
    "bc.fit(x_train,y_train)\n",
    "bc"
   ]
  },
  {
   "cell_type": "code",
   "execution_count": 427,
   "id": "1f5d5125-5bea-4565-86fd-9d094c2bff9a",
   "metadata": {},
   "outputs": [
    {
     "data": {
      "text/plain": [
       "array([1, 1, 1, ..., 1, 1, 0], dtype=int64)"
      ]
     },
     "execution_count": 427,
     "metadata": {},
     "output_type": "execute_result"
    }
   ],
   "source": [
    "y_pred_bc=bc.predict(x_test)\n",
    "y_pred_bc"
   ]
  },
  {
   "cell_type": "code",
   "execution_count": 428,
   "id": "c7ad2a9d-d733-4043-a679-46173b67596d",
   "metadata": {},
   "outputs": [
    {
     "data": {
      "text/plain": [
       "array([1, 1, 1, ..., 1, 1, 0], dtype=int64)"
      ]
     },
     "execution_count": 428,
     "metadata": {},
     "output_type": "execute_result"
    }
   ],
   "source": [
    "y_test.values"
   ]
  },
  {
   "cell_type": "code",
   "execution_count": 429,
   "id": "7e741a3b-5d92-4674-a3ab-ad571784bc0e",
   "metadata": {},
   "outputs": [
    {
     "data": {
      "text/plain": [
       "0.9967077415106763"
      ]
     },
     "execution_count": 429,
     "metadata": {},
     "output_type": "execute_result"
    }
   ],
   "source": [
    "accuracy_score(y_pred_bc,y_test)"
   ]
  },
  {
   "cell_type": "code",
   "execution_count": 430,
   "id": "ac3b515f-1cad-47de-9299-f91c9bf0098e",
   "metadata": {
    "scrolled": true
   },
   "outputs": [
    {
     "data": {
      "text/plain": [
       "0.9966824644549763"
      ]
     },
     "execution_count": 430,
     "metadata": {},
     "output_type": "execute_result"
    }
   ],
   "source": [
    "f1_score(y_test,y_pred_bc)"
   ]
  },
  {
   "cell_type": "code",
   "execution_count": 431,
   "id": "fae65409-d7a7-4ef8-a0af-45b804f513e5",
   "metadata": {},
   "outputs": [
    {
     "data": {
      "text/plain": [
       "0.9962103268593084"
      ]
     },
     "execution_count": 431,
     "metadata": {},
     "output_type": "execute_result"
    }
   ],
   "source": [
    "precision_score(y_test,y_pred_bc)"
   ]
  },
  {
   "cell_type": "code",
   "execution_count": 432,
   "id": "9ff6383e-6801-4c86-baa0-69bcec9c2225",
   "metadata": {},
   "outputs": [
    {
     "data": {
      "text/plain": [
       "0.9971550497866287"
      ]
     },
     "execution_count": 432,
     "metadata": {},
     "output_type": "execute_result"
    }
   ],
   "source": [
    "recall_score(y_test,y_pred_bc)"
   ]
  },
  {
   "cell_type": "code",
   "execution_count": 433,
   "id": "b8ee21ab-e14c-411c-8fb4-da20586a78c3",
   "metadata": {
    "scrolled": true
   },
   "outputs": [
    {
     "data": {
      "text/plain": [
       "0.9967113309957685"
      ]
     },
     "execution_count": 433,
     "metadata": {},
     "output_type": "execute_result"
    }
   ],
   "source": [
    "roc_auc_score(y_test,y_pred_bc)"
   ]
  },
  {
   "cell_type": "code",
   "execution_count": 434,
   "id": "5b5ca642-2e81-4fdd-a5e0-95a2a5cc27b3",
   "metadata": {},
   "outputs": [],
   "source": [
    "import pandas as pd"
   ]
  },
  {
   "cell_type": "code",
   "execution_count": 443,
   "id": "d194d944-2b8e-4362-a77d-62fb69b35552",
   "metadata": {},
   "outputs": [],
   "source": [
    "d1 = {'Algorithm Name':['Logistic_regrssion','SVM','KNN','Decision_tree','Random_forest','XGBoost','Bagging'],\n",
    "     'accuracy_score':[0.9311,0.9311,0.9951,0.9946,0.9987,0.9981,0.9965],\n",
    "     'precision_scroe':[0.9292,0.9938,0.9973,0.9945,0.9980,0.9975,0.9959],\n",
    "     'recall_score':[0.9322,0.9921,0.9927,0.9946,0.9995,0.9987,0.9970],\n",
    "     'F1_score':[0.9307,0.9929,0.9950,0.9946,0.9987,0.9981,0.9964],\n",
    "     'roc_uc_score':[0.9312,0.9930,0.9950,0.9946,0.9987,0.9981,0.9965]}"
   ]
  },
  {
   "cell_type": "markdown",
   "id": "99736bd9-0d42-4bab-8941-b0ac19ce696a",
   "metadata": {},
   "source": [
    "## Without Hyperparameter Tunning"
   ]
  },
  {
   "cell_type": "code",
   "execution_count": 444,
   "id": "c60e83b0-fda0-4474-93a7-1624cd58ebdb",
   "metadata": {},
   "outputs": [
    {
     "data": {
      "text/html": [
       "<div>\n",
       "<style scoped>\n",
       "    .dataframe tbody tr th:only-of-type {\n",
       "        vertical-align: middle;\n",
       "    }\n",
       "\n",
       "    .dataframe tbody tr th {\n",
       "        vertical-align: top;\n",
       "    }\n",
       "\n",
       "    .dataframe thead th {\n",
       "        text-align: right;\n",
       "    }\n",
       "</style>\n",
       "<table border=\"1\" class=\"dataframe\">\n",
       "  <thead>\n",
       "    <tr style=\"text-align: right;\">\n",
       "      <th></th>\n",
       "      <th>Algorithm Name</th>\n",
       "      <th>accuracy_score</th>\n",
       "      <th>precision_scroe</th>\n",
       "      <th>recall_score</th>\n",
       "      <th>F1_score</th>\n",
       "      <th>roc_uc_score</th>\n",
       "    </tr>\n",
       "  </thead>\n",
       "  <tbody>\n",
       "    <tr>\n",
       "      <th>0</th>\n",
       "      <td>Logistic_regrssion</td>\n",
       "      <td>0.9311</td>\n",
       "      <td>0.9292</td>\n",
       "      <td>0.9322</td>\n",
       "      <td>0.9307</td>\n",
       "      <td>0.9312</td>\n",
       "    </tr>\n",
       "    <tr>\n",
       "      <th>1</th>\n",
       "      <td>SVM</td>\n",
       "      <td>0.9311</td>\n",
       "      <td>0.9938</td>\n",
       "      <td>0.9921</td>\n",
       "      <td>0.9929</td>\n",
       "      <td>0.9930</td>\n",
       "    </tr>\n",
       "    <tr>\n",
       "      <th>2</th>\n",
       "      <td>KNN</td>\n",
       "      <td>0.9951</td>\n",
       "      <td>0.9973</td>\n",
       "      <td>0.9927</td>\n",
       "      <td>0.9950</td>\n",
       "      <td>0.9950</td>\n",
       "    </tr>\n",
       "    <tr>\n",
       "      <th>3</th>\n",
       "      <td>Decision_tree</td>\n",
       "      <td>0.9946</td>\n",
       "      <td>0.9945</td>\n",
       "      <td>0.9946</td>\n",
       "      <td>0.9946</td>\n",
       "      <td>0.9946</td>\n",
       "    </tr>\n",
       "    <tr>\n",
       "      <th>4</th>\n",
       "      <td>Random_forest</td>\n",
       "      <td>0.9987</td>\n",
       "      <td>0.9980</td>\n",
       "      <td>0.9995</td>\n",
       "      <td>0.9987</td>\n",
       "      <td>0.9987</td>\n",
       "    </tr>\n",
       "    <tr>\n",
       "      <th>5</th>\n",
       "      <td>XGBoost</td>\n",
       "      <td>0.9981</td>\n",
       "      <td>0.9975</td>\n",
       "      <td>0.9987</td>\n",
       "      <td>0.9981</td>\n",
       "      <td>0.9981</td>\n",
       "    </tr>\n",
       "    <tr>\n",
       "      <th>6</th>\n",
       "      <td>Bagging</td>\n",
       "      <td>0.9965</td>\n",
       "      <td>0.9959</td>\n",
       "      <td>0.9970</td>\n",
       "      <td>0.9964</td>\n",
       "      <td>0.9965</td>\n",
       "    </tr>\n",
       "  </tbody>\n",
       "</table>\n",
       "</div>"
      ],
      "text/plain": [
       "       Algorithm Name  accuracy_score  precision_scroe  recall_score  \\\n",
       "0  Logistic_regrssion          0.9311           0.9292        0.9322   \n",
       "1                 SVM          0.9311           0.9938        0.9921   \n",
       "2                 KNN          0.9951           0.9973        0.9927   \n",
       "3       Decision_tree          0.9946           0.9945        0.9946   \n",
       "4       Random_forest          0.9987           0.9980        0.9995   \n",
       "5             XGBoost          0.9981           0.9975        0.9987   \n",
       "6             Bagging          0.9965           0.9959        0.9970   \n",
       "\n",
       "   F1_score  roc_uc_score  \n",
       "0    0.9307        0.9312  \n",
       "1    0.9929        0.9930  \n",
       "2    0.9950        0.9950  \n",
       "3    0.9946        0.9946  \n",
       "4    0.9987        0.9987  \n",
       "5    0.9981        0.9981  \n",
       "6    0.9964        0.9965  "
      ]
     },
     "execution_count": 444,
     "metadata": {},
     "output_type": "execute_result"
    }
   ],
   "source": [
    "pd.DataFrame(d1)"
   ]
  },
  {
   "cell_type": "markdown",
   "id": "773bdba0-4603-4354-8b3b-96487302f6b9",
   "metadata": {},
   "source": [
    "# With Hyperparameter Tunning"
   ]
  },
  {
   "cell_type": "code",
   "execution_count": 445,
   "id": "be8870da-e315-4040-8141-cb3a464fdef1",
   "metadata": {},
   "outputs": [],
   "source": [
    "d2 = {'Algorithm Name':['Logistic_regrssion','SVM','KNN','Decision_tree','Random_forest','XGBoost','Bagging'],\n",
    "     'accuracy_score':[0.9310977330448688,0.9973191609444079,0.9962374188693444,0.9949675477377481,0.9989182579249365,0.9996237418869345,0.9967077415106763],\n",
    "     'precision_scroe':[0.9293550217514659,0.9973191609444079,0.9986657771847899,0.9948795751943865,0.9982951316537223,0.999431225708598,0.9967077415106763],\n",
    "     'recall_score':[0.9319108582266477,0.9963963963963964,0.9937411095305833,0.9949739212897107,0.9995258416311048,0.9998103366524419,0.9971550497866287],\n",
    "     'F1_score':[0.9307455621301773,0.9972948602344455,0.9961973571632284,0.9949267460054052,0.9989101075676443,0.999620745235612,0.9966824644549763],\n",
    "     'roc_uc_score':[0.9311042580766532,0.997311756096864,0.9962173869011506,0.9948795751943865,0.9982951316537223,0.99753741238871,0.9967113309957685]}"
   ]
  },
  {
   "cell_type": "code",
   "execution_count": 446,
   "id": "0dc619c9-9263-40a9-9a2b-251dd6ab8c5a",
   "metadata": {
    "scrolled": true
   },
   "outputs": [
    {
     "data": {
      "text/html": [
       "<div>\n",
       "<style scoped>\n",
       "    .dataframe tbody tr th:only-of-type {\n",
       "        vertical-align: middle;\n",
       "    }\n",
       "\n",
       "    .dataframe tbody tr th {\n",
       "        vertical-align: top;\n",
       "    }\n",
       "\n",
       "    .dataframe thead th {\n",
       "        text-align: right;\n",
       "    }\n",
       "</style>\n",
       "<table border=\"1\" class=\"dataframe\">\n",
       "  <thead>\n",
       "    <tr style=\"text-align: right;\">\n",
       "      <th></th>\n",
       "      <th>Algorithm Name</th>\n",
       "      <th>accuracy_score</th>\n",
       "      <th>precision_scroe</th>\n",
       "      <th>recall_score</th>\n",
       "      <th>F1_score</th>\n",
       "      <th>roc_uc_score</th>\n",
       "    </tr>\n",
       "  </thead>\n",
       "  <tbody>\n",
       "    <tr>\n",
       "      <th>0</th>\n",
       "      <td>Logistic_regrssion</td>\n",
       "      <td>0.931098</td>\n",
       "      <td>0.929355</td>\n",
       "      <td>0.931911</td>\n",
       "      <td>0.930746</td>\n",
       "      <td>0.931104</td>\n",
       "    </tr>\n",
       "    <tr>\n",
       "      <th>1</th>\n",
       "      <td>SVM</td>\n",
       "      <td>0.997319</td>\n",
       "      <td>0.997319</td>\n",
       "      <td>0.996396</td>\n",
       "      <td>0.997295</td>\n",
       "      <td>0.997312</td>\n",
       "    </tr>\n",
       "    <tr>\n",
       "      <th>2</th>\n",
       "      <td>KNN</td>\n",
       "      <td>0.996237</td>\n",
       "      <td>0.998666</td>\n",
       "      <td>0.993741</td>\n",
       "      <td>0.996197</td>\n",
       "      <td>0.996217</td>\n",
       "    </tr>\n",
       "    <tr>\n",
       "      <th>3</th>\n",
       "      <td>Decision_tree</td>\n",
       "      <td>0.994968</td>\n",
       "      <td>0.994880</td>\n",
       "      <td>0.994974</td>\n",
       "      <td>0.994927</td>\n",
       "      <td>0.994880</td>\n",
       "    </tr>\n",
       "    <tr>\n",
       "      <th>4</th>\n",
       "      <td>Random_forest</td>\n",
       "      <td>0.998918</td>\n",
       "      <td>0.998295</td>\n",
       "      <td>0.999526</td>\n",
       "      <td>0.998910</td>\n",
       "      <td>0.998295</td>\n",
       "    </tr>\n",
       "    <tr>\n",
       "      <th>5</th>\n",
       "      <td>XGBoost</td>\n",
       "      <td>0.999624</td>\n",
       "      <td>0.999431</td>\n",
       "      <td>0.999810</td>\n",
       "      <td>0.999621</td>\n",
       "      <td>0.997537</td>\n",
       "    </tr>\n",
       "    <tr>\n",
       "      <th>6</th>\n",
       "      <td>Bagging</td>\n",
       "      <td>0.996708</td>\n",
       "      <td>0.996708</td>\n",
       "      <td>0.997155</td>\n",
       "      <td>0.996682</td>\n",
       "      <td>0.996711</td>\n",
       "    </tr>\n",
       "  </tbody>\n",
       "</table>\n",
       "</div>"
      ],
      "text/plain": [
       "       Algorithm Name  accuracy_score  precision_scroe  recall_score  \\\n",
       "0  Logistic_regrssion        0.931098         0.929355      0.931911   \n",
       "1                 SVM        0.997319         0.997319      0.996396   \n",
       "2                 KNN        0.996237         0.998666      0.993741   \n",
       "3       Decision_tree        0.994968         0.994880      0.994974   \n",
       "4       Random_forest        0.998918         0.998295      0.999526   \n",
       "5             XGBoost        0.999624         0.999431      0.999810   \n",
       "6             Bagging        0.996708         0.996708      0.997155   \n",
       "\n",
       "   F1_score  roc_uc_score  \n",
       "0  0.930746      0.931104  \n",
       "1  0.997295      0.997312  \n",
       "2  0.996197      0.996217  \n",
       "3  0.994927      0.994880  \n",
       "4  0.998910      0.998295  \n",
       "5  0.999621      0.997537  \n",
       "6  0.996682      0.996711  "
      ]
     },
     "execution_count": 446,
     "metadata": {},
     "output_type": "execute_result"
    }
   ],
   "source": [
    "pd.DataFrame(d2)"
   ]
  },
  {
   "cell_type": "markdown",
   "id": "8a9a4369-7f2b-4113-869f-96895829e4ba",
   "metadata": {},
   "source": [
    "\n",
    "\n",
    "### Model Performance Insights\n",
    "\n",
    "1. **Top Performing Models**:\n",
    "   - **XGBoost**: With an accuracy score of 0.9996 and a corresponding F1 score of 0.9996, XGBoost stands out as the best-performing model.\n",
    "     Its high precision (0.9994) and recall (0.9998) indicate it effectively balances the identification of both classes, minimizing both false positives and false negatives.   \n",
    "   - **Random Forest**: Close behind, Random Forest achieves an accuracy of 0.9989 and an F1 score of 0.9989. Its performance metrics reflect its capability in handling the classification task robustly.    \n",
    "\n",
    "2. **Solid Performance of Other Models**:    \n",
    "   - **SVM** and **KNN** deliver respectable results, with accuracy scores around 0.9973 and 0.9962, respectively. While they perform well, they are slightly less effective than the tree-based methods, particularly in terms of the F1 score and precision.      \n",
    "\n",
    "3. **Logistic Regression**: This model, with the lowest accuracy (0.9311), indicates that it may not be well-suited for the complexity of this dataset. It struggles to effectively separate the two classes compared to the more sophisticated models.     \n",
    "\n",
    "### Implications of Hyperparameter Tuning      \n",
    "\n",
    "Since hyperparameter tuning has already been conducted, the observed performance metrics suggest that the models are optimally configured for this specific dataset. This tuning has likely maximized their ability to learn from the features provided, making them well-prepared for deployment in real-world scenarios.     \n",
    "\n",
    "### Recommendations for Implementation\n",
    "\n",
    "1. **Model Selection**: XGBoost and Random Forest are highly recommended for practical use in this application due to their outstanding predictive capabilities.         \n",
    "\n",
    "2. **Real-time Application**: With the high accuracy and efficiency of these models, they could be integrated into real-time systems, such as fitness trackers or health monitoring devices, to accurately classify user activity.      \n",
    "\n",
    "3. **Monitoring and Maintenance**: It’s essential to continuously monitor the models’ performance as new data comes in. Periodic retraining may be necessary to maintain accuracy, especially if user behavior patterns change over time.       \n",
    "\n",
    "4. **Feature Importance Analysis**: Conduct a feature importance analysis to identify which sensor readings contribute most to the model's predictions. This can guide future data collection efforts and help in refining the model.      \n",
    "\n",
    "### Conclusion     \n",
    "\n",
    "The hyperparameter tuning has enhanced the models’ performance, particularly for XGBoost and Random Forest, making them exceptional choices for classifying walking versus running based on sensor data. Their high accuracy, precision, and recall indicate readiness for deployment in practical applications.     "
   ]
  },
  {
   "cell_type": "code",
   "execution_count": null,
   "id": "f189972d-1925-4f72-9ae0-affc5aef2f12",
   "metadata": {},
   "outputs": [],
   "source": []
  }
 ],
 "metadata": {
  "kernelspec": {
   "display_name": "Python 3 (ipykernel)",
   "language": "python",
   "name": "python3"
  },
  "language_info": {
   "codemirror_mode": {
    "name": "ipython",
    "version": 3
   },
   "file_extension": ".py",
   "mimetype": "text/x-python",
   "name": "python",
   "nbconvert_exporter": "python",
   "pygments_lexer": "ipython3",
   "version": "3.11.7"
  }
 },
 "nbformat": 4,
 "nbformat_minor": 5
}
